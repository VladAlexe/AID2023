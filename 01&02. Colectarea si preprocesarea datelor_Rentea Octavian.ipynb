{
 "cells": [
  {
   "cell_type": "code",
   "execution_count": 36,
   "metadata": {},
   "outputs": [],
   "source": [
    "import pandas as pd \n",
    "import json\n",
    "from tqdm import tqdm\n",
    "from datetime import datetime\n",
    "import numpy as np"
   ]
  },
  {
   "cell_type": "markdown",
   "metadata": {},
   "source": [
    "\n",
    "#### Citire fisiere Json"
   ]
  },
  {
   "cell_type": "code",
   "execution_count": 37,
   "metadata": {},
   "outputs": [],
   "source": [
    "file_content = open('buildingsstate_data.json', encoding = 'utf-8')\n",
    "date_scoli = json.loads(file_content.read())"
   ]
  },
  {
   "cell_type": "code",
   "execution_count": 38,
   "metadata": {},
   "outputs": [],
   "source": [
    "test2 = open('school_details.json', encoding= 'utf8')\n",
    "nume_scoli = json.loads(test2.read())"
   ]
  },
  {
   "cell_type": "markdown",
   "metadata": {},
   "source": [
    "#### Selectie date din interiorul campurilor fisierelor Json"
   ]
  },
  {
   "cell_type": "code",
   "execution_count": null,
   "metadata": {},
   "outputs": [],
   "source": [
    "util = []\n",
    "for i in tqdm(range(len(date_scoli))):\n",
    "    try:\n",
    "        building_utilities = date_scoli[i]['buildingsstate']['schoolBuildingUtilities']\n",
    "        if building_utilities  not in util:    \n",
    "            util.append(date_scoli[i]['buildingsstate']['schoolBuildingUtilities'])\n",
    "    except KeyError:\n",
    "        print(f'KeyError at index {i} : buildingsstate not found')\n",
    "        continue\n"
   ]
  },
  {
   "cell_type": "code",
   "execution_count": null,
   "metadata": {},
   "outputs": [],
   "source": [
    "non_empty_util = [lst for lst in util if lst]\n",
    "detalii_util = pd.DataFrame(util[0] for util in non_empty_util)\n",
    "detalii_util['dateFrom'] = detalii_util['dateFrom'].apply(lambda x: datetime.utcfromtimestamp(x/1000))\n",
    "detalii_util"
   ]
  },
  {
   "cell_type": "code",
   "execution_count": null,
   "metadata": {},
   "outputs": [],
   "source": [
    "detalii_scoli = pd.DataFrame([element['details'] for element in nume_scoli])\n",
    "detalii_scoli.drop(columns=['idSchoolYear', 'schoolNumbers'], inplace= True)\n",
    "detalii_scoli"
   ]
  },
  {
   "cell_type": "code",
   "execution_count": 42,
   "metadata": {},
   "outputs": [],
   "source": [
    "detalii_util.set_index('idSchool', drop= True, inplace= True)\n",
    "detalii_scoli.set_index('idSchool',drop = True, inplace= True)"
   ]
  },
  {
   "cell_type": "markdown",
   "metadata": {},
   "source": [
    "#### Centalizare date utilitati + date scoli"
   ]
  },
  {
   "cell_type": "code",
   "execution_count": 43,
   "metadata": {},
   "outputs": [],
   "source": [
    "detalii_complete = pd.merge(detalii_scoli, detalii_util, how = 'left', left_index= True, right_index= True)"
   ]
  },
  {
   "cell_type": "markdown",
   "metadata": {},
   "source": [
    "#### Citire fisier date BAC 2023 sesiunea 1"
   ]
  },
  {
   "cell_type": "code",
   "execution_count": 44,
   "metadata": {},
   "outputs": [],
   "source": [
    "var = pd.read_excel(r'2023.07.19_bac_date-deschise_2023-ses1.xlsx')"
   ]
  },
  {
   "cell_type": "markdown",
   "metadata": {},
   "source": [
    "#### Verificare Coduri SIRUES comune(coduri unice de identificare a unitatilor de invatamant din Romania)"
   ]
  },
  {
   "cell_type": "code",
   "execution_count": null,
   "metadata": {},
   "outputs": [],
   "source": [
    "lista_coduri = []\n",
    "for i in detalii_complete['siruesCode']:\n",
    "    if i in var['Unitate (SIRUES)']:\n",
    "        lista_coduri.append(i)\n",
    "# var['Unitate (SIRUES)'] = var['Unitate (SIRUES)'].fillna(0).astype(int)\n",
    "lista_coduri"
   ]
  },
  {
   "cell_type": "markdown",
   "metadata": {},
   "source": [
    "#### Prelucrare coloane coduri SIURES(eliminare randuri din setul de date ce nu contin coduri SIURES)"
   ]
  },
  {
   "cell_type": "code",
   "execution_count": 81,
   "metadata": {},
   "outputs": [],
   "source": [
    "detalii_complete['siruesCode'] = pd.to_numeric(detalii_complete['siruesCode'].fillna(0), errors = 'coerce')\n",
    "\n",
    "detalii_complete['siruesCode'] = detalii_complete['siruesCode'].fillna(0).astype(int)\n",
    "\n",
    "detalii_complete = detalii_complete[detalii_complete['siruesCode'] != 0]"
   ]
  },
  {
   "cell_type": "code",
   "execution_count": 65,
   "metadata": {},
   "outputs": [],
   "source": [
    "var['Unitate (SIRUES)'] = pd.to_numeric(var['Unitate (SIRUES)'].fillna(0), errors = 'coerce')\n",
    "\n",
    "var['Unitate (SIRUES)'] = var['Unitate (SIRUES)'].fillna(0).astype(int)"
   ]
  },
  {
   "cell_type": "code",
   "execution_count": 84,
   "metadata": {},
   "outputs": [],
   "source": [
    "result = pd.merge(var, detalii_complete , how = 'left', left_on = 'Unitate (SIRUES)', right_on= 'siruesCode')"
   ]
  },
  {
   "cell_type": "code",
   "execution_count": 101,
   "metadata": {},
   "outputs": [],
   "source": [
    "result.to_excel('Data Agregate(Octav).xlsx')"
   ]
  },
  {
   "cell_type": "markdown",
   "metadata": {},
   "source": [
    "#### Verificare coduri unice elev duplicate(de investigat)"
   ]
  },
  {
   "cell_type": "code",
   "execution_count": null,
   "metadata": {},
   "outputs": [],
   "source": [
    "coduri_candidat_duplicate = result['Cod unic candidat'].value_counts()[result['Cod unic candidat'].value_counts() > 5].index\n",
    "\n",
    "result[result['Cod unic candidat'].isin(coduri_candidat_duplicate)]"
   ]
  }
 ],
 "metadata": {
  "kernelspec": {
   "display_name": "Python 3",
   "language": "python",
   "name": "python3"
  },
  "language_info": {
   "codemirror_mode": {
    "name": "ipython",
    "version": 3
   },
   "file_extension": ".py",
   "mimetype": "text/x-python",
   "name": "python",
   "nbconvert_exporter": "python",
   "pygments_lexer": "ipython3",
   "version": "3.12.0"
  }
 },
 "nbformat": 4,
 "nbformat_minor": 2
}
