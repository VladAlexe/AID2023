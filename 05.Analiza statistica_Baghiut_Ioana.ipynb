{
 "cells": [
  {
   "cell_type": "markdown",
   "id": "b6081dab",
   "metadata": {},
   "source": [
    "##  Feature Engineering & Statistical Analysis"
   ]
  },
  {
   "cell_type": "code",
   "execution_count": 1,
   "id": "1ed069dc",
   "metadata": {
    "tags": []
   },
   "outputs": [],
   "source": [
    "import pandas as pd\n",
    "import numpy as np\n",
    "from datetime import datetime\n",
    "import seaborn as sns\n",
    "from sklearn.utils import shuffle\n",
    "import matplotlib.pyplot as plt\n",
    "from scipy.stats import chi2_contingency\n",
    "import statsmodels.api as sm"
   ]
  },
  {
   "cell_type": "markdown",
   "id": "6decdc2a",
   "metadata": {},
   "source": [
    "### <li> Vrem sa vedem legatura dintre video surveillance pe scoli"
   ]
  },
  {
   "cell_type": "code",
   "execution_count": 2,
   "id": "da901e51",
   "metadata": {
    "tags": []
   },
   "outputs": [
    {
     "data": {
      "text/html": [
       "<div>\n",
       "<style scoped>\n",
       "    .dataframe tbody tr th:only-of-type {\n",
       "        vertical-align: middle;\n",
       "    }\n",
       "\n",
       "    .dataframe tbody tr th {\n",
       "        vertical-align: top;\n",
       "    }\n",
       "\n",
       "    .dataframe thead th {\n",
       "        text-align: right;\n",
       "    }\n",
       "</style>\n",
       "<table border=\"1\" class=\"dataframe\">\n",
       "  <thead>\n",
       "    <tr style=\"text-align: right;\">\n",
       "      <th></th>\n",
       "      <th>idSchool</th>\n",
       "      <th>Judet</th>\n",
       "      <th>locality</th>\n",
       "      <th>Adresa</th>\n",
       "      <th>id</th>\n",
       "      <th>buildingCode</th>\n",
       "      <th>buildingDescription</th>\n",
       "      <th>builtSurface</th>\n",
       "      <th>heldSurface</th>\n",
       "      <th>constructionYear</th>\n",
       "      <th>propertyType</th>\n",
       "      <th>floorsNo</th>\n",
       "      <th>schoolInternalId</th>\n",
       "      <th>videoSurveillance</th>\n",
       "      <th>audioSurveillance</th>\n",
       "      <th>Numar_elevi_jud</th>\n",
       "    </tr>\n",
       "  </thead>\n",
       "  <tbody>\n",
       "    <tr>\n",
       "      <th>0</th>\n",
       "      <td>11269910</td>\n",
       "      <td>ARAD</td>\n",
       "      <td>ARAD</td>\n",
       "      <td>121-125 AUREL VLAICU, ARAD, judetul ARAD, 3103...</td>\n",
       "      <td>34136</td>\n",
       "      <td>C1</td>\n",
       "      <td>Gradinita Gosen Arad</td>\n",
       "      <td>1773.73</td>\n",
       "      <td>1469.0</td>\n",
       "      <td>1996</td>\n",
       "      <td>Folosință gratuită de la terți</td>\n",
       "      <td>2</td>\n",
       "      <td>10131270</td>\n",
       "      <td>False</td>\n",
       "      <td>False</td>\n",
       "      <td>211865</td>\n",
       "    </tr>\n",
       "  </tbody>\n",
       "</table>\n",
       "</div>"
      ],
      "text/plain": [
       "   idSchool Judet locality                                             Adresa  \\\n",
       "0  11269910  ARAD     ARAD  121-125 AUREL VLAICU, ARAD, judetul ARAD, 3103...   \n",
       "\n",
       "      id buildingCode   buildingDescription  builtSurface  heldSurface  \\\n",
       "0  34136           C1  Gradinita Gosen Arad       1773.73       1469.0   \n",
       "\n",
       "   constructionYear                    propertyType  floorsNo  \\\n",
       "0              1996  Folosință gratuită de la terți         2   \n",
       "\n",
       "   schoolInternalId  videoSurveillance  audioSurveillance  Numar_elevi_jud  \n",
       "0          10131270              False              False           211865  "
      ]
     },
     "execution_count": 2,
     "metadata": {},
     "output_type": "execute_result"
    }
   ],
   "source": [
    "data = pd.read_csv(\"schoolBuildings_Team1.csv\")\n",
    "data.head(1)"
   ]
  },
  {
   "cell_type": "code",
   "execution_count": 3,
   "id": "cdb953e4",
   "metadata": {
    "tags": []
   },
   "outputs": [
    {
     "data": {
      "image/png": "[encoded data removed]",
      "text/plain": [
       "<Figure size 600x400 with 1 Axes>"
      ]
     },
     "metadata": {},
     "output_type": "display_data"
    }
   ],
   "source": [
    "plt.figure(figsize=(6, 4))\n",
    "sns.countplot(data=data, x='videoSurveillance', hue='videoSurveillance', legend=False)\n",
    "plt.title('Video Surveillance in Schools')\n",
    "plt.ylabel('Count')\n",
    "plt.show()"
   ]
  },
  {
   "cell_type": "markdown",
   "id": "4ccd1c6f",
   "metadata": {},
   "source": [
    "### datele sunt usor dezechilibrate pentru video surveillance\n"
   ]
  },
  {
   "cell_type": "code",
   "execution_count": 4,
   "id": "f3d2f5f4",
   "metadata": {
    "tags": []
   },
   "outputs": [
    {
     "data": {
      "text/plain": [
       "videoSurveillance\n",
       "True     17550\n",
       "False    14109\n",
       "Name: count, dtype: int64"
      ]
     },
     "execution_count": 4,
     "metadata": {},
     "output_type": "execute_result"
    }
   ],
   "source": [
    "data['videoSurveillance'].value_counts()"
   ]
  },
  {
   "cell_type": "code",
   "execution_count": 5,
   "id": "7c4940f3",
   "metadata": {
    "tags": []
   },
   "outputs": [
    {
     "data": {
      "text/plain": [
       "videoSurveillance\n",
       "False    14109\n",
       "True     14109\n",
       "Name: count, dtype: int64"
      ]
     },
     "execution_count": 5,
     "metadata": {},
     "output_type": "execute_result"
    }
   ],
   "source": [
    "# Pastram un numar egal de randuri pentru cele doua categorii din Video Surveillance\n",
    "video_0 = data[data['videoSurveillance'] == False]\n",
    "video_1 = data[data['videoSurveillance'] == True].head(len(video_0))\n",
    "\n",
    "video_0.reset_index(drop=True, inplace=True)\n",
    "video_1.reset_index(drop=True, inplace=True)\n",
    "\n",
    "#concatenam intr-un set nou echilibrat\n",
    "data = pd.concat([video_0, video_1])\n",
    "data = shuffle(data)\n",
    "#verificam\n",
    "data['videoSurveillance'].value_counts()"
   ]
  },
  {
   "cell_type": "code",
   "execution_count": 6,
   "id": "18128ad9",
   "metadata": {
    "tags": []
   },
   "outputs": [
    {
     "name": "stdout",
     "output_type": "stream",
     "text": [
      "<class 'pandas.core.frame.DataFrame'>\n",
      "Index: 28218 entries, 13357 to 7418\n",
      "Data columns (total 16 columns):\n",
      " #   Column               Non-Null Count  Dtype  \n",
      "---  ------               --------------  -----  \n",
      " 0   idSchool             28218 non-null  int64  \n",
      " 1   Judet                28218 non-null  object \n",
      " 2   locality             28218 non-null  object \n",
      " 3   Adresa               28218 non-null  object \n",
      " 4   id                   28218 non-null  int64  \n",
      " 5   buildingCode         28218 non-null  object \n",
      " 6   buildingDescription  28218 non-null  object \n",
      " 7   builtSurface         28218 non-null  float64\n",
      " 8   heldSurface          28218 non-null  float64\n",
      " 9   constructionYear     28218 non-null  int64  \n",
      " 10  propertyType         28218 non-null  object \n",
      " 11  floorsNo             28218 non-null  int64  \n",
      " 12  schoolInternalId     28218 non-null  int64  \n",
      " 13  videoSurveillance    28218 non-null  bool   \n",
      " 14  audioSurveillance    28218 non-null  bool   \n",
      " 15  Numar_elevi_jud      28218 non-null  int64  \n",
      "dtypes: bool(2), float64(2), int64(6), object(6)\n",
      "memory usage: 3.3+ MB\n"
     ]
    }
   ],
   "source": [
    "data.info()"
   ]
  },
  {
   "cell_type": "code",
   "execution_count": 7,
   "id": "70c82801",
   "metadata": {
    "tags": []
   },
   "outputs": [
    {
     "data": {
      "text/html": [
       "<div>\n",
       "<style scoped>\n",
       "    .dataframe tbody tr th:only-of-type {\n",
       "        vertical-align: middle;\n",
       "    }\n",
       "\n",
       "    .dataframe tbody tr th {\n",
       "        vertical-align: top;\n",
       "    }\n",
       "\n",
       "    .dataframe thead th {\n",
       "        text-align: right;\n",
       "    }\n",
       "</style>\n",
       "<table border=\"1\" class=\"dataframe\">\n",
       "  <thead>\n",
       "    <tr style=\"text-align: right;\">\n",
       "      <th></th>\n",
       "      <th>idSchool</th>\n",
       "      <th>Judet</th>\n",
       "      <th>locality</th>\n",
       "      <th>Adresa</th>\n",
       "      <th>id</th>\n",
       "      <th>buildingCode</th>\n",
       "      <th>buildingDescription</th>\n",
       "      <th>builtSurface</th>\n",
       "      <th>heldSurface</th>\n",
       "      <th>constructionYear</th>\n",
       "      <th>propertyType</th>\n",
       "      <th>floorsNo</th>\n",
       "      <th>schoolInternalId</th>\n",
       "      <th>videoSurveillance</th>\n",
       "      <th>audioSurveillance</th>\n",
       "      <th>Numar_elevi_jud</th>\n",
       "    </tr>\n",
       "  </thead>\n",
       "  <tbody>\n",
       "    <tr>\n",
       "      <th>13357</th>\n",
       "      <td>11263757</td>\n",
       "      <td>HUNEDOARA</td>\n",
       "      <td>REEA</td>\n",
       "      <td>84 Principală, REEA, judetul HUNEDOARA, 337494...</td>\n",
       "      <td>7649</td>\n",
       "      <td>C1</td>\n",
       "      <td>C1</td>\n",
       "      <td>153.0</td>\n",
       "      <td>153.0</td>\n",
       "      <td>1954</td>\n",
       "      <td>Administrator UAT</td>\n",
       "      <td>0</td>\n",
       "      <td>10134228</td>\n",
       "      <td>0</td>\n",
       "      <td>0</td>\n",
       "      <td>183650</td>\n",
       "    </tr>\n",
       "  </tbody>\n",
       "</table>\n",
       "</div>"
      ],
      "text/plain": [
       "       idSchool      Judet locality  \\\n",
       "13357  11263757  HUNEDOARA     REEA   \n",
       "\n",
       "                                                  Adresa    id buildingCode  \\\n",
       "13357  84 Principală, REEA, judetul HUNEDOARA, 337494...  7649           C1   \n",
       "\n",
       "      buildingDescription  builtSurface  heldSurface  constructionYear  \\\n",
       "13357                  C1         153.0        153.0              1954   \n",
       "\n",
       "            propertyType  floorsNo  schoolInternalId  videoSurveillance  \\\n",
       "13357  Administrator UAT         0          10134228                  0   \n",
       "\n",
       "       audioSurveillance  Numar_elevi_jud  \n",
       "13357                  0           183650  "
      ]
     },
     "execution_count": 7,
     "metadata": {},
     "output_type": "execute_result"
    }
   ],
   "source": [
    "data[\"audioSurveillance\"] = data[\"audioSurveillance\"].apply(lambda x: 1 if x==True else 0)\n",
    "data[\"videoSurveillance\"] = data[\"videoSurveillance\"].apply(lambda x: 1 if x==True else 0)\n",
    "data.head(1)"
   ]
  },
  {
   "cell_type": "markdown",
   "id": "b312dd15",
   "metadata": {},
   "source": [
    "###############################################################################################################################\n",
    "### Ce putem lua in considerare in calitate de variabile independente?\n",
    "\n",
    "<li>constructionYear</li>\n",
    "<li>propertyType</li>\n",
    "<li>floorsNo</li>\n",
    "<li>heldSurface</li>\n",
    "<li>Judet</li>\n",
    "\n",
    "### New features to be added?\n",
    "- <b>buidling_age</b>: current year - constructionYear -> in functie de distributia se pot categorisi intr-un nou feature\n",
    "- <b>crowding_index (pentru judet) </b>: (held surface total pe judet)/elevi\n",
    "    \n",
    "### What to analyse?\n",
    "\n",
    "-- regresie logistica -> VideoSurveillance 0 sau 1? cand stim informatiile de mai sus\n",
    "\n",
    "###############################################################################################################################"
   ]
  },
  {
   "cell_type": "code",
   "execution_count": 8,
   "id": "1cb8c71f",
   "metadata": {
    "tags": []
   },
   "outputs": [
    {
     "data": {
      "text/html": [
       "<div>\n",
       "<style scoped>\n",
       "    .dataframe tbody tr th:only-of-type {\n",
       "        vertical-align: middle;\n",
       "    }\n",
       "\n",
       "    .dataframe tbody tr th {\n",
       "        vertical-align: top;\n",
       "    }\n",
       "\n",
       "    .dataframe thead th {\n",
       "        text-align: right;\n",
       "    }\n",
       "</style>\n",
       "<table border=\"1\" class=\"dataframe\">\n",
       "  <thead>\n",
       "    <tr style=\"text-align: right;\">\n",
       "      <th></th>\n",
       "      <th>idSchool</th>\n",
       "      <th>Judet</th>\n",
       "      <th>locality</th>\n",
       "      <th>Adresa</th>\n",
       "      <th>id</th>\n",
       "      <th>buildingCode</th>\n",
       "      <th>buildingDescription</th>\n",
       "      <th>builtSurface</th>\n",
       "      <th>heldSurface</th>\n",
       "      <th>constructionYear</th>\n",
       "      <th>propertyType</th>\n",
       "      <th>floorsNo</th>\n",
       "      <th>schoolInternalId</th>\n",
       "      <th>videoSurveillance</th>\n",
       "      <th>audioSurveillance</th>\n",
       "      <th>Numar_elevi_jud</th>\n",
       "      <th>building_age</th>\n",
       "      <th>crowding_index_per_county</th>\n",
       "    </tr>\n",
       "  </thead>\n",
       "  <tbody>\n",
       "    <tr>\n",
       "      <th>0</th>\n",
       "      <td>11263757</td>\n",
       "      <td>HUNEDOARA</td>\n",
       "      <td>REEA</td>\n",
       "      <td>84 Principală, REEA, judetul HUNEDOARA, 337494...</td>\n",
       "      <td>7649</td>\n",
       "      <td>C1</td>\n",
       "      <td>C1</td>\n",
       "      <td>153.00</td>\n",
       "      <td>153.00</td>\n",
       "      <td>1954</td>\n",
       "      <td>Administrator UAT</td>\n",
       "      <td>0</td>\n",
       "      <td>10134228</td>\n",
       "      <td>0</td>\n",
       "      <td>0</td>\n",
       "      <td>183650</td>\n",
       "      <td>69</td>\n",
       "      <td>0.36</td>\n",
       "    </tr>\n",
       "    <tr>\n",
       "      <th>1</th>\n",
       "      <td>11270340</td>\n",
       "      <td>CALARASI</td>\n",
       "      <td>CĂLĂRAŞI</td>\n",
       "      <td>8-12 PRELUNGIREA BUCURESTI, CĂLĂRAŞI, judetul...</td>\n",
       "      <td>26500</td>\n",
       "      <td>002</td>\n",
       "      <td>Anexe</td>\n",
       "      <td>455.55</td>\n",
       "      <td>703.29</td>\n",
       "      <td>1991</td>\n",
       "      <td>Administrator UAT</td>\n",
       "      <td>1</td>\n",
       "      <td>11075421</td>\n",
       "      <td>1</td>\n",
       "      <td>0</td>\n",
       "      <td>147143</td>\n",
       "      <td>32</td>\n",
       "      <td>0.38</td>\n",
       "    </tr>\n",
       "    <tr>\n",
       "      <th>2</th>\n",
       "      <td>11274807</td>\n",
       "      <td>HARGHITA</td>\n",
       "      <td>LĂZAREA</td>\n",
       "      <td>275 NAGYPATAK, LĂZAREA, judetul HARGHITA, 5371...</td>\n",
       "      <td>30467</td>\n",
       "      <td>C1</td>\n",
       "      <td>GPN, S04</td>\n",
       "      <td>342.00</td>\n",
       "      <td>342.00</td>\n",
       "      <td>1896</td>\n",
       "      <td>Administrator UAT</td>\n",
       "      <td>0</td>\n",
       "      <td>11090090</td>\n",
       "      <td>1</td>\n",
       "      <td>0</td>\n",
       "      <td>174551</td>\n",
       "      <td>127</td>\n",
       "      <td>0.33</td>\n",
       "    </tr>\n",
       "  </tbody>\n",
       "</table>\n",
       "</div>"
      ],
      "text/plain": [
       "   idSchool      Judet  locality  \\\n",
       "0  11263757  HUNEDOARA      REEA   \n",
       "1  11270340   CALARASI  CĂLĂRAŞI   \n",
       "2  11274807   HARGHITA   LĂZAREA   \n",
       "\n",
       "                                              Adresa     id buildingCode  \\\n",
       "0  84 Principală, REEA, judetul HUNEDOARA, 337494...   7649           C1   \n",
       "1   8-12 PRELUNGIREA BUCURESTI, CĂLĂRAŞI, judetul...  26500          002   \n",
       "2  275 NAGYPATAK, LĂZAREA, judetul HARGHITA, 5371...  30467           C1   \n",
       "\n",
       "  buildingDescription  builtSurface  heldSurface  constructionYear  \\\n",
       "0                  C1        153.00       153.00              1954   \n",
       "1               Anexe        455.55       703.29              1991   \n",
       "2            GPN, S04        342.00       342.00              1896   \n",
       "\n",
       "        propertyType  floorsNo  schoolInternalId  videoSurveillance  \\\n",
       "0  Administrator UAT         0          10134228                  0   \n",
       "1  Administrator UAT         1          11075421                  1   \n",
       "2  Administrator UAT         0          11090090                  1   \n",
       "\n",
       "   audioSurveillance  Numar_elevi_jud  building_age  crowding_index_per_county  \n",
       "0                  0           183650            69                       0.36  \n",
       "1                  0           147143            32                       0.38  \n",
       "2                  0           174551           127                       0.33  "
      ]
     },
     "execution_count": 8,
     "metadata": {},
     "output_type": "execute_result"
    }
   ],
   "source": [
    "'''\n",
    "    Creare new feature building age:\n",
    "'''\n",
    "current_year = datetime.now().year\n",
    "\n",
    "data['building_age'] = current_year - data['constructionYear']\n",
    "\n",
    "'''\n",
    "    Creare new feature crowding index pentru judet:\n",
    "'''\n",
    "#total helSurface al scolilor pt fiecare judet\n",
    "total_heldSurface_per_county = data.groupby('Judet')['heldSurface'].sum()\n",
    "total_students_per_county = data.groupby('Judet')['Numar_elevi_jud'].max()\n",
    "\n",
    "student_crowding_per_county = ((total_students_per_county / total_heldSurface_per_county).round(2))\\\n",
    "                                                        .reset_index(name='crowding_index_per_county')\n",
    "\n",
    "data = data.merge(student_crowding_per_county, on='Judet', how='left')\n",
    "data.head(3)"
   ]
  },
  {
   "cell_type": "code",
   "execution_count": 9,
   "id": "035656d9",
   "metadata": {
    "tags": []
   },
   "outputs": [
    {
     "data": {
      "text/plain": [
       "count    28218.000000\n",
       "mean        57.639025\n",
       "std         36.439998\n",
       "min          0.000000\n",
       "25%         38.000000\n",
       "50%         53.000000\n",
       "75%         72.000000\n",
       "max        323.000000\n",
       "Name: building_age, dtype: float64"
      ]
     },
     "execution_count": 9,
     "metadata": {},
     "output_type": "execute_result"
    }
   ],
   "source": [
    "data['building_age'].describe()"
   ]
  },
  {
   "cell_type": "code",
   "execution_count": 10,
   "id": "2582d75e",
   "metadata": {
    "tags": []
   },
   "outputs": [],
   "source": [
    "bins = [-1, 10, 50, 100, 200, float('inf')] \n",
    "labels = ['new', 'partially new', 'old', 'very old', 'extremely old']\n",
    "\n",
    "# Aplicarea categoriilor pe baza coloanei 'constructionYear'\n",
    "data['building_type'] = pd.cut(data['building_age'], bins=bins, labels=labels, right=False)"
   ]
  },
  {
   "cell_type": "code",
   "execution_count": 11,
   "id": "2cc59131",
   "metadata": {
    "scrolled": true,
    "tags": []
   },
   "outputs": [
    {
     "data": {
      "text/html": [
       "<div>\n",
       "<style scoped>\n",
       "    .dataframe tbody tr th:only-of-type {\n",
       "        vertical-align: middle;\n",
       "    }\n",
       "\n",
       "    .dataframe tbody tr th {\n",
       "        vertical-align: top;\n",
       "    }\n",
       "\n",
       "    .dataframe thead th {\n",
       "        text-align: right;\n",
       "    }\n",
       "</style>\n",
       "<table border=\"1\" class=\"dataframe\">\n",
       "  <thead>\n",
       "    <tr style=\"text-align: right;\">\n",
       "      <th></th>\n",
       "      <th>idSchool</th>\n",
       "      <th>Judet</th>\n",
       "      <th>locality</th>\n",
       "      <th>Adresa</th>\n",
       "      <th>id</th>\n",
       "      <th>buildingCode</th>\n",
       "      <th>buildingDescription</th>\n",
       "      <th>builtSurface</th>\n",
       "      <th>heldSurface</th>\n",
       "      <th>constructionYear</th>\n",
       "      <th>propertyType</th>\n",
       "      <th>floorsNo</th>\n",
       "      <th>schoolInternalId</th>\n",
       "      <th>videoSurveillance</th>\n",
       "      <th>audioSurveillance</th>\n",
       "      <th>Numar_elevi_jud</th>\n",
       "      <th>building_age</th>\n",
       "      <th>crowding_index_per_county</th>\n",
       "      <th>building_type</th>\n",
       "    </tr>\n",
       "  </thead>\n",
       "  <tbody>\n",
       "    <tr>\n",
       "      <th>0</th>\n",
       "      <td>11263757</td>\n",
       "      <td>HUNEDOARA</td>\n",
       "      <td>REEA</td>\n",
       "      <td>84 Principală, REEA, judetul HUNEDOARA, 337494...</td>\n",
       "      <td>7649</td>\n",
       "      <td>C1</td>\n",
       "      <td>C1</td>\n",
       "      <td>153.00</td>\n",
       "      <td>153.00</td>\n",
       "      <td>1954</td>\n",
       "      <td>Administrator UAT</td>\n",
       "      <td>0</td>\n",
       "      <td>10134228</td>\n",
       "      <td>0</td>\n",
       "      <td>0</td>\n",
       "      <td>183650</td>\n",
       "      <td>69</td>\n",
       "      <td>0.36</td>\n",
       "      <td>old</td>\n",
       "    </tr>\n",
       "    <tr>\n",
       "      <th>1</th>\n",
       "      <td>11270340</td>\n",
       "      <td>CALARASI</td>\n",
       "      <td>CĂLĂRAŞI</td>\n",
       "      <td>8-12 PRELUNGIREA BUCURESTI, CĂLĂRAŞI, judetul...</td>\n",
       "      <td>26500</td>\n",
       "      <td>002</td>\n",
       "      <td>Anexe</td>\n",
       "      <td>455.55</td>\n",
       "      <td>703.29</td>\n",
       "      <td>1991</td>\n",
       "      <td>Administrator UAT</td>\n",
       "      <td>1</td>\n",
       "      <td>11075421</td>\n",
       "      <td>1</td>\n",
       "      <td>0</td>\n",
       "      <td>147143</td>\n",
       "      <td>32</td>\n",
       "      <td>0.38</td>\n",
       "      <td>partially new</td>\n",
       "    </tr>\n",
       "    <tr>\n",
       "      <th>2</th>\n",
       "      <td>11274807</td>\n",
       "      <td>HARGHITA</td>\n",
       "      <td>LĂZAREA</td>\n",
       "      <td>275 NAGYPATAK, LĂZAREA, judetul HARGHITA, 5371...</td>\n",
       "      <td>30467</td>\n",
       "      <td>C1</td>\n",
       "      <td>GPN, S04</td>\n",
       "      <td>342.00</td>\n",
       "      <td>342.00</td>\n",
       "      <td>1896</td>\n",
       "      <td>Administrator UAT</td>\n",
       "      <td>0</td>\n",
       "      <td>11090090</td>\n",
       "      <td>1</td>\n",
       "      <td>0</td>\n",
       "      <td>174551</td>\n",
       "      <td>127</td>\n",
       "      <td>0.33</td>\n",
       "      <td>very old</td>\n",
       "    </tr>\n",
       "  </tbody>\n",
       "</table>\n",
       "</div>"
      ],
      "text/plain": [
       "   idSchool      Judet  locality  \\\n",
       "0  11263757  HUNEDOARA      REEA   \n",
       "1  11270340   CALARASI  CĂLĂRAŞI   \n",
       "2  11274807   HARGHITA   LĂZAREA   \n",
       "\n",
       "                                              Adresa     id buildingCode  \\\n",
       "0  84 Principală, REEA, judetul HUNEDOARA, 337494...   7649           C1   \n",
       "1   8-12 PRELUNGIREA BUCURESTI, CĂLĂRAŞI, judetul...  26500          002   \n",
       "2  275 NAGYPATAK, LĂZAREA, judetul HARGHITA, 5371...  30467           C1   \n",
       "\n",
       "  buildingDescription  builtSurface  heldSurface  constructionYear  \\\n",
       "0                  C1        153.00       153.00              1954   \n",
       "1               Anexe        455.55       703.29              1991   \n",
       "2            GPN, S04        342.00       342.00              1896   \n",
       "\n",
       "        propertyType  floorsNo  schoolInternalId  videoSurveillance  \\\n",
       "0  Administrator UAT         0          10134228                  0   \n",
       "1  Administrator UAT         1          11075421                  1   \n",
       "2  Administrator UAT         0          11090090                  1   \n",
       "\n",
       "   audioSurveillance  Numar_elevi_jud  building_age  \\\n",
       "0                  0           183650            69   \n",
       "1                  0           147143            32   \n",
       "2                  0           174551           127   \n",
       "\n",
       "   crowding_index_per_county  building_type  \n",
       "0                       0.36            old  \n",
       "1                       0.38  partially new  \n",
       "2                       0.33       very old  "
      ]
     },
     "execution_count": 11,
     "metadata": {},
     "output_type": "execute_result"
    }
   ],
   "source": [
    "data.head(3)"
   ]
  },
  {
   "cell_type": "markdown",
   "id": "74da115e",
   "metadata": {},
   "source": [
    "### Mai departe calculam tabele de contingenta si cramers'v pentru:\n",
    "#### videoSurveillance & propertyType/audioSurveillance/buildingType"
   ]
  },
  {
   "cell_type": "code",
   "execution_count": 12,
   "id": "24fe11d2",
   "metadata": {
    "tags": []
   },
   "outputs": [
    {
     "name": "stdout",
     "output_type": "stream",
     "text": [
      "\n",
      "Results for video surveillance & propertyType:\n",
      "chi2: 72.65428154811832\n",
      " P: 2.869722995325297e-14\n",
      "And Cramer's V: 0.050741989570453554\n",
      "\n",
      "\n",
      "Results for video surveillance & audioSurveillance:\n",
      "chi2: 1932.5832660654542\n",
      " P: 0.0\n",
      "And Cramer's V: 0.2617013679721454\n",
      "\n",
      "\n",
      "Results for video surveillance & building_type:\n",
      "chi2: 34.02807072573317\n",
      " P: 7.353758069507339e-07\n",
      "And Cramer's V: 0.03472606300197541\n",
      "\n"
     ]
    }
   ],
   "source": [
    "#chi square\n",
    "def cramers_v(chi_stat, N, contingency_table):\n",
    "    minimum_dimension = min(contingency_table.shape)-1\n",
    "    return np.sqrt((chi_stat/N) / minimum_dimension)\n",
    "\n",
    "def chi2_test_video_surveillance(y):\n",
    "    contingency_table = pd.crosstab(data['videoSurveillance'], y)\n",
    "    chi2, p,_,_ = chi2_contingency(contingency_table)\n",
    "    print(f\"\\nResults for video surveillance & {y.name}:\")\n",
    "    print(f\"chi2: {chi2}\\n P: {p}\")\n",
    "    print(f\"And Cramer's V: {cramers_v(chi2, data.shape[0], contingency_table)}\\n\")\n",
    "    return chi2\n",
    "    \n",
    "propType = chi2_test_video_surveillance(data['propertyType'])\n",
    "audio = chi2_test_video_surveillance(data['audioSurveillance'])\n",
    "building = chi2_test_video_surveillance(data['building_type'])"
   ]
  },
  {
   "cell_type": "markdown",
   "id": "9a409f2c",
   "metadata": {},
   "source": [
    "### Interpretarea:\n",
    "<br>\n",
    "<li>video surveillance & propertyType ==> Avem asociere - dar este foarte slaba</li>\n",
    "<li>video surveillance & audioSurveillance ==> Avem asociere si este ok </li>\n",
    "<li>video surveillance & building_type ==> Avem asociere, dar foarte slaba</li>\n",
    "<br>\n",
    "    "
   ]
  },
  {
   "cell_type": "markdown",
   "id": "3f529a7b",
   "metadata": {},
   "source": [
    "### Vedem corelatiile dintre videoSurveillance & restul variabilelor de interes"
   ]
  },
  {
   "cell_type": "code",
   "execution_count": 13,
   "id": "61effb36",
   "metadata": {
    "tags": []
   },
   "outputs": [
    {
     "data": {
      "text/html": [
       "<div>\n",
       "<style scoped>\n",
       "    .dataframe tbody tr th:only-of-type {\n",
       "        vertical-align: middle;\n",
       "    }\n",
       "\n",
       "    .dataframe tbody tr th {\n",
       "        vertical-align: top;\n",
       "    }\n",
       "\n",
       "    .dataframe thead th {\n",
       "        text-align: right;\n",
       "    }\n",
       "</style>\n",
       "<table border=\"1\" class=\"dataframe\">\n",
       "  <thead>\n",
       "    <tr style=\"text-align: right;\">\n",
       "      <th></th>\n",
       "      <th>heldSurface</th>\n",
       "      <th>floorsNo</th>\n",
       "      <th>videoSurveillance</th>\n",
       "      <th>audioSurveillance</th>\n",
       "      <th>building_age</th>\n",
       "      <th>crowding_index_per_county</th>\n",
       "    </tr>\n",
       "  </thead>\n",
       "  <tbody>\n",
       "    <tr>\n",
       "      <th>heldSurface</th>\n",
       "      <td>1.000000</td>\n",
       "      <td>0.454711</td>\n",
       "      <td>0.270005</td>\n",
       "      <td>0.152682</td>\n",
       "      <td>0.026902</td>\n",
       "      <td>-0.004659</td>\n",
       "    </tr>\n",
       "    <tr>\n",
       "      <th>floorsNo</th>\n",
       "      <td>0.454711</td>\n",
       "      <td>1.000000</td>\n",
       "      <td>0.285181</td>\n",
       "      <td>0.135357</td>\n",
       "      <td>-0.057381</td>\n",
       "      <td>-0.031278</td>\n",
       "    </tr>\n",
       "    <tr>\n",
       "      <th>videoSurveillance</th>\n",
       "      <td>0.270005</td>\n",
       "      <td>0.285181</td>\n",
       "      <td>1.000000</td>\n",
       "      <td>0.261825</td>\n",
       "      <td>0.002482</td>\n",
       "      <td>-0.010834</td>\n",
       "    </tr>\n",
       "    <tr>\n",
       "      <th>audioSurveillance</th>\n",
       "      <td>0.152682</td>\n",
       "      <td>0.135357</td>\n",
       "      <td>0.261825</td>\n",
       "      <td>1.000000</td>\n",
       "      <td>0.016405</td>\n",
       "      <td>0.023506</td>\n",
       "    </tr>\n",
       "    <tr>\n",
       "      <th>building_age</th>\n",
       "      <td>0.026902</td>\n",
       "      <td>-0.057381</td>\n",
       "      <td>0.002482</td>\n",
       "      <td>0.016405</td>\n",
       "      <td>1.000000</td>\n",
       "      <td>-0.122395</td>\n",
       "    </tr>\n",
       "    <tr>\n",
       "      <th>crowding_index_per_county</th>\n",
       "      <td>-0.004659</td>\n",
       "      <td>-0.031278</td>\n",
       "      <td>-0.010834</td>\n",
       "      <td>0.023506</td>\n",
       "      <td>-0.122395</td>\n",
       "      <td>1.000000</td>\n",
       "    </tr>\n",
       "  </tbody>\n",
       "</table>\n",
       "</div>"
      ],
      "text/plain": [
       "                           heldSurface  floorsNo  videoSurveillance  \\\n",
       "heldSurface                   1.000000  0.454711           0.270005   \n",
       "floorsNo                      0.454711  1.000000           0.285181   \n",
       "videoSurveillance             0.270005  0.285181           1.000000   \n",
       "audioSurveillance             0.152682  0.135357           0.261825   \n",
       "building_age                  0.026902 -0.057381           0.002482   \n",
       "crowding_index_per_county    -0.004659 -0.031278          -0.010834   \n",
       "\n",
       "                           audioSurveillance  building_age  \\\n",
       "heldSurface                         0.152682      0.026902   \n",
       "floorsNo                            0.135357     -0.057381   \n",
       "videoSurveillance                   0.261825      0.002482   \n",
       "audioSurveillance                   1.000000      0.016405   \n",
       "building_age                        0.016405      1.000000   \n",
       "crowding_index_per_county           0.023506     -0.122395   \n",
       "\n",
       "                           crowding_index_per_county  \n",
       "heldSurface                                -0.004659  \n",
       "floorsNo                                   -0.031278  \n",
       "videoSurveillance                          -0.010834  \n",
       "audioSurveillance                           0.023506  \n",
       "building_age                               -0.122395  \n",
       "crowding_index_per_county                   1.000000  "
      ]
     },
     "execution_count": 13,
     "metadata": {},
     "output_type": "execute_result"
    }
   ],
   "source": [
    "numerical_df = data.select_dtypes(include = ['number'])\n",
    "numerical_df.drop(columns = ['idSchool', 'id','builtSurface','constructionYear','schoolInternalId','Numar_elevi_jud'], inplace = True)\n",
    "numerical_df.corr()"
   ]
  },
  {
   "cell_type": "markdown",
   "id": "18929d67",
   "metadata": {},
   "source": [
    "<li> Obs o relatie intre Video surveillance si heldSurface, floorsNo, audioSurveillance"
   ]
  },
  {
   "cell_type": "markdown",
   "id": "a74ea6a9",
   "metadata": {},
   "source": [
    "### Regresia logistica"
   ]
  },
  {
   "cell_type": "code",
   "execution_count": 14,
   "id": "632e279b",
   "metadata": {
    "tags": []
   },
   "outputs": [
    {
     "data": {
      "text/html": [
       "<div>\n",
       "<style scoped>\n",
       "    .dataframe tbody tr th:only-of-type {\n",
       "        vertical-align: middle;\n",
       "    }\n",
       "\n",
       "    .dataframe tbody tr th {\n",
       "        vertical-align: top;\n",
       "    }\n",
       "\n",
       "    .dataframe thead th {\n",
       "        text-align: right;\n",
       "    }\n",
       "</style>\n",
       "<table border=\"1\" class=\"dataframe\">\n",
       "  <thead>\n",
       "    <tr style=\"text-align: right;\">\n",
       "      <th></th>\n",
       "      <th>videoSurveillance</th>\n",
       "      <th>heldSurface</th>\n",
       "      <th>floorsNo</th>\n",
       "      <th>audioSurveillance</th>\n",
       "      <th>propertyType_Administrator UAT</th>\n",
       "      <th>propertyType_Concesionată</th>\n",
       "      <th>propertyType_Folosință gratuită de la terți</th>\n",
       "      <th>propertyType_În litigiu pentru retrocedare</th>\n",
       "      <th>propertyType_Închiriată</th>\n",
       "      <th>building_type_partially new</th>\n",
       "      <th>building_type_old</th>\n",
       "      <th>building_type_very old</th>\n",
       "      <th>building_type_extremely old</th>\n",
       "    </tr>\n",
       "  </thead>\n",
       "  <tbody>\n",
       "    <tr>\n",
       "      <th>0</th>\n",
       "      <td>0</td>\n",
       "      <td>153.00</td>\n",
       "      <td>0</td>\n",
       "      <td>0</td>\n",
       "      <td>1</td>\n",
       "      <td>0</td>\n",
       "      <td>0</td>\n",
       "      <td>0</td>\n",
       "      <td>0</td>\n",
       "      <td>0</td>\n",
       "      <td>1</td>\n",
       "      <td>0</td>\n",
       "      <td>0</td>\n",
       "    </tr>\n",
       "    <tr>\n",
       "      <th>1</th>\n",
       "      <td>1</td>\n",
       "      <td>703.29</td>\n",
       "      <td>1</td>\n",
       "      <td>0</td>\n",
       "      <td>1</td>\n",
       "      <td>0</td>\n",
       "      <td>0</td>\n",
       "      <td>0</td>\n",
       "      <td>0</td>\n",
       "      <td>1</td>\n",
       "      <td>0</td>\n",
       "      <td>0</td>\n",
       "      <td>0</td>\n",
       "    </tr>\n",
       "    <tr>\n",
       "      <th>2</th>\n",
       "      <td>1</td>\n",
       "      <td>342.00</td>\n",
       "      <td>0</td>\n",
       "      <td>0</td>\n",
       "      <td>1</td>\n",
       "      <td>0</td>\n",
       "      <td>0</td>\n",
       "      <td>0</td>\n",
       "      <td>0</td>\n",
       "      <td>0</td>\n",
       "      <td>0</td>\n",
       "      <td>1</td>\n",
       "      <td>0</td>\n",
       "    </tr>\n",
       "  </tbody>\n",
       "</table>\n",
       "</div>"
      ],
      "text/plain": [
       "   videoSurveillance  heldSurface  floorsNo  audioSurveillance  \\\n",
       "0                  0       153.00         0                  0   \n",
       "1                  1       703.29         1                  0   \n",
       "2                  1       342.00         0                  0   \n",
       "\n",
       "   propertyType_Administrator UAT  propertyType_Concesionată  \\\n",
       "0                               1                          0   \n",
       "1                               1                          0   \n",
       "2                               1                          0   \n",
       "\n",
       "   propertyType_Folosință gratuită de la terți  \\\n",
       "0                                            0   \n",
       "1                                            0   \n",
       "2                                            0   \n",
       "\n",
       "   propertyType_În litigiu pentru retrocedare  propertyType_Închiriată  \\\n",
       "0                                           0                        0   \n",
       "1                                           0                        0   \n",
       "2                                           0                        0   \n",
       "\n",
       "   building_type_partially new  building_type_old  building_type_very old  \\\n",
       "0                            0                  1                       0   \n",
       "1                            1                  0                       0   \n",
       "2                            0                  0                       1   \n",
       "\n",
       "   building_type_extremely old  \n",
       "0                            0  \n",
       "1                            0  \n",
       "2                            0  "
      ]
     },
     "execution_count": 14,
     "metadata": {},
     "output_type": "execute_result"
    }
   ],
   "source": [
    "model_data = data[['videoSurveillance', 'heldSurface', 'floorsNo', 'audioSurveillance','propertyType', 'building_type']]\n",
    "model_data = pd.get_dummies(model_data, columns=['propertyType', 'building_type'], drop_first=True, dtype=int)\n",
    "model_data.head(3)"
   ]
  },
  {
   "cell_type": "code",
   "execution_count": 15,
   "id": "3133a751",
   "metadata": {
    "tags": []
   },
   "outputs": [
    {
     "name": "stdout",
     "output_type": "stream",
     "text": [
      "Optimization terminated successfully.\n",
      "         Current function value: 0.597314\n",
      "         Iterations 7\n",
      "                           Logit Regression Results                           \n",
      "==============================================================================\n",
      "Dep. Variable:      videoSurveillance   No. Observations:                28218\n",
      "Model:                          Logit   Df Residuals:                    28205\n",
      "Method:                           MLE   Df Model:                           12\n",
      "Date:                Fri, 24 Nov 2023   Pseudo R-squ.:                  0.1383\n",
      "Time:                        21:31:42   Log-Likelihood:                -16855.\n",
      "converged:                       True   LL-Null:                       -19559.\n",
      "Covariance Type:            nonrobust   LLR p-value:                     0.000\n",
      "===============================================================================================================\n",
      "                                                  coef    std err          z      P>|z|      [0.025      0.975]\n",
      "---------------------------------------------------------------------------------------------------------------\n",
      "const                                          -0.5600      0.119     -4.708      0.000      -0.793      -0.327\n",
      "heldSurface                                     0.0006      2e-05     27.773      0.000       0.001       0.001\n",
      "floorsNo                                        0.3414      0.019     18.200      0.000       0.305       0.378\n",
      "audioSurveillance                               2.3244      0.075     31.055      0.000       2.178       2.471\n",
      "propertyType_Administrator UAT                 -0.1757      0.106     -1.653      0.098      -0.384       0.033\n",
      "propertyType_Concesionată                      -0.0645      0.337     -0.192      0.848      -0.724       0.595\n",
      "propertyType_Folosință gratuită de la terți    -0.1179      0.110     -1.069      0.285      -0.334       0.098\n",
      "propertyType_În litigiu pentru retrocedare     -0.7340      0.544     -1.348      0.178      -1.801       0.333\n",
      "propertyType_Închiriată                         0.1065      0.129      0.825      0.409      -0.147       0.360\n",
      "building_type_partially new                    -0.0795      0.058     -1.362      0.173      -0.194       0.035\n",
      "building_type_old                              -0.1571      0.058     -2.721      0.007      -0.270      -0.044\n",
      "building_type_very old                         -0.0311      0.065     -0.478      0.632      -0.159       0.096\n",
      "building_type_extremely old                     0.3356      0.218      1.537      0.124      -0.092       0.764\n",
      "===============================================================================================================\n"
     ]
    }
   ],
   "source": [
    "y = model_data['videoSurveillance']\n",
    "x = model_data.drop('videoSurveillance', axis=1)\n",
    "x = sm.add_constant(x) \n",
    "\n",
    "model = sm.Logit(y, x).fit()\n",
    "\n",
    "print(model.summary())"
   ]
  },
  {
   "cell_type": "markdown",
   "id": "013830cc",
   "metadata": {},
   "source": [
    "<li> <b> Obs:</b></li>\n",
    "Modelul are un <b>p-value: 0.00 </b>=> este semnificativ<br>\n",
    "Totusi <b>R-squared: 0.138</b> Nu reusim sa identificam prea bine (~14%) scolile care au video surveillance doar pe baza acestor variabile<br>\n",
    "In plus, toate <b>Property types & Building types incluse in model nu sunt semnificative</b> (au un p-value super mare)<br>\n",
    "Restul variabilelor(heldSurface, floorsNo, audioSurveillance sunt semnificative"
   ]
  },
  {
   "cell_type": "markdown",
   "id": "66304c2d",
   "metadata": {},
   "source": [
    "### Incercat si un GLM"
   ]
  },
  {
   "cell_type": "code",
   "execution_count": 16,
   "id": "e90fcf35",
   "metadata": {
    "tags": []
   },
   "outputs": [
    {
     "name": "stdout",
     "output_type": "stream",
     "text": [
      "                 Generalized Linear Model Regression Results                  \n",
      "==============================================================================\n",
      "Dep. Variable:      videoSurveillance   No. Observations:                28218\n",
      "Model:                            GLM   Df Residuals:                    28206\n",
      "Model Family:                Binomial   Df Model:                           11\n",
      "Link Function:                  Logit   Scale:                          1.0000\n",
      "Method:                          IRLS   Log-Likelihood:                -16866.\n",
      "Date:                Fri, 24 Nov 2023   Deviance:                       33732.\n",
      "Time:                        21:31:45   Pearson chi2:                 1.68e+08\n",
      "No. Iterations:                     7   Pseudo R-squ. (CS):             0.1738\n",
      "Covariance Type:            nonrobust                                         \n",
      "===============================================================================================================\n",
      "                                                  coef    std err          z      P>|z|      [0.025      0.975]\n",
      "---------------------------------------------------------------------------------------------------------------\n",
      "heldSurface                                     0.0006   1.99e-05     27.663      0.000       0.001       0.001\n",
      "floorsNo                                        0.3379      0.019     18.040      0.000       0.301       0.375\n",
      "audioSurveillance                               2.3185      0.075     30.982      0.000       2.172       2.465\n",
      "propertyType_Administrator UAT                 -0.6199      0.050    -12.483      0.000      -0.717      -0.523\n",
      "propertyType_Concesionată                      -0.5115      0.323     -1.583      0.114      -1.145       0.122\n",
      "propertyType_Folosință gratuită de la terți    -0.5602      0.058     -9.578      0.000      -0.675      -0.446\n",
      "propertyType_În litigiu pentru retrocedare     -1.1684      0.536     -2.179      0.029      -2.219      -0.118\n",
      "propertyType_Închiriată                        -0.3330      0.090     -3.713      0.000      -0.509      -0.157\n",
      "building_type_partially new                    -0.1976      0.053     -3.757      0.000      -0.301      -0.094\n",
      "building_type_old                              -0.2731      0.052     -5.239      0.000      -0.375      -0.171\n",
      "building_type_very old                         -0.1515      0.060     -2.535      0.011      -0.269      -0.034\n",
      "building_type_extremely old                     0.2122      0.217      0.978      0.328      -0.213       0.638\n",
      "===============================================================================================================\n"
     ]
    }
   ],
   "source": [
    "y = model_data['videoSurveillance']\n",
    "x = model_data.drop('videoSurveillance', axis=1)\n",
    "\n",
    "glm_model = sm.GLM(y, x, family=sm.families.Binomial())\n",
    "glm_results = glm_model.fit()\n",
    "\n",
    "print(glm_results.summary())\n"
   ]
  },
  {
   "cell_type": "markdown",
   "id": "9001414f",
   "metadata": {},
   "source": [
    "### Situatia este similara\n",
    "R-squared este un pic mai mare (17%) <br>\n",
    "Iar cateva dintre buidling types/ property types au semnificatie in model de data aceasta\n",
    "\n",
    "S-ar putea diminua numarul de categorii din cadrul acestor variable eventual"
   ]
  },
  {
   "cell_type": "code",
   "execution_count": null,
   "id": "7bb8a656-831a-48c3-8f80-527817489b45",
   "metadata": {},
   "outputs": [],
   "source": []
  }
 ],
 "metadata": {
  "kernelspec": {
   "display_name": "Python 3 (ipykernel)",
   "language": "python",
   "name": "python3"
  },
  "language_info": {
   "codemirror_mode": {
    "name": "ipython",
    "version": 3
   },
   "file_extension": ".py",
   "mimetype": "text/x-python",
   "name": "python",
   "nbconvert_exporter": "python",
   "pygments_lexer": "ipython3",
   "version": "3.10.13"
  }
 },
 "nbformat": 4,
 "nbformat_minor": 5
}
