{
 "cells": [
  {
   "cell_type": "markdown",
   "id": "af5a6a7e-414e-44bb-8992-2be0342e61ea",
   "metadata": {},
   "source": [
    "### Conectare Data.Gov"
   ]
  },
  {
   "cell_type": "code",
   "execution_count": 1,
   "id": "a502c7cf-1ee3-491d-8b1f-edc288965ffa",
   "metadata": {
    "tags": []
   },
   "outputs": [
    {
     "name": "stdout",
     "output_type": "stream",
     "text": [
      "Requirement already satisfied: chardet in c:\\users\\lenovo\\anaconda3\\envs\\new_env\\lib\\site-packages (5.2.0)\n"
     ]
    }
   ],
   "source": [
    "! pip install chardet "
   ]
  },
  {
   "cell_type": "code",
   "execution_count": 2,
   "id": "9aa9f763-cca6-410d-b8d9-478436af7b8a",
   "metadata": {
    "tags": []
   },
   "outputs": [],
   "source": [
    "import json\n",
    "import pandas as pd\n",
    "import chardet\n",
    "import requests"
   ]
  },
  {
   "cell_type": "markdown",
   "id": "5bcb3c86-940c-4c04-8e39-4e775e0fe683",
   "metadata": {},
   "source": [
    "#### Descarcare Date Bac Sesiunea I 2022"
   ]
  },
  {
   "cell_type": "code",
   "execution_count": 3,
   "id": "d973fff4-f4c4-43a3-aaa5-c2985f23d1fd",
   "metadata": {
    "tags": []
   },
   "outputs": [],
   "source": [
    "url = \"https://data.gov.ro/api/3/action/package_search\"\n",
    "\n",
    "\n",
    "query = \"Rezultate Bacalaureat Sesiunea I 2022\"\n",
    "csv_name = \"Rezultate_BAC_2022_SesiuneaI.csv\""
   ]
  },
  {
   "cell_type": "code",
   "execution_count": 4,
   "id": "a5e08d0b-424e-47de-8039-e1030c4b0f23",
   "metadata": {
    "tags": []
   },
   "outputs": [
    {
     "name": "stdout",
     "output_type": "stream",
     "text": [
      "Dataset Title: Rezultate Bacalaureat Sesiunea I 2022\n",
      "Download URL: https://data.gov.ro/dataset/0778231d-be65-41c8-9530-6f8dbceaaa08/resource/9e0419b2-342c-4849-ad69-78f6dab8efc4/download/2022.07.06_bac_export-sesiunea-1-2022.xlsx\n",
      "Dataset downloaded successfully.\n"
     ]
    }
   ],
   "source": [
    "params = {\n",
    "    \"q\": query,\n",
    "}\n",
    "response = requests.get(url, params=params)\n",
    "if response.status_code == 200:\n",
    "    data = response.json()\n",
    "       \n",
    "    dataset_title = data[\"result\"][\"results\"][0][\"title\"]\n",
    "    print(f\"Dataset Title: {dataset_title}\") \n",
    "    download_url = data[\"result\"][\"results\"][0][\"resources\"][0][\"url\"] #extract the url for the resource wanted\n",
    "    print(f\"Download URL: {download_url}\")  \n",
    "    response = requests.get(download_url)    \n",
    "    if response.status_code == 200:\n",
    "        # Save the dataset to a file , and then \n",
    "        with open(csv_name, \"wb\") as f:  \n",
    "            f.write(response.content) \n",
    "        print(\"Dataset downloaded successfully.\")\n",
    "    else:\n",
    "        print(\"Failed to download the dataset.\")\n",
    "else:\n",
    "    print(\"Failed to retrieve data from the CKAN API.\")\n"
   ]
  },
  {
   "cell_type": "markdown",
   "id": "ffa59e06-f485-4fb6-96e3-caa6da32258a",
   "metadata": {},
   "source": [
    "#### Descarcare Date Bac Sesiunea II 2022"
   ]
  },
  {
   "cell_type": "code",
   "execution_count": 5,
   "id": "1878bdd5-38bb-4074-9ba6-6c68cbb0ed5a",
   "metadata": {
    "tags": []
   },
   "outputs": [],
   "source": [
    "url = \"https://data.gov.ro/api/3/action/package_search\"\n",
    "\n",
    "\n",
    "query2 = \"Rezultate Bacalaureat Sesiunea 2 - 2022\"\n",
    "csv_name2 = \"Rezultate_BAC_2022_SesiuneaII.csv\""
   ]
  },
  {
   "cell_type": "code",
   "execution_count": 6,
   "id": "13c47882-4f0c-420d-9f15-e0a1cefeac98",
   "metadata": {
    "tags": []
   },
   "outputs": [
    {
     "name": "stdout",
     "output_type": "stream",
     "text": [
      "Dataset Title: Rezultate Bacalaureat Sesiunea 2 - 2022\n",
      "Download URL: https://data.gov.ro/dataset/49d1d513-ecb7-4dab-aaeb-f719dc01ea65/resource/fd498298-7701-4ed6-be0a-1227ab7d7ef0/download/2022.10.20_bac_date-deschise_2022-ses2.xlsx\n",
      "Dataset downloaded successfully.\n"
     ]
    }
   ],
   "source": [
    "params = {\n",
    "    \"q\": query2,\n",
    "}\n",
    "response = requests.get(url, params=params)\n",
    "if response.status_code == 200:\n",
    "    data = response.json()\n",
    "       \n",
    "    dataset_title = data[\"result\"][\"results\"][0][\"title\"]\n",
    "    print(f\"Dataset Title: {dataset_title}\") \n",
    "    download_url = data[\"result\"][\"results\"][0][\"resources\"][0][\"url\"] #extract the url for the resource wanted\n",
    "    print(f\"Download URL: {download_url}\")  \n",
    "    response = requests.get(download_url)    \n",
    "    if response.status_code == 200:\n",
    "        # Save the dataset to a file , and then \n",
    "        with open(csv_name2, \"wb\") as f:  \n",
    "            f.write(response.content) \n",
    "        print(\"Dataset downloaded successfully.\")\n",
    "    else:\n",
    "        print(\"Failed to download the dataset.\")\n",
    "else:\n",
    "    print(\"Failed to retrieve data from the CKAN API.\")\n"
   ]
  }
 ],
 "metadata": {
  "kernelspec": {
   "display_name": "Python 3 (ipykernel)",
   "language": "python",
   "name": "python3"
  },
  "language_info": {
   "codemirror_mode": {
    "name": "ipython",
    "version": 3
   },
   "file_extension": ".py",
   "mimetype": "text/x-python",
   "name": "python",
   "nbconvert_exporter": "python",
   "pygments_lexer": "ipython3",
   "version": "3.10.13"
  }
 },
 "nbformat": 4,
 "nbformat_minor": 5
}
