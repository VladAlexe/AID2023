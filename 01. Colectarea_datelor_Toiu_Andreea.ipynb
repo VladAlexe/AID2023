{
 "cells": [
  {
   "cell_type": "markdown",
   "id": "0428abc6-3586-49c6-88c5-ca57a0bcfec2",
   "metadata": {},
   "source": [
    "## 01. Colectarea datelor"
   ]
  },
  {
   "cell_type": "markdown",
   "id": "35d30798-e550-42fc-b9fa-335a4346de6e",
   "metadata": {
    "tags": []
   },
   "source": [
    "### Team 2 - buildingstate - schoolBuildingsState"
   ]
  },
  {
   "cell_type": "markdown",
   "id": "b4e45732-8bf1-48cc-af56-0a3c6bada31f",
   "metadata": {},
   "source": [
    "#### Datele pe care le vom coleta pentru analiza:\n",
    "###### - schoolBuildingsState - starea si tipul materialelor de constructii pentru unitatile de invatamant\n",
    "###### - schoolDetails - variabilele de identificare pentru unitatile scolare\n",
    "###### - rez_en_2023 - rezultatele obtinute la Evaluarea Nationala in anul 2023\n",
    "###### - lhdi - Local Human Development Index (autor: Sandu, 2018)\n",
    "\n",
    "### Unitatea de analia: Judetul CLUJ"
   ]
  },
  {
   "cell_type": "markdown",
   "id": "216dbbb5-697b-4e81-8f9e-35046b8c1e97",
   "metadata": {
    "tags": []
   },
   "source": [
    "### 1. Descarcare schoolBuildingsState"
   ]
  },
  {
   "cell_type": "markdown",
   "id": "d24d35e2-d04e-4c06-bed4-21508211ba29",
   "metadata": {},
   "source": [
    "#### import librarii"
   ]
  },
  {
   "cell_type": "code",
   "execution_count": 90,
   "id": "14cf57ca-d21f-4615-94f3-8e705fe0444a",
   "metadata": {
    "collapsed": true,
    "jupyter": {
     "outputs_hidden": true
    },
    "tags": []
   },
   "outputs": [
    {
     "name": "stdout",
     "output_type": "stream",
     "text": [
      "Defaulting to user installation because normal site-packages is not writeable\n",
      "Requirement already satisfied: chardet in c:\\users\\diana\\appdata\\roaming\\python\\python310\\site-packages (5.2.0)\n"
     ]
    }
   ],
   "source": [
    "!pip install chardet"
   ]
  },
  {
   "cell_type": "code",
   "execution_count": 91,
   "id": "aa9f7406-2677-41da-804d-03080a5b8e76",
   "metadata": {
    "tags": []
   },
   "outputs": [],
   "source": [
    "import pandas as pd\n",
    "import numpy as np\n",
    "import json\n",
    "import requests\n",
    "import os"
   ]
  },
  {
   "cell_type": "markdown",
   "id": "277c77a4-b6f1-4387-9f5b-e2e91a4cb363",
   "metadata": {},
   "source": [
    "#### Incarcare dete din fisierul JSON"
   ]
  },
  {
   "cell_type": "code",
   "execution_count": 160,
   "id": "2ae85da5-c0e7-4105-a557-c3c921f52593",
   "metadata": {
    "tags": []
   },
   "outputs": [],
   "source": [
    "file_path = 'buildingsstate_data.json'\n",
    "## load json data\n",
    "with open(file_path, encoding = \"utf8\") as json_file:\n",
    "    buildings = json.load(json_file)"
   ]
  },
  {
   "cell_type": "code",
   "execution_count": 161,
   "id": "caef44c3-66be-4cde-97d1-27b047ebc621",
   "metadata": {
    "tags": []
   },
   "outputs": [
    {
     "data": {
      "text/plain": [
       "[{'id': 13902,\n",
       "  'idSchool': 11263103,\n",
       "  'buildingDescription': 'CASA CORPULUI DIDACTIC MEHEDINTI',\n",
       "  'generalState': 'Parţial reabilitată',\n",
       "  'buildingMaterial': 'Cărămidă',\n",
       "  'roofMaterial': 'Ţiglă metalică',\n",
       "  'roofCondition': 'Reabilitată',\n",
       "  'joineryCondition': 'Nereabilitată',\n",
       "  'windowJoinery': 'Lemn',\n",
       "  'doorJoinery': 'Lemn',\n",
       "  'dateFrom': -2208988800000}]"
      ]
     },
     "execution_count": 161,
     "metadata": {},
     "output_type": "execute_result"
    }
   ],
   "source": [
    "buildings[33]['buildingsstate']['schoolBuildingsState']"
   ]
  },
  {
   "cell_type": "markdown",
   "id": "0bcc41d7-e6df-4c18-9fe8-a5b99beaa723",
   "metadata": {
    "tags": []
   },
   "source": [
    "#### Extragem doar datele 'schoolBuildingsState'"
   ]
  },
  {
   "cell_type": "code",
   "execution_count": 162,
   "id": "64325e25-15e8-4ae1-9d80-8442b2d98d25",
   "metadata": {
    "tags": []
   },
   "outputs": [],
   "source": [
    "#Normalizarea datelor\n",
    "\n",
    "school_buildings_state_data = []\n",
    "for building in buildings:\n",
    "    # Checks if 'buildingsstate' exists in the current element\n",
    "    if 'buildingsstate' in building:\n",
    "        # Check if 'schoolBuildingsState' exists in 'buildingsstate'\n",
    "        if 'schoolBuildingsState' in building['buildingsstate']:\n",
    "            for state in building['buildingsstate']['schoolBuildingsState']:\n",
    "                school_buildings_state_data.append(state)"
   ]
  },
  {
   "cell_type": "code",
   "execution_count": 95,
   "id": "938857c4-52ab-4cd3-930b-2573111584eb",
   "metadata": {
    "tags": []
   },
   "outputs": [
    {
     "data": {
      "text/plain": [
       "{'id': 6012,\n",
       " 'idSchool': 11257838,\n",
       " 'buildingDescription': '1/2Cladire scoala',\n",
       " 'generalState': 'Reabilitată',\n",
       " 'buildingMaterial': 'Cărămidă',\n",
       " 'roofMaterial': 'Tablă',\n",
       " 'roofCondition': 'Reabilitată',\n",
       " 'joineryCondition': 'Parţial reabilitată',\n",
       " 'windowJoinery': 'Lemn',\n",
       " 'doorJoinery': 'Lemn',\n",
       " 'dateFrom': -2208988800000}"
      ]
     },
     "execution_count": 95,
     "metadata": {},
     "output_type": "execute_result"
    }
   ],
   "source": [
    "school_buildings_state_data[33] "
   ]
  },
  {
   "cell_type": "markdown",
   "id": "d744d052-a255-44be-bc34-fe583740b45d",
   "metadata": {},
   "source": [
    "#### Salvam datele intr-un Data Frame"
   ]
  },
  {
   "cell_type": "code",
   "execution_count": 163,
   "id": "722b8932-dab9-4d31-a99a-d40f60fc8ee7",
   "metadata": {
    "tags": []
   },
   "outputs": [],
   "source": [
    "school_buildings = pd.DataFrame(school_buildings_state_data)"
   ]
  },
  {
   "cell_type": "code",
   "execution_count": 164,
   "id": "c5a5b6c3-69b3-448d-a54f-fb74a03083c1",
   "metadata": {
    "tags": []
   },
   "outputs": [
    {
     "data": {
      "text/html": [
       "<div>\n",
       "<style scoped>\n",
       "    .dataframe tbody tr th:only-of-type {\n",
       "        vertical-align: middle;\n",
       "    }\n",
       "\n",
       "    .dataframe tbody tr th {\n",
       "        vertical-align: top;\n",
       "    }\n",
       "\n",
       "    .dataframe thead th {\n",
       "        text-align: right;\n",
       "    }\n",
       "</style>\n",
       "<table border=\"1\" class=\"dataframe\">\n",
       "  <thead>\n",
       "    <tr style=\"text-align: right;\">\n",
       "      <th></th>\n",
       "      <th>id</th>\n",
       "      <th>idSchool</th>\n",
       "      <th>buildingDescription</th>\n",
       "      <th>generalState</th>\n",
       "      <th>buildingMaterial</th>\n",
       "      <th>roofMaterial</th>\n",
       "      <th>roofCondition</th>\n",
       "      <th>joineryCondition</th>\n",
       "      <th>windowJoinery</th>\n",
       "      <th>doorJoinery</th>\n",
       "      <th>dateFrom</th>\n",
       "    </tr>\n",
       "  </thead>\n",
       "  <tbody>\n",
       "    <tr>\n",
       "      <th>0</th>\n",
       "      <td>13902</td>\n",
       "      <td>11263103</td>\n",
       "      <td>CASA CORPULUI DIDACTIC MEHEDINTI</td>\n",
       "      <td>Parţial reabilitată</td>\n",
       "      <td>Cărămidă</td>\n",
       "      <td>Ţiglă metalică</td>\n",
       "      <td>Reabilitată</td>\n",
       "      <td>Nereabilitată</td>\n",
       "      <td>Lemn</td>\n",
       "      <td>Lemn</td>\n",
       "      <td>-2208988800000</td>\n",
       "    </tr>\n",
       "    <tr>\n",
       "      <th>1</th>\n",
       "      <td>2083</td>\n",
       "      <td>11269004</td>\n",
       "      <td>Clădirea A</td>\n",
       "      <td>Nereabilitată</td>\n",
       "      <td>Cărămidă</td>\n",
       "      <td>Ţiglă ceramică</td>\n",
       "      <td>Nereabilitată</td>\n",
       "      <td>Nereabilitată</td>\n",
       "      <td>Lemn</td>\n",
       "      <td>Lemn</td>\n",
       "      <td>-2208988800000</td>\n",
       "    </tr>\n",
       "    <tr>\n",
       "      <th>2</th>\n",
       "      <td>4390</td>\n",
       "      <td>11271116</td>\n",
       "      <td>CASA CORPULUI DIDACTIC</td>\n",
       "      <td>Reabilitată</td>\n",
       "      <td>Cărămidă</td>\n",
       "      <td>Tablă</td>\n",
       "      <td>Nu necesită reabilitare</td>\n",
       "      <td>Reabilitată</td>\n",
       "      <td>Aluminiu</td>\n",
       "      <td>PVC</td>\n",
       "      <td>-2208988800000</td>\n",
       "    </tr>\n",
       "  </tbody>\n",
       "</table>\n",
       "</div>"
      ],
      "text/plain": [
       "      id  idSchool               buildingDescription         generalState  \\\n",
       "0  13902  11263103  CASA CORPULUI DIDACTIC MEHEDINTI  Parţial reabilitată   \n",
       "1   2083  11269004                        Clădirea A        Nereabilitată   \n",
       "2   4390  11271116            CASA CORPULUI DIDACTIC          Reabilitată   \n",
       "\n",
       "  buildingMaterial    roofMaterial            roofCondition joineryCondition  \\\n",
       "0         Cărămidă  Ţiglă metalică              Reabilitată    Nereabilitată   \n",
       "1         Cărămidă  Ţiglă ceramică            Nereabilitată    Nereabilitată   \n",
       "2         Cărămidă           Tablă  Nu necesită reabilitare      Reabilitată   \n",
       "\n",
       "  windowJoinery doorJoinery       dateFrom  \n",
       "0          Lemn        Lemn -2208988800000  \n",
       "1          Lemn        Lemn -2208988800000  \n",
       "2      Aluminiu         PVC -2208988800000  "
      ]
     },
     "execution_count": 164,
     "metadata": {},
     "output_type": "execute_result"
    }
   ],
   "source": [
    "school_buildings.head(3)"
   ]
  },
  {
   "cell_type": "markdown",
   "id": "efdc0c3c-a610-4fa3-84ee-91bebf28dad2",
   "metadata": {},
   "source": [
    "#### Optional salvam datele intr-un CSV"
   ]
  },
  {
   "cell_type": "code",
   "execution_count": 165,
   "id": "b2856feb-2a03-42f2-817c-114a8556151b",
   "metadata": {
    "tags": []
   },
   "outputs": [],
   "source": [
    "school_buildings.to_csv('school_buildings.csv', index=False, encoding='utf-8')"
   ]
  },
  {
   "cell_type": "markdown",
   "id": "ed6cdc69-2885-4401-bbe5-222bee34b9ad",
   "metadata": {},
   "source": [
    "### Descarcare si vizualizare school_details"
   ]
  },
  {
   "cell_type": "markdown",
   "id": "f925384b-e1d0-4c93-b915-fd537f2bc493",
   "metadata": {},
   "source": [
    "#### Incarcare dete din fisierul JSON"
   ]
  },
  {
   "cell_type": "code",
   "execution_count": 166,
   "id": "f0bb5335-9fd7-436b-8cde-f689b53d5d57",
   "metadata": {
    "tags": []
   },
   "outputs": [],
   "source": [
    "file_path = 'school_details.json'\n",
    "\n",
    "with open(file_path) as json_file:\n",
    "    school_details = json.load(json_file)"
   ]
  },
  {
   "cell_type": "code",
   "execution_count": 167,
   "id": "70642fdf-ed30-4089-8064-15fd6d4640f9",
   "metadata": {
    "tags": []
   },
   "outputs": [
    {
     "data": {
      "text/html": [
       "<div>\n",
       "<style scoped>\n",
       "    .dataframe tbody tr th:only-of-type {\n",
       "        vertical-align: middle;\n",
       "    }\n",
       "\n",
       "    .dataframe tbody tr th {\n",
       "        vertical-align: top;\n",
       "    }\n",
       "\n",
       "    .dataframe thead th {\n",
       "        text-align: right;\n",
       "    }\n",
       "</style>\n",
       "<table border=\"1\" class=\"dataframe\">\n",
       "  <thead>\n",
       "    <tr style=\"text-align: right;\">\n",
       "      <th></th>\n",
       "      <th>details</th>\n",
       "    </tr>\n",
       "  </thead>\n",
       "  <tbody>\n",
       "    <tr>\n",
       "      <th>0</th>\n",
       "      <td>{'idSchool': 11269910, 'internalIdSchool': 101...</td>\n",
       "    </tr>\n",
       "    <tr>\n",
       "      <th>1</th>\n",
       "      <td>{'idSchool': 11256876, 'internalIdSchool': 111...</td>\n",
       "    </tr>\n",
       "    <tr>\n",
       "      <th>2</th>\n",
       "      <td>{'idSchool': 11256865, 'internalIdSchool': 111...</td>\n",
       "    </tr>\n",
       "  </tbody>\n",
       "</table>\n",
       "</div>"
      ],
      "text/plain": [
       "                                             details\n",
       "0  {'idSchool': 11269910, 'internalIdSchool': 101...\n",
       "1  {'idSchool': 11256876, 'internalIdSchool': 111...\n",
       "2  {'idSchool': 11256865, 'internalIdSchool': 111..."
      ]
     },
     "execution_count": 167,
     "metadata": {},
     "output_type": "execute_result"
    }
   ],
   "source": [
    "data = pd.DataFrame(school_details)\n",
    "data.head(3)"
   ]
  },
  {
   "cell_type": "code",
   "execution_count": 168,
   "id": "77e05673-7c9b-4e6d-8cc0-b421c294be7c",
   "metadata": {
    "tags": []
   },
   "outputs": [
    {
     "data": {
      "text/html": [
       "<div>\n",
       "<style scoped>\n",
       "    .dataframe tbody tr th:only-of-type {\n",
       "        vertical-align: middle;\n",
       "    }\n",
       "\n",
       "    .dataframe tbody tr th {\n",
       "        vertical-align: top;\n",
       "    }\n",
       "\n",
       "    .dataframe thead th {\n",
       "        text-align: right;\n",
       "    }\n",
       "</style>\n",
       "<table border=\"1\" class=\"dataframe\">\n",
       "  <thead>\n",
       "    <tr style=\"text-align: right;\">\n",
       "      <th></th>\n",
       "      <th>idSchool</th>\n",
       "      <th>internalIdSchool</th>\n",
       "      <th>idParentSchool</th>\n",
       "      <th>schoolSocialLinks</th>\n",
       "      <th>schoolYearDescription</th>\n",
       "      <th>code</th>\n",
       "      <th>siruesCode</th>\n",
       "      <th>longName</th>\n",
       "      <th>shortName</th>\n",
       "      <th>schoolType</th>\n",
       "      <th>...</th>\n",
       "      <th>idSchoolYear.isCurrentYear</th>\n",
       "      <th>idSchoolYear.dateTo</th>\n",
       "      <th>idSchoolYear.dateFrom</th>\n",
       "      <th>idSchoolYear.description</th>\n",
       "      <th>idSchoolYear.code</th>\n",
       "      <th>idSchoolYear.idSchoolYear</th>\n",
       "      <th>schoolNumbers.idSchool</th>\n",
       "      <th>schoolNumbers.studyFormationsCount</th>\n",
       "      <th>schoolNumbers.studentsCount</th>\n",
       "      <th>schoolNumbers.personnelCount</th>\n",
       "    </tr>\n",
       "  </thead>\n",
       "  <tbody>\n",
       "    <tr>\n",
       "      <th>0</th>\n",
       "      <td>11269910</td>\n",
       "      <td>10131270</td>\n",
       "      <td>NaN</td>\n",
       "      <td>[]</td>\n",
       "      <td>Anul şcolar 2018-2019</td>\n",
       "      <td>0261200154</td>\n",
       "      <td>23054595</td>\n",
       "      <td>ASOCIAŢIA CREŞTINĂ DE CARITATE \"GOSEN\" ARAD/ G...</td>\n",
       "      <td>GRĂDINIŢA \"GOSEN\" ARAD</td>\n",
       "      <td>Unitate de învățământ</td>\n",
       "      <td>...</td>\n",
       "      <td>0</td>\n",
       "      <td>1567285199000</td>\n",
       "      <td>1535749200000</td>\n",
       "      <td>Anul şcolar 2018-2019</td>\n",
       "      <td>2018-2019</td>\n",
       "      <td>21</td>\n",
       "      <td>11269910</td>\n",
       "      <td>4</td>\n",
       "      <td>131</td>\n",
       "      <td>7</td>\n",
       "    </tr>\n",
       "    <tr>\n",
       "      <th>1</th>\n",
       "      <td>11256876</td>\n",
       "      <td>11192270</td>\n",
       "      <td>NaN</td>\n",
       "      <td>[]</td>\n",
       "      <td>Anul şcolar 2018-2019</td>\n",
       "      <td>1061206943</td>\n",
       "      <td>None</td>\n",
       "      <td>ASOCIAȚIA PENTRU PROMOVAREA VALORILOR AUTENTIC...</td>\n",
       "      <td>ASOCIAȚIA VALORILOR BZ</td>\n",
       "      <td>Unitate de învățământ</td>\n",
       "      <td>...</td>\n",
       "      <td>0</td>\n",
       "      <td>1567285199000</td>\n",
       "      <td>1535749200000</td>\n",
       "      <td>Anul şcolar 2018-2019</td>\n",
       "      <td>2018-2019</td>\n",
       "      <td>21</td>\n",
       "      <td>11256876</td>\n",
       "      <td>0</td>\n",
       "      <td>0</td>\n",
       "      <td>0</td>\n",
       "    </tr>\n",
       "    <tr>\n",
       "      <th>2</th>\n",
       "      <td>11256865</td>\n",
       "      <td>11192168</td>\n",
       "      <td>NaN</td>\n",
       "      <td>[]</td>\n",
       "      <td>Anul şcolar 2018-2019</td>\n",
       "      <td>1061206875</td>\n",
       "      <td>None</td>\n",
       "      <td>ASOCIAȚIA UMANITARĂ EDUSTAR BUZĂU</td>\n",
       "      <td>ASOCIATIA EDUSTAR</td>\n",
       "      <td>Unitate de învățământ</td>\n",
       "      <td>...</td>\n",
       "      <td>0</td>\n",
       "      <td>1567285199000</td>\n",
       "      <td>1535749200000</td>\n",
       "      <td>Anul şcolar 2018-2019</td>\n",
       "      <td>2018-2019</td>\n",
       "      <td>21</td>\n",
       "      <td>11256865</td>\n",
       "      <td>0</td>\n",
       "      <td>0</td>\n",
       "      <td>0</td>\n",
       "    </tr>\n",
       "    <tr>\n",
       "      <th>3</th>\n",
       "      <td>11284187</td>\n",
       "      <td>11284187</td>\n",
       "      <td>11270069.0</td>\n",
       "      <td>[]</td>\n",
       "      <td>Anul şcolar 2018-2019</td>\n",
       "      <td>5162103686</td>\n",
       "      <td>None</td>\n",
       "      <td>CABINET INTERSCOLAR DE ASISTENTA PSIHOPEDAGOGI...</td>\n",
       "      <td>CIAP LICEUL PEDADOGIC STEFAN BANULESCU</td>\n",
       "      <td>Unitate de învățământ</td>\n",
       "      <td>...</td>\n",
       "      <td>0</td>\n",
       "      <td>1567285199000</td>\n",
       "      <td>1535749200000</td>\n",
       "      <td>Anul şcolar 2018-2019</td>\n",
       "      <td>2018-2019</td>\n",
       "      <td>21</td>\n",
       "      <td>11284187</td>\n",
       "      <td>0</td>\n",
       "      <td>0</td>\n",
       "      <td>0</td>\n",
       "    </tr>\n",
       "    <tr>\n",
       "      <th>4</th>\n",
       "      <td>11270113</td>\n",
       "      <td>10049611</td>\n",
       "      <td>11270069.0</td>\n",
       "      <td>[]</td>\n",
       "      <td>Anul şcolar 2018-2019</td>\n",
       "      <td>5142100248</td>\n",
       "      <td>None</td>\n",
       "      <td>CABINET INTERSCOLAR DE ASISTENTA PSIHOPEDAGOGI...</td>\n",
       "      <td>CIAP LICEUL NR1 BORCEA_SCOALA PERISORU</td>\n",
       "      <td>Centru județean de resurse și asistență educaț...</td>\n",
       "      <td>...</td>\n",
       "      <td>0</td>\n",
       "      <td>1567285199000</td>\n",
       "      <td>1535749200000</td>\n",
       "      <td>Anul şcolar 2018-2019</td>\n",
       "      <td>2018-2019</td>\n",
       "      <td>21</td>\n",
       "      <td>11270113</td>\n",
       "      <td>0</td>\n",
       "      <td>0</td>\n",
       "      <td>0</td>\n",
       "    </tr>\n",
       "  </tbody>\n",
       "</table>\n",
       "<p>5 rows × 36 columns</p>\n",
       "</div>"
      ],
      "text/plain": [
       "   idSchool  internalIdSchool  idParentSchool schoolSocialLinks  \\\n",
       "0  11269910          10131270             NaN                []   \n",
       "1  11256876          11192270             NaN                []   \n",
       "2  11256865          11192168             NaN                []   \n",
       "3  11284187          11284187      11270069.0                []   \n",
       "4  11270113          10049611      11270069.0                []   \n",
       "\n",
       "   schoolYearDescription        code siruesCode  \\\n",
       "0  Anul şcolar 2018-2019  0261200154   23054595   \n",
       "1  Anul şcolar 2018-2019  1061206943       None   \n",
       "2  Anul şcolar 2018-2019  1061206875       None   \n",
       "3  Anul şcolar 2018-2019  5162103686       None   \n",
       "4  Anul şcolar 2018-2019  5142100248       None   \n",
       "\n",
       "                                            longName  \\\n",
       "0  ASOCIAŢIA CREŞTINĂ DE CARITATE \"GOSEN\" ARAD/ G...   \n",
       "1  ASOCIAȚIA PENTRU PROMOVAREA VALORILOR AUTENTIC...   \n",
       "2                  ASOCIAȚIA UMANITARĂ EDUSTAR BUZĂU   \n",
       "3  CABINET INTERSCOLAR DE ASISTENTA PSIHOPEDAGOGI...   \n",
       "4  CABINET INTERSCOLAR DE ASISTENTA PSIHOPEDAGOGI...   \n",
       "\n",
       "                                shortName  \\\n",
       "0                  GRĂDINIŢA \"GOSEN\" ARAD   \n",
       "1                  ASOCIAȚIA VALORILOR BZ   \n",
       "2                       ASOCIATIA EDUSTAR   \n",
       "3  CIAP LICEUL PEDADOGIC STEFAN BANULESCU   \n",
       "4  CIAP LICEUL NR1 BORCEA_SCOALA PERISORU   \n",
       "\n",
       "                                          schoolType  ...  \\\n",
       "0                              Unitate de învățământ  ...   \n",
       "1                              Unitate de învățământ  ...   \n",
       "2                              Unitate de învățământ  ...   \n",
       "3                              Unitate de învățământ  ...   \n",
       "4  Centru județean de resurse și asistență educaț...  ...   \n",
       "\n",
       "  idSchoolYear.isCurrentYear  idSchoolYear.dateTo idSchoolYear.dateFrom  \\\n",
       "0                          0        1567285199000         1535749200000   \n",
       "1                          0        1567285199000         1535749200000   \n",
       "2                          0        1567285199000         1535749200000   \n",
       "3                          0        1567285199000         1535749200000   \n",
       "4                          0        1567285199000         1535749200000   \n",
       "\n",
       "  idSchoolYear.description idSchoolYear.code idSchoolYear.idSchoolYear  \\\n",
       "0    Anul şcolar 2018-2019         2018-2019                        21   \n",
       "1    Anul şcolar 2018-2019         2018-2019                        21   \n",
       "2    Anul şcolar 2018-2019         2018-2019                        21   \n",
       "3    Anul şcolar 2018-2019         2018-2019                        21   \n",
       "4    Anul şcolar 2018-2019         2018-2019                        21   \n",
       "\n",
       "  schoolNumbers.idSchool schoolNumbers.studyFormationsCount  \\\n",
       "0               11269910                                  4   \n",
       "1               11256876                                  0   \n",
       "2               11256865                                  0   \n",
       "3               11284187                                  0   \n",
       "4               11270113                                  0   \n",
       "\n",
       "  schoolNumbers.studentsCount schoolNumbers.personnelCount  \n",
       "0                         131                            7  \n",
       "1                           0                            0  \n",
       "2                           0                            0  \n",
       "3                           0                            0  \n",
       "4                           0                            0  \n",
       "\n",
       "[5 rows x 36 columns]"
      ]
     },
     "execution_count": 168,
     "metadata": {},
     "output_type": "execute_result"
    }
   ],
   "source": [
    "details_df = pd.json_normalize(data['details'])\n",
    "details_df.head()"
   ]
  },
  {
   "cell_type": "code",
   "execution_count": 181,
   "id": "da9904ad-28e9-486d-b9a4-f1caf3250e02",
   "metadata": {
    "tags": []
   },
   "outputs": [
    {
     "data": {
      "text/plain": [
       "187"
      ]
     },
     "execution_count": 181,
     "metadata": {},
     "output_type": "execute_result"
    }
   ],
   "source": [
    "details_df['county'].value_counts().get('CLUJ', 0)\n",
    "\n",
    "filtered_data_cj = details_df[details_df['county'] == 'CLUJ']\n",
    "count_value_loc_cj = filtered_data_cj['locality'].nunique()\n",
    "count_value_loc_cj"
   ]
  },
  {
   "cell_type": "code",
   "execution_count": 197,
   "id": "3ed0ca94-8529-4215-a169-17d83f513afe",
   "metadata": {
    "tags": []
   },
   "outputs": [],
   "source": [
    "details_df.rename(columns = {'schoolNumbers.studyFormationsCount': 'studyFormationsCount', 'schoolNumbers.studentsCount':'studentsCount', 'schoolNumbers.personnelCount': 'personnelCount'}, inplace = True) "
   ]
  },
  {
   "cell_type": "code",
   "execution_count": 194,
   "id": "2e70f5e0-12d4-4d38-b096-b539ddc61bac",
   "metadata": {
    "tags": []
   },
   "outputs": [
    {
     "data": {
      "text/plain": [
       "Index(['idSchool', 'internalIdSchool', 'idParentSchool', 'schoolSocialLinks',\n",
       "       'schoolYearDescription', 'code', 'siruesCode', 'longName', 'shortName',\n",
       "       'schoolType', 'statut', 'isPj', 'fiscalCode', 'operatingMode',\n",
       "       'propertyForm', 'fundingForm', 'county', 'locality', 'street',\n",
       "       'streetNumber', 'postalCode', 'phoneNumber', 'faxNumber', 'email',\n",
       "       'idSchoolYear.orderBy', 'idSchoolYear.isFutureYear',\n",
       "       'idSchoolYear.isCurrentYear', 'idSchoolYear.dateTo',\n",
       "       'idSchoolYear.dateFrom', 'idSchoolYear.description',\n",
       "       'idSchoolYear.code', 'idSchoolYear.idSchoolYear',\n",
       "       'schoolNumbers.idSchool', 'studyFormationsCount', 'studentsCount',\n",
       "       'personnelCount'],\n",
       "      dtype='object')"
      ]
     },
     "execution_count": 194,
     "metadata": {},
     "output_type": "execute_result"
    }
   ],
   "source": [
    "details_df.columns"
   ]
  },
  {
   "cell_type": "markdown",
   "id": "0425b48a-6604-405c-9a2f-133079654587",
   "metadata": {},
   "source": [
    "### Structurarea datelor"
   ]
  },
  {
   "cell_type": "code",
   "execution_count": 201,
   "id": "df075edc-33fa-48c4-a017-d3ae94432fbf",
   "metadata": {
    "tags": []
   },
   "outputs": [
    {
     "data": {
      "text/html": [
       "<div>\n",
       "<style scoped>\n",
       "    .dataframe tbody tr th:only-of-type {\n",
       "        vertical-align: middle;\n",
       "    }\n",
       "\n",
       "    .dataframe tbody tr th {\n",
       "        vertical-align: top;\n",
       "    }\n",
       "\n",
       "    .dataframe thead th {\n",
       "        text-align: right;\n",
       "    }\n",
       "</style>\n",
       "<table border=\"1\" class=\"dataframe\">\n",
       "  <thead>\n",
       "    <tr style=\"text-align: right;\">\n",
       "      <th></th>\n",
       "      <th>idSchool</th>\n",
       "      <th>siruesCode</th>\n",
       "      <th>shortName</th>\n",
       "      <th>county</th>\n",
       "      <th>locality</th>\n",
       "      <th>propertyForm</th>\n",
       "      <th>fundingForm</th>\n",
       "      <th>studyFormationsCount</th>\n",
       "      <th>studentsCount</th>\n",
       "      <th>personnelCount</th>\n",
       "    </tr>\n",
       "  </thead>\n",
       "  <tbody>\n",
       "    <tr>\n",
       "      <th>0</th>\n",
       "      <td>11269910</td>\n",
       "      <td>23054595</td>\n",
       "      <td>GRĂDINIŢA \"GOSEN\" ARAD</td>\n",
       "      <td>ARAD</td>\n",
       "      <td>ARAD</td>\n",
       "      <td>Privată</td>\n",
       "      <td>Sponsorizare</td>\n",
       "      <td>4</td>\n",
       "      <td>131</td>\n",
       "      <td>7</td>\n",
       "    </tr>\n",
       "    <tr>\n",
       "      <th>1</th>\n",
       "      <td>11256876</td>\n",
       "      <td>None</td>\n",
       "      <td>ASOCIAȚIA VALORILOR BZ</td>\n",
       "      <td>BUZĂU</td>\n",
       "      <td>RÂMNICU SĂRAT</td>\n",
       "      <td>Privată</td>\n",
       "      <td>Taxă</td>\n",
       "      <td>0</td>\n",
       "      <td>0</td>\n",
       "      <td>0</td>\n",
       "    </tr>\n",
       "    <tr>\n",
       "      <th>2</th>\n",
       "      <td>11256865</td>\n",
       "      <td>None</td>\n",
       "      <td>ASOCIATIA EDUSTAR</td>\n",
       "      <td>BUZĂU</td>\n",
       "      <td>BUZĂU</td>\n",
       "      <td>Privată</td>\n",
       "      <td>Taxă</td>\n",
       "      <td>0</td>\n",
       "      <td>0</td>\n",
       "      <td>0</td>\n",
       "    </tr>\n",
       "    <tr>\n",
       "      <th>3</th>\n",
       "      <td>11284187</td>\n",
       "      <td>None</td>\n",
       "      <td>CIAP LICEUL PEDADOGIC STEFAN BANULESCU</td>\n",
       "      <td>CĂLĂRAŞI</td>\n",
       "      <td>CĂLĂRAŞI</td>\n",
       "      <td>Publică de interes naţional şi local</td>\n",
       "      <td>Buget</td>\n",
       "      <td>0</td>\n",
       "      <td>0</td>\n",
       "      <td>0</td>\n",
       "    </tr>\n",
       "    <tr>\n",
       "      <th>4</th>\n",
       "      <td>11270113</td>\n",
       "      <td>None</td>\n",
       "      <td>CIAP LICEUL NR1 BORCEA_SCOALA PERISORU</td>\n",
       "      <td>CĂLĂRAŞI</td>\n",
       "      <td>BORCEA</td>\n",
       "      <td>Publică de interes naţional şi local</td>\n",
       "      <td>Buget</td>\n",
       "      <td>0</td>\n",
       "      <td>0</td>\n",
       "      <td>0</td>\n",
       "    </tr>\n",
       "    <tr>\n",
       "      <th>...</th>\n",
       "      <td>...</td>\n",
       "      <td>...</td>\n",
       "      <td>...</td>\n",
       "      <td>...</td>\n",
       "      <td>...</td>\n",
       "      <td>...</td>\n",
       "      <td>...</td>\n",
       "      <td>...</td>\n",
       "      <td>...</td>\n",
       "      <td>...</td>\n",
       "    </tr>\n",
       "    <tr>\n",
       "      <th>18910</th>\n",
       "      <td>11271997</td>\n",
       "      <td>362678</td>\n",
       "      <td>ŞCOALĂ PRIMARĂ NR.1 LUPOAIA</td>\n",
       "      <td>BIHOR</td>\n",
       "      <td>LUPOAIA</td>\n",
       "      <td>Publică de interes naţional şi local</td>\n",
       "      <td>Buget</td>\n",
       "      <td>5</td>\n",
       "      <td>0</td>\n",
       "      <td>0</td>\n",
       "    </tr>\n",
       "    <tr>\n",
       "      <th>18911</th>\n",
       "      <td>11262566</td>\n",
       "      <td>None</td>\n",
       "      <td>ȘCOALĂ PRIMARĂ NR.2 I. L. CARAGIALE</td>\n",
       "      <td>DÂMBOVIŢA</td>\n",
       "      <td>I. L. CARAGIALE</td>\n",
       "      <td>Publică de interes naţional şi local</td>\n",
       "      <td>Buget</td>\n",
       "      <td>4</td>\n",
       "      <td>0</td>\n",
       "      <td>0</td>\n",
       "    </tr>\n",
       "    <tr>\n",
       "      <th>18912</th>\n",
       "      <td>11277287</td>\n",
       "      <td>None</td>\n",
       "      <td>S04 \"TAMASI ARON\" ODORHEI</td>\n",
       "      <td>HARGHITA</td>\n",
       "      <td>ODORHEIU SECUIESC</td>\n",
       "      <td>Publică de interes naţional şi local</td>\n",
       "      <td>Buget</td>\n",
       "      <td>1</td>\n",
       "      <td>0</td>\n",
       "      <td>0</td>\n",
       "    </tr>\n",
       "    <tr>\n",
       "      <th>18913</th>\n",
       "      <td>11260231</td>\n",
       "      <td>None</td>\n",
       "      <td>SC PRI MARIA MONTESSORI IASI</td>\n",
       "      <td>IAŞI</td>\n",
       "      <td>IAŞI</td>\n",
       "      <td>Privată</td>\n",
       "      <td>Taxă</td>\n",
       "      <td>5</td>\n",
       "      <td>32</td>\n",
       "      <td>8</td>\n",
       "    </tr>\n",
       "    <tr>\n",
       "      <th>18914</th>\n",
       "      <td>11267114</td>\n",
       "      <td>101</td>\n",
       "      <td>TRANSYLVANIA COLLEGE THE CAMBRIDGE INT. CLUJ</td>\n",
       "      <td>CLUJ</td>\n",
       "      <td>CLUJ-NAPOCA</td>\n",
       "      <td>Privată</td>\n",
       "      <td>Taxă</td>\n",
       "      <td>31</td>\n",
       "      <td>698</td>\n",
       "      <td>88</td>\n",
       "    </tr>\n",
       "  </tbody>\n",
       "</table>\n",
       "<p>18915 rows × 10 columns</p>\n",
       "</div>"
      ],
      "text/plain": [
       "       idSchool siruesCode                                     shortName  \\\n",
       "0      11269910   23054595                        GRĂDINIŢA \"GOSEN\" ARAD   \n",
       "1      11256876       None                        ASOCIAȚIA VALORILOR BZ   \n",
       "2      11256865       None                             ASOCIATIA EDUSTAR   \n",
       "3      11284187       None        CIAP LICEUL PEDADOGIC STEFAN BANULESCU   \n",
       "4      11270113       None        CIAP LICEUL NR1 BORCEA_SCOALA PERISORU   \n",
       "...         ...        ...                                           ...   \n",
       "18910  11271997     362678                   ŞCOALĂ PRIMARĂ NR.1 LUPOAIA   \n",
       "18911  11262566       None           ȘCOALĂ PRIMARĂ NR.2 I. L. CARAGIALE   \n",
       "18912  11277287       None                     S04 \"TAMASI ARON\" ODORHEI   \n",
       "18913  11260231       None                  SC PRI MARIA MONTESSORI IASI   \n",
       "18914  11267114        101  TRANSYLVANIA COLLEGE THE CAMBRIDGE INT. CLUJ   \n",
       "\n",
       "          county           locality                          propertyForm  \\\n",
       "0           ARAD               ARAD                               Privată   \n",
       "1          BUZĂU      RÂMNICU SĂRAT                               Privată   \n",
       "2          BUZĂU              BUZĂU                               Privată   \n",
       "3       CĂLĂRAŞI           CĂLĂRAŞI  Publică de interes naţional şi local   \n",
       "4       CĂLĂRAŞI             BORCEA  Publică de interes naţional şi local   \n",
       "...          ...                ...                                   ...   \n",
       "18910      BIHOR            LUPOAIA  Publică de interes naţional şi local   \n",
       "18911  DÂMBOVIŢA    I. L. CARAGIALE  Publică de interes naţional şi local   \n",
       "18912   HARGHITA  ODORHEIU SECUIESC  Publică de interes naţional şi local   \n",
       "18913       IAŞI               IAŞI                               Privată   \n",
       "18914       CLUJ        CLUJ-NAPOCA                               Privată   \n",
       "\n",
       "        fundingForm  studyFormationsCount  studentsCount  personnelCount  \n",
       "0      Sponsorizare                     4            131               7  \n",
       "1              Taxă                     0              0               0  \n",
       "2              Taxă                     0              0               0  \n",
       "3             Buget                     0              0               0  \n",
       "4             Buget                     0              0               0  \n",
       "...             ...                   ...            ...             ...  \n",
       "18910         Buget                     5              0               0  \n",
       "18911         Buget                     4              0               0  \n",
       "18912         Buget                     1              0               0  \n",
       "18913          Taxă                     5             32               8  \n",
       "18914          Taxă                    31            698              88  \n",
       "\n",
       "[18915 rows x 10 columns]"
      ]
     },
     "execution_count": 201,
     "metadata": {},
     "output_type": "execute_result"
    }
   ],
   "source": [
    "structure_details = details_df[['idSchool', 'siruesCode', 'shortName', 'county', 'locality', 'propertyForm', 'fundingForm', 'studyFormationsCount', 'studentsCount', 'personnelCount']]\n",
    "structure_details"
   ]
  },
  {
   "cell_type": "code",
   "execution_count": 202,
   "id": "1cf46566-b65a-4fd0-a813-d992c4ea8216",
   "metadata": {
    "tags": []
   },
   "outputs": [
    {
     "data": {
      "text/plain": [
       "county\n",
       "BIHOR                   783\n",
       "SUCEAVA                 772\n",
       "VASLUI                  698\n",
       "IAŞI                    677\n",
       "PRAHOVA                 659\n",
       "MUNICIPIUL BUCUREŞTI    657\n",
       "MUREŞ                   629\n",
       "TIMIŞ                   617\n",
       "DOLJ                    592\n",
       "BUZĂU                   538\n",
       "BACĂU                   537\n",
       "ALBA                    530\n",
       "CONSTANŢA               530\n",
       "ARGEŞ                   521\n",
       "DÂMBOVIŢA               521\n",
       "GORJ                    518\n",
       "BOTOŞANI                504\n",
       "VRANCEA                 483\n",
       "ARAD                    461\n",
       "GALAŢI                  446\n",
       "CLUJ                    444\n",
       "VÂLCEA                  440\n",
       "OLT                     433\n",
       "CARAŞ-SEVERIN           430\n",
       "BRAŞOV                  427\n",
       "MARAMUREŞ               418\n",
       "HARGHITA                406\n",
       "TELEORMAN               365\n",
       "SĂLAJ                   361\n",
       "SIBIU                   360\n",
       "NEAMŢ                   346\n",
       "CĂLĂRAŞI                342\n",
       "BISTRIŢA-NĂSĂUD         330\n",
       "COVASNA                 321\n",
       "SATU MARE               299\n",
       "HUNEDOARA               275\n",
       "BRĂILA                  271\n",
       "ILFOV                   256\n",
       "MEHEDINŢI               220\n",
       "GIURGIU                 194\n",
       "IALOMIŢA                152\n",
       "TULCEA                  152\n",
       "Name: count, dtype: int64"
      ]
     },
     "execution_count": 202,
     "metadata": {},
     "output_type": "execute_result"
    }
   ],
   "source": [
    "structure_details.county.value_counts()"
   ]
  },
  {
   "cell_type": "markdown",
   "id": "57431883-e534-45e7-b90d-38805ae46247",
   "metadata": {},
   "source": [
    "### Filtrare date doar pentru judetul CLUJ"
   ]
  },
  {
   "cell_type": "code",
   "execution_count": 203,
   "id": "46553412-9609-4c1a-9d33-341f305f478c",
   "metadata": {
    "tags": []
   },
   "outputs": [],
   "source": [
    "cj_county_details = structure_details[structure_details['county'].str.strip() == 'CLUJ']"
   ]
  },
  {
   "cell_type": "code",
   "execution_count": 204,
   "id": "f86273d4-796c-4184-87ce-4af09cec67ed",
   "metadata": {
    "tags": []
   },
   "outputs": [
    {
     "data": {
      "text/plain": [
       "Index(['idSchool', 'siruesCode', 'shortName', 'county', 'locality',\n",
       "       'propertyForm', 'fundingForm', 'studyFormationsCount', 'studentsCount',\n",
       "       'personnelCount'],\n",
       "      dtype='object')"
      ]
     },
     "execution_count": 204,
     "metadata": {},
     "output_type": "execute_result"
    }
   ],
   "source": [
    "cj_county_details.columns"
   ]
  },
  {
   "cell_type": "code",
   "execution_count": 205,
   "id": "50637f68-8ffc-4f09-84c3-9ae56b21bb0a",
   "metadata": {
    "tags": []
   },
   "outputs": [
    {
     "data": {
      "text/html": [
       "<div>\n",
       "<style scoped>\n",
       "    .dataframe tbody tr th:only-of-type {\n",
       "        vertical-align: middle;\n",
       "    }\n",
       "\n",
       "    .dataframe tbody tr th {\n",
       "        vertical-align: top;\n",
       "    }\n",
       "\n",
       "    .dataframe thead th {\n",
       "        text-align: right;\n",
       "    }\n",
       "</style>\n",
       "<table border=\"1\" class=\"dataframe\">\n",
       "  <thead>\n",
       "    <tr style=\"text-align: right;\">\n",
       "      <th></th>\n",
       "      <th>idSchool</th>\n",
       "      <th>siruesCode</th>\n",
       "      <th>shortName</th>\n",
       "      <th>county</th>\n",
       "      <th>locality</th>\n",
       "      <th>propertyForm</th>\n",
       "      <th>fundingForm</th>\n",
       "      <th>studyFormationsCount</th>\n",
       "      <th>studentsCount</th>\n",
       "      <th>personnelCount</th>\n",
       "    </tr>\n",
       "  </thead>\n",
       "  <tbody>\n",
       "    <tr>\n",
       "      <th>48</th>\n",
       "      <td>11266861</td>\n",
       "      <td>123007621</td>\n",
       "      <td>CASA CORPULUI DIDACTIC CLUJ</td>\n",
       "      <td>CLUJ</td>\n",
       "      <td>CLUJ-NAPOCA</td>\n",
       "      <td>Publică de interes naţional şi local</td>\n",
       "      <td>Buget</td>\n",
       "      <td>0</td>\n",
       "      <td>0</td>\n",
       "      <td>100</td>\n",
       "    </tr>\n",
       "    <tr>\n",
       "      <th>146</th>\n",
       "      <td>11266905</td>\n",
       "      <td>12000012</td>\n",
       "      <td>C.J.R.A.E. CLUJ</td>\n",
       "      <td>CLUJ</td>\n",
       "      <td>CLUJ-NAPOCA</td>\n",
       "      <td>Publică de interes naţional şi local</td>\n",
       "      <td>Buget</td>\n",
       "      <td>0</td>\n",
       "      <td>0</td>\n",
       "      <td>157</td>\n",
       "    </tr>\n",
       "    <tr>\n",
       "      <th>227</th>\n",
       "      <td>11266906</td>\n",
       "      <td>120447612</td>\n",
       "      <td>CSEI CJ (SC. SPEC. 1)</td>\n",
       "      <td>CLUJ</td>\n",
       "      <td>CLUJ-NAPOCA</td>\n",
       "      <td>Publică de interes naţional şi local</td>\n",
       "      <td>Buget</td>\n",
       "      <td>26</td>\n",
       "      <td>148</td>\n",
       "      <td>142</td>\n",
       "    </tr>\n",
       "    <tr>\n",
       "      <th>268</th>\n",
       "      <td>11266863</td>\n",
       "      <td>121121021</td>\n",
       "      <td>CLUBUL COPIILOR CÂMPIA TURZII</td>\n",
       "      <td>CLUJ</td>\n",
       "      <td>CÂMPIA TURZII</td>\n",
       "      <td>Publică de interes naţional şi local</td>\n",
       "      <td>Buget</td>\n",
       "      <td>0</td>\n",
       "      <td>0</td>\n",
       "      <td>0</td>\n",
       "    </tr>\n",
       "    <tr>\n",
       "      <th>285</th>\n",
       "      <td>11266864</td>\n",
       "      <td>121121007</td>\n",
       "      <td>CLUBUL COPIILOR DEJ</td>\n",
       "      <td>CLUJ</td>\n",
       "      <td>DEJ</td>\n",
       "      <td>Publică de interes naţional şi local</td>\n",
       "      <td>Buget</td>\n",
       "      <td>0</td>\n",
       "      <td>0</td>\n",
       "      <td>0</td>\n",
       "    </tr>\n",
       "    <tr>\n",
       "      <th>294</th>\n",
       "      <td>11266865</td>\n",
       "      <td>121121033</td>\n",
       "      <td>CLUBUL COPIILOR GHERLA</td>\n",
       "      <td>CLUJ</td>\n",
       "      <td>GHERLA</td>\n",
       "      <td>Publică de interes naţional şi local</td>\n",
       "      <td>Buget</td>\n",
       "      <td>0</td>\n",
       "      <td>0</td>\n",
       "      <td>0</td>\n",
       "    </tr>\n",
       "    <tr>\n",
       "      <th>299</th>\n",
       "      <td>11266866</td>\n",
       "      <td>123003546</td>\n",
       "      <td>CLUBUL COPIILOR HUEDIN</td>\n",
       "      <td>CLUJ</td>\n",
       "      <td>HUEDIN</td>\n",
       "      <td>Publică de interes naţional şi local</td>\n",
       "      <td>Buget</td>\n",
       "      <td>0</td>\n",
       "      <td>0</td>\n",
       "      <td>0</td>\n",
       "    </tr>\n",
       "    <tr>\n",
       "      <th>400</th>\n",
       "      <td>11266867</td>\n",
       "      <td>121121019</td>\n",
       "      <td>CLUBUL COPIILOR TURDA</td>\n",
       "      <td>CLUJ</td>\n",
       "      <td>TURDA</td>\n",
       "      <td>Publică de interes naţional şi local</td>\n",
       "      <td>Buget</td>\n",
       "      <td>0</td>\n",
       "      <td>0</td>\n",
       "      <td>0</td>\n",
       "    </tr>\n",
       "    <tr>\n",
       "      <th>451</th>\n",
       "      <td>11266869</td>\n",
       "      <td>None</td>\n",
       "      <td>CLUBUL SPORTIV \"ALEXANDRU PAPIU ILARIAN\" DEJ</td>\n",
       "      <td>CLUJ</td>\n",
       "      <td>DEJ</td>\n",
       "      <td>Publică de interes naţional şi local</td>\n",
       "      <td>Buget</td>\n",
       "      <td>0</td>\n",
       "      <td>0</td>\n",
       "      <td>0</td>\n",
       "    </tr>\n",
       "    <tr>\n",
       "      <th>473</th>\n",
       "      <td>11266871</td>\n",
       "      <td>None</td>\n",
       "      <td>CLUBUL SPORTIV \"LIVIU REBREANU\" TURDA</td>\n",
       "      <td>CLUJ</td>\n",
       "      <td>TURDA</td>\n",
       "      <td>Publică de interes naţional şi local</td>\n",
       "      <td>Buget</td>\n",
       "      <td>0</td>\n",
       "      <td>0</td>\n",
       "      <td>0</td>\n",
       "    </tr>\n",
       "  </tbody>\n",
       "</table>\n",
       "</div>"
      ],
      "text/plain": [
       "     idSchool siruesCode                                     shortName county  \\\n",
       "48   11266861  123007621                   CASA CORPULUI DIDACTIC CLUJ   CLUJ   \n",
       "146  11266905   12000012                               C.J.R.A.E. CLUJ   CLUJ   \n",
       "227  11266906  120447612                         CSEI CJ (SC. SPEC. 1)   CLUJ   \n",
       "268  11266863  121121021                 CLUBUL COPIILOR CÂMPIA TURZII   CLUJ   \n",
       "285  11266864  121121007                           CLUBUL COPIILOR DEJ   CLUJ   \n",
       "294  11266865  121121033                        CLUBUL COPIILOR GHERLA   CLUJ   \n",
       "299  11266866  123003546                        CLUBUL COPIILOR HUEDIN   CLUJ   \n",
       "400  11266867  121121019                         CLUBUL COPIILOR TURDA   CLUJ   \n",
       "451  11266869       None  CLUBUL SPORTIV \"ALEXANDRU PAPIU ILARIAN\" DEJ   CLUJ   \n",
       "473  11266871       None         CLUBUL SPORTIV \"LIVIU REBREANU\" TURDA   CLUJ   \n",
       "\n",
       "          locality                          propertyForm fundingForm  \\\n",
       "48     CLUJ-NAPOCA  Publică de interes naţional şi local       Buget   \n",
       "146    CLUJ-NAPOCA  Publică de interes naţional şi local       Buget   \n",
       "227    CLUJ-NAPOCA  Publică de interes naţional şi local       Buget   \n",
       "268  CÂMPIA TURZII  Publică de interes naţional şi local       Buget   \n",
       "285            DEJ  Publică de interes naţional şi local       Buget   \n",
       "294         GHERLA  Publică de interes naţional şi local       Buget   \n",
       "299         HUEDIN  Publică de interes naţional şi local       Buget   \n",
       "400          TURDA  Publică de interes naţional şi local       Buget   \n",
       "451            DEJ  Publică de interes naţional şi local       Buget   \n",
       "473          TURDA  Publică de interes naţional şi local       Buget   \n",
       "\n",
       "     studyFormationsCount  studentsCount  personnelCount  \n",
       "48                      0              0             100  \n",
       "146                     0              0             157  \n",
       "227                    26            148             142  \n",
       "268                     0              0               0  \n",
       "285                     0              0               0  \n",
       "294                     0              0               0  \n",
       "299                     0              0               0  \n",
       "400                     0              0               0  \n",
       "451                     0              0               0  \n",
       "473                     0              0               0  "
      ]
     },
     "execution_count": 205,
     "metadata": {},
     "output_type": "execute_result"
    }
   ],
   "source": [
    "cj_county_details.head(10)"
   ]
  },
  {
   "cell_type": "markdown",
   "id": "e45f7161-2d1f-474b-8b21-84eccd48b8d2",
   "metadata": {},
   "source": [
    "#### Optional salvam datele intr-un CSV"
   ]
  },
  {
   "cell_type": "code",
   "execution_count": 206,
   "id": "d67b20de-6c6c-4922-97e0-1483b5438a98",
   "metadata": {
    "tags": []
   },
   "outputs": [],
   "source": [
    "cj_county_details.to_csv('cj_county_details.csv', index = False)"
   ]
  },
  {
   "cell_type": "code",
   "execution_count": 207,
   "id": "39ca65ac-a2c3-41f5-a9dc-5ffcca6cd530",
   "metadata": {
    "tags": []
   },
   "outputs": [],
   "source": [
    "cj_details = pd.read_csv('cj_county_details.csv')"
   ]
  },
  {
   "cell_type": "code",
   "execution_count": 208,
   "id": "d0c46f09-9d82-46fb-a707-3fb318ca071b",
   "metadata": {
    "tags": []
   },
   "outputs": [],
   "source": [
    "nr_cj = len(cj_details) #verificam numarul de unitati de invatamant din judetul CLUJ"
   ]
  },
  {
   "cell_type": "code",
   "execution_count": 209,
   "id": "8a5ff71f-93b7-48e9-b69e-dd44fd3f59e9",
   "metadata": {
    "tags": []
   },
   "outputs": [
    {
     "name": "stdout",
     "output_type": "stream",
     "text": [
      "Avem 444 de unitati de invatamant in judetul Cluj\n"
     ]
    }
   ],
   "source": [
    "print(f'Avem {nr_cj} de unitati de invatamant in judetul Cluj')"
   ]
  },
  {
   "cell_type": "markdown",
   "id": "5d0b67a4-4fb0-4c61-a2c4-5e0257063a77",
   "metadata": {},
   "source": [
    "### Combinam setuile de date school_buildings - cj_details - prin 'idSchool'"
   ]
  },
  {
   "cell_type": "code",
   "execution_count": 210,
   "id": "8b7e0d3b-984f-4957-9cb2-29d2dc009c52",
   "metadata": {
    "tags": []
   },
   "outputs": [
    {
     "data": {
      "text/plain": [
       "Index(['id', 'idSchool', 'buildingDescription', 'generalState',\n",
       "       'buildingMaterial', 'roofMaterial', 'roofCondition', 'joineryCondition',\n",
       "       'windowJoinery', 'doorJoinery', 'dateFrom'],\n",
       "      dtype='object')"
      ]
     },
     "execution_count": 210,
     "metadata": {},
     "output_type": "execute_result"
    }
   ],
   "source": [
    "school_buildings.columns #verificam daca exista coloana 'idSchool' si este formatat corect"
   ]
  },
  {
   "cell_type": "code",
   "execution_count": 211,
   "id": "35c7569d-3333-4541-ba45-18f623fb09fd",
   "metadata": {
    "tags": []
   },
   "outputs": [
    {
     "data": {
      "text/plain": [
       "Index(['idSchool', 'siruesCode', 'shortName', 'county', 'locality',\n",
       "       'propertyForm', 'fundingForm', 'studyFormationsCount', 'studentsCount',\n",
       "       'personnelCount'],\n",
       "      dtype='object')"
      ]
     },
     "execution_count": 211,
     "metadata": {},
     "output_type": "execute_result"
    }
   ],
   "source": [
    "cj_details.columns #verificam daca exista coloana 'idSchool' si este formatat corect"
   ]
  },
  {
   "cell_type": "code",
   "execution_count": 212,
   "id": "15550263-7efb-4db8-be0e-bbc5de2a19da",
   "metadata": {
    "tags": []
   },
   "outputs": [],
   "source": [
    "cj_buildings = pd.merge(cj_details, school_buildings, on = \"idSchool\", how = \"inner\")"
   ]
  },
  {
   "cell_type": "code",
   "execution_count": 213,
   "id": "5daaeb57-3ff9-4806-b58e-85065412fe4a",
   "metadata": {
    "tags": []
   },
   "outputs": [
    {
     "data": {
      "text/html": [
       "<div>\n",
       "<style scoped>\n",
       "    .dataframe tbody tr th:only-of-type {\n",
       "        vertical-align: middle;\n",
       "    }\n",
       "\n",
       "    .dataframe tbody tr th {\n",
       "        vertical-align: top;\n",
       "    }\n",
       "\n",
       "    .dataframe thead th {\n",
       "        text-align: right;\n",
       "    }\n",
       "</style>\n",
       "<table border=\"1\" class=\"dataframe\">\n",
       "  <thead>\n",
       "    <tr style=\"text-align: right;\">\n",
       "      <th></th>\n",
       "      <th>idSchool</th>\n",
       "      <th>siruesCode</th>\n",
       "      <th>shortName</th>\n",
       "      <th>county</th>\n",
       "      <th>locality</th>\n",
       "      <th>propertyForm</th>\n",
       "      <th>fundingForm</th>\n",
       "      <th>studyFormationsCount</th>\n",
       "      <th>studentsCount</th>\n",
       "      <th>personnelCount</th>\n",
       "      <th>id</th>\n",
       "      <th>buildingDescription</th>\n",
       "      <th>generalState</th>\n",
       "      <th>buildingMaterial</th>\n",
       "      <th>roofMaterial</th>\n",
       "      <th>roofCondition</th>\n",
       "      <th>joineryCondition</th>\n",
       "      <th>windowJoinery</th>\n",
       "      <th>doorJoinery</th>\n",
       "      <th>dateFrom</th>\n",
       "    </tr>\n",
       "  </thead>\n",
       "  <tbody>\n",
       "    <tr>\n",
       "      <th>0</th>\n",
       "      <td>11266864</td>\n",
       "      <td>121121007.0</td>\n",
       "      <td>CLUBUL COPIILOR DEJ</td>\n",
       "      <td>CLUJ</td>\n",
       "      <td>DEJ</td>\n",
       "      <td>Publică de interes naţional şi local</td>\n",
       "      <td>Buget</td>\n",
       "      <td>0</td>\n",
       "      <td>0</td>\n",
       "      <td>0</td>\n",
       "      <td>7192</td>\n",
       "      <td>sala gimnastica</td>\n",
       "      <td>Reabilitată</td>\n",
       "      <td>Cadru beton</td>\n",
       "      <td>Ţiglă metalică</td>\n",
       "      <td>Reabilitată</td>\n",
       "      <td>Reabilitată</td>\n",
       "      <td>PVC</td>\n",
       "      <td>PVC</td>\n",
       "      <td>-2208988800000</td>\n",
       "    </tr>\n",
       "    <tr>\n",
       "      <th>1</th>\n",
       "      <td>11266872</td>\n",
       "      <td>121266467.0</td>\n",
       "      <td>CLUBUL ȘCOLAR SPORTIV \"VIITORUL\" CLUJ-NAPOCA</td>\n",
       "      <td>CLUJ</td>\n",
       "      <td>CLUJ-NAPOCA</td>\n",
       "      <td>Publică de interes naţional şi local</td>\n",
       "      <td>Buget</td>\n",
       "      <td>0</td>\n",
       "      <td>0</td>\n",
       "      <td>33</td>\n",
       "      <td>7673</td>\n",
       "      <td>Sala lupte</td>\n",
       "      <td>Parţial reabilitată</td>\n",
       "      <td>Cărămidă</td>\n",
       "      <td>Ţiglă ceramică</td>\n",
       "      <td>În curs de reabilitare</td>\n",
       "      <td>Parţial reabilitată</td>\n",
       "      <td>PVC</td>\n",
       "      <td>PVC</td>\n",
       "      <td>-2208988800000</td>\n",
       "    </tr>\n",
       "    <tr>\n",
       "      <th>2</th>\n",
       "      <td>11266914</td>\n",
       "      <td>121181148.0</td>\n",
       "      <td>COLEGIUL ECONOMIC \"IULIAN POP\" CLUJ-NAPOCA</td>\n",
       "      <td>CLUJ</td>\n",
       "      <td>CLUJ-NAPOCA</td>\n",
       "      <td>Publică de interes naţional şi local</td>\n",
       "      <td>Buget</td>\n",
       "      <td>15</td>\n",
       "      <td>529</td>\n",
       "      <td>52</td>\n",
       "      <td>8401</td>\n",
       "      <td>Cladirea veche 1</td>\n",
       "      <td>Nereabilitată</td>\n",
       "      <td>Cărămidă</td>\n",
       "      <td>Ţiglă ceramică</td>\n",
       "      <td>Nereabilitată</td>\n",
       "      <td>Nereabilitată</td>\n",
       "      <td>Lemn</td>\n",
       "      <td>Lemn</td>\n",
       "      <td>-2208988800000</td>\n",
       "    </tr>\n",
       "  </tbody>\n",
       "</table>\n",
       "</div>"
      ],
      "text/plain": [
       "   idSchool   siruesCode                                     shortName county  \\\n",
       "0  11266864  121121007.0                           CLUBUL COPIILOR DEJ   CLUJ   \n",
       "1  11266872  121266467.0  CLUBUL ȘCOLAR SPORTIV \"VIITORUL\" CLUJ-NAPOCA   CLUJ   \n",
       "2  11266914  121181148.0    COLEGIUL ECONOMIC \"IULIAN POP\" CLUJ-NAPOCA   CLUJ   \n",
       "\n",
       "      locality                          propertyForm fundingForm  \\\n",
       "0          DEJ  Publică de interes naţional şi local       Buget   \n",
       "1  CLUJ-NAPOCA  Publică de interes naţional şi local       Buget   \n",
       "2  CLUJ-NAPOCA  Publică de interes naţional şi local       Buget   \n",
       "\n",
       "   studyFormationsCount  studentsCount  personnelCount    id  \\\n",
       "0                     0              0               0  7192   \n",
       "1                     0              0              33  7673   \n",
       "2                    15            529              52  8401   \n",
       "\n",
       "  buildingDescription         generalState buildingMaterial    roofMaterial  \\\n",
       "0     sala gimnastica          Reabilitată      Cadru beton  Ţiglă metalică   \n",
       "1          Sala lupte  Parţial reabilitată         Cărămidă  Ţiglă ceramică   \n",
       "2    Cladirea veche 1        Nereabilitată         Cărămidă  Ţiglă ceramică   \n",
       "\n",
       "            roofCondition     joineryCondition windowJoinery doorJoinery  \\\n",
       "0             Reabilitată          Reabilitată           PVC         PVC   \n",
       "1  În curs de reabilitare  Parţial reabilitată           PVC         PVC   \n",
       "2           Nereabilitată        Nereabilitată          Lemn        Lemn   \n",
       "\n",
       "        dateFrom  \n",
       "0 -2208988800000  \n",
       "1 -2208988800000  \n",
       "2 -2208988800000  "
      ]
     },
     "execution_count": 213,
     "metadata": {},
     "output_type": "execute_result"
    }
   ],
   "source": [
    "cj_buildings.head(3)"
   ]
  },
  {
   "cell_type": "code",
   "execution_count": 214,
   "id": "843ac119-a8c1-4c18-85da-5213c95d3a6c",
   "metadata": {
    "tags": []
   },
   "outputs": [
    {
     "data": {
      "text/plain": [
       "Index(['idSchool', 'siruesCode', 'shortName', 'county', 'locality',\n",
       "       'propertyForm', 'fundingForm', 'studyFormationsCount', 'studentsCount',\n",
       "       'personnelCount', 'id', 'buildingDescription', 'generalState',\n",
       "       'buildingMaterial', 'roofMaterial', 'roofCondition', 'joineryCondition',\n",
       "       'windowJoinery', 'doorJoinery', 'dateFrom'],\n",
       "      dtype='object')"
      ]
     },
     "execution_count": 214,
     "metadata": {},
     "output_type": "execute_result"
    }
   ],
   "source": [
    "cj_buildings.columns #curatarea datelor se va face ulterior in urmatorii pasi"
   ]
  },
  {
   "cell_type": "markdown",
   "id": "8729efe0-3433-4e98-9449-267b76a12eb0",
   "metadata": {
    "tags": []
   },
   "source": [
    "#### Optional salvam datele intr-un CSV"
   ]
  },
  {
   "cell_type": "code",
   "execution_count": 215,
   "id": "deea79c6-ac8a-4bd3-b139-2dab93a4285f",
   "metadata": {
    "tags": []
   },
   "outputs": [],
   "source": [
    "cj_buildings.to_csv(\"cj_buildings.csv\", index=False, encoding='utf-8')"
   ]
  },
  {
   "cell_type": "markdown",
   "id": "1165aaed-8f68-423b-924e-9caadf9289e5",
   "metadata": {
    "tags": []
   },
   "source": [
    "### Descarcare date Evaluare Nationala 2023"
   ]
  },
  {
   "cell_type": "markdown",
   "id": "8ee40adc-7bc7-41d2-8be4-a7de291a8867",
   "metadata": {
    "tags": []
   },
   "source": [
    "### Conectarea si descarcarea datelor folosinf API-ul DATA.GOV\n",
    "https://data.gov.ro/\n",
    "\n",
    "https://docs.ckan.org/en/2.8/api/"
   ]
  },
  {
   "cell_type": "code",
   "execution_count": 216,
   "id": "1a9e326c-b32d-4b0a-9ea3-418aaf7bc12c",
   "metadata": {
    "tags": []
   },
   "outputs": [],
   "source": [
    "# Definim adresa URL si endpoint-ul\n",
    "url = \"https://data.gov.ro/api/3/action/package_search\"\n",
    "\n",
    "# Definim interogarea de cautare\n",
    "query = \"Rezultatele de la Evaluare Națională 2023\"\n",
    "csv_name = \"rezultate_EN_2023.csv\""
   ]
  },
  {
   "cell_type": "code",
   "execution_count": 217,
   "id": "13c59560-7868-493a-90ff-86ac417e7aa9",
   "metadata": {
    "tags": []
   },
   "outputs": [
    {
     "name": "stdout",
     "output_type": "stream",
     "text": [
      "Dataset Title: Rezultatele la Evaluarea Națională 2023\n",
      "Download URL: https://data.gov.ro/dataset/b60148c9-f971-4084-8113-4b8b16a664b8/resource/85276922-8ff7-4bb2-bb88-c27e03c67551/download/2023.07.05_evnat_date-deschise_2023.xlsx\n",
      "Dataset downloaded successfully.\n"
     ]
    }
   ],
   "source": [
    "# Set up the parameters for the GET request\n",
    "params = {\n",
    "    \"q\": query,\n",
    "}\n",
    "\n",
    "# Make the GET request\n",
    "response = requests.get(url, params=params)\n",
    "\n",
    "# Check if the request was successful\n",
    "if response.status_code == 200:\n",
    "    data = response.json()\n",
    "\n",
    "    # For example, you can print the dataset title:\n",
    "    dataset_title = data[\"result\"][\"results\"][0][\"title\"]\n",
    "    print(f\"Dataset Title: {dataset_title}\")\n",
    "\n",
    "   # primary resource of that dataset\n",
    "    download_url = data[\"result\"][\"results\"][0][\"resources\"][0][\"url\"] #extract the url for the resource wanted\n",
    "    print(f\"Download URL: {download_url}\")\n",
    "\n",
    "    # Now, you can use the download URL to download the dataset - e.g: using the 'requests' library:\n",
    "    response = requests.get(download_url)  # The data is stored in the response object.\n",
    "    \n",
    "    # Check if the download was successful\n",
    "    if response.status_code == 200:\n",
    "        # Save the dataset to a file , and then \n",
    "        with open(csv_name, \"wb\") as f:  ## opens the file  in binary write mode (\"wb\")\n",
    "            f.write(response.content) #writes the content of the response object to the file.\n",
    "        print(\"Dataset downloaded successfully.\")\n",
    "    else:\n",
    "        print(\"Failed to download the dataset.\")\n",
    "else:\n",
    "    print(\"Failed to retrieve data from the CKAN API.\")"
   ]
  },
  {
   "cell_type": "code",
   "execution_count": 218,
   "id": "5f84151a-c69a-429e-9f14-a8432527a121",
   "metadata": {
    "tags": []
   },
   "outputs": [],
   "source": [
    "rez_en_2023 = pd.read_csv('rez_en_2023.csv', sep = \";\") #am descarcat si citit datele"
   ]
  },
  {
   "cell_type": "code",
   "execution_count": 219,
   "id": "0ecc1474-3a41-4a43-a2c0-cf23a28b8b7b",
   "metadata": {
    "tags": []
   },
   "outputs": [
    {
     "data": {
      "text/html": [
       "<div>\n",
       "<style scoped>\n",
       "    .dataframe tbody tr th:only-of-type {\n",
       "        vertical-align: middle;\n",
       "    }\n",
       "\n",
       "    .dataframe tbody tr th {\n",
       "        vertical-align: top;\n",
       "    }\n",
       "\n",
       "    .dataframe thead th {\n",
       "        text-align: right;\n",
       "    }\n",
       "</style>\n",
       "<table border=\"1\" class=\"dataframe\">\n",
       "  <thead>\n",
       "    <tr style=\"text-align: right;\">\n",
       "      <th></th>\n",
       "      <th>COD UNIC CANDIDAT</th>\n",
       "      <th>SEX</th>\n",
       "      <th>MEDIU</th>\n",
       "      <th>COD SIIIR</th>\n",
       "      <th>STATUS ROMANA</th>\n",
       "      <th>STATUS LIMBA MATERNA</th>\n",
       "      <th>STATUS MATEMATICA</th>\n",
       "      <th>NOTA ROMANA</th>\n",
       "      <th>NOTA LIMBA MATERNA</th>\n",
       "      <th>NOTA MATEMATICA</th>\n",
       "      <th>...</th>\n",
       "      <th>NOTA CONTESTATIE ROMANA</th>\n",
       "      <th>CONTESTATIE LIMBA MATERNA</th>\n",
       "      <th>NOTA CONTESTATIE LB MATERNA</th>\n",
       "      <th>CONTESTATIE MATEMATICA</th>\n",
       "      <th>NOTA CONTESTATIE MATEMATICA</th>\n",
       "      <th>NOTA FINALA ROMANA</th>\n",
       "      <th>NOTA FINALA LB MATERNA</th>\n",
       "      <th>NOTA FINALA MATEMATICA</th>\n",
       "      <th>MEDIA</th>\n",
       "      <th>MEDIA V-VIII</th>\n",
       "    </tr>\n",
       "  </thead>\n",
       "  <tbody>\n",
       "    <tr>\n",
       "      <th>0</th>\n",
       "      <td>10911434</td>\n",
       "      <td>M</td>\n",
       "      <td>RURAL</td>\n",
       "      <td>3662100138</td>\n",
       "      <td>PREZENT</td>\n",
       "      <td>-</td>\n",
       "      <td>PREZENT</td>\n",
       "      <td>6,85</td>\n",
       "      <td>NaN</td>\n",
       "      <td>8,15</td>\n",
       "      <td>...</td>\n",
       "      <td>NaN</td>\n",
       "      <td>NU</td>\n",
       "      <td>NaN</td>\n",
       "      <td>NU</td>\n",
       "      <td>NaN</td>\n",
       "      <td>6,85</td>\n",
       "      <td>NaN</td>\n",
       "      <td>8,15</td>\n",
       "      <td>7,5</td>\n",
       "      <td>9,48</td>\n",
       "    </tr>\n",
       "    <tr>\n",
       "      <th>1</th>\n",
       "      <td>10939890</td>\n",
       "      <td>M</td>\n",
       "      <td>RURAL</td>\n",
       "      <td>3662100138</td>\n",
       "      <td>PREZENT</td>\n",
       "      <td>-</td>\n",
       "      <td>PREZENT</td>\n",
       "      <td>6,25</td>\n",
       "      <td>NaN</td>\n",
       "      <td>6,9</td>\n",
       "      <td>...</td>\n",
       "      <td>NaN</td>\n",
       "      <td>NU</td>\n",
       "      <td>NaN</td>\n",
       "      <td>NU</td>\n",
       "      <td>NaN</td>\n",
       "      <td>6,25</td>\n",
       "      <td>NaN</td>\n",
       "      <td>6,9</td>\n",
       "      <td>6,57</td>\n",
       "      <td>9,12</td>\n",
       "    </tr>\n",
       "    <tr>\n",
       "      <th>2</th>\n",
       "      <td>11039318</td>\n",
       "      <td>M</td>\n",
       "      <td>RURAL</td>\n",
       "      <td>3662100138</td>\n",
       "      <td>PREZENT</td>\n",
       "      <td>-</td>\n",
       "      <td>PREZENT</td>\n",
       "      <td>7</td>\n",
       "      <td>NaN</td>\n",
       "      <td>7,75</td>\n",
       "      <td>...</td>\n",
       "      <td>NaN</td>\n",
       "      <td>NU</td>\n",
       "      <td>NaN</td>\n",
       "      <td>NU</td>\n",
       "      <td>NaN</td>\n",
       "      <td>7</td>\n",
       "      <td>NaN</td>\n",
       "      <td>7,75</td>\n",
       "      <td>7,37</td>\n",
       "      <td>9,48</td>\n",
       "    </tr>\n",
       "  </tbody>\n",
       "</table>\n",
       "<p>3 rows × 21 columns</p>\n",
       "</div>"
      ],
      "text/plain": [
       "   COD UNIC CANDIDAT SEX  MEDIU   COD SIIIR STATUS ROMANA  \\\n",
       "0           10911434   M  RURAL  3662100138       PREZENT   \n",
       "1           10939890   M  RURAL  3662100138       PREZENT   \n",
       "2           11039318   M  RURAL  3662100138       PREZENT   \n",
       "\n",
       "   STATUS LIMBA MATERNA STATUS MATEMATICA NOTA ROMANA NOTA LIMBA MATERNA  \\\n",
       "0                     -           PREZENT        6,85                NaN   \n",
       "1                     -           PREZENT        6,25                NaN   \n",
       "2                     -           PREZENT           7                NaN   \n",
       "\n",
       "  NOTA MATEMATICA  ... NOTA CONTESTATIE ROMANA CONTESTATIE LIMBA MATERNA  \\\n",
       "0            8,15  ...                     NaN                        NU   \n",
       "1             6,9  ...                     NaN                        NU   \n",
       "2            7,75  ...                     NaN                        NU   \n",
       "\n",
       "  NOTA CONTESTATIE LB MATERNA CONTESTATIE MATEMATICA  \\\n",
       "0                         NaN                     NU   \n",
       "1                         NaN                     NU   \n",
       "2                         NaN                     NU   \n",
       "\n",
       "  NOTA CONTESTATIE MATEMATICA NOTA FINALA ROMANA NOTA FINALA LB MATERNA  \\\n",
       "0                         NaN               6,85                    NaN   \n",
       "1                         NaN               6,25                    NaN   \n",
       "2                         NaN                  7                    NaN   \n",
       "\n",
       "  NOTA FINALA MATEMATICA MEDIA MEDIA V-VIII  \n",
       "0                   8,15   7,5         9,48  \n",
       "1                    6,9  6,57         9,12  \n",
       "2                   7,75  7,37         9,48  \n",
       "\n",
       "[3 rows x 21 columns]"
      ]
     },
     "execution_count": 219,
     "metadata": {},
     "output_type": "execute_result"
    }
   ],
   "source": [
    "rez_en_2023.head(3)"
   ]
  },
  {
   "cell_type": "markdown",
   "id": "9af777e0-b64b-49d8-b47f-a49849d9de09",
   "metadata": {
    "tags": []
   },
   "source": [
    "### Pentru a putea conecta Rezultale la EN cu cj_buildings - avem nevoie de un tabel de conversie SIIIR - SIRUES\n",
    "#### Vom crea dictionarul utilizand https://www.siiir.edu.ro/carto/"
   ]
  },
  {
   "cell_type": "code",
   "execution_count": 220,
   "id": "c79cbe2e-078c-4231-ad2d-f55cfee217fc",
   "metadata": {
    "tags": []
   },
   "outputs": [
    {
     "data": {
      "text/plain": [
       "Index(['idSchool', 'siruesCode', 'shortName', 'county', 'locality',\n",
       "       'propertyForm', 'fundingForm', 'studyFormationsCount', 'studentsCount',\n",
       "       'personnelCount', 'id', 'buildingDescription', 'generalState',\n",
       "       'buildingMaterial', 'roofMaterial', 'roofCondition', 'joineryCondition',\n",
       "       'windowJoinery', 'doorJoinery', 'dateFrom'],\n",
       "      dtype='object')"
      ]
     },
     "execution_count": 220,
     "metadata": {},
     "output_type": "execute_result"
    }
   ],
   "source": [
    "cj_buildings.columns"
   ]
  },
  {
   "cell_type": "code",
   "execution_count": 221,
   "id": "ef7d4ec8-5524-4e3f-a4a4-3062593887d0",
   "metadata": {
    "tags": []
   },
   "outputs": [
    {
     "data": {
      "text/plain": [
       "Index(['COD UNIC CANDIDAT', 'SEX', 'MEDIU', ' COD SIIIR', 'STATUS ROMANA',\n",
       "       ' STATUS LIMBA MATERNA', 'STATUS MATEMATICA', 'NOTA ROMANA',\n",
       "       'NOTA LIMBA MATERNA', 'NOTA MATEMATICA', 'CONTESTATIE ROMANA',\n",
       "       'NOTA CONTESTATIE ROMANA', 'CONTESTATIE LIMBA MATERNA',\n",
       "       'NOTA CONTESTATIE LB MATERNA', 'CONTESTATIE MATEMATICA',\n",
       "       'NOTA CONTESTATIE MATEMATICA', 'NOTA FINALA ROMANA',\n",
       "       'NOTA FINALA LB MATERNA', 'NOTA FINALA MATEMATICA', 'MEDIA',\n",
       "       'MEDIA V-VIII'],\n",
       "      dtype='object')"
      ]
     },
     "execution_count": 221,
     "metadata": {},
     "output_type": "execute_result"
    }
   ],
   "source": [
    "rez_en_2023.columns"
   ]
  },
  {
   "cell_type": "code",
   "execution_count": 222,
   "id": "add835fe-cc19-40b5-a6fe-765f24c7d033",
   "metadata": {
    "tags": []
   },
   "outputs": [],
   "source": [
    "sirues_siiir = pd.read_csv('sirues_siiir.csv', sep = ';')"
   ]
  },
  {
   "cell_type": "code",
   "execution_count": 223,
   "id": "e74d1347-ca29-4c7e-bb6c-770fc46eed28",
   "metadata": {
    "tags": []
   },
   "outputs": [
    {
     "data": {
      "text/plain": [
       "siruesCode    0\n",
       "Denumire      0\n",
       "cod_SIIIR     0\n",
       "dtype: int64"
      ]
     },
     "execution_count": 223,
     "metadata": {},
     "output_type": "execute_result"
    }
   ],
   "source": [
    "sirues_siiir.isna().sum() # verificam daca sunt valori lipsa"
   ]
  },
  {
   "cell_type": "code",
   "execution_count": 224,
   "id": "b08de051-dc56-437d-b9e6-1324834eb189",
   "metadata": {
    "tags": []
   },
   "outputs": [
    {
     "data": {
      "text/plain": [
       "siruesCode     int64\n",
       "Denumire      object\n",
       "cod_SIIIR      int64\n",
       "dtype: object"
      ]
     },
     "execution_count": 224,
     "metadata": {},
     "output_type": "execute_result"
    }
   ],
   "source": [
    "sirues_siiir.dtypes #verificaam tipul valorilor"
   ]
  },
  {
   "cell_type": "markdown",
   "id": "4ae4cabd-46f6-4cbc-91e0-a4e3ad1edff3",
   "metadata": {},
   "source": [
    "### Combinarea cj_buildings - sirues_siiir - prin 'siruesCode'"
   ]
  },
  {
   "cell_type": "code",
   "execution_count": 225,
   "id": "64880bb9-d288-4654-9514-6aa5a9c291a9",
   "metadata": {
    "tags": []
   },
   "outputs": [],
   "source": [
    "cj_siiir = pd.merge(cj_buildings, sirues_siiir, on = 'siruesCode', how = 'left')"
   ]
  },
  {
   "cell_type": "code",
   "execution_count": 226,
   "id": "579feec1-da21-4cab-b48d-367afc00ea34",
   "metadata": {
    "collapsed": true,
    "jupyter": {
     "outputs_hidden": true
    },
    "tags": []
   },
   "outputs": [
    {
     "data": {
      "text/html": [
       "<div>\n",
       "<style scoped>\n",
       "    .dataframe tbody tr th:only-of-type {\n",
       "        vertical-align: middle;\n",
       "    }\n",
       "\n",
       "    .dataframe tbody tr th {\n",
       "        vertical-align: top;\n",
       "    }\n",
       "\n",
       "    .dataframe thead th {\n",
       "        text-align: right;\n",
       "    }\n",
       "</style>\n",
       "<table border=\"1\" class=\"dataframe\">\n",
       "  <thead>\n",
       "    <tr style=\"text-align: right;\">\n",
       "      <th></th>\n",
       "      <th>idSchool</th>\n",
       "      <th>siruesCode</th>\n",
       "      <th>shortName</th>\n",
       "      <th>county</th>\n",
       "      <th>locality</th>\n",
       "      <th>propertyForm</th>\n",
       "      <th>fundingForm</th>\n",
       "      <th>studyFormationsCount</th>\n",
       "      <th>studentsCount</th>\n",
       "      <th>personnelCount</th>\n",
       "      <th>...</th>\n",
       "      <th>generalState</th>\n",
       "      <th>buildingMaterial</th>\n",
       "      <th>roofMaterial</th>\n",
       "      <th>roofCondition</th>\n",
       "      <th>joineryCondition</th>\n",
       "      <th>windowJoinery</th>\n",
       "      <th>doorJoinery</th>\n",
       "      <th>dateFrom</th>\n",
       "      <th>Denumire</th>\n",
       "      <th>cod_SIIIR</th>\n",
       "    </tr>\n",
       "  </thead>\n",
       "  <tbody>\n",
       "    <tr>\n",
       "      <th>0</th>\n",
       "      <td>11266864</td>\n",
       "      <td>121121007.0</td>\n",
       "      <td>CLUBUL COPIILOR DEJ</td>\n",
       "      <td>CLUJ</td>\n",
       "      <td>DEJ</td>\n",
       "      <td>Publică de interes naţional şi local</td>\n",
       "      <td>Buget</td>\n",
       "      <td>0</td>\n",
       "      <td>0</td>\n",
       "      <td>0</td>\n",
       "      <td>...</td>\n",
       "      <td>Reabilitată</td>\n",
       "      <td>Cadru beton</td>\n",
       "      <td>Ţiglă metalică</td>\n",
       "      <td>Reabilitată</td>\n",
       "      <td>Reabilitată</td>\n",
       "      <td>PVC</td>\n",
       "      <td>PVC</td>\n",
       "      <td>-2208988800000</td>\n",
       "      <td>CLUBUL COPIILOR DEJ</td>\n",
       "      <td>1.252104e+09</td>\n",
       "    </tr>\n",
       "    <tr>\n",
       "      <th>1</th>\n",
       "      <td>11266872</td>\n",
       "      <td>121266467.0</td>\n",
       "      <td>CLUBUL ȘCOLAR SPORTIV \"VIITORUL\" CLUJ-NAPOCA</td>\n",
       "      <td>CLUJ</td>\n",
       "      <td>CLUJ-NAPOCA</td>\n",
       "      <td>Publică de interes naţional şi local</td>\n",
       "      <td>Buget</td>\n",
       "      <td>0</td>\n",
       "      <td>0</td>\n",
       "      <td>33</td>\n",
       "      <td>...</td>\n",
       "      <td>Parţial reabilitată</td>\n",
       "      <td>Cărămidă</td>\n",
       "      <td>Ţiglă ceramică</td>\n",
       "      <td>În curs de reabilitare</td>\n",
       "      <td>Parţial reabilitată</td>\n",
       "      <td>PVC</td>\n",
       "      <td>PVC</td>\n",
       "      <td>-2208988800000</td>\n",
       "      <td>CLUBUL ČCOLAR SPORTIV \"VIITORUL\" CLUJ-NAPOCA</td>\n",
       "      <td>1.281102e+09</td>\n",
       "    </tr>\n",
       "    <tr>\n",
       "      <th>2</th>\n",
       "      <td>11266914</td>\n",
       "      <td>121181148.0</td>\n",
       "      <td>COLEGIUL ECONOMIC \"IULIAN POP\" CLUJ-NAPOCA</td>\n",
       "      <td>CLUJ</td>\n",
       "      <td>CLUJ-NAPOCA</td>\n",
       "      <td>Publică de interes naţional şi local</td>\n",
       "      <td>Buget</td>\n",
       "      <td>15</td>\n",
       "      <td>529</td>\n",
       "      <td>52</td>\n",
       "      <td>...</td>\n",
       "      <td>Nereabilitată</td>\n",
       "      <td>Cărămidă</td>\n",
       "      <td>Ţiglă ceramică</td>\n",
       "      <td>Nereabilitată</td>\n",
       "      <td>Nereabilitată</td>\n",
       "      <td>Lemn</td>\n",
       "      <td>Lemn</td>\n",
       "      <td>-2208988800000</td>\n",
       "      <td>COLEGIUL ECONOMIC \"IULIAN POP\" CLUJ-NAPOCA</td>\n",
       "      <td>1.261103e+09</td>\n",
       "    </tr>\n",
       "  </tbody>\n",
       "</table>\n",
       "<p>3 rows × 22 columns</p>\n",
       "</div>"
      ],
      "text/plain": [
       "   idSchool   siruesCode                                     shortName county  \\\n",
       "0  11266864  121121007.0                           CLUBUL COPIILOR DEJ   CLUJ   \n",
       "1  11266872  121266467.0  CLUBUL ȘCOLAR SPORTIV \"VIITORUL\" CLUJ-NAPOCA   CLUJ   \n",
       "2  11266914  121181148.0    COLEGIUL ECONOMIC \"IULIAN POP\" CLUJ-NAPOCA   CLUJ   \n",
       "\n",
       "      locality                          propertyForm fundingForm  \\\n",
       "0          DEJ  Publică de interes naţional şi local       Buget   \n",
       "1  CLUJ-NAPOCA  Publică de interes naţional şi local       Buget   \n",
       "2  CLUJ-NAPOCA  Publică de interes naţional şi local       Buget   \n",
       "\n",
       "   studyFormationsCount  studentsCount  personnelCount  ...  \\\n",
       "0                     0              0               0  ...   \n",
       "1                     0              0              33  ...   \n",
       "2                    15            529              52  ...   \n",
       "\n",
       "          generalState buildingMaterial    roofMaterial  \\\n",
       "0          Reabilitată      Cadru beton  Ţiglă metalică   \n",
       "1  Parţial reabilitată         Cărămidă  Ţiglă ceramică   \n",
       "2        Nereabilitată         Cărămidă  Ţiglă ceramică   \n",
       "\n",
       "            roofCondition     joineryCondition windowJoinery doorJoinery  \\\n",
       "0             Reabilitată          Reabilitată           PVC         PVC   \n",
       "1  În curs de reabilitare  Parţial reabilitată           PVC         PVC   \n",
       "2           Nereabilitată        Nereabilitată          Lemn        Lemn   \n",
       "\n",
       "        dateFrom                                       Denumire     cod_SIIIR  \n",
       "0 -2208988800000                            CLUBUL COPIILOR DEJ  1.252104e+09  \n",
       "1 -2208988800000  CLUBUL ČCOLAR SPORTIV \"VIITORUL\" CLUJ-NAPOCA  1.281102e+09  \n",
       "2 -2208988800000     COLEGIUL ECONOMIC \"IULIAN POP\" CLUJ-NAPOCA  1.261103e+09  \n",
       "\n",
       "[3 rows x 22 columns]"
      ]
     },
     "execution_count": 226,
     "metadata": {},
     "output_type": "execute_result"
    }
   ],
   "source": [
    "cj_siiir.head(3)"
   ]
  },
  {
   "cell_type": "code",
   "execution_count": 227,
   "id": "65065deb-26c4-4e3c-9de9-653ebd70ea9b",
   "metadata": {
    "collapsed": true,
    "jupyter": {
     "outputs_hidden": true
    },
    "tags": []
   },
   "outputs": [
    {
     "data": {
      "text/plain": [
       "idSchool                  int64\n",
       "siruesCode              float64\n",
       "shortName                object\n",
       "county                   object\n",
       "locality                 object\n",
       "propertyForm             object\n",
       "fundingForm              object\n",
       "studyFormationsCount      int64\n",
       "studentsCount             int64\n",
       "personnelCount            int64\n",
       "id                        int64\n",
       "buildingDescription      object\n",
       "generalState             object\n",
       "buildingMaterial         object\n",
       "roofMaterial             object\n",
       "roofCondition            object\n",
       "joineryCondition         object\n",
       "windowJoinery            object\n",
       "doorJoinery              object\n",
       "dateFrom                  int64\n",
       "Denumire                 object\n",
       "cod_SIIIR               float64\n",
       "dtype: object"
      ]
     },
     "execution_count": 227,
     "metadata": {},
     "output_type": "execute_result"
    }
   ],
   "source": [
    "cj_siiir.dtypes"
   ]
  },
  {
   "cell_type": "code",
   "execution_count": 228,
   "id": "ef358545-2e39-4acf-88b7-e89d39a9cfcf",
   "metadata": {
    "tags": []
   },
   "outputs": [
    {
     "data": {
      "text/plain": [
       "idSchool                  0\n",
       "siruesCode               65\n",
       "shortName                 0\n",
       "county                    0\n",
       "locality                  0\n",
       "propertyForm              0\n",
       "fundingForm               0\n",
       "studyFormationsCount      0\n",
       "studentsCount             0\n",
       "personnelCount            0\n",
       "id                        0\n",
       "buildingDescription       0\n",
       "generalState              0\n",
       "buildingMaterial          0\n",
       "roofMaterial              0\n",
       "roofCondition             0\n",
       "joineryCondition          0\n",
       "windowJoinery             0\n",
       "doorJoinery               0\n",
       "dateFrom                  0\n",
       "Denumire                123\n",
       "cod_SIIIR               123\n",
       "dtype: int64"
      ]
     },
     "execution_count": 228,
     "metadata": {},
     "output_type": "execute_result"
    }
   ],
   "source": [
    "cj_siiir.isna().sum()"
   ]
  },
  {
   "cell_type": "code",
   "execution_count": 229,
   "id": "f307af8a-0aca-41de-a027-2a13f93f28ff",
   "metadata": {
    "tags": []
   },
   "outputs": [],
   "source": [
    "cj_siiir['cod_SIIIR'] = cj_siiir['cod_SIIIR'].fillna(0).astype('int64')"
   ]
  },
  {
   "cell_type": "markdown",
   "id": "a74e2231-3db7-4984-8d1b-baab72d2db51",
   "metadata": {},
   "source": [
    "#### Optional salvam datele intr-un CSV"
   ]
  },
  {
   "cell_type": "code",
   "execution_count": 230,
   "id": "5e00856b-3374-4fe8-8941-35be26d8078c",
   "metadata": {
    "tags": []
   },
   "outputs": [],
   "source": [
    "cj_siiir.to_csv('cj_siiir.csv', index = False, encoding = 'utf8')"
   ]
  },
  {
   "cell_type": "markdown",
   "id": "c0856d3d-0aac-41b6-becc-166b5bdf76b9",
   "metadata": {
    "tags": []
   },
   "source": [
    "##### Acum ca avem atat codul SIIIR, cat si codul SIRUES\n",
    "#### Combinam datele cj_siiir - rez_en_2023 - prin 'cod_SIIIR'"
   ]
  },
  {
   "cell_type": "code",
   "execution_count": 231,
   "id": "453e8f18-6f6b-4db2-ae1f-1f268eefc4f8",
   "metadata": {
    "tags": []
   },
   "outputs": [],
   "source": [
    "#redenumim coloana\n",
    "rez_en_2023.rename(columns = {' COD SIIIR':'cod_SIIIR'}, inplace=True)"
   ]
  },
  {
   "cell_type": "code",
   "execution_count": 232,
   "id": "4406cbeb-8bbc-4f1c-b35f-6082b17e36ab",
   "metadata": {
    "tags": []
   },
   "outputs": [
    {
     "data": {
      "text/plain": [
       "Index(['COD UNIC CANDIDAT', 'SEX', 'MEDIU', 'cod_SIIIR', 'STATUS ROMANA',\n",
       "       ' STATUS LIMBA MATERNA', 'STATUS MATEMATICA', 'NOTA ROMANA',\n",
       "       'NOTA LIMBA MATERNA', 'NOTA MATEMATICA', 'CONTESTATIE ROMANA',\n",
       "       'NOTA CONTESTATIE ROMANA', 'CONTESTATIE LIMBA MATERNA',\n",
       "       'NOTA CONTESTATIE LB MATERNA', 'CONTESTATIE MATEMATICA',\n",
       "       'NOTA CONTESTATIE MATEMATICA', 'NOTA FINALA ROMANA',\n",
       "       'NOTA FINALA LB MATERNA', 'NOTA FINALA MATEMATICA', 'MEDIA',\n",
       "       'MEDIA V-VIII'],\n",
       "      dtype='object')"
      ]
     },
     "execution_count": 232,
     "metadata": {},
     "output_type": "execute_result"
    }
   ],
   "source": [
    "rez_en_2023.columns #verificam redenumirea"
   ]
  },
  {
   "cell_type": "code",
   "execution_count": 233,
   "id": "e1bb4125-1149-4fb0-9b9a-c32915fbc35b",
   "metadata": {
    "tags": []
   },
   "outputs": [],
   "source": [
    "cj_building_grades = pd.merge(cj_siiir, rez_en_2023, on = 'cod_SIIIR', how = 'inner')"
   ]
  },
  {
   "cell_type": "code",
   "execution_count": 234,
   "id": "70c6d11d-62c3-4743-9d8f-7992024fbec8",
   "metadata": {
    "tags": []
   },
   "outputs": [
    {
     "data": {
      "text/html": [
       "<div>\n",
       "<style scoped>\n",
       "    .dataframe tbody tr th:only-of-type {\n",
       "        vertical-align: middle;\n",
       "    }\n",
       "\n",
       "    .dataframe tbody tr th {\n",
       "        vertical-align: top;\n",
       "    }\n",
       "\n",
       "    .dataframe thead th {\n",
       "        text-align: right;\n",
       "    }\n",
       "</style>\n",
       "<table border=\"1\" class=\"dataframe\">\n",
       "  <thead>\n",
       "    <tr style=\"text-align: right;\">\n",
       "      <th></th>\n",
       "      <th>idSchool</th>\n",
       "      <th>siruesCode</th>\n",
       "      <th>shortName</th>\n",
       "      <th>county</th>\n",
       "      <th>locality</th>\n",
       "      <th>propertyForm</th>\n",
       "      <th>fundingForm</th>\n",
       "      <th>studyFormationsCount</th>\n",
       "      <th>studentsCount</th>\n",
       "      <th>personnelCount</th>\n",
       "      <th>...</th>\n",
       "      <th>NOTA CONTESTATIE ROMANA</th>\n",
       "      <th>CONTESTATIE LIMBA MATERNA</th>\n",
       "      <th>NOTA CONTESTATIE LB MATERNA</th>\n",
       "      <th>CONTESTATIE MATEMATICA</th>\n",
       "      <th>NOTA CONTESTATIE MATEMATICA</th>\n",
       "      <th>NOTA FINALA ROMANA</th>\n",
       "      <th>NOTA FINALA LB MATERNA</th>\n",
       "      <th>NOTA FINALA MATEMATICA</th>\n",
       "      <th>MEDIA</th>\n",
       "      <th>MEDIA V-VIII</th>\n",
       "    </tr>\n",
       "  </thead>\n",
       "  <tbody>\n",
       "    <tr>\n",
       "      <th>0</th>\n",
       "      <td>11266917</td>\n",
       "      <td>120437849.0</td>\n",
       "      <td>COLEGIUL NAȚIONAL \"EMIL RACOVIȚĂ\" CLUJ-NAPOCA</td>\n",
       "      <td>CLUJ</td>\n",
       "      <td>CLUJ-NAPOCA</td>\n",
       "      <td>Publică de interes naţional şi local</td>\n",
       "      <td>Buget</td>\n",
       "      <td>36</td>\n",
       "      <td>1071</td>\n",
       "      <td>88</td>\n",
       "      <td>...</td>\n",
       "      <td>NaN</td>\n",
       "      <td>NU</td>\n",
       "      <td>NaN</td>\n",
       "      <td>NU</td>\n",
       "      <td>NaN</td>\n",
       "      <td>9,7</td>\n",
       "      <td>NaN</td>\n",
       "      <td>10</td>\n",
       "      <td>9,85</td>\n",
       "      <td>9,89</td>\n",
       "    </tr>\n",
       "    <tr>\n",
       "      <th>1</th>\n",
       "      <td>11266917</td>\n",
       "      <td>120437849.0</td>\n",
       "      <td>COLEGIUL NAȚIONAL \"EMIL RACOVIȚĂ\" CLUJ-NAPOCA</td>\n",
       "      <td>CLUJ</td>\n",
       "      <td>CLUJ-NAPOCA</td>\n",
       "      <td>Publică de interes naţional şi local</td>\n",
       "      <td>Buget</td>\n",
       "      <td>36</td>\n",
       "      <td>1071</td>\n",
       "      <td>88</td>\n",
       "      <td>...</td>\n",
       "      <td>NaN</td>\n",
       "      <td>NU</td>\n",
       "      <td>NaN</td>\n",
       "      <td>NU</td>\n",
       "      <td>NaN</td>\n",
       "      <td>9,55</td>\n",
       "      <td>NaN</td>\n",
       "      <td>9,8</td>\n",
       "      <td>9,67</td>\n",
       "      <td>9,67</td>\n",
       "    </tr>\n",
       "    <tr>\n",
       "      <th>2</th>\n",
       "      <td>11266917</td>\n",
       "      <td>120437849.0</td>\n",
       "      <td>COLEGIUL NAȚIONAL \"EMIL RACOVIȚĂ\" CLUJ-NAPOCA</td>\n",
       "      <td>CLUJ</td>\n",
       "      <td>CLUJ-NAPOCA</td>\n",
       "      <td>Publică de interes naţional şi local</td>\n",
       "      <td>Buget</td>\n",
       "      <td>36</td>\n",
       "      <td>1071</td>\n",
       "      <td>88</td>\n",
       "      <td>...</td>\n",
       "      <td>NaN</td>\n",
       "      <td>NU</td>\n",
       "      <td>NaN</td>\n",
       "      <td>NU</td>\n",
       "      <td>NaN</td>\n",
       "      <td>9,45</td>\n",
       "      <td>NaN</td>\n",
       "      <td>9,35</td>\n",
       "      <td>9,4</td>\n",
       "      <td>9,86</td>\n",
       "    </tr>\n",
       "    <tr>\n",
       "      <th>3</th>\n",
       "      <td>11266917</td>\n",
       "      <td>120437849.0</td>\n",
       "      <td>COLEGIUL NAȚIONAL \"EMIL RACOVIȚĂ\" CLUJ-NAPOCA</td>\n",
       "      <td>CLUJ</td>\n",
       "      <td>CLUJ-NAPOCA</td>\n",
       "      <td>Publică de interes naţional şi local</td>\n",
       "      <td>Buget</td>\n",
       "      <td>36</td>\n",
       "      <td>1071</td>\n",
       "      <td>88</td>\n",
       "      <td>...</td>\n",
       "      <td>8,95</td>\n",
       "      <td>NU</td>\n",
       "      <td>NaN</td>\n",
       "      <td>NU</td>\n",
       "      <td>NaN</td>\n",
       "      <td>8,95</td>\n",
       "      <td>NaN</td>\n",
       "      <td>9,05</td>\n",
       "      <td>9</td>\n",
       "      <td>9,21</td>\n",
       "    </tr>\n",
       "    <tr>\n",
       "      <th>4</th>\n",
       "      <td>11266917</td>\n",
       "      <td>120437849.0</td>\n",
       "      <td>COLEGIUL NAȚIONAL \"EMIL RACOVIȚĂ\" CLUJ-NAPOCA</td>\n",
       "      <td>CLUJ</td>\n",
       "      <td>CLUJ-NAPOCA</td>\n",
       "      <td>Publică de interes naţional şi local</td>\n",
       "      <td>Buget</td>\n",
       "      <td>36</td>\n",
       "      <td>1071</td>\n",
       "      <td>88</td>\n",
       "      <td>...</td>\n",
       "      <td>NaN</td>\n",
       "      <td>NU</td>\n",
       "      <td>NaN</td>\n",
       "      <td>NU</td>\n",
       "      <td>NaN</td>\n",
       "      <td>10</td>\n",
       "      <td>NaN</td>\n",
       "      <td>9,9</td>\n",
       "      <td>9,95</td>\n",
       "      <td>9,85</td>\n",
       "    </tr>\n",
       "    <tr>\n",
       "      <th>...</th>\n",
       "      <td>...</td>\n",
       "      <td>...</td>\n",
       "      <td>...</td>\n",
       "      <td>...</td>\n",
       "      <td>...</td>\n",
       "      <td>...</td>\n",
       "      <td>...</td>\n",
       "      <td>...</td>\n",
       "      <td>...</td>\n",
       "      <td>...</td>\n",
       "      <td>...</td>\n",
       "      <td>...</td>\n",
       "      <td>...</td>\n",
       "      <td>...</td>\n",
       "      <td>...</td>\n",
       "      <td>...</td>\n",
       "      <td>...</td>\n",
       "      <td>...</td>\n",
       "      <td>...</td>\n",
       "      <td>...</td>\n",
       "      <td>...</td>\n",
       "    </tr>\n",
       "    <tr>\n",
       "      <th>8605</th>\n",
       "      <td>11267124</td>\n",
       "      <td>120849509.0</td>\n",
       "      <td>ȘCOALA PROFESIONALĂ SPECIALĂ \"SAMUS\" CLUJ - NA...</td>\n",
       "      <td>CLUJ</td>\n",
       "      <td>CLUJ-NAPOCA</td>\n",
       "      <td>Publică de interes naţional şi local</td>\n",
       "      <td>Buget</td>\n",
       "      <td>37</td>\n",
       "      <td>245</td>\n",
       "      <td>123</td>\n",
       "      <td>...</td>\n",
       "      <td>NaN</td>\n",
       "      <td>NU</td>\n",
       "      <td>NaN</td>\n",
       "      <td>NU</td>\n",
       "      <td>NaN</td>\n",
       "      <td>6,85</td>\n",
       "      <td>NaN</td>\n",
       "      <td>5,3</td>\n",
       "      <td>6,07</td>\n",
       "      <td>8,6</td>\n",
       "    </tr>\n",
       "    <tr>\n",
       "      <th>8606</th>\n",
       "      <td>11267124</td>\n",
       "      <td>120849509.0</td>\n",
       "      <td>ȘCOALA PROFESIONALĂ SPECIALĂ \"SAMUS\" CLUJ - NA...</td>\n",
       "      <td>CLUJ</td>\n",
       "      <td>CLUJ-NAPOCA</td>\n",
       "      <td>Publică de interes naţional şi local</td>\n",
       "      <td>Buget</td>\n",
       "      <td>37</td>\n",
       "      <td>245</td>\n",
       "      <td>123</td>\n",
       "      <td>...</td>\n",
       "      <td>NaN</td>\n",
       "      <td>NU</td>\n",
       "      <td>NaN</td>\n",
       "      <td>NU</td>\n",
       "      <td>NaN</td>\n",
       "      <td>4,35</td>\n",
       "      <td>NaN</td>\n",
       "      <td>4,7</td>\n",
       "      <td>4,52</td>\n",
       "      <td>8,84</td>\n",
       "    </tr>\n",
       "    <tr>\n",
       "      <th>8607</th>\n",
       "      <td>11267124</td>\n",
       "      <td>120849509.0</td>\n",
       "      <td>ȘCOALA PROFESIONALĂ SPECIALĂ \"SAMUS\" CLUJ - NA...</td>\n",
       "      <td>CLUJ</td>\n",
       "      <td>CLUJ-NAPOCA</td>\n",
       "      <td>Publică de interes naţional şi local</td>\n",
       "      <td>Buget</td>\n",
       "      <td>37</td>\n",
       "      <td>245</td>\n",
       "      <td>123</td>\n",
       "      <td>...</td>\n",
       "      <td>NaN</td>\n",
       "      <td>NU</td>\n",
       "      <td>NaN</td>\n",
       "      <td>NU</td>\n",
       "      <td>NaN</td>\n",
       "      <td>6,85</td>\n",
       "      <td>NaN</td>\n",
       "      <td>5,3</td>\n",
       "      <td>6,07</td>\n",
       "      <td>8,6</td>\n",
       "    </tr>\n",
       "    <tr>\n",
       "      <th>8608</th>\n",
       "      <td>11267124</td>\n",
       "      <td>120849509.0</td>\n",
       "      <td>ȘCOALA PROFESIONALĂ SPECIALĂ \"SAMUS\" CLUJ - NA...</td>\n",
       "      <td>CLUJ</td>\n",
       "      <td>CLUJ-NAPOCA</td>\n",
       "      <td>Publică de interes naţional şi local</td>\n",
       "      <td>Buget</td>\n",
       "      <td>37</td>\n",
       "      <td>245</td>\n",
       "      <td>123</td>\n",
       "      <td>...</td>\n",
       "      <td>NaN</td>\n",
       "      <td>NU</td>\n",
       "      <td>NaN</td>\n",
       "      <td>NU</td>\n",
       "      <td>NaN</td>\n",
       "      <td>4,35</td>\n",
       "      <td>NaN</td>\n",
       "      <td>4,7</td>\n",
       "      <td>4,52</td>\n",
       "      <td>8,84</td>\n",
       "    </tr>\n",
       "    <tr>\n",
       "      <th>8609</th>\n",
       "      <td>11267124</td>\n",
       "      <td>120849509.0</td>\n",
       "      <td>ȘCOALA PROFESIONALĂ SPECIALĂ \"SAMUS\" CLUJ - NA...</td>\n",
       "      <td>CLUJ</td>\n",
       "      <td>CLUJ-NAPOCA</td>\n",
       "      <td>Publică de interes naţional şi local</td>\n",
       "      <td>Buget</td>\n",
       "      <td>37</td>\n",
       "      <td>245</td>\n",
       "      <td>123</td>\n",
       "      <td>...</td>\n",
       "      <td>NaN</td>\n",
       "      <td>NU</td>\n",
       "      <td>NaN</td>\n",
       "      <td>NU</td>\n",
       "      <td>NaN</td>\n",
       "      <td>6,85</td>\n",
       "      <td>NaN</td>\n",
       "      <td>5,3</td>\n",
       "      <td>6,07</td>\n",
       "      <td>8,6</td>\n",
       "    </tr>\n",
       "  </tbody>\n",
       "</table>\n",
       "<p>8610 rows × 42 columns</p>\n",
       "</div>"
      ],
      "text/plain": [
       "      idSchool   siruesCode  \\\n",
       "0     11266917  120437849.0   \n",
       "1     11266917  120437849.0   \n",
       "2     11266917  120437849.0   \n",
       "3     11266917  120437849.0   \n",
       "4     11266917  120437849.0   \n",
       "...        ...          ...   \n",
       "8605  11267124  120849509.0   \n",
       "8606  11267124  120849509.0   \n",
       "8607  11267124  120849509.0   \n",
       "8608  11267124  120849509.0   \n",
       "8609  11267124  120849509.0   \n",
       "\n",
       "                                              shortName county     locality  \\\n",
       "0         COLEGIUL NAȚIONAL \"EMIL RACOVIȚĂ\" CLUJ-NAPOCA   CLUJ  CLUJ-NAPOCA   \n",
       "1         COLEGIUL NAȚIONAL \"EMIL RACOVIȚĂ\" CLUJ-NAPOCA   CLUJ  CLUJ-NAPOCA   \n",
       "2         COLEGIUL NAȚIONAL \"EMIL RACOVIȚĂ\" CLUJ-NAPOCA   CLUJ  CLUJ-NAPOCA   \n",
       "3         COLEGIUL NAȚIONAL \"EMIL RACOVIȚĂ\" CLUJ-NAPOCA   CLUJ  CLUJ-NAPOCA   \n",
       "4         COLEGIUL NAȚIONAL \"EMIL RACOVIȚĂ\" CLUJ-NAPOCA   CLUJ  CLUJ-NAPOCA   \n",
       "...                                                 ...    ...          ...   \n",
       "8605  ȘCOALA PROFESIONALĂ SPECIALĂ \"SAMUS\" CLUJ - NA...   CLUJ  CLUJ-NAPOCA   \n",
       "8606  ȘCOALA PROFESIONALĂ SPECIALĂ \"SAMUS\" CLUJ - NA...   CLUJ  CLUJ-NAPOCA   \n",
       "8607  ȘCOALA PROFESIONALĂ SPECIALĂ \"SAMUS\" CLUJ - NA...   CLUJ  CLUJ-NAPOCA   \n",
       "8608  ȘCOALA PROFESIONALĂ SPECIALĂ \"SAMUS\" CLUJ - NA...   CLUJ  CLUJ-NAPOCA   \n",
       "8609  ȘCOALA PROFESIONALĂ SPECIALĂ \"SAMUS\" CLUJ - NA...   CLUJ  CLUJ-NAPOCA   \n",
       "\n",
       "                              propertyForm fundingForm  studyFormationsCount  \\\n",
       "0     Publică de interes naţional şi local       Buget                    36   \n",
       "1     Publică de interes naţional şi local       Buget                    36   \n",
       "2     Publică de interes naţional şi local       Buget                    36   \n",
       "3     Publică de interes naţional şi local       Buget                    36   \n",
       "4     Publică de interes naţional şi local       Buget                    36   \n",
       "...                                    ...         ...                   ...   \n",
       "8605  Publică de interes naţional şi local       Buget                    37   \n",
       "8606  Publică de interes naţional şi local       Buget                    37   \n",
       "8607  Publică de interes naţional şi local       Buget                    37   \n",
       "8608  Publică de interes naţional şi local       Buget                    37   \n",
       "8609  Publică de interes naţional şi local       Buget                    37   \n",
       "\n",
       "      studentsCount  personnelCount  ...  NOTA CONTESTATIE ROMANA  \\\n",
       "0              1071              88  ...                      NaN   \n",
       "1              1071              88  ...                      NaN   \n",
       "2              1071              88  ...                      NaN   \n",
       "3              1071              88  ...                     8,95   \n",
       "4              1071              88  ...                      NaN   \n",
       "...             ...             ...  ...                      ...   \n",
       "8605            245             123  ...                      NaN   \n",
       "8606            245             123  ...                      NaN   \n",
       "8607            245             123  ...                      NaN   \n",
       "8608            245             123  ...                      NaN   \n",
       "8609            245             123  ...                      NaN   \n",
       "\n",
       "     CONTESTATIE LIMBA MATERNA NOTA CONTESTATIE LB MATERNA  \\\n",
       "0                           NU                         NaN   \n",
       "1                           NU                         NaN   \n",
       "2                           NU                         NaN   \n",
       "3                           NU                         NaN   \n",
       "4                           NU                         NaN   \n",
       "...                        ...                         ...   \n",
       "8605                        NU                         NaN   \n",
       "8606                        NU                         NaN   \n",
       "8607                        NU                         NaN   \n",
       "8608                        NU                         NaN   \n",
       "8609                        NU                         NaN   \n",
       "\n",
       "     CONTESTATIE MATEMATICA NOTA CONTESTATIE MATEMATICA NOTA FINALA ROMANA  \\\n",
       "0                        NU                         NaN                9,7   \n",
       "1                        NU                         NaN               9,55   \n",
       "2                        NU                         NaN               9,45   \n",
       "3                        NU                         NaN               8,95   \n",
       "4                        NU                         NaN                 10   \n",
       "...                     ...                         ...                ...   \n",
       "8605                     NU                         NaN               6,85   \n",
       "8606                     NU                         NaN               4,35   \n",
       "8607                     NU                         NaN               6,85   \n",
       "8608                     NU                         NaN               4,35   \n",
       "8609                     NU                         NaN               6,85   \n",
       "\n",
       "     NOTA FINALA LB MATERNA NOTA FINALA MATEMATICA MEDIA  MEDIA V-VIII  \n",
       "0                       NaN                     10  9,85          9,89  \n",
       "1                       NaN                    9,8  9,67          9,67  \n",
       "2                       NaN                   9,35   9,4          9,86  \n",
       "3                       NaN                   9,05     9          9,21  \n",
       "4                       NaN                    9,9  9,95          9,85  \n",
       "...                     ...                    ...   ...           ...  \n",
       "8605                    NaN                    5,3  6,07           8,6  \n",
       "8606                    NaN                    4,7  4,52          8,84  \n",
       "8607                    NaN                    5,3  6,07           8,6  \n",
       "8608                    NaN                    4,7  4,52          8,84  \n",
       "8609                    NaN                    5,3  6,07           8,6  \n",
       "\n",
       "[8610 rows x 42 columns]"
      ]
     },
     "execution_count": 234,
     "metadata": {},
     "output_type": "execute_result"
    }
   ],
   "source": [
    "cj_building_grades"
   ]
  },
  {
   "cell_type": "markdown",
   "id": "f7ad9e70-08ad-4330-ba1b-70bdbf0f1b47",
   "metadata": {},
   "source": [
    "#### Optional salvam datele intr-un CSV"
   ]
  },
  {
   "cell_type": "code",
   "execution_count": 235,
   "id": "20c4cd7e-9d99-4028-b1d6-5e4ab1f56b79",
   "metadata": {
    "tags": []
   },
   "outputs": [],
   "source": [
    "cj_building_grades.to_csv('cj_building_grades.csv', index = False, encoding = 'utf8')"
   ]
  },
  {
   "cell_type": "code",
   "execution_count": 236,
   "id": "679a4766-52a1-42d8-a6fc-365edc54e17c",
   "metadata": {
    "tags": []
   },
   "outputs": [
    {
     "data": {
      "text/plain": [
       "8610"
      ]
     },
     "execution_count": 236,
     "metadata": {},
     "output_type": "execute_result"
    }
   ],
   "source": [
    "len(cj_building_grades) # in acest moment este nevoie de curatarea datelor (remove duplicates)"
   ]
  },
  {
   "cell_type": "markdown",
   "id": "44a2851f-671c-465a-a2a0-75305304e69b",
   "metadata": {
    "tags": []
   },
   "source": [
    "#### Combinam cj_building_grades cu LHDI\n",
    "##### pentru asta avem nevoie de o cheie comuna 'jud_loc'"
   ]
  },
  {
   "cell_type": "code",
   "execution_count": 237,
   "id": "ed29aa21-db71-44aa-9049-2dc2a5b81fed",
   "metadata": {
    "tags": []
   },
   "outputs": [],
   "source": [
    "cj_building_grades[\"jud_loc\"]  = cj_building_grades[[\"county\",\"locality\"]].apply(lambda x : \"_\".join(x.astype(str)),axis = 1)"
   ]
  },
  {
   "cell_type": "code",
   "execution_count": 238,
   "id": "0de6b459-7b8a-4430-b030-b5b358a6e091",
   "metadata": {
    "tags": []
   },
   "outputs": [
    {
     "data": {
      "text/plain": [
       "Index(['idSchool', 'siruesCode', 'shortName', 'county', 'locality',\n",
       "       'propertyForm', 'fundingForm', 'studyFormationsCount', 'studentsCount',\n",
       "       'personnelCount', 'id', 'buildingDescription', 'generalState',\n",
       "       'buildingMaterial', 'roofMaterial', 'roofCondition', 'joineryCondition',\n",
       "       'windowJoinery', 'doorJoinery', 'dateFrom', 'Denumire', 'cod_SIIIR',\n",
       "       'COD UNIC CANDIDAT', 'SEX', 'MEDIU', 'STATUS ROMANA',\n",
       "       ' STATUS LIMBA MATERNA', 'STATUS MATEMATICA', 'NOTA ROMANA',\n",
       "       'NOTA LIMBA MATERNA', 'NOTA MATEMATICA', 'CONTESTATIE ROMANA',\n",
       "       'NOTA CONTESTATIE ROMANA', 'CONTESTATIE LIMBA MATERNA',\n",
       "       'NOTA CONTESTATIE LB MATERNA', 'CONTESTATIE MATEMATICA',\n",
       "       'NOTA CONTESTATIE MATEMATICA', 'NOTA FINALA ROMANA',\n",
       "       'NOTA FINALA LB MATERNA', 'NOTA FINALA MATEMATICA', 'MEDIA',\n",
       "       'MEDIA V-VIII', 'jud_loc'],\n",
       "      dtype='object')"
      ]
     },
     "execution_count": 238,
     "metadata": {},
     "output_type": "execute_result"
    }
   ],
   "source": [
    "cj_building_grades.columns"
   ]
  },
  {
   "cell_type": "markdown",
   "id": "5ddd4aa7-e3b1-43ea-beec-2347e7939069",
   "metadata": {},
   "source": [
    "#### Importam setul de date LHDI pentru judetuL CLUJ"
   ]
  },
  {
   "cell_type": "code",
   "execution_count": 239,
   "id": "b9209227-3b21-465f-b392-1f0fa889eeeb",
   "metadata": {
    "tags": []
   },
   "outputs": [],
   "source": [
    "lhdi_cluj = pd.read_csv('LHDI_CLUJ.csv', sep = ';')"
   ]
  },
  {
   "cell_type": "code",
   "execution_count": 240,
   "id": "523c9094-1022-465c-ad10-bdc70f2f4d1c",
   "metadata": {
    "tags": []
   },
   "outputs": [
    {
     "data": {
      "text/html": [
       "<div>\n",
       "<style scoped>\n",
       "    .dataframe tbody tr th:only-of-type {\n",
       "        vertical-align: middle;\n",
       "    }\n",
       "\n",
       "    .dataframe tbody tr th {\n",
       "        vertical-align: top;\n",
       "    }\n",
       "\n",
       "    .dataframe thead th {\n",
       "        text-align: right;\n",
       "    }\n",
       "</style>\n",
       "<table border=\"1\" class=\"dataframe\">\n",
       "  <thead>\n",
       "    <tr style=\"text-align: right;\">\n",
       "      <th></th>\n",
       "      <th>SIRUTA</th>\n",
       "      <th>county</th>\n",
       "      <th>LHDI2018</th>\n",
       "      <th>IDUL2018quintile</th>\n",
       "      <th>hcapmat18</th>\n",
       "      <th>hconectint18</th>\n",
       "      <th>hrsm18</th>\n",
       "      <th>POPD2018</th>\n",
       "      <th>Cultarea18</th>\n",
       "      <th>LOCALITATE</th>\n",
       "      <th>SIRINF</th>\n",
       "    </tr>\n",
       "  </thead>\n",
       "  <tbody>\n",
       "    <tr>\n",
       "      <th>0</th>\n",
       "      <td>54975</td>\n",
       "      <td>CLUJ</td>\n",
       "      <td>80,1</td>\n",
       "      <td>5</td>\n",
       "      <td>80,5</td>\n",
       "      <td>98,5</td>\n",
       "      <td>26,9</td>\n",
       "      <td>32367</td>\n",
       "      <td>5</td>\n",
       "      <td>CLUJ-NAPOCA</td>\n",
       "      <td>54984</td>\n",
       "    </tr>\n",
       "    <tr>\n",
       "      <th>1</th>\n",
       "      <td>57706</td>\n",
       "      <td>CLUJ</td>\n",
       "      <td>80</td>\n",
       "      <td>5</td>\n",
       "      <td>74,1</td>\n",
       "      <td>127,6</td>\n",
       "      <td>38,4</td>\n",
       "      <td>35148</td>\n",
       "      <td>5</td>\n",
       "      <td>FLORESTI</td>\n",
       "      <td>57715</td>\n",
       "    </tr>\n",
       "    <tr>\n",
       "      <th>2</th>\n",
       "      <td>57706</td>\n",
       "      <td>CLUJ</td>\n",
       "      <td>80</td>\n",
       "      <td>5</td>\n",
       "      <td>74,1</td>\n",
       "      <td>127,6</td>\n",
       "      <td>38,4</td>\n",
       "      <td>35148</td>\n",
       "      <td>5</td>\n",
       "      <td>LUNA DE SUS</td>\n",
       "      <td>57724</td>\n",
       "    </tr>\n",
       "  </tbody>\n",
       "</table>\n",
       "</div>"
      ],
      "text/plain": [
       "   SIRUTA county LHDI2018  IDUL2018quintile hcapmat18 hconectint18 hrsm18  \\\n",
       "0   54975   CLUJ     80,1                 5      80,5         98,5   26,9   \n",
       "1   57706   CLUJ       80                 5      74,1        127,6   38,4   \n",
       "2   57706   CLUJ       80                 5      74,1        127,6   38,4   \n",
       "\n",
       "   POPD2018  Cultarea18   LOCALITATE  SIRINF  \n",
       "0     32367           5  CLUJ-NAPOCA   54984  \n",
       "1     35148           5     FLORESTI   57715  \n",
       "2     35148           5  LUNA DE SUS   57724  "
      ]
     },
     "execution_count": 240,
     "metadata": {},
     "output_type": "execute_result"
    }
   ],
   "source": [
    "lhdi_cluj.head(3)"
   ]
  },
  {
   "cell_type": "code",
   "execution_count": 241,
   "id": "01729fe0-ba73-4df6-a6ee-484024c3fd05",
   "metadata": {
    "tags": []
   },
   "outputs": [
    {
     "data": {
      "text/plain": [
       "Index(['SIRUTA', 'county', 'LHDI2018', 'IDUL2018quintile', 'hcapmat18',\n",
       "       'hconectint18', 'hrsm18', 'POPD2018', 'Cultarea18', 'LOCALITATE',\n",
       "       'SIRINF'],\n",
       "      dtype='object')"
      ]
     },
     "execution_count": 241,
     "metadata": {},
     "output_type": "execute_result"
    }
   ],
   "source": [
    "lhdi_cluj.columns"
   ]
  },
  {
   "cell_type": "code",
   "execution_count": 242,
   "id": "884a1d07-6ba0-4422-995e-476f028468b7",
   "metadata": {
    "tags": []
   },
   "outputs": [],
   "source": [
    "# redenumim coloana 'LOCALITATE' in \"locality\"\n",
    "lhdi_cluj.rename(columns = {'LOCALITATE':'locality'}, inplace = True)"
   ]
  },
  {
   "cell_type": "code",
   "execution_count": 243,
   "id": "7158830e-f13e-4efa-9498-76b2642a24f6",
   "metadata": {
    "tags": []
   },
   "outputs": [],
   "source": [
    "# adaugam cheia comuna 'jud_loc' si in lhdi_cluj\n",
    "lhdi_cluj[\"jud_loc\"]  = lhdi_cluj[[\"county\",\"locality\"]].apply(lambda x : \"_\".join(x.astype(str)),axis = 1)"
   ]
  },
  {
   "cell_type": "code",
   "execution_count": 244,
   "id": "5795fc81-b955-466e-b3aa-338aa8683a64",
   "metadata": {
    "tags": []
   },
   "outputs": [
    {
     "data": {
      "text/plain": [
       "Index(['SIRUTA', 'county', 'LHDI2018', 'IDUL2018quintile', 'hcapmat18',\n",
       "       'hconectint18', 'hrsm18', 'POPD2018', 'Cultarea18', 'locality',\n",
       "       'SIRINF', 'jud_loc'],\n",
       "      dtype='object')"
      ]
     },
     "execution_count": 244,
     "metadata": {},
     "output_type": "execute_result"
    }
   ],
   "source": [
    "lhdi_cluj.columns"
   ]
  },
  {
   "cell_type": "code",
   "execution_count": 245,
   "id": "da43065f-c16a-492d-9da4-db569add979a",
   "metadata": {
    "tags": []
   },
   "outputs": [],
   "source": [
    "cj_buildings_grades_lhdi = pd.merge(cj_building_grades, lhdi_cluj, on = \"jud_loc\", how = 'inner')"
   ]
  },
  {
   "cell_type": "markdown",
   "id": "06d11080-538a-4ee4-af6b-25bb2950bb4d",
   "metadata": {
    "tags": []
   },
   "source": [
    "## SETUL DE DATE FINAL\n",
    "##### necesita curatare de date"
   ]
  },
  {
   "cell_type": "code",
   "execution_count": 246,
   "id": "9731aef7-94c5-4bf9-a132-a51ac41faf07",
   "metadata": {
    "tags": []
   },
   "outputs": [
    {
     "data": {
      "text/html": [
       "<div>\n",
       "<style scoped>\n",
       "    .dataframe tbody tr th:only-of-type {\n",
       "        vertical-align: middle;\n",
       "    }\n",
       "\n",
       "    .dataframe tbody tr th {\n",
       "        vertical-align: top;\n",
       "    }\n",
       "\n",
       "    .dataframe thead th {\n",
       "        text-align: right;\n",
       "    }\n",
       "</style>\n",
       "<table border=\"1\" class=\"dataframe\">\n",
       "  <thead>\n",
       "    <tr style=\"text-align: right;\">\n",
       "      <th></th>\n",
       "      <th>idSchool</th>\n",
       "      <th>siruesCode</th>\n",
       "      <th>shortName</th>\n",
       "      <th>county_x</th>\n",
       "      <th>locality_x</th>\n",
       "      <th>propertyForm</th>\n",
       "      <th>fundingForm</th>\n",
       "      <th>studyFormationsCount</th>\n",
       "      <th>studentsCount</th>\n",
       "      <th>personnelCount</th>\n",
       "      <th>...</th>\n",
       "      <th>county_y</th>\n",
       "      <th>LHDI2018</th>\n",
       "      <th>IDUL2018quintile</th>\n",
       "      <th>hcapmat18</th>\n",
       "      <th>hconectint18</th>\n",
       "      <th>hrsm18</th>\n",
       "      <th>POPD2018</th>\n",
       "      <th>Cultarea18</th>\n",
       "      <th>locality_y</th>\n",
       "      <th>SIRINF</th>\n",
       "    </tr>\n",
       "  </thead>\n",
       "  <tbody>\n",
       "    <tr>\n",
       "      <th>0</th>\n",
       "      <td>11266917</td>\n",
       "      <td>120437849.0</td>\n",
       "      <td>COLEGIUL NAȚIONAL \"EMIL RACOVIȚĂ\" CLUJ-NAPOCA</td>\n",
       "      <td>CLUJ</td>\n",
       "      <td>CLUJ-NAPOCA</td>\n",
       "      <td>Publică de interes naţional şi local</td>\n",
       "      <td>Buget</td>\n",
       "      <td>36</td>\n",
       "      <td>1071</td>\n",
       "      <td>88</td>\n",
       "      <td>...</td>\n",
       "      <td>CLUJ</td>\n",
       "      <td>80,1</td>\n",
       "      <td>5</td>\n",
       "      <td>80,5</td>\n",
       "      <td>98,5</td>\n",
       "      <td>26,9</td>\n",
       "      <td>32367</td>\n",
       "      <td>5</td>\n",
       "      <td>CLUJ-NAPOCA</td>\n",
       "      <td>54984</td>\n",
       "    </tr>\n",
       "    <tr>\n",
       "      <th>1</th>\n",
       "      <td>11266917</td>\n",
       "      <td>120437849.0</td>\n",
       "      <td>COLEGIUL NAȚIONAL \"EMIL RACOVIȚĂ\" CLUJ-NAPOCA</td>\n",
       "      <td>CLUJ</td>\n",
       "      <td>CLUJ-NAPOCA</td>\n",
       "      <td>Publică de interes naţional şi local</td>\n",
       "      <td>Buget</td>\n",
       "      <td>36</td>\n",
       "      <td>1071</td>\n",
       "      <td>88</td>\n",
       "      <td>...</td>\n",
       "      <td>CLUJ</td>\n",
       "      <td>80,1</td>\n",
       "      <td>5</td>\n",
       "      <td>80,5</td>\n",
       "      <td>98,5</td>\n",
       "      <td>26,9</td>\n",
       "      <td>32367</td>\n",
       "      <td>5</td>\n",
       "      <td>CLUJ-NAPOCA</td>\n",
       "      <td>54984</td>\n",
       "    </tr>\n",
       "    <tr>\n",
       "      <th>2</th>\n",
       "      <td>11266917</td>\n",
       "      <td>120437849.0</td>\n",
       "      <td>COLEGIUL NAȚIONAL \"EMIL RACOVIȚĂ\" CLUJ-NAPOCA</td>\n",
       "      <td>CLUJ</td>\n",
       "      <td>CLUJ-NAPOCA</td>\n",
       "      <td>Publică de interes naţional şi local</td>\n",
       "      <td>Buget</td>\n",
       "      <td>36</td>\n",
       "      <td>1071</td>\n",
       "      <td>88</td>\n",
       "      <td>...</td>\n",
       "      <td>CLUJ</td>\n",
       "      <td>80,1</td>\n",
       "      <td>5</td>\n",
       "      <td>80,5</td>\n",
       "      <td>98,5</td>\n",
       "      <td>26,9</td>\n",
       "      <td>32367</td>\n",
       "      <td>5</td>\n",
       "      <td>CLUJ-NAPOCA</td>\n",
       "      <td>54984</td>\n",
       "    </tr>\n",
       "  </tbody>\n",
       "</table>\n",
       "<p>3 rows × 54 columns</p>\n",
       "</div>"
      ],
      "text/plain": [
       "   idSchool   siruesCode                                      shortName  \\\n",
       "0  11266917  120437849.0  COLEGIUL NAȚIONAL \"EMIL RACOVIȚĂ\" CLUJ-NAPOCA   \n",
       "1  11266917  120437849.0  COLEGIUL NAȚIONAL \"EMIL RACOVIȚĂ\" CLUJ-NAPOCA   \n",
       "2  11266917  120437849.0  COLEGIUL NAȚIONAL \"EMIL RACOVIȚĂ\" CLUJ-NAPOCA   \n",
       "\n",
       "  county_x   locality_x                          propertyForm fundingForm  \\\n",
       "0     CLUJ  CLUJ-NAPOCA  Publică de interes naţional şi local       Buget   \n",
       "1     CLUJ  CLUJ-NAPOCA  Publică de interes naţional şi local       Buget   \n",
       "2     CLUJ  CLUJ-NAPOCA  Publică de interes naţional şi local       Buget   \n",
       "\n",
       "   studyFormationsCount  studentsCount  personnelCount  ...  county_y  \\\n",
       "0                    36           1071              88  ...      CLUJ   \n",
       "1                    36           1071              88  ...      CLUJ   \n",
       "2                    36           1071              88  ...      CLUJ   \n",
       "\n",
       "  LHDI2018 IDUL2018quintile hcapmat18 hconectint18 hrsm18 POPD2018 Cultarea18  \\\n",
       "0     80,1                5      80,5         98,5   26,9    32367          5   \n",
       "1     80,1                5      80,5         98,5   26,9    32367          5   \n",
       "2     80,1                5      80,5         98,5   26,9    32367          5   \n",
       "\n",
       "    locality_y  SIRINF  \n",
       "0  CLUJ-NAPOCA   54984  \n",
       "1  CLUJ-NAPOCA   54984  \n",
       "2  CLUJ-NAPOCA   54984  \n",
       "\n",
       "[3 rows x 54 columns]"
      ]
     },
     "execution_count": 246,
     "metadata": {},
     "output_type": "execute_result"
    }
   ],
   "source": [
    "cj_buildings_grades_lhdi.head(3)"
   ]
  },
  {
   "cell_type": "code",
   "execution_count": 247,
   "id": "bdc6dd19-4760-48f2-baf7-deedce32b444",
   "metadata": {
    "tags": []
   },
   "outputs": [
    {
     "data": {
      "text/plain": [
       "idSchool                          0\n",
       "siruesCode                        0\n",
       "shortName                         0\n",
       "county_x                          0\n",
       "locality_x                        0\n",
       "propertyForm                      0\n",
       "fundingForm                       0\n",
       "studyFormationsCount              0\n",
       "studentsCount                     0\n",
       "personnelCount                    0\n",
       "id                                0\n",
       "buildingDescription               0\n",
       "generalState                      0\n",
       "buildingMaterial                  0\n",
       "roofMaterial                      0\n",
       "roofCondition                     0\n",
       "joineryCondition                  0\n",
       "windowJoinery                     0\n",
       "doorJoinery                       0\n",
       "dateFrom                          0\n",
       "Denumire                          0\n",
       "cod_SIIIR                         0\n",
       "COD UNIC CANDIDAT                 0\n",
       "SEX                               0\n",
       "MEDIU                             0\n",
       "STATUS ROMANA                     0\n",
       " STATUS LIMBA MATERNA             0\n",
       "STATUS MATEMATICA                 0\n",
       "NOTA ROMANA                     114\n",
       "NOTA LIMBA MATERNA             5886\n",
       "NOTA MATEMATICA                 125\n",
       "CONTESTATIE ROMANA                0\n",
       "NOTA CONTESTATIE ROMANA        6024\n",
       "CONTESTATIE LIMBA MATERNA         0\n",
       "NOTA CONTESTATIE LB MATERNA    6693\n",
       "CONTESTATIE MATEMATICA            0\n",
       "NOTA CONTESTATIE MATEMATICA    6473\n",
       "NOTA FINALA ROMANA              114\n",
       "NOTA FINALA LB MATERNA         5886\n",
       "NOTA FINALA MATEMATICA          125\n",
       "MEDIA                           125\n",
       "MEDIA V-VIII                      0\n",
       "jud_loc                           0\n",
       "SIRUTA                            0\n",
       "county_y                          0\n",
       "LHDI2018                          0\n",
       "IDUL2018quintile                  0\n",
       "hcapmat18                         0\n",
       "hconectint18                      0\n",
       "hrsm18                            0\n",
       "POPD2018                          0\n",
       "Cultarea18                        0\n",
       "locality_y                        0\n",
       "SIRINF                            0\n",
       "dtype: int64"
      ]
     },
     "execution_count": 247,
     "metadata": {},
     "output_type": "execute_result"
    }
   ],
   "source": [
    "cj_buildings_grades_lhdi.isna().sum()"
   ]
  },
  {
   "cell_type": "markdown",
   "id": "c438d9cd-cb99-4d2e-92f8-769f62a7fbc1",
   "metadata": {},
   "source": [
    "#### Optional salvam datele intr-un CSV"
   ]
  },
  {
   "cell_type": "code",
   "execution_count": 249,
   "id": "ac654bb6-3e30-42d0-b625-be56e7e2a46c",
   "metadata": {
    "tags": []
   },
   "outputs": [],
   "source": [
    "cj_buildings_grades_lhdi.to_csv(\"cj_buildings_grades_lhdi.csv\", index=False, encoding='utf-8')"
   ]
  }
 ],
 "metadata": {
  "kernelspec": {
   "display_name": "Python 3 (ipykernel)",
   "language": "python",
   "name": "python3"
  },
  "language_info": {
   "codemirror_mode": {
    "name": "ipython",
    "version": 3
   },
   "file_extension": ".py",
   "mimetype": "text/x-python",
   "name": "python",
   "nbconvert_exporter": "python",
   "pygments_lexer": "ipython3",
   "version": "3.10.13"
  }
 },
 "nbformat": 4,
 "nbformat_minor": 5
}
