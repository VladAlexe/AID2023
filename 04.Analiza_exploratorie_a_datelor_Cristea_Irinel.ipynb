{
 "cells": [
  {
   "cell_type": "markdown",
   "id": "6d028df7-8333-4ed8-bd98-dcfdc511e3a3",
   "metadata": {
    "tags": []
   },
   "source": [
    "#Analiza exploratorie a datelor"
   ]
  },
  {
   "cell_type": "code",
   "execution_count": 1,
   "id": "ac5d9892-03ef-4dea-a2bf-cd583c6bf074",
   "metadata": {
    "tags": []
   },
   "outputs": [
    {
     "ename": "ModuleNotFoundError",
     "evalue": "No module named 'squarify'",
     "output_type": "error",
     "traceback": [
      "\u001b[1;31m---------------------------------------------------------------------------\u001b[0m",
      "\u001b[1;31mModuleNotFoundError\u001b[0m                       Traceback (most recent call last)",
      "Cell \u001b[1;32mIn[1], line 8\u001b[0m\n\u001b[0;32m      6\u001b[0m \u001b[38;5;28;01mimport\u001b[39;00m \u001b[38;5;21;01mmatplotlib\u001b[39;00m\u001b[38;5;21;01m.\u001b[39;00m\u001b[38;5;21;01mticker\u001b[39;00m \u001b[38;5;28;01mas\u001b[39;00m \u001b[38;5;21;01mticker\u001b[39;00m\n\u001b[0;32m      7\u001b[0m \u001b[38;5;28;01mimport\u001b[39;00m \u001b[38;5;21;01mnumpy\u001b[39;00m \u001b[38;5;28;01mas\u001b[39;00m \u001b[38;5;21;01mnp\u001b[39;00m\n\u001b[1;32m----> 8\u001b[0m \u001b[38;5;28;01mimport\u001b[39;00m \u001b[38;5;21;01msquarify\u001b[39;00m\n",
      "\u001b[1;31mModuleNotFoundError\u001b[0m: No module named 'squarify'"
     ]
    }
   ],
   "source": [
    "#incarcare librarii EDA\n",
    "\n",
    "import pandas as pd\n",
    "import matplotlib.pyplot as plt\n",
    "import seaborn as sns\n",
    "import matplotlib.ticker as ticker\n",
    "import numpy as np\n",
    "import squarify"
   ]
  },
  {
   "cell_type": "code",
   "execution_count": null,
   "id": "79098c7a-9fdb-4dc0-8d18-6ccf62b983ed",
   "metadata": {
    "tags": []
   },
   "outputs": [],
   "source": [
    "# Incarcare date din CSV\n",
    "file_path = 'licee_all.csv'\n",
    "data = pd.read_csv(file_path)\n",
    "# Redenumirea județului \"MUNICIPIUL BUCURESTI\" ca \"BUCURESTI\"\n",
    "data.loc[data['Judet'] == 'MUNICIPIUL BUCURESTI', 'Judet'] = 'BUCURESTI'"
   ]
  },
  {
   "cell_type": "code",
   "execution_count": null,
   "id": "0e82dca4-95cd-407b-a126-310e3ccf0bb1",
   "metadata": {
    "tags": []
   },
   "outputs": [],
   "source": [
    "# Vizualizare sample date\n",
    "print(data.head())"
   ]
  },
  {
   "cell_type": "code",
   "execution_count": null,
   "id": "cba4b83c-815c-48e4-86f6-be443b6f160b",
   "metadata": {
    "tags": []
   },
   "outputs": [],
   "source": [
    "# Calculăm media, mediana, deviația standard și percentilele pentru fiecare coloană\n",
    "media = data.drop('Judet', axis=1).mean()\n",
    "mediana = data.drop('Judet', axis=1).median()\n",
    "deviatie_standard = data.drop('Judet', axis=1).std()\n",
    "\n",
    "# Creăm un nou DataFrame pentru a organiza aceste informații\n",
    "statistici_descriptive = pd.DataFrame({\n",
    "    'Media': media,\n",
    "    'Mediana': mediana,\n",
    "    'Deviatie Standard': deviatie_standard\n",
    "})\n",
    "\n",
    "# Afișăm noul DataFrame\n",
    "print(statistici_descriptive)"
   ]
  },
  {
   "cell_type": "code",
   "execution_count": null,
   "id": "7236aca5-e055-40ed-b810-7daef621c517",
   "metadata": {
    "tags": []
   },
   "outputs": [],
   "source": [
    "# Extragerea datelor fără coloana 'Judet'\n",
    "data_fara_judet = data.drop(columns=['Judet'])\n",
    "\n",
    "# Identificarea valorilor maxime si minime pentru fiecare coloană\n",
    "maxime = data_fara_judet.max()\n",
    "minime = data_fara_judet.min()\n",
    "\n",
    "# Identificarea judetelor asociate cu aceste valori maxime si minime\n",
    "judet_maxim = data_fara_judet.idxmax()\n",
    "judet_maxim = data_fara_judet.idxmin()\n",
    "\n",
    "# Crearea unui DataFrame pentru a afișa rezultatele\n",
    "maxime_si_judet = pd.DataFrame({\n",
    "    'Maxim': maxime,\n",
    "    'Minim': minime\n",
    "})\n",
    "\n",
    "# Afișarea rezultatelor\n",
    "print(maxime_si_judet)"
   ]
  },
  {
   "cell_type": "code",
   "execution_count": null,
   "id": "88e50eeb-a859-4784-803f-05aeb179be72",
   "metadata": {
    "tags": []
   },
   "outputs": [],
   "source": [
    "import matplotlib.pyplot as plt\n",
    "\n",
    "# Numărul total de licee pe judet\n",
    "nr_licee_pe_judet = data.groupby('Judet')['idSchool'].sum().sort_values(ascending=False)\n",
    "\n",
    "# Crearea graficului pentru numărul total de licee pe judet\n",
    "plt.figure(figsize=(10, 6))\n",
    "\n",
    "# Definirea culorilor în funcție de condiții\n",
    "colors = ['lightgreen' if nr_licee >= 30 else 'lightblue' for nr_licee in nr_licee_pe_judet]\n",
    "\n",
    "bars = nr_licee_pe_judet.plot(kind='bar', color=colors, width=0.8)  # Modificarea grosimii barelor aici\n",
    "\n",
    "plt.title('Numărul total de licee pe județ')\n",
    "plt.xlabel('Județ')\n",
    "plt.ylabel('Numărul total de licee')\n",
    "plt.xticks(rotation=90)  # Rotirea etichetelor la 90 de grade\n",
    "plt.tight_layout()\n",
    "\n",
    "# Adăugarea etichetelor pentru valori pe fiecare bară coborâte mai jos, cu font alb și bold\n",
    "for bar in bars.patches:\n",
    "    plt.text(bar.get_x() + bar.get_width() / 2, bar.get_height() - 10, f'{int(bar.get_height())}', \n",
    "             ha='center', va='bottom', color='white', fontsize=8, fontweight='bold', rotation=90)\n",
    "\n",
    "# Afișarea graficului\n",
    "plt.show()"
   ]
  },
  {
   "cell_type": "code",
   "execution_count": null,
   "id": "6c472c5a-effb-4ebc-ac2b-c0a360de4a2e",
   "metadata": {
    "tags": []
   },
   "outputs": [],
   "source": [
    "# Definim coloana pentru numărul mediu de elevi pe județ\n",
    "data['Medie_elevi_judet'] = data['Nr_elevi'] / data['idSchool']\n",
    "\n",
    "# Grupăm datele pe județ și calculăm media pentru fiecare județ\n",
    "medie_pe_judet = data.groupby('Judet')['Medie_elevi_judet'].mean().sort_values(ascending=False)\n",
    "\n",
    "# Crearea graficului pentru numărul mediu de elevi pe județ\n",
    "plt.figure(figsize=(10, 6))\n",
    "\n",
    "# Colorarea barelor în funcție de valoarea medie a elevilor pe județ\n",
    "colors = []\n",
    "for valoare in medie_pe_judet:\n",
    "    if valoare >= 600:\n",
    "        colors.append('green')\n",
    "    else:\n",
    "        colors.append('lightgreen')\n",
    "\n",
    "bars = medie_pe_judet.plot(kind='bar', color=colors, width=0.8)  # Modificarea grosimii barelor\n",
    "\n",
    "plt.title('Numărul mediu de elevi/liceu/județ')\n",
    "plt.xlabel('Județ')\n",
    "plt.ylabel('Elevi/Liceu')\n",
    "plt.xticks(rotation=90)\n",
    "plt.tight_layout()\n",
    "\n",
    "# Adăugarea etichetelor pentru valori pe fiecare bară cu poziționare la mijloc și culoare albă\n",
    "for bar in bars.patches:\n",
    "    plt.text(bar.get_x() + bar.get_width() / 2, bar.get_height() / 2, f'{bar.get_height():.2f}', \n",
    "             ha='center', va='center', color='white', fontsize=8, fontweight='bold', rotation=90)\n",
    "\n",
    "# Afișarea graficului\n",
    "plt.show()"
   ]
  },
  {
   "cell_type": "code",
   "execution_count": null,
   "id": "46c33a56-78e1-4258-aa44-4e9bb49c7078",
   "metadata": {
    "tags": []
   },
   "outputs": [],
   "source": [
    "# Histograma pentru distribuția numărului de elevi\n",
    "plt.figure(figsize=(8, 6))\n",
    "sns.histplot(data['Nr_elevi'], bins=5, kde=True)\n",
    "plt.title('Distribuția Numărului de Elevi')\n",
    "plt.xlabel('Numărul de Elevi')\n",
    "plt.ylabel('Frecvență')\n",
    "plt.show()"
   ]
  },
  {
   "cell_type": "code",
   "execution_count": null,
   "id": "84b1e37d-b1b6-47cb-93f1-0f07cd116154",
   "metadata": {
    "tags": []
   },
   "outputs": [],
   "source": [
    "# Histograma pentru distribuția numărului de profesori\n",
    "plt.figure(figsize=(8, 6))\n",
    "sns.histplot(data['Nr_profesori'], bins=5, kde=True)\n",
    "plt.title('Distribuția Numărului de Profesori')\n",
    "plt.xlabel('Numărul de Profesori')\n",
    "plt.ylabel('Frecvență')\n",
    "plt.show()"
   ]
  },
  {
   "cell_type": "code",
   "execution_count": null,
   "id": "d7bcc29a-b1eb-4ca1-9e85-b4f332209fbb",
   "metadata": {
    "tags": []
   },
   "outputs": [],
   "source": [
    "# Calculul coloanei 'BAC/Nr_elevi' ca raport între 'Elevi_cu_BAC' și 'Nr_elevi'\n",
    "data['BAC/Nr_elevi'] = data['Elevi_cu_BAC'] / data['Nr_elevi']\n",
    "\n",
    "# Calculul coloanei 'Profesori/Elevi' ca raport între 'Nr_profesori' și 'Nr_elevi'\n",
    "data['Profesori/Elevi'] = data['Nr_profesori'] / data['Nr_elevi']\n",
    "\n",
    "# Afișarea primelor câteva rânduri pentru a verifica noua coloană\n",
    "print(data[['Judet', 'Elevi_cu_BAC', 'Nr_elevi', 'BAC/Nr_elevi', 'Profesori/Elevi']].head())"
   ]
  },
  {
   "cell_type": "code",
   "execution_count": null,
   "id": "74dbc1d6-31cb-47d5-b627-e540111dbb91",
   "metadata": {
    "tags": []
   },
   "outputs": [],
   "source": [
    "# Sortarea datelor după coloanele relevante\n",
    "sorted_data = data.sort_values(by='BAC/Nr_elevi', ascending=False)\n",
    "\n",
    "# Crearea figuri și axelor\n",
    "fig, ax = plt.subplots(figsize=(14, 8))  # Ajustează dimensiunea figurii\n",
    "\n",
    "# Lățimea unei bare\n",
    "bar_width = 0.5  # Mărimea barelor\n",
    "\n",
    "# Calcularea pozițiilor pentru fiecare set de bare\n",
    "r1 = range(len(sorted_data))\n",
    "\n",
    "# Desenarea barelor pentru 'BAC/Nr_elevi'\n",
    "bars_bac_per_elevi = ax.bar(r1, sorted_data['BAC/Nr_elevi'], width=bar_width, color='skyblue', label='BAC/Nr_elevi', linewidth=1.5)  # Mărimea liniei barelor\n",
    "\n",
    "# Desenarea barelor pentru 'Profesori/Elevi'\n",
    "bars_prof_per_elevi = ax.bar([x + bar_width for x in r1], sorted_data['Profesori/Elevi'], width=bar_width, color='royalblue', label='Profesori/Elevi', linewidth=1.5)  # Mărimea liniei barelor\n",
    "\n",
    "# Offset pentru poziția etichetelor\n",
    "label_offset = 0.02\n",
    "\n",
    "# Adăugarea etichetelor pentru 'BAC/Nr_elevi' pe fiecare bară\n",
    "for bar in bars_bac_per_elevi:\n",
    "    yval = bar.get_height()\n",
    "    ax.text(bar.get_x() + bar.get_width() / 2, yval - label_offset, f\"{yval*100:.2f}%\", va='center', ha='center', rotation=90, fontsize=8, fontweight='bold')  # Ajustarea dimensiunii și stilului fontului\n",
    "\n",
    "# Adăugarea etichetelor pentru 'Profesori/Elevi' pe fiecare bară\n",
    "for bar in bars_prof_per_elevi:\n",
    "    yval = bar.get_height()\n",
    "    ax.text(bar.get_x() + bar.get_width() / 2, yval - label_offset, f\"{yval*100:.2f}%\", va='center', ha='center', rotation=90, fontsize=8, fontweight='bold')  # Ajustarea dimensiunii și stilului fontului\n",
    "\n",
    "# Setarea titlului și a etichetelor axelor\n",
    "plt.title('Județe după BAC/Nr_elevi și Profesori/Elevi')\n",
    "plt.xlabel('Județ')\n",
    "plt.ylabel('Raportul BAC/Nr_elevi și Profesori/Elevi')\n",
    "plt.xticks([r + bar_width / 2 for r in range(len(sorted_data))], sorted_data['Judet'], rotation=90)\n",
    "plt.tight_layout()\n",
    "\n",
    "# Adăugarea legendei\n",
    "plt.legend()\n",
    "\n",
    "# Formatarea axei y pentru a afișa valori ca procente\n",
    "ax.yaxis.set_major_formatter(ticker.PercentFormatter(1.0))\n",
    "\n",
    "# Afișarea graficului\n",
    "plt.show()"
   ]
  },
  {
   "cell_type": "code",
   "execution_count": null,
   "id": "64cc107d-4c26-425d-aca5-54a201f030b9",
   "metadata": {
    "tags": []
   },
   "outputs": [],
   "source": [
    "# Selecția datelor pentru județele dorite\n",
    "judete_selectate = ['HUNEDOARA', 'BUCURESTI', 'PRAHOVA', 'SUCEAVA', 'ILFOV']\n",
    "liceu_elevi = data[data['Judet'].isin(judete_selectate)][['Judet', 'idSchool', 'Nr_elevi']]\n",
    "\n",
    "# Redenumirea coloanelor pentru un DataFrame nou\n",
    "licee_elevi = liceu_elevi.rename(columns={'Judet': 'Judet', 'idSchool': 'idschool', 'Nr_elevi': 'nr_elevi'})\n",
    "\n",
    "# Afișarea noului DataFrame licee_elevi\n",
    "print(licee_elevi)"
   ]
  },
  {
   "cell_type": "code",
   "execution_count": null,
   "id": "2d078657-44b1-435f-82aa-0690db514cbd",
   "metadata": {
    "tags": []
   },
   "outputs": [],
   "source": [
    "# Eliminăm coloanele care nu sunt variabile continue (ex: coloanele 'Judet' și 'idSchool')\n",
    "data_numeric = data.drop(['Judet', 'idSchool', 'BAC/Nr_elevi', 'Profesori/Elevi', 'Medie_elevi_judet'], axis=1)\n",
    "\n",
    "# Calculăm matricea de corelație\n",
    "correlation_matrix = data_numeric.corr()\n",
    "\n",
    "# Vizualizăm matricea de corelație utilizând heatmap\n",
    "plt.figure(figsize=(20, 8))\n",
    "sns.heatmap(correlation_matrix, annot=True, cmap='coolwarm', fmt=\".2f\")\n",
    "plt.title('Matrice de corelație')\n",
    "plt.show()"
   ]
  },
  {
   "cell_type": "code",
   "execution_count": null,
   "id": "d9cdee68-ba3e-4257-b572-17a22750db15",
   "metadata": {
    "tags": []
   },
   "outputs": [],
   "source": [
    "# Selectăm coloanele relevante pentru numărul de licee cu limba de predare pentru fiecare limbă\n",
    "limbi_predare = ['bulgara', 'croata', 'engleza', 'germana', 'italiana', 'maghiara', 'neogreaca',\n",
    "                 'polona', 'romana', 'romani', 'rusa', 'sarba', 'slovaca', 'ucraineana']\n",
    "\n",
    "# Calculăm suma totală a liceelor pentru fiecare limbă de predare\n",
    "numar_licee_limba_predare = data[limbi_predare].sum()\n",
    "\n",
    "# Creăm graficul de bare și adăugăm etichetele cu numerele\n",
    "plt.figure(figsize=(10, 6))\n",
    "bar_plot = numar_licee_limba_predare.sort_values(ascending=False).plot(kind='bar', color='skyblue')\n",
    "plt.title('Numărul Total de Licee în funcție de Limba de Predare')\n",
    "plt.xlabel('Limba de Predare')\n",
    "plt.ylabel('Numărul Total de Licee')\n",
    "plt.xticks(rotation=45)\n",
    "\n",
    "# Adăugăm etichetele pentru fiecare bară\n",
    "for i, value in enumerate(numar_licee_limba_predare.sort_values(ascending=False)):\n",
    "    bar_plot.text(i, value + 10, str(value), ha='center', color='black', fontweight='bold')\n",
    "\n",
    "plt.tight_layout()\n",
    "plt.show()"
   ]
  },
  {
   "cell_type": "code",
   "execution_count": null,
   "id": "ce18d510-a58d-4f4e-86e0-97220782bc3d",
   "metadata": {
    "tags": []
   },
   "outputs": [],
   "source": [
    "# Defineți topul 5 județe pentru limba română\n",
    "top_5_romana = data.nlargest(5, 'romana')['Judet']\n",
    "\n",
    "# Calculați procentul romana/idSchool\n",
    "procent_romana = (data.loc[data['Judet'].isin(top_5_romana), 'romana'] / data.loc[data['Judet'].isin(top_5_romana), 'idSchool']).mul(100).round(2)\n",
    "\n",
    "# Creați treemap-ul pentru limba română\n",
    "plt.figure(figsize=(20, 10))\n",
    "sizes = data.loc[data['Judet'].isin(top_5_romana), 'romana']\n",
    "labels = data.loc[data['Judet'].isin(top_5_romana), 'Judet'].astype(str) + ' / ' + procent_romana.astype(str) + '%' + '\\n' + data.loc[data['Judet'].isin(top_5_romana), 'romana'].astype(str)\n",
    "\n",
    "# Adăugați bordura\n",
    "squarify.plot(sizes=sizes, label=labels, alpha=0.8, linewidth=1, edgecolor='black')\n",
    "plt.title('Top 5 județe în funcție de numărul liceelor cu predare în limba română')\n",
    "plt.axis('off')\n",
    "\n",
    "plt.show()"
   ]
  },
  {
   "cell_type": "code",
   "execution_count": null,
   "id": "bc7c5bda-cda2-4c11-b209-a70d4b6fbcc1",
   "metadata": {
    "tags": []
   },
   "outputs": [],
   "source": [
    "# Defineți topul 5 județe pentru limba maghiară\n",
    "top_5_maghiara = data.nlargest(5, 'maghiara')['Judet']\n",
    "\n",
    "# Calculați procentul maghiara/idSchool\n",
    "procent_maghiara = (data.loc[data['Judet'].isin(top_5_maghiara), 'maghiara'] / data.loc[data['Judet'].isin(top_5_maghiara), 'idSchool']).mul(100).round(2)\n",
    "\n",
    "# Creați treemap-ul pentru limba maghiară\n",
    "plt.figure(figsize=(20, 10))\n",
    "sizes = data.loc[data['Judet'].isin(top_5_maghiara), 'maghiara']\n",
    "labels = data.loc[data['Judet'].isin(top_5_maghiara), 'Judet'].astype(str) + ' / ' + procent_maghiara.astype(str) + '%' + '\\n' + data.loc[data['Judet'].isin(top_5_maghiara), 'maghiara'].astype(str)\n",
    "\n",
    "# Adăugați bordura\n",
    "squarify.plot(sizes=sizes, label=labels, alpha=0.8, linewidth=1, edgecolor='black')\n",
    "plt.title('Top 5 județe în funcție de numărul liceelor cu predare în limba maghiară')\n",
    "plt.axis('off')\n",
    "\n",
    "plt.show()"
   ]
  },
  {
   "cell_type": "code",
   "execution_count": null,
   "id": "fc9a397c-6288-4e76-ba41-ea63b03e273c",
   "metadata": {
    "tags": []
   },
   "outputs": [],
   "source": [
    "# Defineți topul 5 județe pentru limba germană\n",
    "top_5_germana = data.nlargest(5, 'germana')['Judet']\n",
    "\n",
    "# Calculați procentul germana/idSchool\n",
    "procent_germana = (data.loc[data['Judet'].isin(top_5_germana), 'germana'] / data.loc[data['Judet'].isin(top_5_germana), 'idSchool']).mul(100).round(2)\n",
    "\n",
    "# Creați treemap-ul pentru limba germană\n",
    "plt.figure(figsize=(20, 10))\n",
    "sizes = data.loc[data['Judet'].isin(top_5_germana), 'germana']\n",
    "labels = data.loc[data['Judet'].isin(top_5_germana), 'Judet'].astype(str) + ' / ' + procent_germana.astype(str) + '%' + '\\n' + data.loc[data['Judet'].isin(top_5_germana), 'germana'].astype(str)\n",
    "\n",
    "# Adăugați bordura\n",
    "squarify.plot(sizes=sizes, label=labels, alpha=0.8, linewidth=1, edgecolor='black')\n",
    "plt.title('Top 5 județe în funcție de numărul liceelor cu predare în limba germană')\n",
    "plt.axis('off')\n",
    "\n",
    "plt.show()"
   ]
  }
 ],
 "metadata": {
  "kernelspec": {
   "display_name": "Python 3 (ipykernel)",
   "language": "python",
   "name": "python3"
  },
  "language_info": {
   "codemirror_mode": {
    "name": "ipython",
    "version": 3
   },
   "file_extension": ".py",
   "mimetype": "text/x-python",
   "name": "python",
   "nbconvert_exporter": "python",
   "pygments_lexer": "ipython3",
   "version": "3.10.9"
  }
 },
 "nbformat": 4,
 "nbformat_minor": 5
}
