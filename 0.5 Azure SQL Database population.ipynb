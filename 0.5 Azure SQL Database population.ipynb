{
 "cells": [
  {
   "cell_type": "markdown",
   "id": "446f7115-a7a8-48fa-abf3-d12c1a34e527",
   "metadata": {},
   "source": [
    "## AZURE SQL - DATABASE POPULATION\n",
    "SCHOOL DETAILS DATA\n",
    "Make sure that you have the latest ODBC driver\n",
    "https://learn.microsoft.com/en-us/sql/connect/odbc/download-odbc-driver-for-sql-server?view=sql-server-ver16#download-for-windows"
   ]
  },
  {
   "cell_type": "code",
   "execution_count": 1,
   "id": "76cc680d-14ce-4c33-aadb-f66e37f96d9a",
   "metadata": {},
   "outputs": [
    {
     "name": "stdout",
     "output_type": "stream",
     "text": [
      "Requirement already satisfied: pyodbc in c:\\users\\vlada\\anaconda3\\lib\\site-packages (4.0.34)\n"
     ]
    }
   ],
   "source": [
    "! pip install pyodbc"
   ]
  },
  {
   "cell_type": "code",
   "execution_count": null,
   "id": "58b6a901-8977-4be9-9db9-dcb7626bfa24",
   "metadata": {},
   "outputs": [],
   "source": [
    "!  pip install sqlalchemy"
   ]
  },
  {
   "cell_type": "code",
   "execution_count": 1,
   "id": "25c1ec48-d220-47d8-992d-60d6a1a393f2",
   "metadata": {},
   "outputs": [],
   "source": [
    "import pandas as pd\n",
    "import json\n",
    "import pyodbc\n",
    "import sqlalchemy as db\n",
    "import urllib\n",
    "\n",
    "exec(open('azure_credentials.py').read())"
   ]
  },
  {
   "cell_type": "code",
   "execution_count": 2,
   "id": "809733f3-dee8-409c-8f11-185dd071f9b3",
   "metadata": {},
   "outputs": [
    {
     "data": {
      "text/plain": [
       "'aid2023adminlog'"
      ]
     },
     "execution_count": 2,
     "metadata": {},
     "output_type": "execute_result"
    }
   ],
   "source": [
    "username"
   ]
  },
  {
   "cell_type": "code",
   "execution_count": 3,
   "id": "e833557f-21f0-4cdd-bcd3-a8f507afd3f1",
   "metadata": {},
   "outputs": [],
   "source": [
    "# Load csv\n",
    "details_schoolNumbers = pd.read_csv('details_schoolNumbers.csv')"
   ]
  },
  {
   "cell_type": "code",
   "execution_count": 5,
   "id": "a48d4a54-6414-40f7-a644-b7fbb2dea255",
   "metadata": {},
   "outputs": [
    {
     "data": {
      "text/html": [
       "<div>\n",
       "<style scoped>\n",
       "    .dataframe tbody tr th:only-of-type {\n",
       "        vertical-align: middle;\n",
       "    }\n",
       "\n",
       "    .dataframe tbody tr th {\n",
       "        vertical-align: top;\n",
       "    }\n",
       "\n",
       "    .dataframe thead th {\n",
       "        text-align: right;\n",
       "    }\n",
       "</style>\n",
       "<table border=\"1\" class=\"dataframe\">\n",
       "  <thead>\n",
       "    <tr style=\"text-align: right;\">\n",
       "      <th></th>\n",
       "      <th>idSchool</th>\n",
       "      <th>studyFormationsCount</th>\n",
       "      <th>studentsCount</th>\n",
       "      <th>personnelCount</th>\n",
       "    </tr>\n",
       "  </thead>\n",
       "  <tbody>\n",
       "    <tr>\n",
       "      <th>0</th>\n",
       "      <td>11269910</td>\n",
       "      <td>4</td>\n",
       "      <td>131</td>\n",
       "      <td>7</td>\n",
       "    </tr>\n",
       "    <tr>\n",
       "      <th>1</th>\n",
       "      <td>11256876</td>\n",
       "      <td>0</td>\n",
       "      <td>0</td>\n",
       "      <td>0</td>\n",
       "    </tr>\n",
       "    <tr>\n",
       "      <th>2</th>\n",
       "      <td>11256865</td>\n",
       "      <td>0</td>\n",
       "      <td>0</td>\n",
       "      <td>0</td>\n",
       "    </tr>\n",
       "  </tbody>\n",
       "</table>\n",
       "</div>"
      ],
      "text/plain": [
       "   idSchool  studyFormationsCount  studentsCount  personnelCount\n",
       "0  11269910                     4            131               7\n",
       "1  11256876                     0              0               0\n",
       "2  11256865                     0              0               0"
      ]
     },
     "execution_count": 5,
     "metadata": {},
     "output_type": "execute_result"
    }
   ],
   "source": [
    "details_schoolNumbers.head(3)"
   ]
  },
  {
   "cell_type": "markdown",
   "id": "4216adf8-1280-4779-a28e-2c5af4531491",
   "metadata": {},
   "source": [
    "#### CONNECTION DETAILS"
   ]
  },
  {
   "cell_type": "code",
   "execution_count": 4,
   "id": "637fe7d4-fb67-443c-bb2c-47e8faf11a31",
   "metadata": {},
   "outputs": [],
   "source": [
    "database_name = \"AID2023\"\n",
    "driver = '{ODBC Driver 18 for SQL Server}'\n",
    "server_name = \"aid-2023-srv.database.windows.net\""
   ]
  },
  {
   "cell_type": "markdown",
   "id": "6c48ac50-aebb-49d4-a535-df67d7a7a7be",
   "metadata": {},
   "source": [
    "#### CONNECT TO AZURE DATABASE\n",
    "Driver={ODBC Driver 18 for SQL Server};Server=tcp:aid-2023-srv.database.windows.net,1433;Database=AID2023;Uid=aid2023adminlog;Pwd={your_password_here};Encrypt=yes;TrustServerCertificate=no;Connection Timeout=30;"
   ]
  },
  {
   "cell_type": "code",
   "execution_count": 5,
   "id": "81a3ca37-b6fd-4b49-b7e7-95944f551d34",
   "metadata": {},
   "outputs": [
    {
     "name": "stdout",
     "output_type": "stream",
     "text": [
      "Connection is open\n"
     ]
    }
   ],
   "source": [
    "# Create the server url\n",
    "server = 'tcp:{server_name},1433'.format(server_name = server_name)\n",
    "\n",
    "#create the full connection string <- make sure to write it as it is bellow - check your credentials to be the right ones\n",
    "\n",
    "connection_string = 'DRIVER={driver};SERVER={server};DATABASE={database};UID={username};PWD={password};charset=utf8'.format(\n",
    "    driver = driver,\n",
    "    server=server,\n",
    "    database=database_name,\n",
    "    username=username,\n",
    "    password=password\n",
    ")                              \n",
    "\n",
    "cnxn: pyodbc.Connection = pyodbc.connect(connection_string)\n",
    "cursor: pyodbc.Cursor = cnxn.cursor() \n",
    "\n",
    "#execute a query with the cursor to check if the connection is maade\n",
    "print(\"Connection is open\") if cursor.execute(\"SELECT 1\") else print(f\"Connection is closed: {e}\")\n",
    "\n"
   ]
  },
  {
   "cell_type": "markdown",
   "id": "56bc33c3-762d-4073-ace0-ac640e6c6e60",
   "metadata": {},
   "source": [
    "### USE SQL ALCHEMY TO LOAD THE DATAFRAMES"
   ]
  },
  {
   "cell_type": "code",
   "execution_count": 11,
   "id": "b9673d23-2ed9-4497-9ab1-bf81bcf66397",
   "metadata": {},
   "outputs": [],
   "source": [
    "#obtain the parameters from the pyodbc connection string\n",
    "params = urllib.parse.quote_plus(connection_string)\n",
    "#create the engine\n",
    "sqlalchemy_engine = db.create_engine(\"mssql+pyodbc:///?odbc_connect=%s\" % params)\n"
   ]
  },
  {
   "cell_type": "code",
   "execution_count": 16,
   "id": "ae8d67d6-0cd1-4e9e-ab26-f9fe585e1ce8",
   "metadata": {},
   "outputs": [
    {
     "data": {
      "text/plain": [
       "Engine(mssql+pyodbc:///?odbc_connect=DRIVER%3D%7BODBC+Driver+18+for+SQL+Server%7D%3BSERVER%3Dtcp%3Aaid-2023-srv.database.windows.net%2C1433%3BDATABASE%3DAID2023%3BUID%3Daid2023adminlog%3BPWD%3D%40Aidr2023sql%3Bcharset%3Dutf8)"
      ]
     },
     "execution_count": 16,
     "metadata": {},
     "output_type": "execute_result"
    }
   ],
   "source": [
    "sqlalchemy_engine"
   ]
  },
  {
   "cell_type": "markdown",
   "id": "5f91d0c5-e591-4f52-883a-40b9e1c7a7b2",
   "metadata": {},
   "source": [
    "### DETAILS DATA"
   ]
  },
  {
   "cell_type": "markdown",
   "id": "a3bfeba1-5f01-4518-ac80-a89fb56a4bc5",
   "metadata": {},
   "source": [
    "#### SCHOOL NUMBERS DF TO SQL"
   ]
  },
  {
   "cell_type": "code",
   "execution_count": 17,
   "id": "de58b7a9-ae80-4bbd-beee-990ea995abf1",
   "metadata": {},
   "outputs": [
    {
     "data": {
      "text/plain": [
       "Index(['idSchool', 'studyFormationsCount', 'studentsCount', 'personnelCount'], dtype='object')"
      ]
     },
     "execution_count": 17,
     "metadata": {},
     "output_type": "execute_result"
    }
   ],
   "source": [
    "details_schoolNumbers.columns"
   ]
  },
  {
   "cell_type": "code",
   "execution_count": 6,
   "id": "7fd43b21-1395-4eb3-9321-fa2d12bd7509",
   "metadata": {},
   "outputs": [
    {
     "name": "stdout",
     "output_type": "stream",
     "text": [
      "Installed ODBC Drivers:\n",
      "SQL Server\n",
      "PostgreSQL ANSI(x64)\n",
      "PostgreSQL Unicode(x64)\n",
      "ODBC Driver 17 for SQL Server\n",
      "MySQL ODBC 8.0 ANSI Driver\n",
      "MySQL ODBC 8.0 Unicode Driver\n",
      "ODBC Driver 18 for SQL Server\n",
      "Microsoft Access Driver (*.mdb, *.accdb)\n",
      "Microsoft Excel Driver (*.xls, *.xlsx, *.xlsm, *.xlsb)\n",
      "Microsoft Access Text Driver (*.txt, *.csv)\n"
     ]
    }
   ],
   "source": [
    "\n",
    "# Get the list of installed drivers\n",
    "drivers = [driver for driver in pyodbc.drivers()]\n",
    "\n",
    "# Print the list of drivers\n",
    "print(\"Installed ODBC Drivers:\")\n",
    "for driver in drivers:\n",
    "    print(driver)"
   ]
  },
  {
   "cell_type": "code",
   "execution_count": 8,
   "id": "5b06a431-872b-4643-b254-a2001a37843c",
   "metadata": {},
   "outputs": [
    {
     "data": {
      "text/html": [
       "<div>\n",
       "<style scoped>\n",
       "    .dataframe tbody tr th:only-of-type {\n",
       "        vertical-align: middle;\n",
       "    }\n",
       "\n",
       "    .dataframe tbody tr th {\n",
       "        vertical-align: top;\n",
       "    }\n",
       "\n",
       "    .dataframe thead th {\n",
       "        text-align: right;\n",
       "    }\n",
       "</style>\n",
       "<table border=\"1\" class=\"dataframe\">\n",
       "  <thead>\n",
       "    <tr style=\"text-align: right;\">\n",
       "      <th></th>\n",
       "      <th>idSchool</th>\n",
       "      <th>studyFormationsCount</th>\n",
       "      <th>studentsCount</th>\n",
       "      <th>personnelCount</th>\n",
       "    </tr>\n",
       "  </thead>\n",
       "  <tbody>\n",
       "    <tr>\n",
       "      <th>0</th>\n",
       "      <td>11269910</td>\n",
       "      <td>4</td>\n",
       "      <td>131</td>\n",
       "      <td>7</td>\n",
       "    </tr>\n",
       "    <tr>\n",
       "      <th>1</th>\n",
       "      <td>11256876</td>\n",
       "      <td>0</td>\n",
       "      <td>0</td>\n",
       "      <td>0</td>\n",
       "    </tr>\n",
       "    <tr>\n",
       "      <th>2</th>\n",
       "      <td>11256865</td>\n",
       "      <td>0</td>\n",
       "      <td>0</td>\n",
       "      <td>0</td>\n",
       "    </tr>\n",
       "    <tr>\n",
       "      <th>3</th>\n",
       "      <td>11284187</td>\n",
       "      <td>0</td>\n",
       "      <td>0</td>\n",
       "      <td>0</td>\n",
       "    </tr>\n",
       "    <tr>\n",
       "      <th>4</th>\n",
       "      <td>11270113</td>\n",
       "      <td>0</td>\n",
       "      <td>0</td>\n",
       "      <td>0</td>\n",
       "    </tr>\n",
       "  </tbody>\n",
       "</table>\n",
       "</div>"
      ],
      "text/plain": [
       "   idSchool  studyFormationsCount  studentsCount  personnelCount\n",
       "0  11269910                     4            131               7\n",
       "1  11256876                     0              0               0\n",
       "2  11256865                     0              0               0\n",
       "3  11284187                     0              0               0\n",
       "4  11270113                     0              0               0"
      ]
     },
     "execution_count": 8,
     "metadata": {},
     "output_type": "execute_result"
    }
   ],
   "source": [
    "details_schoolNumbers.head()"
   ]
  },
  {
   "cell_type": "markdown",
   "id": "607c6282-7593-46aa-b01e-c7469bad8543",
   "metadata": {},
   "source": [
    "#### UPLOAD TO SQL"
   ]
  },
  {
   "cell_type": "code",
   "execution_count": null,
   "id": "e9646c70-f91b-404d-ab56-112099cca266",
   "metadata": {},
   "outputs": [],
   "source": [
    "#insert the values form details df into sql table\n",
    "details_schoolNumbers.to_sql(\"Details_Vlad\", sqlalchemy_engine, if_exists='replace', index=False) # \"Details\" = the name of the table you want to create in the database\n"
   ]
  },
  {
   "cell_type": "markdown",
   "id": "d03566e8-4925-45c9-8509-c3bbf432252a",
   "metadata": {},
   "source": [
    "#### QUERY DB"
   ]
  },
  {
   "cell_type": "code",
   "execution_count": null,
   "id": "dcfd3233-da7d-4e89-807d-63c1c3a1fbf9",
   "metadata": {},
   "outputs": [],
   "source": [
    "sql_query = \"SELECT TOP 10 * FROM Details_Vlad\" \n",
    "# execute\n",
    "cursor.execute(sql_query)\n",
    "top10 = cursor.fetchall()"
   ]
  },
  {
   "cell_type": "code",
   "execution_count": null,
   "id": "7b0dddef-89f0-44ca-a546-6ab3042ae43b",
   "metadata": {},
   "outputs": [],
   "source": []
  }
 ],
 "metadata": {
  "kernelspec": {
   "display_name": "Python 3 (ipykernel)",
   "language": "python",
   "name": "python3"
  },
  "language_info": {
   "codemirror_mode": {
    "name": "ipython",
    "version": 3
   },
   "file_extension": ".py",
   "mimetype": "text/x-python",
   "name": "python",
   "nbconvert_exporter": "python",
   "pygments_lexer": "ipython3",
   "version": "3.10.9"
  }
 },
 "nbformat": 4,
 "nbformat_minor": 5
}
