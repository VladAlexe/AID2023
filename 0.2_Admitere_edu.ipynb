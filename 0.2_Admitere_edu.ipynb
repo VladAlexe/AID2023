{
 "cells": [
  {
   "cell_type": "markdown",
   "id": "e2c2e1e1-0dc1-4451-b1b5-dc4409be00bc",
   "metadata": {},
   "source": [
    "## NOTE ADMITERE LICEU - API DOWNLOAD\n",
    "\n",
    "http://admitere.edu.ro"
   ]
  },
  {
   "cell_type": "markdown",
   "id": "16770c96-fd9d-49b6-b3a1-c2b869ebde72",
   "metadata": {},
   "source": [
    "### Import libraries"
   ]
  },
  {
   "cell_type": "code",
   "execution_count": null,
   "id": "e5aee86f-81f4-4d4f-94be-10f86f35105e",
   "metadata": {},
   "outputs": [],
   "source": [
    "import json\n",
    "import pandas as pd\n",
    "from urllib import request\n"
   ]
  },
  {
   "cell_type": "code",
   "execution_count": 19,
   "id": "e339f2ea-038f-4d4c-8721-cff368f1a35f",
   "metadata": {
    "tags": []
   },
   "outputs": [],
   "source": [
    "# lista  judetelor din Romania\n",
    "\n",
    "counties = ['AB','AG','AR','B','BC','BH','BN','BR','BT','BV','BZ','CJ','CL','CS','CT','CV','DB','DJ',\n",
    "          'GJ','GL','GR','HD','HR','IF','IL','IS','MH','MM','MS','NT','OT','PH','SB','SJ','SM','SV','TL','TM','TR','VL','VN','VS']\n",
    "\n",
    "# anul pentru care se va face requestul\n",
    "\n",
    "an = '2023'\n",
    "\n",
    "# api requests\n",
    "\n",
    "api_requests = ['highschool','specialization','school','empty-seats']"
   ]
  },
  {
   "cell_type": "markdown",
   "id": "9843f684-10b4-4827-883e-e3104c46ea85",
   "metadata": {},
   "source": [
    "### API DOWNLOAD"
   ]
  },
  {
   "cell_type": "code",
   "execution_count": 20,
   "id": "836c178e-d558-4ccb-ae3a-be990a84feac",
   "metadata": {},
   "outputs": [],
   "source": [
    "data = dict()\n",
    "for county in counties:\n",
    "    county_data = dict()\n",
    "    for req in api_requests:\n",
    "        response = request.urlopen(f'http://admitere.edu.ro/{an}/repartizare/{county}/data/{req}.json').read()\n",
    "        json_response = json.loads(response)\n",
    "        county_data[req] = json_response\n",
    "    data[county] = county_data"
   ]
  },
  {
   "cell_type": "code",
   "execution_count": 26,
   "id": "646157a7-8f46-4416-b11a-c578502def48",
   "metadata": {},
   "outputs": [
    {
     "data": {
      "text/plain": [
       "{'j': 'PH',\n",
       " 'lc': '2961100267',\n",
       " 'l': 'COLEGIUL TEHNIC FORESTIER, MUNICIPIUL CÂMPINA',\n",
       " 't': 'Unitate de învăţământ',\n",
       " 'a': 'CÂMPINA STR CAROL I NR 31',\n",
       " 'p': '0244336521',\n",
       " 'f': '0244336521',\n",
       " 'm': 'URBAN',\n",
       " 'sp': 4}"
      ]
     },
     "execution_count": 26,
     "metadata": {},
     "output_type": "execute_result"
    }
   ],
   "source": [
    "data['PH']['highschool'][0]"
   ]
  },
  {
   "cell_type": "code",
   "execution_count": null,
   "id": "b9ca3816-1b86-4fb5-bd59-ccd9b2676142",
   "metadata": {},
   "outputs": [],
   "source": []
  }
 ],
 "metadata": {
  "kernelspec": {
   "display_name": "Python 3",
   "language": "python",
   "name": "python3"
  },
  "language_info": {
   "codemirror_mode": {
    "name": "ipython",
    "version": 3
   },
   "file_extension": ".py",
   "mimetype": "text/x-python",
   "name": "python",
   "nbconvert_exporter": "python",
   "pygments_lexer": "ipython3",
   "version": "3.9.16"
  }
 },
 "nbformat": 4,
 "nbformat_minor": 5
}
