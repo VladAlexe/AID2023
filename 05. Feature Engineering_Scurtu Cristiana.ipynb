{
 "cells": [
  {
   "cell_type": "code",
   "execution_count": 1,
   "id": "c79b09b7-8418-49cf-a72a-faaf944ca592",
   "metadata": {
    "collapsed": true,
    "jupyter": {
     "outputs_hidden": true
    },
    "tags": []
   },
   "outputs": [
    {
     "name": "stdout",
     "output_type": "stream",
     "text": [
      "Requirement already satisfied: scikit-learn in c:\\users\\cristiana\\anaconda3\\envs\\aid\\lib\\site-packages (1.3.2)\n",
      "Requirement already satisfied: numpy<2.0,>=1.17.3 in c:\\users\\cristiana\\anaconda3\\envs\\aid\\lib\\site-packages (from scikit-learn) (1.26.2)\n",
      "Requirement already satisfied: scipy>=1.5.0 in c:\\users\\cristiana\\anaconda3\\envs\\aid\\lib\\site-packages (from scikit-learn) (1.11.4)\n",
      "Requirement already satisfied: joblib>=1.1.1 in c:\\users\\cristiana\\anaconda3\\envs\\aid\\lib\\site-packages (from scikit-learn) (1.3.2)\n",
      "Requirement already satisfied: threadpoolctl>=2.0.0 in c:\\users\\cristiana\\anaconda3\\envs\\aid\\lib\\site-packages (from scikit-learn) (3.2.0)\n"
     ]
    }
   ],
   "source": [
    "!pip install scikit-learn"
   ]
  },
  {
   "cell_type": "code",
   "execution_count": 3,
   "id": "8322ab8d-2280-42c4-9bb0-bbf6d59bec6c",
   "metadata": {
    "collapsed": true,
    "jupyter": {
     "outputs_hidden": true
    },
    "tags": []
   },
   "outputs": [
    {
     "name": "stdout",
     "output_type": "stream",
     "text": [
      "Requirement already satisfied: pandas in c:\\users\\cristiana\\anaconda3\\envs\\aid\\lib\\site-packages (2.1.3)\n",
      "Requirement already satisfied: numpy in c:\\users\\cristiana\\anaconda3\\envs\\aid\\lib\\site-packages (1.26.2)\n",
      "Requirement already satisfied: scikit-learn in c:\\users\\cristiana\\anaconda3\\envs\\aid\\lib\\site-packages (1.3.2)\n",
      "Requirement already satisfied: statsmodels in c:\\users\\cristiana\\anaconda3\\envs\\aid\\lib\\site-packages (0.14.0)\n",
      "Requirement already satisfied: python-dateutil>=2.8.2 in c:\\users\\cristiana\\anaconda3\\envs\\aid\\lib\\site-packages (from pandas) (2.8.2)\n",
      "Requirement already satisfied: pytz>=2020.1 in c:\\users\\cristiana\\anaconda3\\envs\\aid\\lib\\site-packages (from pandas) (2023.3.post1)\n",
      "Requirement already satisfied: tzdata>=2022.1 in c:\\users\\cristiana\\anaconda3\\envs\\aid\\lib\\site-packages (from pandas) (2023.3)\n",
      "Requirement already satisfied: scipy>=1.5.0 in c:\\users\\cristiana\\anaconda3\\envs\\aid\\lib\\site-packages (from scikit-learn) (1.11.4)\n",
      "Requirement already satisfied: joblib>=1.1.1 in c:\\users\\cristiana\\anaconda3\\envs\\aid\\lib\\site-packages (from scikit-learn) (1.3.2)\n",
      "Requirement already satisfied: threadpoolctl>=2.0.0 in c:\\users\\cristiana\\anaconda3\\envs\\aid\\lib\\site-packages (from scikit-learn) (3.2.0)\n",
      "Requirement already satisfied: patsy>=0.5.2 in c:\\users\\cristiana\\anaconda3\\envs\\aid\\lib\\site-packages (from statsmodels) (0.5.3)\n",
      "Requirement already satisfied: packaging>=21.3 in c:\\users\\cristiana\\anaconda3\\envs\\aid\\lib\\site-packages (from statsmodels) (23.1)\n",
      "Requirement already satisfied: six in c:\\users\\cristiana\\anaconda3\\envs\\aid\\lib\\site-packages (from patsy>=0.5.2->statsmodels) (1.16.0)\n"
     ]
    }
   ],
   "source": [
    "!pip install pandas numpy scikit-learn statsmodels"
   ]
  },
  {
   "cell_type": "code",
   "execution_count": 4,
   "id": "ec5c3c54-3c1b-4ba4-a6a7-a9df238087af",
   "metadata": {
    "tags": []
   },
   "outputs": [],
   "source": [
    "import pandas as pd\n",
    "import numpy as np\n",
    "from scipy.sparse import issparse\n",
    "from sklearn.model_selection import train_test_split\n",
    "from sklearn.preprocessing import StandardScaler, OneHotEncoder\n",
    "from sklearn.compose import ColumnTransformer\n",
    "from sklearn.metrics import mean_squared_error, mean_absolute_error, r2_score\n",
    "import statsmodels.api as sm"
   ]
  },
  {
   "cell_type": "code",
   "execution_count": 11,
   "id": "beb947ee-c088-40cd-b830-a99f75d5cea4",
   "metadata": {
    "tags": []
   },
   "outputs": [
    {
     "name": "stdout",
     "output_type": "stream",
     "text": [
      "Index(['idSchool', 'Anul Scolar', 'Numele Scolii', 'Tipul Scolii',\n",
      "       'Programul Scolii', 'Forma de proprietate', 'Judetul', 'Localitatea',\n",
      "       'email', 'numele_scolii', 'tipul_clasei', 'numar_calculatoare',\n",
      "       'numar_locuri', 'anul_achizitiei', 'Media'],\n",
      "      dtype='object')\n"
     ]
    }
   ],
   "source": [
    "df = pd.read_csv(\"tabel_final.csv\")\n",
    "print(df.columns)"
   ]
  },
  {
   "cell_type": "markdown",
   "id": "7d21c6b4-c734-4fc0-a2da-27c7f166d7a9",
   "metadata": {
    "tags": []
   },
   "source": [
    "### Identificarea variabilelor relevante"
   ]
  },
  {
   "cell_type": "markdown",
   "id": "52d02e33-71f0-475a-884a-0ac0e006d298",
   "metadata": {},
   "source": [
    "##### Prima etapă în feature engineering este de a identifica variabilele care sunt relevante pentru problema pe care o analizezi. Variabile relevante identificate:\n",
    "##### Media: Media elevului, care ar putea fi variabila țintă pentru analizele de performanță ale elevilor.\n",
    "###### numar_locuri: Numărul locurilor, care ar putea indica capacitatea sălilor de clasă sau mijloacele de transport.\n",
    "###### Numar_calculatoare: Numărul de calculatoare disponibile, care poate fi un indicator al resurselor educaționale ale școlii.\n",
    "###### Anul_achizitiei: Anul achiziției, care ar putea indica vechimea echipamentelor sau a infrastructurii.\n",
    "###### suprafata: Suprafața sălii, care ar putea fi un factor în confortul elevilor și eficiența învățării.\n"
   ]
  },
  {
   "cell_type": "code",
   "execution_count": 32,
   "id": "b3d140ef-f263-4247-9b09-121dceb037a0",
   "metadata": {
    "tags": []
   },
   "outputs": [],
   "source": [
    "# Înlocuirea '-' cu NaN pentru a putea face conversii numerice\n",
    "df.replace('-', np.nan, inplace=True)"
   ]
  },
  {
   "cell_type": "code",
   "execution_count": 13,
   "id": "b487133d-038c-4e22-87d9-a0b8d89c500b",
   "metadata": {
    "tags": []
   },
   "outputs": [],
   "source": [
    "# Conversia coloanelor în tipuri numerice și tratamentul valorilor NaN\n",
    "numeric_cols = ['numar_calculatoare', 'numar_locuri', 'anul_achizitiei', 'Media']\n",
    "for col in numeric_cols:\n",
    "    df[col] = pd.to_numeric(df[col], errors='coerce')"
   ]
  },
  {
   "cell_type": "code",
   "execution_count": 14,
   "id": "375cd718-8dc8-42b7-af78-257bb4102e1e",
   "metadata": {
    "tags": []
   },
   "outputs": [],
   "source": [
    "# Curățarea datelor după conversie\n",
    "df.dropna(subset=numeric_cols, inplace=True)"
   ]
  },
  {
   "cell_type": "markdown",
   "id": "3dcb6856-8987-4a2b-ac48-7af905ee77cb",
   "metadata": {
    "tags": []
   },
   "source": [
    "### Feature Engineering"
   ]
  },
  {
   "cell_type": "markdown",
   "id": "b310e124-28d2-4840-8556-303bad95c73e",
   "metadata": {},
   "source": [
    "##### Creează noi caracteristici (features), inclusiv 'rata_calculatoare' (raportul dintre numărul de calculatoare și numărul de locuri) și 'vechime_calculatoare' (diferența dintre anul curent, presupus 2019, și anul achiziției calculatoarelor)."
   ]
  },
  {
   "cell_type": "code",
   "execution_count": 15,
   "id": "96ab0885-351e-488e-9052-937b08c277f8",
   "metadata": {
    "tags": []
   },
   "outputs": [],
   "source": [
    "# Feature Engineering\n",
    "df['rata_calculatoare'] = df['numar_calculatoare'] / df['numar_locuri']\n",
    "df['vechime_calculatoare'] = 2019 - df['anul_achizitiei']\n",
    "df['indice_modernitate_tehnologie'] = (2019 - df['anul_achizitiei']) * df['numar_calculatoare']\n",
    "df['raport_facilitati_scoala'] = df['numar_calculatoare'] / df['numar_locuri']"
   ]
  },
  {
   "cell_type": "code",
   "execution_count": 17,
   "id": "f6628cc6-c74a-40b2-a270-900cb24ef344",
   "metadata": {
    "tags": []
   },
   "outputs": [],
   "source": [
    "# Identificarea caracteristicilor numerice și categorice\n",
    "features_numerice = ['numar_calculatoare', 'numar_locuri', 'anul_achizitiei', 'rata_calculatoare', 'vechime_calculatoare',\n",
    "                     'indice_modernitate_tehnologie', 'raport_facilitati_scoala']\n",
    "features_categorice = ['Tipul Scolii', 'Judetul']"
   ]
  },
  {
   "cell_type": "markdown",
   "id": "ad9dcd60-2e9b-4e60-a1db-d767ab43cb38",
   "metadata": {},
   "source": [
    "##### Indicele de modernitate a tehnologiei - Acest indice ar putea fi creat pentru a evalua modernitatea echipamentelor tehnologice (calculatoare) din școli. Acest indice ar putea fi calculat prin combinarea 'anul_achizitiei' cu 'numar_calculatoare', de exemplu, prin ponderarea numărului de calculatoare cu vechimea acestora. Un calcul simplu ar putea fi 1 / (Anul Curent - anul_achizitiei) * numar_calculatoare. Acest indice va da mai multă greutate școlilor cu echipamente mai noi. Presupunând că echipamentele tehnologice mai noi sunt potențial mai eficiente sau mai adecvate pentru nevoile educaționale curente, acest indice ar putea oferi o perspectivă mai bună asupra influenței tehnologiei asupra performanței școlare."
   ]
  },
  {
   "cell_type": "markdown",
   "id": "cbcaae6f-c4c9-4820-9de9-1612b113f42e",
   "metadata": {},
   "source": [
    "##### Raportul dintre Facilitățile Școlare și Mărimea Școlii - Acest raport ar putea fi definit ca numărul de calculatoare per elev sau per clasă (dacă informația despre numărul de elevi sau clase este disponibilă). Dacă aceste date nu sunt disponibile, se poate folosi 'numar_locuri' ca proxy pentru mărimea școlii. Formula ar putea fi numar_calculatoare / numar_locuri. Acest raport ar putea ajuta la înțelegerea modului în care resursele sunt distribuite în raport cu dimensiunea școlii și ar putea avea o influență asupra performanței educaționale.\n"
   ]
  },
  {
   "cell_type": "markdown",
   "id": "84abb212-bdf8-4218-9893-c92203b32efc",
   "metadata": {},
   "source": [
    "### Procesarea datelor"
   ]
  },
  {
   "cell_type": "markdown",
   "id": "688e708a-7874-4dd9-8eb1-4719da13243e",
   "metadata": {},
   "source": [
    "##### Aplicarea standardizarii (scalarea) caracteristicilor numerice și transformarea One-Hot Encoding pentru variabilele categorice."
   ]
  },
  {
   "cell_type": "markdown",
   "id": "f0be1eb8-fa31-4cea-b037-545844975602",
   "metadata": {},
   "source": [
    "##### Am folosit ColumnTransformer pentru a combina aceste transformări într-un singur proces"
   ]
  },
  {
   "cell_type": "code",
   "execution_count": 18,
   "id": "2d71b2f3-de7f-4f45-914d-297e66cf78fb",
   "metadata": {
    "tags": []
   },
   "outputs": [],
   "source": [
    "# Crearea unui ColumnTransformer pentru preprocesare\n",
    "preprocessor = ColumnTransformer(\n",
    "    transformers=[\n",
    "        ('num', StandardScaler(), features_numerice),\n",
    "        ('cat', OneHotEncoder(), features_categorice)\n",
    "    ]\n",
    ")\n"
   ]
  },
  {
   "cell_type": "code",
   "execution_count": 19,
   "id": "d3767df2-7305-434f-8f0f-3610a34977c9",
   "metadata": {
    "tags": []
   },
   "outputs": [],
   "source": [
    "# Separarea setului de date în caracteristici și țintă\n",
    "X = df.drop('Media', axis=1)\n",
    "Y = df['Media']"
   ]
  },
  {
   "cell_type": "code",
   "execution_count": 20,
   "id": "05926a0c-373d-4c55-ba59-1fb406dfecc5",
   "metadata": {
    "tags": []
   },
   "outputs": [],
   "source": [
    "# Separarea datelor în seturi de antrenament și test\n",
    "X_train, X_test, Y_train, Y_test = train_test_split(X, Y, test_size=0.2, random_state=42)"
   ]
  },
  {
   "cell_type": "code",
   "execution_count": 37,
   "id": "65f2cbf1-4658-4b95-934b-0cdb2f19737b",
   "metadata": {
    "tags": []
   },
   "outputs": [],
   "source": [
    "# Aplicarea preprocesarea pe setul de antrenament și transformă datele într-un format compatibil pentru modelare.\n",
    "X_train_preprocessed = preprocessor.fit_transform(X_train)"
   ]
  },
  {
   "cell_type": "code",
   "execution_count": 24,
   "id": "a6a2f506-b6f9-4118-a100-03f8e1e1c6cf",
   "metadata": {
    "tags": []
   },
   "outputs": [],
   "source": [
    "# Convertim matricea sparse într-o matrice dense înainte de a adăuga constanta\n",
    "X_train_preprocessed = X_train_preprocessed.toarray() if issparse(X_train_preprocessed) else X_train_preprocessed\n",
    "X_train_preprocessed = sm.add_constant(X_train_preprocessed)"
   ]
  },
  {
   "cell_type": "markdown",
   "id": "0bdeb462-ceaa-45d4-b01b-9ed70b3fce3d",
   "metadata": {},
   "source": [
    "##### Model de regresie liniară folosind statsmodels.OLS portivit pe setul de antrenament."
   ]
  },
  {
   "cell_type": "code",
   "execution_count": 36,
   "id": "b252f5a9-4a94-4ee6-99c9-bdfdc49a6ac6",
   "metadata": {
    "tags": []
   },
   "outputs": [],
   "source": [
    "model = sm.OLS(Y_train, X_train_preprocessed).fit()"
   ]
  },
  {
   "cell_type": "code",
   "execution_count": 27,
   "id": "559f1f63-60e9-4e05-801f-77b7d671f570",
   "metadata": {
    "tags": []
   },
   "outputs": [
    {
     "name": "stdout",
     "output_type": "stream",
     "text": [
      "                            OLS Regression Results                            \n",
      "==============================================================================\n",
      "Dep. Variable:                  Media   R-squared:                       0.238\n",
      "Model:                            OLS   Adj. R-squared:                  0.222\n",
      "Method:                 Least Squares   F-statistic:                     15.59\n",
      "Date:                Fri, 24 Nov 2023   Prob (F-statistic):          1.35e-103\n",
      "Time:                        19:20:17   Log-Likelihood:                -3504.4\n",
      "No. Observations:                2347   AIC:                             7103.\n",
      "Df Residuals:                    2300   BIC:                             7374.\n",
      "Df Model:                          46                                         \n",
      "Covariance Type:            nonrobust                                         \n",
      "==============================================================================\n",
      "                 coef    std err          t      P>|t|      [0.025      0.975]\n",
      "------------------------------------------------------------------------------\n",
      "x1            -0.0221      0.055     -0.403      0.687      -0.130       0.085\n",
      "x2            -0.1581      0.031     -5.091      0.000      -0.219      -0.097\n",
      "x3             0.0668      0.032      2.074      0.038       0.004       0.130\n",
      "x4             0.1216      0.017      7.022      0.000       0.088       0.156\n",
      "x5            -0.0668      0.032     -2.074      0.038      -0.130      -0.004\n",
      "x6             0.1776      0.084      2.112      0.035       0.013       0.343\n",
      "x7             0.1216      0.017      7.022      0.000       0.088       0.156\n",
      "const          5.8433      0.025    236.534      0.000       5.795       5.892\n",
      "x8             0.7206      0.111      6.499      0.000       0.503       0.938\n",
      "x9             0.1610      0.152      1.056      0.291      -0.138       0.460\n",
      "x10            0.0078      0.134      0.058      0.953      -0.256       0.271\n",
      "x11            0.2186      0.123      1.782      0.075      -0.022       0.459\n",
      "x12            0.1434      0.132      1.085      0.278      -0.116       0.403\n",
      "x13            0.2986      0.159      1.882      0.060      -0.013       0.610\n",
      "x14            0.3058      0.131      2.329      0.020       0.048       0.563\n",
      "x15           -0.3300      0.168     -1.964      0.050      -0.660      -0.000\n",
      "x16            0.7604      0.252      3.017      0.003       0.266       1.255\n",
      "x17            0.1909      0.130      1.466      0.143      -0.065       0.446\n",
      "x18            0.2029      0.147      1.381      0.167      -0.085       0.491\n",
      "x19            0.7104      0.109      6.532      0.000       0.497       0.924\n",
      "x20           -0.3068      0.171     -1.789      0.074      -0.643       0.029\n",
      "x21           -0.1661      0.182     -0.914      0.361      -0.522       0.190\n",
      "x22           -0.3519      0.239     -1.473      0.141      -0.820       0.117\n",
      "x23           -0.8981      0.126     -7.144      0.000      -1.145      -0.652\n",
      "x24            0.3694      0.157      2.351      0.019       0.061       0.677\n",
      "x25            0.1518      0.144      1.053      0.293      -0.131       0.435\n",
      "x26           -0.4583      0.228     -2.010      0.045      -0.905      -0.011\n",
      "x27            0.2367      0.117      2.017      0.044       0.007       0.467\n",
      "x28            0.1141      0.142      0.805      0.421      -0.164       0.392\n",
      "x29            0.3464      0.115      3.002      0.003       0.120       0.573\n",
      "x30            0.1242      0.168      0.740      0.459      -0.205       0.453\n",
      "x31            0.4754      0.106      4.497      0.000       0.268       0.683\n",
      "x32            0.4365      0.156      2.801      0.005       0.131       0.742\n",
      "x33           -0.0092      0.166     -0.056      0.956      -0.335       0.316\n",
      "x34           -0.2512      0.163     -1.544      0.123      -0.570       0.068\n",
      "x35            2.0961      0.287      7.305      0.000       1.533       2.659\n",
      "x36           -0.4617      0.152     -3.030      0.002      -0.761      -0.163\n",
      "x37            0.4831      0.099      4.892      0.000       0.289       0.677\n",
      "x38            0.5345      0.129      4.153      0.000       0.282       0.787\n",
      "x39            0.5307      0.163      3.265      0.001       0.212       0.850\n",
      "x40            0.4691      0.136      3.442      0.001       0.202       0.736\n",
      "x41           -0.0010      0.168     -0.006      0.995      -0.331       0.329\n",
      "x42            0.4918      0.159      3.098      0.002       0.180       0.803\n",
      "x43           -0.0872      0.132     -0.663      0.508      -0.345       0.171\n",
      "x44           -0.4794      0.165     -2.914      0.004      -0.802      -0.157\n",
      "x45           -0.0727      0.151     -0.483      0.629      -0.368       0.223\n",
      "x46           -0.4628      0.170     -2.716      0.007      -0.797      -0.129\n",
      "x47           -0.7849      0.267     -2.941      0.003      -1.308      -0.262\n",
      "x48           -0.2949      0.155     -1.897      0.058      -0.600       0.010\n",
      "x49            0.6789      0.146      4.665      0.000       0.394       0.964\n",
      "==============================================================================\n",
      "Omnibus:                       24.531   Durbin-Watson:                   2.037\n",
      "Prob(Omnibus):                  0.000   Jarque-Bera (JB):               26.726\n",
      "Skew:                          -0.208   Prob(JB):                     1.57e-06\n",
      "Kurtosis:                       3.317   Cond. No.                     1.09e+16\n",
      "==============================================================================\n",
      "\n",
      "Notes:\n",
      "[1] Standard Errors assume that the covariance matrix of the errors is correctly specified.\n",
      "[2] The smallest eigenvalue is 7.24e-29. This might indicate that there are\n",
      "strong multicollinearity problems or that the design matrix is singular.\n"
     ]
    }
   ],
   "source": [
    "print(model.summary())"
   ]
  },
  {
   "cell_type": "markdown",
   "id": "e644fc21-23a6-4d93-b9e8-ae9f8a22aac4",
   "metadata": {},
   "source": [
    "### Rezultate regresie"
   ]
  },
  {
   "cell_type": "markdown",
   "id": "11cf5de0-d730-4483-9dca-3a05b2b5883f",
   "metadata": {},
   "source": [
    "##### R-squared (R²): 0.238. Acesta indică faptul că modelul explică aproximativ 23.8% din variația variabilei dependente (Media). Nu este un scor foarte mare, dar este un indicator că modelul are o anumită capacitate predictivă.\n",
    "##### Adjusted R-squared: 0.2212. Acesta este R-squared ajustat pentru numărul de predictori în model și indică o potrivire decentă a modelului.\n",
    "##### F-statistic: 15.59, cu un Prob (F-statistic) foarte mic (1.35e-103), indică faptul că cel puțin unele dintre variabilele independente au o relație semnificativă cu variabila dependentă.\n",
    "##### Coeficienți: Fiecare x reprezintă un coeficient pentru o caracteristică (sau pentru o categorie dintr-o caracteristică categorică, după codificarea One-Hot). Coeficienții pozitivi sugerează o relație directă cu variabila dependentă, în timp ce coeficienții negativi indică o relație inversă.\n",
    "##### P>|t| (p-value): p-value-uri asociate coeficienților indică dacă relațiile respective sunt statistic semnificative. De exemplu, un coeficient cu un p-value mai mic decât 0.05 este considerat a avea o influență semnificativă.\n",
    "##### Omnibus, Skew, Kurtosis, Durbin-Watson, Jarque-Bera: Aceste teste și statisticile sunt legate de distribuția reziduurilor (erorilor) modelului. Ideal, vrem ca reziduurile să aibă o distribuție aproximativ normală."
   ]
  },
  {
   "cell_type": "code",
   "execution_count": 28,
   "id": "d3de0397-5273-4de7-9904-1adf2414ba0a",
   "metadata": {
    "tags": []
   },
   "outputs": [],
   "source": [
    "# Preprocesarea și evaluarea modelului pe setul de test\n",
    "X_test_preprocessed = preprocessor.transform(X_test)"
   ]
  },
  {
   "cell_type": "code",
   "execution_count": 29,
   "id": "e0b6dddf-7fcc-478c-84de-6f427ef4ca09",
   "metadata": {
    "tags": []
   },
   "outputs": [],
   "source": [
    "# Convertim matricea sparse într-o matrice dense înainte de a adăuga constanta\n",
    "X_test_preprocessed = X_test_preprocessed.toarray() if issparse(X_test_preprocessed) else X_test_preprocessed\n",
    "X_test_preprocessed = sm.add_constant(X_test_preprocessed)"
   ]
  },
  {
   "cell_type": "code",
   "execution_count": 30,
   "id": "b1f00a04-85cf-4c9f-9453-f053a60bd63b",
   "metadata": {
    "tags": []
   },
   "outputs": [],
   "source": [
    "# Predicțiile pe setul de test\n",
    "Y_pred = model.predict(X_test_preprocessed)\n"
   ]
  },
  {
   "cell_type": "code",
   "execution_count": 34,
   "id": "1387489a-0cc6-4487-acb8-f226a0f03999",
   "metadata": {
    "tags": []
   },
   "outputs": [
    {
     "name": "stdout",
     "output_type": "stream",
     "text": [
      "R-squared (R²): 0.22079922483903947\n",
      "Mean Absolute Error (MAE): 0.8487018613427033\n",
      "Mean Squared Error (MSE): 1.1509010130791695\n",
      "Root Mean Squared Error (RMSE): 1.072800546736983\n"
     ]
    }
   ],
   "source": [
    "# Calculul metricilor de performanță\n",
    "r2 = r2_score(Y_test, Y_pred)\n",
    "print(f'R-squared (R²): {r2}')\n",
    "mae = mean_absolute_error(Y_test, Y_pred)\n",
    "print(f'Mean Absolute Error (MAE): {mae}')\n",
    "mse = mean_squared_error(Y_test, Y_pred)\n",
    "print(f'Mean Squared Error (MSE): {mse}')\n",
    "rmse = np.sqrt(mse)\n",
    "print(f'Root Mean Squared Error (RMSE): {rmse}')"
   ]
  },
  {
   "cell_type": "markdown",
   "id": "4f499766-7ee1-40a4-b195-42f90f03c08a",
   "metadata": {},
   "source": [
    "#### Metrici de Evaluare\n",
    "##### R-squared (R²): 0.22. Aproape similar cu cel din setul de antrenament, indicând consistență între seturile de antrenament și test.\n",
    "##### Mean Absolute Error (MAE): 0.847. Aceasta indică eroarea medie absolută a predicțiilor modelului.\n",
    "##### Mean Squared Error (MSE): 1.150. Aceasta este media erorilor pătratice, care pune mai multă greutate pe erorile mari.\n",
    "##### Root Mean Squared Error (RMSE): 1.0728. Este rădăcina pătrată a MSE și oferă o interpretare a erorii în aceleași unități ca variabila dependentă.\n"
   ]
  },
  {
   "cell_type": "code",
   "execution_count": null,
   "id": "35c0640a-9e75-4463-98c0-2c5becc9984e",
   "metadata": {},
   "outputs": [],
   "source": []
  }
 ],
 "metadata": {
  "kernelspec": {
   "display_name": "Python 3 (ipykernel)",
   "language": "python",
   "name": "python3"
  },
  "language_info": {
   "codemirror_mode": {
    "name": "ipython",
    "version": 3
   },
   "file_extension": ".py",
   "mimetype": "text/x-python",
   "name": "python",
   "nbconvert_exporter": "python",
   "pygments_lexer": "ipython3",
   "version": "3.10.13"
  }
 },
 "nbformat": 4,
 "nbformat_minor": 5
}
