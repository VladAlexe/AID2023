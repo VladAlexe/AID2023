{
 "cells": [
  {
   "cell_type": "markdown",
   "id": "df4056ab-621f-4963-a76d-f7a00f8366b3",
   "metadata": {},
   "source": [
    "### 06.  Functia Group by si Agregarea datelor din surse diverse\n"
   ]
  },
  {
   "cell_type": "code",
   "execution_count": 266,
   "id": "fb200ce3-2656-4951-b3c2-52be390f576d",
   "metadata": {},
   "outputs": [],
   "source": [
    "import pandas as pd\n",
    "import numpy as np\n",
    "import json\n",
    "import os"
   ]
  },
  {
   "cell_type": "markdown",
   "id": "6866365a-bda9-42f0-837b-3161c91cddca",
   "metadata": {},
   "source": [
    "### Load school details data"
   ]
  },
  {
   "cell_type": "code",
   "execution_count": 267,
   "id": "b0955e97-e482-4402-9ef4-6e3e02f31612",
   "metadata": {},
   "outputs": [],
   "source": [
    "# Load csv\n",
    "schoolNumbers = pd.read_csv('details_schoolNumbers.csv')\n",
    "details =  pd.read_csv('details.csv')"
   ]
  },
  {
   "cell_type": "markdown",
   "id": "f358082a-7a2f-459c-91f3-4cc6cb8b7a33",
   "metadata": {},
   "source": [
    "## MERGE TABLES BY A COMMON KEY\n",
    "- coloanele de unire trebuie sa se potrivesca - \n",
    "- verificati duplicatele\n",
    "- tip de unire (inner,left, right...)"
   ]
  },
  {
   "cell_type": "code",
   "execution_count": 268,
   "id": "9d8bf9cd-3cfb-4064-8939-15401925798a",
   "metadata": {
    "collapsed": true,
    "jupyter": {
     "outputs_hidden": true
    },
    "tags": []
   },
   "outputs": [
    {
     "data": {
      "text/html": [
       "<div>\n",
       "<style scoped>\n",
       "    .dataframe tbody tr th:only-of-type {\n",
       "        vertical-align: middle;\n",
       "    }\n",
       "\n",
       "    .dataframe tbody tr th {\n",
       "        vertical-align: top;\n",
       "    }\n",
       "\n",
       "    .dataframe thead th {\n",
       "        text-align: right;\n",
       "    }\n",
       "</style>\n",
       "<table border=\"1\" class=\"dataframe\">\n",
       "  <thead>\n",
       "    <tr style=\"text-align: right;\">\n",
       "      <th></th>\n",
       "      <th>idSchool</th>\n",
       "      <th>studyFormationsCount</th>\n",
       "      <th>studentsCount</th>\n",
       "      <th>personnelCount</th>\n",
       "    </tr>\n",
       "  </thead>\n",
       "  <tbody>\n",
       "    <tr>\n",
       "      <th>0</th>\n",
       "      <td>11269910</td>\n",
       "      <td>4</td>\n",
       "      <td>131</td>\n",
       "      <td>7</td>\n",
       "    </tr>\n",
       "    <tr>\n",
       "      <th>1</th>\n",
       "      <td>11256876</td>\n",
       "      <td>0</td>\n",
       "      <td>0</td>\n",
       "      <td>0</td>\n",
       "    </tr>\n",
       "    <tr>\n",
       "      <th>2</th>\n",
       "      <td>11256865</td>\n",
       "      <td>0</td>\n",
       "      <td>0</td>\n",
       "      <td>0</td>\n",
       "    </tr>\n",
       "  </tbody>\n",
       "</table>\n",
       "</div>"
      ],
      "text/plain": [
       "   idSchool  studyFormationsCount  studentsCount  personnelCount\n",
       "0  11269910                     4            131               7\n",
       "1  11256876                     0              0               0\n",
       "2  11256865                     0              0               0"
      ]
     },
     "execution_count": 268,
     "metadata": {},
     "output_type": "execute_result"
    }
   ],
   "source": [
    "schoolNumbers.head(3)"
   ]
  },
  {
   "cell_type": "code",
   "execution_count": 269,
   "id": "200d5620-d641-4444-b50c-20d3458d18f1",
   "metadata": {
    "collapsed": true,
    "jupyter": {
     "outputs_hidden": true
    },
    "tags": []
   },
   "outputs": [
    {
     "data": {
      "text/html": [
       "<div>\n",
       "<style scoped>\n",
       "    .dataframe tbody tr th:only-of-type {\n",
       "        vertical-align: middle;\n",
       "    }\n",
       "\n",
       "    .dataframe tbody tr th {\n",
       "        vertical-align: top;\n",
       "    }\n",
       "\n",
       "    .dataframe thead th {\n",
       "        text-align: right;\n",
       "    }\n",
       "</style>\n",
       "<table border=\"1\" class=\"dataframe\">\n",
       "  <thead>\n",
       "    <tr style=\"text-align: right;\">\n",
       "      <th></th>\n",
       "      <th>idSchool</th>\n",
       "      <th>internalIdSchool</th>\n",
       "      <th>idParentSchool</th>\n",
       "      <th>schoolYearDescription</th>\n",
       "      <th>code</th>\n",
       "      <th>siruesCode</th>\n",
       "      <th>longName</th>\n",
       "      <th>shortName</th>\n",
       "      <th>schoolType</th>\n",
       "      <th>statut</th>\n",
       "      <th>...</th>\n",
       "      <th>street</th>\n",
       "      <th>streetNumber</th>\n",
       "      <th>postalCode</th>\n",
       "      <th>phoneNumber</th>\n",
       "      <th>faxNumber</th>\n",
       "      <th>email</th>\n",
       "      <th>idSchoolYear.code</th>\n",
       "      <th>Web_Link</th>\n",
       "      <th>Fb_Link</th>\n",
       "      <th>Adress</th>\n",
       "    </tr>\n",
       "  </thead>\n",
       "  <tbody>\n",
       "    <tr>\n",
       "      <th>0</th>\n",
       "      <td>11269910</td>\n",
       "      <td>10131270</td>\n",
       "      <td>NaN</td>\n",
       "      <td>Anul şcolar 2018-2019</td>\n",
       "      <td>261200154</td>\n",
       "      <td>23054595</td>\n",
       "      <td>ASOCIAŢIA CREŞTINĂ DE CARITATE \"GOSEN\" ARAD/ G...</td>\n",
       "      <td>GRĂDINIŢA \"GOSEN\" ARAD</td>\n",
       "      <td>Unitate de învățământ</td>\n",
       "      <td>Cu personalitate juridică</td>\n",
       "      <td>...</td>\n",
       "      <td>AUREL VLAICU</td>\n",
       "      <td>121-125</td>\n",
       "      <td>310365.0</td>\n",
       "      <td>257272477.0</td>\n",
       "      <td>257272477.0</td>\n",
       "      <td>gradinitagosen@yahoo.com</td>\n",
       "      <td>2018-2019</td>\n",
       "      <td>NaN</td>\n",
       "      <td>NaN</td>\n",
       "      <td>121-125 AUREL VLAICU, ARAD, judetul ARAD, 3103...</td>\n",
       "    </tr>\n",
       "    <tr>\n",
       "      <th>1</th>\n",
       "      <td>11256876</td>\n",
       "      <td>11192270</td>\n",
       "      <td>NaN</td>\n",
       "      <td>Anul şcolar 2018-2019</td>\n",
       "      <td>1061206943</td>\n",
       "      <td>NaN</td>\n",
       "      <td>ASOCIAȚIA PENTRU PROMOVAREA VALORILOR AUTENTIC...</td>\n",
       "      <td>ASOCIAȚIA VALORILOR BZ</td>\n",
       "      <td>Unitate de învățământ</td>\n",
       "      <td>Cu personalitate juridică</td>\n",
       "      <td>...</td>\n",
       "      <td>TOAMNEI</td>\n",
       "      <td>4</td>\n",
       "      <td>125300.0</td>\n",
       "      <td>762724000.0</td>\n",
       "      <td>238563970.0</td>\n",
       "      <td>secretariat@cnpaulescu.ro</td>\n",
       "      <td>2018-2019</td>\n",
       "      <td>NaN</td>\n",
       "      <td>NaN</td>\n",
       "      <td>4 TOAMNEI, RÂMNICU SĂRAT, judetul BUZĂU, 12530...</td>\n",
       "    </tr>\n",
       "    <tr>\n",
       "      <th>2</th>\n",
       "      <td>11256865</td>\n",
       "      <td>11192168</td>\n",
       "      <td>NaN</td>\n",
       "      <td>Anul şcolar 2018-2019</td>\n",
       "      <td>1061206875</td>\n",
       "      <td>NaN</td>\n",
       "      <td>ASOCIAȚIA UMANITARĂ EDUSTAR BUZĂU</td>\n",
       "      <td>ASOCIATIA EDUSTAR</td>\n",
       "      <td>Unitate de învățământ</td>\n",
       "      <td>Cu personalitate juridică</td>\n",
       "      <td>...</td>\n",
       "      <td>STR. MIORITEI</td>\n",
       "      <td>14</td>\n",
       "      <td>120010.0</td>\n",
       "      <td>773826330.0</td>\n",
       "      <td>238725913.0</td>\n",
       "      <td>luminitamusat2006@yahoo.com</td>\n",
       "      <td>2018-2019</td>\n",
       "      <td>NaN</td>\n",
       "      <td>NaN</td>\n",
       "      <td>14 STR. MIORITEI, BUZĂU, judetul BUZĂU, 120010...</td>\n",
       "    </tr>\n",
       "  </tbody>\n",
       "</table>\n",
       "<p>3 rows × 27 columns</p>\n",
       "</div>"
      ],
      "text/plain": [
       "   idSchool  internalIdSchool  idParentSchool  schoolYearDescription  \\\n",
       "0  11269910          10131270             NaN  Anul şcolar 2018-2019   \n",
       "1  11256876          11192270             NaN  Anul şcolar 2018-2019   \n",
       "2  11256865          11192168             NaN  Anul şcolar 2018-2019   \n",
       "\n",
       "         code siruesCode                                           longName  \\\n",
       "0   261200154   23054595  ASOCIAŢIA CREŞTINĂ DE CARITATE \"GOSEN\" ARAD/ G...   \n",
       "1  1061206943        NaN  ASOCIAȚIA PENTRU PROMOVAREA VALORILOR AUTENTIC...   \n",
       "2  1061206875        NaN                  ASOCIAȚIA UMANITARĂ EDUSTAR BUZĂU   \n",
       "\n",
       "                shortName             schoolType                     statut  \\\n",
       "0  GRĂDINIŢA \"GOSEN\" ARAD  Unitate de învățământ  Cu personalitate juridică   \n",
       "1  ASOCIAȚIA VALORILOR BZ  Unitate de învățământ  Cu personalitate juridică   \n",
       "2       ASOCIATIA EDUSTAR  Unitate de învățământ  Cu personalitate juridică   \n",
       "\n",
       "   ...         street streetNumber postalCode  phoneNumber    faxNumber  \\\n",
       "0  ...   AUREL VLAICU      121-125   310365.0  257272477.0  257272477.0   \n",
       "1  ...        TOAMNEI            4   125300.0  762724000.0  238563970.0   \n",
       "2  ...  STR. MIORITEI           14   120010.0  773826330.0  238725913.0   \n",
       "\n",
       "                         email idSchoolYear.code Web_Link Fb_Link  \\\n",
       "0     gradinitagosen@yahoo.com         2018-2019      NaN     NaN   \n",
       "1    secretariat@cnpaulescu.ro         2018-2019      NaN     NaN   \n",
       "2  luminitamusat2006@yahoo.com         2018-2019      NaN     NaN   \n",
       "\n",
       "                                              Adress  \n",
       "0  121-125 AUREL VLAICU, ARAD, judetul ARAD, 3103...  \n",
       "1  4 TOAMNEI, RÂMNICU SĂRAT, judetul BUZĂU, 12530...  \n",
       "2  14 STR. MIORITEI, BUZĂU, judetul BUZĂU, 120010...  \n",
       "\n",
       "[3 rows x 27 columns]"
      ]
     },
     "execution_count": 269,
     "metadata": {},
     "output_type": "execute_result"
    }
   ],
   "source": [
    "details.head(3)"
   ]
  },
  {
   "cell_type": "code",
   "execution_count": 385,
   "id": "4354b1aa-4cd5-45c2-93f1-c7b89f48401d",
   "metadata": {},
   "outputs": [
    {
     "name": "stdout",
     "output_type": "stream",
     "text": [
      "0\n",
      "0\n",
      "18915\n",
      "18915\n"
     ]
    }
   ],
   "source": [
    "# Check for duplicates\n",
    "print(details.duplicated().sum())\n",
    "print(schoolNumbers.duplicated().sum())\n",
    "print(len(details))\n",
    "print(len(schoolNumbers))\n"
   ]
  },
  {
   "cell_type": "markdown",
   "id": "a85790b4-e04d-4e56-bc51-ba7bc22c8017",
   "metadata": {},
   "source": [
    "#### ALL DETAILS - MERGE DETAILS & SCHOOL NUMBERS TABLES"
   ]
  },
  {
   "cell_type": "code",
   "execution_count": 271,
   "id": "86a31cde-6d92-4807-8eaa-00bd6fa5b79c",
   "metadata": {},
   "outputs": [],
   "source": [
    "# cu merge\n",
    "all_details = pd.merge(details,schoolNumbers, on = 'idSchool', how = 'inner')"
   ]
  },
  {
   "cell_type": "code",
   "execution_count": 272,
   "id": "fb83b389-8330-44b1-b794-b2d1fbf3ce59",
   "metadata": {
    "tags": []
   },
   "outputs": [],
   "source": [
    "# cu join\n",
    "all_details = details.join(schoolNumbers.set_index('idSchool'), on = 'idSchool', how = 'inner')"
   ]
  },
  {
   "cell_type": "code",
   "execution_count": 273,
   "id": "68c671e8-c8b8-4248-bc76-dc9f3fde8777",
   "metadata": {},
   "outputs": [
    {
     "data": {
      "text/plain": [
       "Index(['idSchool', 'internalIdSchool', 'idParentSchool',\n",
       "       'schoolYearDescription', 'code', 'siruesCode', 'longName', 'shortName',\n",
       "       'schoolType', 'statut', 'isPj', 'fiscalCode', 'operatingMode',\n",
       "       'propertyForm', 'fundingForm', 'county', 'locality', 'street',\n",
       "       'streetNumber', 'postalCode', 'phoneNumber', 'faxNumber', 'email',\n",
       "       'idSchoolYear.code', 'Web_Link', 'Fb_Link', 'Adress',\n",
       "       'studyFormationsCount', 'studentsCount', 'personnelCount'],\n",
       "      dtype='object')"
      ]
     },
     "execution_count": 273,
     "metadata": {},
     "output_type": "execute_result"
    }
   ],
   "source": [
    "all_details.columns"
   ]
  },
  {
   "cell_type": "markdown",
   "id": "c7eefb79-de91-4dea-b01c-5103e587d01f",
   "metadata": {},
   "source": [
    "## GROUP BY "
   ]
  },
  {
   "cell_type": "markdown",
   "id": "22069518-a6a7-4764-8a77-729fcf2ab542",
   "metadata": {},
   "source": [
    "#### DROP UNNECESSARY COLUMNS"
   ]
  },
  {
   "cell_type": "code",
   "execution_count": 274,
   "id": "e9620d1f-36f0-4a80-8663-b9ceb614717c",
   "metadata": {
    "tags": []
   },
   "outputs": [],
   "source": [
    "details_df = all_details.drop(columns = ['internalIdSchool', 'idParentSchool','schoolYearDescription', \n",
    "                            'code','longName', 'shortName', 'isPj', 'fiscalCode', 'operatingMode','street',\n",
    "                            'streetNumber', 'postalCode', 'phoneNumber', 'faxNumber', 'email','idSchoolYear.code', 'Web_Link', 'Fb_Link',\n",
    "                            'Adress'])"
   ]
  },
  {
   "cell_type": "code",
   "execution_count": 275,
   "id": "62e25659-a997-4a0b-a5c8-59511f00283d",
   "metadata": {
    "collapsed": true,
    "jupyter": {
     "outputs_hidden": true
    },
    "tags": []
   },
   "outputs": [
    {
     "data": {
      "text/html": [
       "<div>\n",
       "<style scoped>\n",
       "    .dataframe tbody tr th:only-of-type {\n",
       "        vertical-align: middle;\n",
       "    }\n",
       "\n",
       "    .dataframe tbody tr th {\n",
       "        vertical-align: top;\n",
       "    }\n",
       "\n",
       "    .dataframe thead th {\n",
       "        text-align: right;\n",
       "    }\n",
       "</style>\n",
       "<table border=\"1\" class=\"dataframe\">\n",
       "  <thead>\n",
       "    <tr style=\"text-align: right;\">\n",
       "      <th></th>\n",
       "      <th>idSchool</th>\n",
       "      <th>siruesCode</th>\n",
       "      <th>schoolType</th>\n",
       "      <th>statut</th>\n",
       "      <th>propertyForm</th>\n",
       "      <th>fundingForm</th>\n",
       "      <th>county</th>\n",
       "      <th>locality</th>\n",
       "      <th>studyFormationsCount</th>\n",
       "      <th>studentsCount</th>\n",
       "      <th>personnelCount</th>\n",
       "    </tr>\n",
       "  </thead>\n",
       "  <tbody>\n",
       "    <tr>\n",
       "      <th>0</th>\n",
       "      <td>11269910</td>\n",
       "      <td>23054595</td>\n",
       "      <td>Unitate de învățământ</td>\n",
       "      <td>Cu personalitate juridică</td>\n",
       "      <td>Privată</td>\n",
       "      <td>Sponsorizare</td>\n",
       "      <td>ARAD</td>\n",
       "      <td>ARAD</td>\n",
       "      <td>4</td>\n",
       "      <td>131</td>\n",
       "      <td>7</td>\n",
       "    </tr>\n",
       "    <tr>\n",
       "      <th>1</th>\n",
       "      <td>11256876</td>\n",
       "      <td>NaN</td>\n",
       "      <td>Unitate de învățământ</td>\n",
       "      <td>Cu personalitate juridică</td>\n",
       "      <td>Privată</td>\n",
       "      <td>Taxă</td>\n",
       "      <td>BUZĂU</td>\n",
       "      <td>RÂMNICU SĂRAT</td>\n",
       "      <td>0</td>\n",
       "      <td>0</td>\n",
       "      <td>0</td>\n",
       "    </tr>\n",
       "    <tr>\n",
       "      <th>2</th>\n",
       "      <td>11256865</td>\n",
       "      <td>NaN</td>\n",
       "      <td>Unitate de învățământ</td>\n",
       "      <td>Cu personalitate juridică</td>\n",
       "      <td>Privată</td>\n",
       "      <td>Taxă</td>\n",
       "      <td>BUZĂU</td>\n",
       "      <td>BUZĂU</td>\n",
       "      <td>0</td>\n",
       "      <td>0</td>\n",
       "      <td>0</td>\n",
       "    </tr>\n",
       "  </tbody>\n",
       "</table>\n",
       "</div>"
      ],
      "text/plain": [
       "   idSchool siruesCode             schoolType                     statut  \\\n",
       "0  11269910   23054595  Unitate de învățământ  Cu personalitate juridică   \n",
       "1  11256876        NaN  Unitate de învățământ  Cu personalitate juridică   \n",
       "2  11256865        NaN  Unitate de învățământ  Cu personalitate juridică   \n",
       "\n",
       "  propertyForm   fundingForm county       locality  studyFormationsCount  \\\n",
       "0      Privată  Sponsorizare   ARAD           ARAD                     4   \n",
       "1      Privată          Taxă  BUZĂU  RÂMNICU SĂRAT                     0   \n",
       "2      Privată          Taxă  BUZĂU          BUZĂU                     0   \n",
       "\n",
       "   studentsCount  personnelCount  \n",
       "0            131               7  \n",
       "1              0               0  \n",
       "2              0               0  "
      ]
     },
     "execution_count": 275,
     "metadata": {},
     "output_type": "execute_result"
    }
   ],
   "source": [
    "details_df.head(3)"
   ]
  },
  {
   "cell_type": "markdown",
   "id": "6b7cd7ce-b1b4-4ae8-8740-54a9b520fe92",
   "metadata": {},
   "source": [
    "### CREATE A KEY Loc_Jud"
   ]
  },
  {
   "cell_type": "code",
   "execution_count": 276,
   "id": "0aad839f-b007-4f0d-957e-4a4d37e3a8c4",
   "metadata": {},
   "outputs": [],
   "source": [
    "details_df[\"Loc_Jud\"] =  details_df[['locality','county']].apply(lambda x: \"_\".join(x.astype(str)), axis = 1)"
   ]
  },
  {
   "cell_type": "code",
   "execution_count": 277,
   "id": "8abdacb3-92ad-416d-882a-651580de747f",
   "metadata": {},
   "outputs": [],
   "source": [
    "# INLOCUIRE DIAG+CRITICE\n",
    "diacr = {\"Ă\":\"A\", \"Ş\":\"S\",\"Ţ\":\"T\",\"Â\":\"A\",\"Î\":\"I\"}\n",
    "# Create a translation table\n",
    "translation_table = str.maketrans(diacr)\n",
    "# Apply the translation to the specified column\n",
    "details_df[\"Loc_Jud\"] = details_df[\"Loc_Jud\"].str.translate(translation_table)\n"
   ]
  },
  {
   "cell_type": "code",
   "execution_count": 386,
   "id": "81483592-5318-4a22-ade3-9a7a3bf54bee",
   "metadata": {},
   "outputs": [
    {
     "data": {
      "text/html": [
       "<div>\n",
       "<style scoped>\n",
       "    .dataframe tbody tr th:only-of-type {\n",
       "        vertical-align: middle;\n",
       "    }\n",
       "\n",
       "    .dataframe tbody tr th {\n",
       "        vertical-align: top;\n",
       "    }\n",
       "\n",
       "    .dataframe thead th {\n",
       "        text-align: right;\n",
       "    }\n",
       "</style>\n",
       "<table border=\"1\" class=\"dataframe\">\n",
       "  <thead>\n",
       "    <tr style=\"text-align: right;\">\n",
       "      <th></th>\n",
       "      <th>idSchool</th>\n",
       "      <th>siruesCode</th>\n",
       "      <th>schoolType</th>\n",
       "      <th>statut</th>\n",
       "      <th>propertyForm</th>\n",
       "      <th>fundingForm</th>\n",
       "      <th>county</th>\n",
       "      <th>locality</th>\n",
       "      <th>studyFormationsCount</th>\n",
       "      <th>studentsCount</th>\n",
       "      <th>personnelCount</th>\n",
       "      <th>Loc_Jud</th>\n",
       "      <th>SIRUTA</th>\n",
       "    </tr>\n",
       "  </thead>\n",
       "  <tbody>\n",
       "    <tr>\n",
       "      <th>0</th>\n",
       "      <td>11269910</td>\n",
       "      <td>23054595</td>\n",
       "      <td>Unitate de învățământ</td>\n",
       "      <td>Cu personalitate juridică</td>\n",
       "      <td>Privată</td>\n",
       "      <td>Sponsorizare</td>\n",
       "      <td>ARAD</td>\n",
       "      <td>ARAD</td>\n",
       "      <td>4</td>\n",
       "      <td>131</td>\n",
       "      <td>7</td>\n",
       "      <td>ARAD_ARAD</td>\n",
       "      <td>9262</td>\n",
       "    </tr>\n",
       "    <tr>\n",
       "      <th>1</th>\n",
       "      <td>11256876</td>\n",
       "      <td>NaN</td>\n",
       "      <td>Unitate de învățământ</td>\n",
       "      <td>Cu personalitate juridică</td>\n",
       "      <td>Privată</td>\n",
       "      <td>Taxă</td>\n",
       "      <td>BUZĂU</td>\n",
       "      <td>RÂMNICU SĂRAT</td>\n",
       "      <td>0</td>\n",
       "      <td>0</td>\n",
       "      <td>0</td>\n",
       "      <td>RAMNICU SARAT_BUZAU</td>\n",
       "      <td>44845</td>\n",
       "    </tr>\n",
       "  </tbody>\n",
       "</table>\n",
       "</div>"
      ],
      "text/plain": [
       "   idSchool siruesCode             schoolType                     statut  \\\n",
       "0  11269910   23054595  Unitate de învățământ  Cu personalitate juridică   \n",
       "1  11256876        NaN  Unitate de învățământ  Cu personalitate juridică   \n",
       "\n",
       "  propertyForm   fundingForm county       locality  studyFormationsCount  \\\n",
       "0      Privată  Sponsorizare   ARAD           ARAD                     4   \n",
       "1      Privată          Taxă  BUZĂU  RÂMNICU SĂRAT                     0   \n",
       "\n",
       "   studentsCount  personnelCount              Loc_Jud SIRUTA  \n",
       "0            131               7            ARAD_ARAD   9262  \n",
       "1              0               0  RAMNICU SARAT_BUZAU  44845  "
      ]
     },
     "execution_count": 386,
     "metadata": {},
     "output_type": "execute_result"
    }
   ],
   "source": [
    "details_df.head(2)"
   ]
  },
  {
   "cell_type": "markdown",
   "id": "e1ecb5c6-218e-4afb-92e3-67709fb20181",
   "metadata": {},
   "source": [
    "### INS POPULATION DATA"
   ]
  },
  {
   "cell_type": "markdown",
   "id": "1711cccb-3520-4389-a9f5-b8b2d866dd7d",
   "metadata": {},
   "source": [
    "#### APPEND DATA FROM MANY SMALL FILES"
   ]
  },
  {
   "cell_type": "code",
   "execution_count": 279,
   "id": "aea5eeb2-ba35-4e27-8a51-14d7a4f29b5e",
   "metadata": {},
   "outputs": [],
   "source": [
    "# Directory path where the CSV files are located\n",
    "directory_path = 'Populatie_INS'\n",
    "\n",
    "# List to store DataFrames from individual files\n",
    "dataframes_list = []\n",
    "\n",
    "# Iterate through the files in the directory\n",
    "for filename in os.listdir(directory_path):\n",
    "    if filename.endswith(\".csv\"):\n",
    "        file_path = os.path.join(directory_path, filename)\n",
    "        # Read each CSV file into a DataFrame and append it to the list\n",
    "        df = pd.read_csv(file_path)\n",
    "        dataframes_list.append(df)\n",
    "\n",
    "# Concatenate the DataFrames vertically\n",
    "population_data = pd.concat(dataframes_list, ignore_index=True)\n",
    "\n",
    "#PY/AID2023/Populatie_INS/exportPivot_POP108D (1).csv"
   ]
  },
  {
   "cell_type": "code",
   "execution_count": 280,
   "id": "1aee6afa-2083-436d-a392-c657abe359e2",
   "metadata": {},
   "outputs": [
    {
     "name": "stdout",
     "output_type": "stream",
     "text": [
      "Index(['Varste si grupe de varsta', ' Sexe', ' Judete', ' Localitati ', ' Ani',\n",
      "       ' UM: Numar persoane', ' Valoare'],\n",
      "      dtype='object')\n"
     ]
    },
    {
     "data": {
      "text/html": [
       "<div>\n",
       "<style scoped>\n",
       "    .dataframe tbody tr th:only-of-type {\n",
       "        vertical-align: middle;\n",
       "    }\n",
       "\n",
       "    .dataframe tbody tr th {\n",
       "        vertical-align: top;\n",
       "    }\n",
       "\n",
       "    .dataframe thead th {\n",
       "        text-align: right;\n",
       "    }\n",
       "</style>\n",
       "<table border=\"1\" class=\"dataframe\">\n",
       "  <thead>\n",
       "    <tr style=\"text-align: right;\">\n",
       "      <th></th>\n",
       "      <th>Varste si grupe de varsta</th>\n",
       "      <th>Sexe</th>\n",
       "      <th>Judete</th>\n",
       "      <th>Localitati</th>\n",
       "      <th>Ani</th>\n",
       "      <th>UM: Numar persoane</th>\n",
       "      <th>Valoare</th>\n",
       "    </tr>\n",
       "  </thead>\n",
       "  <tbody>\n",
       "    <tr>\n",
       "      <th>0</th>\n",
       "      <td>Total</td>\n",
       "      <td>Total</td>\n",
       "      <td>Arad</td>\n",
       "      <td>9262 MUNICIPIUL ARAD</td>\n",
       "      <td>Anul 1992</td>\n",
       "      <td>Numar persoane</td>\n",
       "      <td>192606</td>\n",
       "    </tr>\n",
       "    <tr>\n",
       "      <th>1</th>\n",
       "      <td>Total</td>\n",
       "      <td>Total</td>\n",
       "      <td>Arad</td>\n",
       "      <td>9262 MUNICIPIUL ARAD</td>\n",
       "      <td>Anul 1993</td>\n",
       "      <td>Numar persoane</td>\n",
       "      <td>192776</td>\n",
       "    </tr>\n",
       "    <tr>\n",
       "      <th>2</th>\n",
       "      <td>Total</td>\n",
       "      <td>Total</td>\n",
       "      <td>Arad</td>\n",
       "      <td>9262 MUNICIPIUL ARAD</td>\n",
       "      <td>Anul 1994</td>\n",
       "      <td>Numar persoane</td>\n",
       "      <td>193307</td>\n",
       "    </tr>\n",
       "  </tbody>\n",
       "</table>\n",
       "</div>"
      ],
      "text/plain": [
       "  Varste si grupe de varsta    Sexe  Judete            Localitati   \\\n",
       "0                     Total   Total    Arad   9262 MUNICIPIUL ARAD   \n",
       "1                     Total   Total    Arad   9262 MUNICIPIUL ARAD   \n",
       "2                     Total   Total    Arad   9262 MUNICIPIUL ARAD   \n",
       "\n",
       "          Ani  UM: Numar persoane   Valoare  \n",
       "0   Anul 1992      Numar persoane    192606  \n",
       "1   Anul 1993      Numar persoane    192776  \n",
       "2   Anul 1994      Numar persoane    193307  "
      ]
     },
     "execution_count": 280,
     "metadata": {},
     "output_type": "execute_result"
    }
   ],
   "source": [
    "print(population_data.columns)\n",
    "population_data.head(3)"
   ]
  },
  {
   "cell_type": "markdown",
   "id": "5d7b5bdb-e204-4f56-89ab-89d3abdf8573",
   "metadata": {},
   "source": [
    "#### DATA CLEANING - POPULATION DATA"
   ]
  },
  {
   "cell_type": "code",
   "execution_count": 387,
   "id": "ec06560b-96bc-4c0e-a777-59883c7d8a11",
   "metadata": {},
   "outputs": [],
   "source": [
    "\n",
    "population_data.rename(columns = {' Ani': 'Anul', ' Localitati ':'UAT',' Judete':'Judet',' Valoare':'Populatie'}, inplace = True)"
   ]
  },
  {
   "cell_type": "code",
   "execution_count": 282,
   "id": "749cc366-c947-4ceb-97c7-9be86df1e412",
   "metadata": {},
   "outputs": [],
   "source": [
    "population_data.drop(columns = ['Varste si grupe de varsta', ' Sexe', ' UM: Numar persoane'], inplace = True)"
   ]
  },
  {
   "cell_type": "code",
   "execution_count": 283,
   "id": "671e44d2-5b59-4207-9a63-d16d0024842b",
   "metadata": {},
   "outputs": [
    {
     "data": {
      "text/html": [
       "<div>\n",
       "<style scoped>\n",
       "    .dataframe tbody tr th:only-of-type {\n",
       "        vertical-align: middle;\n",
       "    }\n",
       "\n",
       "    .dataframe tbody tr th {\n",
       "        vertical-align: top;\n",
       "    }\n",
       "\n",
       "    .dataframe thead th {\n",
       "        text-align: right;\n",
       "    }\n",
       "</style>\n",
       "<table border=\"1\" class=\"dataframe\">\n",
       "  <thead>\n",
       "    <tr style=\"text-align: right;\">\n",
       "      <th></th>\n",
       "      <th>Judet</th>\n",
       "      <th>UAT</th>\n",
       "      <th>Anul</th>\n",
       "      <th>Populatie</th>\n",
       "    </tr>\n",
       "  </thead>\n",
       "  <tbody>\n",
       "    <tr>\n",
       "      <th>0</th>\n",
       "      <td>Arad</td>\n",
       "      <td>9262 MUNICIPIUL ARAD</td>\n",
       "      <td>Anul 1992</td>\n",
       "      <td>192606</td>\n",
       "    </tr>\n",
       "    <tr>\n",
       "      <th>1</th>\n",
       "      <td>Arad</td>\n",
       "      <td>9262 MUNICIPIUL ARAD</td>\n",
       "      <td>Anul 1993</td>\n",
       "      <td>192776</td>\n",
       "    </tr>\n",
       "    <tr>\n",
       "      <th>2</th>\n",
       "      <td>Arad</td>\n",
       "      <td>9262 MUNICIPIUL ARAD</td>\n",
       "      <td>Anul 1994</td>\n",
       "      <td>193307</td>\n",
       "    </tr>\n",
       "  </tbody>\n",
       "</table>\n",
       "</div>"
      ],
      "text/plain": [
       "   Judet                    UAT        Anul  Populatie\n",
       "0   Arad   9262 MUNICIPIUL ARAD   Anul 1992     192606\n",
       "1   Arad   9262 MUNICIPIUL ARAD   Anul 1993     192776\n",
       "2   Arad   9262 MUNICIPIUL ARAD   Anul 1994     193307"
      ]
     },
     "execution_count": 283,
     "metadata": {},
     "output_type": "execute_result"
    }
   ],
   "source": [
    "population_data.head(3)"
   ]
  },
  {
   "cell_type": "code",
   "execution_count": 284,
   "id": "1dfd2e86-d40d-4444-a193-e9cb9b3b3ce3",
   "metadata": {
    "tags": []
   },
   "outputs": [],
   "source": [
    "population_data['Anul'] = population_data['Anul'].str.replace(\" Anul \", \"\")"
   ]
  },
  {
   "cell_type": "code",
   "execution_count": 285,
   "id": "6b11e997-fc24-42fc-abde-5efc64d98284",
   "metadata": {},
   "outputs": [
    {
     "data": {
      "text/html": [
       "<div>\n",
       "<style scoped>\n",
       "    .dataframe tbody tr th:only-of-type {\n",
       "        vertical-align: middle;\n",
       "    }\n",
       "\n",
       "    .dataframe tbody tr th {\n",
       "        vertical-align: top;\n",
       "    }\n",
       "\n",
       "    .dataframe thead th {\n",
       "        text-align: right;\n",
       "    }\n",
       "</style>\n",
       "<table border=\"1\" class=\"dataframe\">\n",
       "  <thead>\n",
       "    <tr style=\"text-align: right;\">\n",
       "      <th></th>\n",
       "      <th>Judet</th>\n",
       "      <th>UAT</th>\n",
       "      <th>Anul</th>\n",
       "      <th>Populatie</th>\n",
       "    </tr>\n",
       "  </thead>\n",
       "  <tbody>\n",
       "    <tr>\n",
       "      <th>0</th>\n",
       "      <td>Arad</td>\n",
       "      <td>9262 MUNICIPIUL ARAD</td>\n",
       "      <td>1992</td>\n",
       "      <td>192606</td>\n",
       "    </tr>\n",
       "    <tr>\n",
       "      <th>1</th>\n",
       "      <td>Arad</td>\n",
       "      <td>9262 MUNICIPIUL ARAD</td>\n",
       "      <td>1993</td>\n",
       "      <td>192776</td>\n",
       "    </tr>\n",
       "    <tr>\n",
       "      <th>2</th>\n",
       "      <td>Arad</td>\n",
       "      <td>9262 MUNICIPIUL ARAD</td>\n",
       "      <td>1994</td>\n",
       "      <td>193307</td>\n",
       "    </tr>\n",
       "  </tbody>\n",
       "</table>\n",
       "</div>"
      ],
      "text/plain": [
       "   Judet                    UAT  Anul  Populatie\n",
       "0   Arad   9262 MUNICIPIUL ARAD  1992     192606\n",
       "1   Arad   9262 MUNICIPIUL ARAD  1993     192776\n",
       "2   Arad   9262 MUNICIPIUL ARAD  1994     193307"
      ]
     },
     "execution_count": 285,
     "metadata": {},
     "output_type": "execute_result"
    }
   ],
   "source": [
    "population_data.head(3)"
   ]
  },
  {
   "cell_type": "code",
   "execution_count": 286,
   "id": "1418903c-2036-4996-92bd-de6449e0b264",
   "metadata": {},
   "outputs": [],
   "source": [
    "population_data['UAT'] = population_data['UAT'].str.replace(\"MUNICIPIUL\", \"\")\n",
    "population_data['UAT'] = population_data['UAT'].str.replace(\"ORAS\", \"\")"
   ]
  },
  {
   "cell_type": "code",
   "execution_count": 287,
   "id": "9bb3aec1-a0f2-4797-8584-456797e13ccf",
   "metadata": {},
   "outputs": [
    {
     "data": {
      "text/plain": [
       "array([' 9262  ARAD', ' 9459  CHISINEU-CRIS', ' 9495  CURTICI', ...,\n",
       "       ' 50326 VIPERESTI', ' 50415 ZARNESTI', ' 50479 ZIDURI'],\n",
       "      dtype=object)"
      ]
     },
     "execution_count": 287,
     "metadata": {},
     "output_type": "execute_result"
    }
   ],
   "source": [
    "population_data.UAT.unique()"
   ]
  },
  {
   "cell_type": "markdown",
   "id": "c1f12012-534e-403f-b6f1-2ad0d5ef0a9c",
   "metadata": {},
   "source": [
    "#### STRIP "
   ]
  },
  {
   "cell_type": "code",
   "execution_count": 288,
   "id": "b90c90d9-9244-459b-abbc-87cf87812d35",
   "metadata": {},
   "outputs": [],
   "source": [
    "population_data['UAT'] = population_data['UAT'].str.strip()\n"
   ]
  },
  {
   "cell_type": "markdown",
   "id": "4a89ebec-b801-4742-b938-2532c3131c5f",
   "metadata": {},
   "source": [
    "### SIRUTA"
   ]
  },
  {
   "cell_type": "code",
   "execution_count": 289,
   "id": "76bc275e-8ae5-406e-913c-087be2cc613a",
   "metadata": {},
   "outputs": [],
   "source": [
    "# Split the column by the first space and expand it into two new columns\n",
    "population_data[['SIRUTA', 'Localitate']] = population_data['UAT'].str.split(n=1, expand=True)"
   ]
  },
  {
   "cell_type": "code",
   "execution_count": 290,
   "id": "78229528-d8b8-4a94-8dca-e58076b3887c",
   "metadata": {},
   "outputs": [],
   "source": [
    "population_data.drop(columns = [\"UAT\"], inplace = True)"
   ]
  },
  {
   "cell_type": "code",
   "execution_count": 388,
   "id": "bda926b2-3d6f-4e5a-948f-b332a0e9abac",
   "metadata": {},
   "outputs": [
    {
     "data": {
      "text/html": [
       "<div>\n",
       "<style scoped>\n",
       "    .dataframe tbody tr th:only-of-type {\n",
       "        vertical-align: middle;\n",
       "    }\n",
       "\n",
       "    .dataframe tbody tr th {\n",
       "        vertical-align: top;\n",
       "    }\n",
       "\n",
       "    .dataframe thead th {\n",
       "        text-align: right;\n",
       "    }\n",
       "</style>\n",
       "<table border=\"1\" class=\"dataframe\">\n",
       "  <thead>\n",
       "    <tr style=\"text-align: right;\">\n",
       "      <th></th>\n",
       "      <th>Judet</th>\n",
       "      <th>Anul</th>\n",
       "      <th>Populatie</th>\n",
       "      <th>SIRUTA</th>\n",
       "      <th>Localitate</th>\n",
       "      <th>Loc_Jud</th>\n",
       "    </tr>\n",
       "  </thead>\n",
       "  <tbody>\n",
       "    <tr>\n",
       "      <th>0</th>\n",
       "      <td>ARAD</td>\n",
       "      <td>1992</td>\n",
       "      <td>192606</td>\n",
       "      <td>9262</td>\n",
       "      <td>ARAD</td>\n",
       "      <td>ARAD_ARAD</td>\n",
       "    </tr>\n",
       "    <tr>\n",
       "      <th>1</th>\n",
       "      <td>ARAD</td>\n",
       "      <td>1993</td>\n",
       "      <td>192776</td>\n",
       "      <td>9262</td>\n",
       "      <td>ARAD</td>\n",
       "      <td>ARAD_ARAD</td>\n",
       "    </tr>\n",
       "    <tr>\n",
       "      <th>2</th>\n",
       "      <td>ARAD</td>\n",
       "      <td>1994</td>\n",
       "      <td>193307</td>\n",
       "      <td>9262</td>\n",
       "      <td>ARAD</td>\n",
       "      <td>ARAD_ARAD</td>\n",
       "    </tr>\n",
       "  </tbody>\n",
       "</table>\n",
       "</div>"
      ],
      "text/plain": [
       "  Judet  Anul  Populatie SIRUTA Localitate    Loc_Jud\n",
       "0  ARAD  1992     192606   9262       ARAD  ARAD_ARAD\n",
       "1  ARAD  1993     192776   9262       ARAD  ARAD_ARAD\n",
       "2  ARAD  1994     193307   9262       ARAD  ARAD_ARAD"
      ]
     },
     "execution_count": 388,
     "metadata": {},
     "output_type": "execute_result"
    }
   ],
   "source": [
    "population_data.head(3)"
   ]
  },
  {
   "cell_type": "code",
   "execution_count": 292,
   "id": "bdbf6167-2fc0-4ce2-9228-018ffe8482de",
   "metadata": {},
   "outputs": [],
   "source": [
    "# Localitate UPPER\n",
    "population_data['Judet'] = population_data['Judet'].str.upper()\n",
    "#Strip\n",
    "population_data['Judet'] = population_data['Judet'].str.strip()"
   ]
  },
  {
   "cell_type": "code",
   "execution_count": 293,
   "id": "daa619e5-2cd5-4e2b-b650-0710645022f2",
   "metadata": {},
   "outputs": [],
   "source": [
    "# KEY COLUMN\n",
    "population_data[\"Loc_Jud\"] =  population_data[['Localitate','Judet']].apply(lambda x: \"_\".join(x.astype(str)), axis = 1)\n"
   ]
  },
  {
   "cell_type": "code",
   "execution_count": 294,
   "id": "681262b6-8269-49a5-895f-72eb0c503a12",
   "metadata": {},
   "outputs": [
    {
     "data": {
      "text/html": [
       "<div>\n",
       "<style scoped>\n",
       "    .dataframe tbody tr th:only-of-type {\n",
       "        vertical-align: middle;\n",
       "    }\n",
       "\n",
       "    .dataframe tbody tr th {\n",
       "        vertical-align: top;\n",
       "    }\n",
       "\n",
       "    .dataframe thead th {\n",
       "        text-align: right;\n",
       "    }\n",
       "</style>\n",
       "<table border=\"1\" class=\"dataframe\">\n",
       "  <thead>\n",
       "    <tr style=\"text-align: right;\">\n",
       "      <th></th>\n",
       "      <th>Judet</th>\n",
       "      <th>Anul</th>\n",
       "      <th>Populatie</th>\n",
       "      <th>SIRUTA</th>\n",
       "      <th>Localitate</th>\n",
       "      <th>Loc_Jud</th>\n",
       "    </tr>\n",
       "  </thead>\n",
       "  <tbody>\n",
       "    <tr>\n",
       "      <th>100171</th>\n",
       "      <td>BUZAU</td>\n",
       "      <td>2021</td>\n",
       "      <td>4036</td>\n",
       "      <td>50479</td>\n",
       "      <td>ZIDURI</td>\n",
       "      <td>ZIDURI_BUZAU</td>\n",
       "    </tr>\n",
       "    <tr>\n",
       "      <th>100172</th>\n",
       "      <td>BUZAU</td>\n",
       "      <td>2022</td>\n",
       "      <td>3961</td>\n",
       "      <td>50479</td>\n",
       "      <td>ZIDURI</td>\n",
       "      <td>ZIDURI_BUZAU</td>\n",
       "    </tr>\n",
       "    <tr>\n",
       "      <th>100173</th>\n",
       "      <td>BUZAU</td>\n",
       "      <td>2023</td>\n",
       "      <td>3976</td>\n",
       "      <td>50479</td>\n",
       "      <td>ZIDURI</td>\n",
       "      <td>ZIDURI_BUZAU</td>\n",
       "    </tr>\n",
       "  </tbody>\n",
       "</table>\n",
       "</div>"
      ],
      "text/plain": [
       "        Judet  Anul  Populatie SIRUTA Localitate       Loc_Jud\n",
       "100171  BUZAU  2021       4036  50479     ZIDURI  ZIDURI_BUZAU\n",
       "100172  BUZAU  2022       3961  50479     ZIDURI  ZIDURI_BUZAU\n",
       "100173  BUZAU  2023       3976  50479     ZIDURI  ZIDURI_BUZAU"
      ]
     },
     "execution_count": 294,
     "metadata": {},
     "output_type": "execute_result"
    }
   ],
   "source": [
    "population_data.tail(3)"
   ]
  },
  {
   "cell_type": "code",
   "execution_count": 295,
   "id": "1c9cd694-73d4-453a-bde6-8a005f888946",
   "metadata": {
    "collapsed": true,
    "jupyter": {
     "outputs_hidden": true
    },
    "tags": []
   },
   "outputs": [
    {
     "data": {
      "text/html": [
       "<div>\n",
       "<style scoped>\n",
       "    .dataframe tbody tr th:only-of-type {\n",
       "        vertical-align: middle;\n",
       "    }\n",
       "\n",
       "    .dataframe tbody tr th {\n",
       "        vertical-align: top;\n",
       "    }\n",
       "\n",
       "    .dataframe thead th {\n",
       "        text-align: right;\n",
       "    }\n",
       "</style>\n",
       "<table border=\"1\" class=\"dataframe\">\n",
       "  <thead>\n",
       "    <tr style=\"text-align: right;\">\n",
       "      <th></th>\n",
       "      <th>Judet</th>\n",
       "      <th>Populatie</th>\n",
       "      <th>SIRUTA</th>\n",
       "      <th>Localitate</th>\n",
       "      <th>Loc_Jud</th>\n",
       "    </tr>\n",
       "  </thead>\n",
       "  <tbody>\n",
       "    <tr>\n",
       "      <th>27</th>\n",
       "      <td>ARAD</td>\n",
       "      <td>176589</td>\n",
       "      <td>9262</td>\n",
       "      <td>ARAD</td>\n",
       "      <td>ARAD_ARAD</td>\n",
       "    </tr>\n",
       "    <tr>\n",
       "      <th>59</th>\n",
       "      <td>ARAD</td>\n",
       "      <td>8227</td>\n",
       "      <td>9459</td>\n",
       "      <td>CHISINEU-CRIS</td>\n",
       "      <td>CHISINEU-CRIS_ARAD</td>\n",
       "    </tr>\n",
       "    <tr>\n",
       "      <th>91</th>\n",
       "      <td>ARAD</td>\n",
       "      <td>8806</td>\n",
       "      <td>9495</td>\n",
       "      <td>CURTICI</td>\n",
       "      <td>CURTICI_ARAD</td>\n",
       "    </tr>\n",
       "    <tr>\n",
       "      <th>123</th>\n",
       "      <td>ARAD</td>\n",
       "      <td>9594</td>\n",
       "      <td>9538</td>\n",
       "      <td>INEU</td>\n",
       "      <td>INEU_ARAD</td>\n",
       "    </tr>\n",
       "    <tr>\n",
       "      <th>155</th>\n",
       "      <td>ARAD</td>\n",
       "      <td>11196</td>\n",
       "      <td>9574</td>\n",
       "      <td>LIPOVA</td>\n",
       "      <td>LIPOVA_ARAD</td>\n",
       "    </tr>\n",
       "    <tr>\n",
       "      <th>...</th>\n",
       "      <td>...</td>\n",
       "      <td>...</td>\n",
       "      <td>...</td>\n",
       "      <td>...</td>\n",
       "      <td>...</td>\n",
       "    </tr>\n",
       "    <tr>\n",
       "      <th>100041</th>\n",
       "      <td>BUZAU</td>\n",
       "      <td>9136</td>\n",
       "      <td>50102</td>\n",
       "      <td>VERNESTI</td>\n",
       "      <td>VERNESTI_BUZAU</td>\n",
       "    </tr>\n",
       "    <tr>\n",
       "      <th>100073</th>\n",
       "      <td>BUZAU</td>\n",
       "      <td>2814</td>\n",
       "      <td>50228</td>\n",
       "      <td>VINTILA VODA</td>\n",
       "      <td>VINTILA VODA_BUZAU</td>\n",
       "    </tr>\n",
       "    <tr>\n",
       "      <th>100105</th>\n",
       "      <td>BUZAU</td>\n",
       "      <td>3438</td>\n",
       "      <td>50326</td>\n",
       "      <td>VIPERESTI</td>\n",
       "      <td>VIPERESTI_BUZAU</td>\n",
       "    </tr>\n",
       "    <tr>\n",
       "      <th>100137</th>\n",
       "      <td>BUZAU</td>\n",
       "      <td>4913</td>\n",
       "      <td>50415</td>\n",
       "      <td>ZARNESTI</td>\n",
       "      <td>ZARNESTI_BUZAU</td>\n",
       "    </tr>\n",
       "    <tr>\n",
       "      <th>100169</th>\n",
       "      <td>BUZAU</td>\n",
       "      <td>4232</td>\n",
       "      <td>50479</td>\n",
       "      <td>ZIDURI</td>\n",
       "      <td>ZIDURI_BUZAU</td>\n",
       "    </tr>\n",
       "  </tbody>\n",
       "</table>\n",
       "<p>3219 rows × 5 columns</p>\n",
       "</div>"
      ],
      "text/plain": [
       "        Judet  Populatie SIRUTA     Localitate             Loc_Jud\n",
       "27       ARAD     176589   9262           ARAD           ARAD_ARAD\n",
       "59       ARAD       8227   9459  CHISINEU-CRIS  CHISINEU-CRIS_ARAD\n",
       "91       ARAD       8806   9495        CURTICI        CURTICI_ARAD\n",
       "123      ARAD       9594   9538           INEU           INEU_ARAD\n",
       "155      ARAD      11196   9574         LIPOVA         LIPOVA_ARAD\n",
       "...       ...        ...    ...            ...                 ...\n",
       "100041  BUZAU       9136  50102       VERNESTI      VERNESTI_BUZAU\n",
       "100073  BUZAU       2814  50228   VINTILA VODA  VINTILA VODA_BUZAU\n",
       "100105  BUZAU       3438  50326      VIPERESTI     VIPERESTI_BUZAU\n",
       "100137  BUZAU       4913  50415       ZARNESTI      ZARNESTI_BUZAU\n",
       "100169  BUZAU       4232  50479         ZIDURI        ZIDURI_BUZAU\n",
       "\n",
       "[3219 rows x 5 columns]"
      ]
     },
     "execution_count": 295,
     "metadata": {},
     "output_type": "execute_result"
    }
   ],
   "source": [
    "# keep only the year 2018\n",
    "# Convert 'Anul' column to numeric in case it's stored as strings\n",
    "population_data['Anul'] = pd.to_numeric(population_data['Anul'], errors='coerce')\n",
    "\n",
    "# Filter rows for the year 2019\n",
    "population_data_2019 = population_data[population_data['Anul'] == 2019]\n",
    "population_data_2019.drop(columns =[\"Anul\"])"
   ]
  },
  {
   "cell_type": "code",
   "execution_count": 296,
   "id": "e6966cfa-2692-4f7e-9c4a-24f68449cdae",
   "metadata": {},
   "outputs": [
    {
     "data": {
      "text/html": [
       "<div>\n",
       "<style scoped>\n",
       "    .dataframe tbody tr th:only-of-type {\n",
       "        vertical-align: middle;\n",
       "    }\n",
       "\n",
       "    .dataframe tbody tr th {\n",
       "        vertical-align: top;\n",
       "    }\n",
       "\n",
       "    .dataframe thead th {\n",
       "        text-align: right;\n",
       "    }\n",
       "</style>\n",
       "<table border=\"1\" class=\"dataframe\">\n",
       "  <thead>\n",
       "    <tr style=\"text-align: right;\">\n",
       "      <th></th>\n",
       "      <th>SIRUTA</th>\n",
       "      <th>Loc_Jud</th>\n",
       "    </tr>\n",
       "  </thead>\n",
       "  <tbody>\n",
       "    <tr>\n",
       "      <th>0</th>\n",
       "      <td>9262</td>\n",
       "      <td>ARAD_ARAD</td>\n",
       "    </tr>\n",
       "    <tr>\n",
       "      <th>32</th>\n",
       "      <td>9459</td>\n",
       "      <td>CHISINEU-CRIS_ARAD</td>\n",
       "    </tr>\n",
       "    <tr>\n",
       "      <th>64</th>\n",
       "      <td>9495</td>\n",
       "      <td>CURTICI_ARAD</td>\n",
       "    </tr>\n",
       "    <tr>\n",
       "      <th>96</th>\n",
       "      <td>9538</td>\n",
       "      <td>INEU_ARAD</td>\n",
       "    </tr>\n",
       "    <tr>\n",
       "      <th>128</th>\n",
       "      <td>9574</td>\n",
       "      <td>LIPOVA_ARAD</td>\n",
       "    </tr>\n",
       "  </tbody>\n",
       "</table>\n",
       "</div>"
      ],
      "text/plain": [
       "    SIRUTA             Loc_Jud\n",
       "0     9262           ARAD_ARAD\n",
       "32    9459  CHISINEU-CRIS_ARAD\n",
       "64    9495        CURTICI_ARAD\n",
       "96    9538           INEU_ARAD\n",
       "128   9574         LIPOVA_ARAD"
      ]
     },
     "execution_count": 296,
     "metadata": {},
     "output_type": "execute_result"
    }
   ],
   "source": [
    "# DICTIONAR SIRUTA\n",
    "# Create a new DataFrame with unique values from 'SIRUTA' and their corresponding 'Loc_Jud'\n",
    "siruta_dict= population_data[['SIRUTA', 'Loc_Jud']].drop_duplicates()\n",
    "siruta_dict.head(5)"
   ]
  },
  {
   "cell_type": "markdown",
   "id": "132c26b2-c694-401c-863d-fd0855574520",
   "metadata": {},
   "source": [
    "### ADD SIRUTA COLUMN TO DF"
   ]
  },
  {
   "cell_type": "code",
   "execution_count": 297,
   "id": "3cdb009c-ccd1-4ddc-82c8-92eba570bb00",
   "metadata": {
    "collapsed": true,
    "jupyter": {
     "outputs_hidden": true
    },
    "tags": []
   },
   "outputs": [
    {
     "data": {
      "text/html": [
       "<div>\n",
       "<style scoped>\n",
       "    .dataframe tbody tr th:only-of-type {\n",
       "        vertical-align: middle;\n",
       "    }\n",
       "\n",
       "    .dataframe tbody tr th {\n",
       "        vertical-align: top;\n",
       "    }\n",
       "\n",
       "    .dataframe thead th {\n",
       "        text-align: right;\n",
       "    }\n",
       "</style>\n",
       "<table border=\"1\" class=\"dataframe\">\n",
       "  <thead>\n",
       "    <tr style=\"text-align: right;\">\n",
       "      <th></th>\n",
       "      <th>idSchool</th>\n",
       "      <th>siruesCode</th>\n",
       "      <th>schoolType</th>\n",
       "      <th>statut</th>\n",
       "      <th>propertyForm</th>\n",
       "      <th>fundingForm</th>\n",
       "      <th>county</th>\n",
       "      <th>locality</th>\n",
       "      <th>studyFormationsCount</th>\n",
       "      <th>studentsCount</th>\n",
       "      <th>personnelCount</th>\n",
       "      <th>Loc_Jud</th>\n",
       "      <th>SIRUTA</th>\n",
       "    </tr>\n",
       "  </thead>\n",
       "  <tbody>\n",
       "    <tr>\n",
       "      <th>0</th>\n",
       "      <td>11269910</td>\n",
       "      <td>23054595</td>\n",
       "      <td>Unitate de învățământ</td>\n",
       "      <td>Cu personalitate juridică</td>\n",
       "      <td>Privată</td>\n",
       "      <td>Sponsorizare</td>\n",
       "      <td>ARAD</td>\n",
       "      <td>ARAD</td>\n",
       "      <td>4</td>\n",
       "      <td>131</td>\n",
       "      <td>7</td>\n",
       "      <td>ARAD_ARAD</td>\n",
       "      <td>9262</td>\n",
       "    </tr>\n",
       "    <tr>\n",
       "      <th>1</th>\n",
       "      <td>11256876</td>\n",
       "      <td>NaN</td>\n",
       "      <td>Unitate de învățământ</td>\n",
       "      <td>Cu personalitate juridică</td>\n",
       "      <td>Privată</td>\n",
       "      <td>Taxă</td>\n",
       "      <td>BUZĂU</td>\n",
       "      <td>RÂMNICU SĂRAT</td>\n",
       "      <td>0</td>\n",
       "      <td>0</td>\n",
       "      <td>0</td>\n",
       "      <td>RAMNICU SARAT_BUZAU</td>\n",
       "      <td>44845</td>\n",
       "    </tr>\n",
       "    <tr>\n",
       "      <th>2</th>\n",
       "      <td>11256865</td>\n",
       "      <td>NaN</td>\n",
       "      <td>Unitate de învățământ</td>\n",
       "      <td>Cu personalitate juridică</td>\n",
       "      <td>Privată</td>\n",
       "      <td>Taxă</td>\n",
       "      <td>BUZĂU</td>\n",
       "      <td>BUZĂU</td>\n",
       "      <td>0</td>\n",
       "      <td>0</td>\n",
       "      <td>0</td>\n",
       "      <td>BUZAU_BUZAU</td>\n",
       "      <td>44818</td>\n",
       "    </tr>\n",
       "    <tr>\n",
       "      <th>3</th>\n",
       "      <td>11284187</td>\n",
       "      <td>NaN</td>\n",
       "      <td>Unitate de învățământ</td>\n",
       "      <td>Arondată</td>\n",
       "      <td>Publică de interes naţional şi local</td>\n",
       "      <td>Buget</td>\n",
       "      <td>CĂLĂRAŞI</td>\n",
       "      <td>CĂLĂRAŞI</td>\n",
       "      <td>0</td>\n",
       "      <td>0</td>\n",
       "      <td>0</td>\n",
       "      <td>CALARASI_CALARASI</td>\n",
       "      <td>92569</td>\n",
       "    </tr>\n",
       "    <tr>\n",
       "      <th>4</th>\n",
       "      <td>11270113</td>\n",
       "      <td>NaN</td>\n",
       "      <td>Centru județean de resurse și asistență educaț...</td>\n",
       "      <td>Arondată</td>\n",
       "      <td>Publică de interes naţional şi local</td>\n",
       "      <td>Buget</td>\n",
       "      <td>CĂLĂRAŞI</td>\n",
       "      <td>BORCEA</td>\n",
       "      <td>0</td>\n",
       "      <td>0</td>\n",
       "      <td>0</td>\n",
       "      <td>BORCEA_CALARASI</td>\n",
       "      <td>92961</td>\n",
       "    </tr>\n",
       "  </tbody>\n",
       "</table>\n",
       "</div>"
      ],
      "text/plain": [
       "   idSchool siruesCode                                         schoolType  \\\n",
       "0  11269910   23054595                              Unitate de învățământ   \n",
       "1  11256876        NaN                              Unitate de învățământ   \n",
       "2  11256865        NaN                              Unitate de învățământ   \n",
       "3  11284187        NaN                              Unitate de învățământ   \n",
       "4  11270113        NaN  Centru județean de resurse și asistență educaț...   \n",
       "\n",
       "                      statut                          propertyForm  \\\n",
       "0  Cu personalitate juridică                               Privată   \n",
       "1  Cu personalitate juridică                               Privată   \n",
       "2  Cu personalitate juridică                               Privată   \n",
       "3                   Arondată  Publică de interes naţional şi local   \n",
       "4                   Arondată  Publică de interes naţional şi local   \n",
       "\n",
       "    fundingForm    county       locality  studyFormationsCount  studentsCount  \\\n",
       "0  Sponsorizare      ARAD           ARAD                     4            131   \n",
       "1          Taxă     BUZĂU  RÂMNICU SĂRAT                     0              0   \n",
       "2          Taxă     BUZĂU          BUZĂU                     0              0   \n",
       "3         Buget  CĂLĂRAŞI       CĂLĂRAŞI                     0              0   \n",
       "4         Buget  CĂLĂRAŞI         BORCEA                     0              0   \n",
       "\n",
       "   personnelCount              Loc_Jud SIRUTA  \n",
       "0               7            ARAD_ARAD   9262  \n",
       "1               0  RAMNICU SARAT_BUZAU  44845  \n",
       "2               0          BUZAU_BUZAU  44818  \n",
       "3               0    CALARASI_CALARASI  92569  \n",
       "4               0      BORCEA_CALARASI  92961  "
      ]
     },
     "execution_count": 297,
     "metadata": {},
     "output_type": "execute_result"
    }
   ],
   "source": [
    "# Merge 'df' with 'siruta_dict' based on 'Loc_Jud'\n",
    "details_df = pd.merge(details_df, siruta_dict, on='Loc_Jud', how='left')\n",
    "details_df.head()"
   ]
  },
  {
   "cell_type": "code",
   "execution_count": 298,
   "id": "b699dae9-6499-47d5-a485-8af71beee404",
   "metadata": {
    "tags": []
   },
   "outputs": [
    {
     "data": {
      "text/html": [
       "<div>\n",
       "<style scoped>\n",
       "    .dataframe tbody tr th:only-of-type {\n",
       "        vertical-align: middle;\n",
       "    }\n",
       "\n",
       "    .dataframe tbody tr th {\n",
       "        vertical-align: top;\n",
       "    }\n",
       "\n",
       "    .dataframe thead th {\n",
       "        text-align: right;\n",
       "    }\n",
       "</style>\n",
       "<table border=\"1\" class=\"dataframe\">\n",
       "  <thead>\n",
       "    <tr style=\"text-align: right;\">\n",
       "      <th></th>\n",
       "      <th>idSchool</th>\n",
       "      <th>siruesCode</th>\n",
       "      <th>schoolType</th>\n",
       "      <th>statut</th>\n",
       "      <th>propertyForm</th>\n",
       "      <th>fundingForm</th>\n",
       "      <th>county</th>\n",
       "      <th>locality</th>\n",
       "      <th>studyFormationsCount</th>\n",
       "      <th>studentsCount</th>\n",
       "      <th>personnelCount</th>\n",
       "      <th>Loc_Jud</th>\n",
       "      <th>SIRUTA</th>\n",
       "    </tr>\n",
       "  </thead>\n",
       "  <tbody>\n",
       "    <tr>\n",
       "      <th>0</th>\n",
       "      <td>11269910</td>\n",
       "      <td>23054595</td>\n",
       "      <td>Unitate de învățământ</td>\n",
       "      <td>Cu personalitate juridică</td>\n",
       "      <td>Privată</td>\n",
       "      <td>Sponsorizare</td>\n",
       "      <td>ARAD</td>\n",
       "      <td>ARAD</td>\n",
       "      <td>4</td>\n",
       "      <td>131</td>\n",
       "      <td>7</td>\n",
       "      <td>ARAD_ARAD</td>\n",
       "      <td>9262</td>\n",
       "    </tr>\n",
       "    <tr>\n",
       "      <th>1</th>\n",
       "      <td>11256876</td>\n",
       "      <td>NaN</td>\n",
       "      <td>Unitate de învățământ</td>\n",
       "      <td>Cu personalitate juridică</td>\n",
       "      <td>Privată</td>\n",
       "      <td>Taxă</td>\n",
       "      <td>BUZĂU</td>\n",
       "      <td>RÂMNICU SĂRAT</td>\n",
       "      <td>0</td>\n",
       "      <td>0</td>\n",
       "      <td>0</td>\n",
       "      <td>RAMNICU SARAT_BUZAU</td>\n",
       "      <td>44845</td>\n",
       "    </tr>\n",
       "  </tbody>\n",
       "</table>\n",
       "</div>"
      ],
      "text/plain": [
       "   idSchool siruesCode             schoolType                     statut  \\\n",
       "0  11269910   23054595  Unitate de învățământ  Cu personalitate juridică   \n",
       "1  11256876        NaN  Unitate de învățământ  Cu personalitate juridică   \n",
       "\n",
       "  propertyForm   fundingForm county       locality  studyFormationsCount  \\\n",
       "0      Privată  Sponsorizare   ARAD           ARAD                     4   \n",
       "1      Privată          Taxă  BUZĂU  RÂMNICU SĂRAT                     0   \n",
       "\n",
       "   studentsCount  personnelCount              Loc_Jud SIRUTA  \n",
       "0            131               7            ARAD_ARAD   9262  \n",
       "1              0               0  RAMNICU SARAT_BUZAU  44845  "
      ]
     },
     "execution_count": 298,
     "metadata": {},
     "output_type": "execute_result"
    }
   ],
   "source": [
    "details_df.head(2)"
   ]
  },
  {
   "cell_type": "code",
   "execution_count": null,
   "id": "41b5aa05-09bf-43c2-952d-50b53284d4f5",
   "metadata": {},
   "outputs": [],
   "source": []
  },
  {
   "cell_type": "code",
   "execution_count": 362,
   "id": "8f54e962-79c9-49d5-ad88-771ea51ecdda",
   "metadata": {},
   "outputs": [],
   "source": [
    "# Verify if there is a SIRUTA for every row in 'df'\n",
    "missing_siruta = details_df[details_df['SIRUTA'].isnull()]"
   ]
  },
  {
   "cell_type": "code",
   "execution_count": 363,
   "id": "7cf9618e-5229-4825-aad0-6a100a71b074",
   "metadata": {
    "tags": []
   },
   "outputs": [
    {
     "data": {
      "text/plain": [
       "8129"
      ]
     },
     "execution_count": 363,
     "metadata": {},
     "output_type": "execute_result"
    }
   ],
   "source": [
    "len(missing_siruta)"
   ]
  },
  {
   "cell_type": "code",
   "execution_count": 306,
   "id": "2faca64b-a61a-4648-b85f-0708897e26c3",
   "metadata": {
    "collapsed": true,
    "jupyter": {
     "outputs_hidden": true
    },
    "tags": []
   },
   "outputs": [
    {
     "data": {
      "text/plain": [
       "BUCUREŞTI SECTORUL 2    131\n",
       "BUCUREŞTI SECTORUL 1    130\n",
       "BUCUREŞTI SECTORUL 3    123\n",
       "BUCUREŞTI SECTORUL 6    110\n",
       "BUCUREŞTI SECTORUL 4     92\n",
       "                       ... \n",
       "SCHINTEIEŞTI              1\n",
       "SCHELA                    1\n",
       "SÂNTANDREI                1\n",
       "SÂNCRAIU                  1\n",
       "RĂSCRUCI                  1\n",
       "Name: locality, Length: 4327, dtype: int64"
      ]
     },
     "execution_count": 306,
     "metadata": {},
     "output_type": "execute_result"
    }
   ],
   "source": [
    "missing_siruta.locality.value_counts()\n"
   ]
  },
  {
   "cell_type": "code",
   "execution_count": 314,
   "id": "5887c933-d959-4d09-95ab-ddbab319d0cb",
   "metadata": {},
   "outputs": [],
   "source": [
    "#missing_siruta.to_csv(\"missing_siruta1.csv\")"
   ]
  },
  {
   "cell_type": "code",
   "execution_count": 364,
   "id": "e7a07091-8e09-43a4-b12d-1ace2bf29b65",
   "metadata": {
    "tags": []
   },
   "outputs": [],
   "source": [
    "found_siruta = pd.read_csv(\"missing_siruta.csv\")"
   ]
  },
  {
   "cell_type": "code",
   "execution_count": 369,
   "id": "07ebb3c9-c514-486b-a706-05069d6ada97",
   "metadata": {
    "collapsed": true,
    "jupyter": {
     "outputs_hidden": true
    },
    "tags": []
   },
   "outputs": [
    {
     "data": {
      "text/html": [
       "<div>\n",
       "<style scoped>\n",
       "    .dataframe tbody tr th:only-of-type {\n",
       "        vertical-align: middle;\n",
       "    }\n",
       "\n",
       "    .dataframe tbody tr th {\n",
       "        vertical-align: top;\n",
       "    }\n",
       "\n",
       "    .dataframe thead th {\n",
       "        text-align: right;\n",
       "    }\n",
       "</style>\n",
       "<table border=\"1\" class=\"dataframe\">\n",
       "  <thead>\n",
       "    <tr style=\"text-align: right;\">\n",
       "      <th></th>\n",
       "      <th>idSchool</th>\n",
       "      <th>siruesCode</th>\n",
       "      <th>schoolType</th>\n",
       "      <th>statut</th>\n",
       "      <th>propertyForm</th>\n",
       "      <th>fundingForm</th>\n",
       "      <th>county</th>\n",
       "      <th>locality</th>\n",
       "      <th>studyFormationsCount</th>\n",
       "      <th>studentsCount</th>\n",
       "      <th>personnelCount</th>\n",
       "      <th>Loc_Jud</th>\n",
       "      <th>SIRUTA</th>\n",
       "    </tr>\n",
       "    <tr>\n",
       "      <th>Unnamed: 0</th>\n",
       "      <th></th>\n",
       "      <th></th>\n",
       "      <th></th>\n",
       "      <th></th>\n",
       "      <th></th>\n",
       "      <th></th>\n",
       "      <th></th>\n",
       "      <th></th>\n",
       "      <th></th>\n",
       "      <th></th>\n",
       "      <th></th>\n",
       "      <th></th>\n",
       "      <th></th>\n",
       "    </tr>\n",
       "  </thead>\n",
       "  <tbody>\n",
       "    <tr>\n",
       "      <th>46</th>\n",
       "      <td>11261406</td>\n",
       "      <td>406012134</td>\n",
       "      <td>Casa corpului didactic</td>\n",
       "      <td>Cu personalitate juridică</td>\n",
       "      <td>Publică de interes naţional şi local</td>\n",
       "      <td>Buget</td>\n",
       "      <td>MUNICIPIUL BUCURESTI</td>\n",
       "      <td>BUCURESTI SECTORUL 6</td>\n",
       "      <td>0</td>\n",
       "      <td>0</td>\n",
       "      <td>18</td>\n",
       "      <td>BUCURESTI SECTORUL 6_MUNICIPIUL BUCURESTI</td>\n",
       "      <td>179132</td>\n",
       "    </tr>\n",
       "    <tr>\n",
       "      <th>60</th>\n",
       "      <td>11261297</td>\n",
       "      <td>606347</td>\n",
       "      <td>Casa corpului didactic</td>\n",
       "      <td>Cu personalitate juridică</td>\n",
       "      <td>Publică de interes naţional şi local</td>\n",
       "      <td>Buget</td>\n",
       "      <td>MURES</td>\n",
       "      <td>TARGU MURES</td>\n",
       "      <td>0</td>\n",
       "      <td>0</td>\n",
       "      <td>11</td>\n",
       "      <td>TIRGU MURES_MURES</td>\n",
       "      <td>114319</td>\n",
       "    </tr>\n",
       "  </tbody>\n",
       "</table>\n",
       "</div>"
      ],
      "text/plain": [
       "            idSchool siruesCode              schoolType  \\\n",
       "Unnamed: 0                                                \n",
       "46          11261406  406012134  Casa corpului didactic   \n",
       "60          11261297     606347  Casa corpului didactic   \n",
       "\n",
       "                               statut                          propertyForm  \\\n",
       "Unnamed: 0                                                                    \n",
       "46          Cu personalitate juridică  Publică de interes naţional şi local   \n",
       "60          Cu personalitate juridică  Publică de interes naţional şi local   \n",
       "\n",
       "           fundingForm                county              locality  \\\n",
       "Unnamed: 0                                                           \n",
       "46               Buget  MUNICIPIUL BUCURESTI  BUCURESTI SECTORUL 6   \n",
       "60               Buget                 MURES           TARGU MURES   \n",
       "\n",
       "            studyFormationsCount  studentsCount  personnelCount  \\\n",
       "Unnamed: 0                                                        \n",
       "46                             0              0              18   \n",
       "60                             0              0              11   \n",
       "\n",
       "                                              Loc_Jud  SIRUTA  \n",
       "Unnamed: 0                                                     \n",
       "46          BUCURESTI SECTORUL 6_MUNICIPIUL BUCURESTI  179132  \n",
       "60                                  TIRGU MURES_MURES  114319  "
      ]
     },
     "execution_count": 369,
     "metadata": {},
     "output_type": "execute_result"
    }
   ],
   "source": [
    "found_siruta.head(2)"
   ]
  },
  {
   "cell_type": "code",
   "execution_count": 366,
   "id": "9b497fee-f733-45f9-b32e-e44eac91f36b",
   "metadata": {
    "tags": []
   },
   "outputs": [],
   "source": [
    "# IMPUT THE VALUES FROM MISSING SIRUTA TO DETAILS DF\n",
    "found_siruta.set_index('Unnamed: 0', inplace=True)\n"
   ]
  },
  {
   "cell_type": "markdown",
   "id": "f03e6413-6ad7-4a16-b9d2-1017708218ee",
   "metadata": {},
   "source": [
    "#### JOIN DETAILS DF & FOUND SIRUTA"
   ]
  },
  {
   "cell_type": "code",
   "execution_count": 374,
   "id": "c9df2e20-db63-4b6c-9696-8da66f206f62",
   "metadata": {},
   "outputs": [
    {
     "name": "stderr",
     "output_type": "stream",
     "text": [
      "<ipython-input-374-2f48e766eef1>:4: FutureWarning: The frame.append method is deprecated and will be removed from pandas in a future version. Use pandas.concat instead.\n",
      "  details_df = details_df.append(found_siruta).reset_index(drop = True)\n"
     ]
    }
   ],
   "source": [
    "# Step 1: Drop rows with missing values in 'SIRUTA'\n",
    "details_df = details_df.dropna(subset=['SIRUTA'])\n",
    "# append\n",
    "details_df = details_df.append(found_siruta).reset_index(drop = True)\n"
   ]
  },
  {
   "cell_type": "code",
   "execution_count": 375,
   "id": "d9e5f144-c4d9-44dd-a40d-a60151d17cc0",
   "metadata": {},
   "outputs": [
    {
     "data": {
      "text/plain": [
       "0"
      ]
     },
     "execution_count": 375,
     "metadata": {},
     "output_type": "execute_result"
    }
   ],
   "source": [
    "details_df.SIRUTA.isna().sum()"
   ]
  },
  {
   "cell_type": "markdown",
   "id": "03d0e682-fd02-4878-81b8-171dfa0b43cf",
   "metadata": {},
   "source": [
    "### GROUP BY"
   ]
  },
  {
   "cell_type": "code",
   "execution_count": 376,
   "id": "a371f301-87cf-4bfd-b6b3-65c0dcdb623a",
   "metadata": {},
   "outputs": [
    {
     "data": {
      "text/plain": [
       "idSchool                 int64\n",
       "siruesCode              object\n",
       "schoolType              object\n",
       "statut                  object\n",
       "propertyForm            object\n",
       "fundingForm             object\n",
       "county                  object\n",
       "locality                object\n",
       "studyFormationsCount     int64\n",
       "studentsCount            int64\n",
       "personnelCount           int64\n",
       "Loc_Jud                 object\n",
       "SIRUTA                  object\n",
       "dtype: object"
      ]
     },
     "execution_count": 376,
     "metadata": {},
     "output_type": "execute_result"
    }
   ],
   "source": [
    "details_df.dtypes"
   ]
  },
  {
   "cell_type": "code",
   "execution_count": 377,
   "id": "2462ce55-5fcf-4585-a881-46205c66d18c",
   "metadata": {},
   "outputs": [
    {
     "data": {
      "text/html": [
       "<div>\n",
       "<style scoped>\n",
       "    .dataframe tbody tr th:only-of-type {\n",
       "        vertical-align: middle;\n",
       "    }\n",
       "\n",
       "    .dataframe tbody tr th {\n",
       "        vertical-align: top;\n",
       "    }\n",
       "\n",
       "    .dataframe thead th {\n",
       "        text-align: right;\n",
       "    }\n",
       "</style>\n",
       "<table border=\"1\" class=\"dataframe\">\n",
       "  <thead>\n",
       "    <tr style=\"text-align: right;\">\n",
       "      <th></th>\n",
       "      <th>SIRUTA</th>\n",
       "      <th>studyFormationsCount</th>\n",
       "      <th>studentsCount</th>\n",
       "      <th>personnelCount</th>\n",
       "      <th>idSchool</th>\n",
       "      <th>Loc_Jud</th>\n",
       "      <th>county</th>\n",
       "      <th>locality</th>\n",
       "      <th>propertyForm</th>\n",
       "      <th>fundingForm</th>\n",
       "      <th>schoolType</th>\n",
       "    </tr>\n",
       "  </thead>\n",
       "  <tbody>\n",
       "    <tr>\n",
       "      <th>0</th>\n",
       "      <td>1017</td>\n",
       "      <td>29</td>\n",
       "      <td>0</td>\n",
       "      <td>0</td>\n",
       "      <td>9</td>\n",
       "      <td>4</td>\n",
       "      <td>ALBA</td>\n",
       "      <td>BARABANŢ</td>\n",
       "      <td>1</td>\n",
       "      <td>1</td>\n",
       "      <td>1</td>\n",
       "    </tr>\n",
       "    <tr>\n",
       "      <th>1</th>\n",
       "      <td>1071</td>\n",
       "      <td>12</td>\n",
       "      <td>0</td>\n",
       "      <td>0</td>\n",
       "      <td>5</td>\n",
       "      <td>3</td>\n",
       "      <td>ALBA</td>\n",
       "      <td>DRIMBAR</td>\n",
       "      <td>1</td>\n",
       "      <td>1</td>\n",
       "      <td>1</td>\n",
       "    </tr>\n",
       "    <tr>\n",
       "      <th>2</th>\n",
       "      <td>1213</td>\n",
       "      <td>38</td>\n",
       "      <td>284</td>\n",
       "      <td>45</td>\n",
       "      <td>5</td>\n",
       "      <td>2</td>\n",
       "      <td>ALBA</td>\n",
       "      <td>CIUMBRUD</td>\n",
       "      <td>1</td>\n",
       "      <td>1</td>\n",
       "      <td>2</td>\n",
       "    </tr>\n",
       "    <tr>\n",
       "      <th>3</th>\n",
       "      <td>1348</td>\n",
       "      <td>29</td>\n",
       "      <td>570</td>\n",
       "      <td>82</td>\n",
       "      <td>5</td>\n",
       "      <td>3</td>\n",
       "      <td>ALBA</td>\n",
       "      <td>MANARADE</td>\n",
       "      <td>1</td>\n",
       "      <td>1</td>\n",
       "      <td>1</td>\n",
       "    </tr>\n",
       "    <tr>\n",
       "      <th>4</th>\n",
       "      <td>1455</td>\n",
       "      <td>20</td>\n",
       "      <td>0</td>\n",
       "      <td>0</td>\n",
       "      <td>8</td>\n",
       "      <td>4</td>\n",
       "      <td>ALBA</td>\n",
       "      <td>CERTEGE</td>\n",
       "      <td>1</td>\n",
       "      <td>1</td>\n",
       "      <td>1</td>\n",
       "    </tr>\n",
       "  </tbody>\n",
       "</table>\n",
       "</div>"
      ],
      "text/plain": [
       "  SIRUTA  studyFormationsCount  studentsCount  personnelCount  idSchool  \\\n",
       "0   1017                    29              0               0         9   \n",
       "1   1071                    12              0               0         5   \n",
       "2   1213                    38            284              45         5   \n",
       "3   1348                    29            570              82         5   \n",
       "4   1455                    20              0               0         8   \n",
       "\n",
       "   Loc_Jud county  locality  propertyForm  fundingForm  schoolType  \n",
       "0        4   ALBA  BARABANŢ             1            1           1  \n",
       "1        3   ALBA   DRIMBAR             1            1           1  \n",
       "2        2   ALBA  CIUMBRUD             1            1           2  \n",
       "3        3   ALBA  MANARADE             1            1           1  \n",
       "4        4   ALBA   CERTEGE             1            1           1  "
      ]
     },
     "execution_count": 377,
     "metadata": {},
     "output_type": "execute_result"
    }
   ],
   "source": [
    "# Define aggregation methods for each column\n",
    "aggregations = {\n",
    "    'studyFormationsCount': 'sum',\n",
    "    'studentsCount': 'sum',\n",
    "    'personnelCount': 'sum',\n",
    "    'idSchool': 'count',\n",
    "    'Loc_Jud': 'nunique',\n",
    "    'county': 'min',\n",
    "    'locality': 'min',\n",
    "    'propertyForm': 'nunique',  # Distinct count\n",
    "    'fundingForm': 'nunique',   # Distinct count\n",
    "    'schoolType': 'nunique',    # Distinct count\n",
    "}\n",
    "\n",
    "# Group by 'SIRUTA' and apply the specified aggregations\n",
    "details_UAT = details_df.groupby(['SIRUTA']).agg(aggregations).reset_index()\n",
    "\n",
    "# Display the resulting DataFrame\n",
    "details_UAT.head() "
   ]
  },
  {
   "cell_type": "markdown",
   "id": "117dfe78-f3a6-409f-9dff-972a2b234829",
   "metadata": {},
   "source": [
    "#### TEMA 2\n",
    "Calculul Mediei Studenților pe Orașe:\n",
    "\n",
    "Modifică agregarea pentru coloana 'studentsCount' astfel încât să obții media numărului de studenți pentru fiecare oraș.\n",
    "Identificarea Orașelor cu Cele Mai Multe Școli:\n",
    "\n",
    "Adaugă o nouă agregare pentru a determina orașele cu cele mai multe școli. Poți să folosești nlargest sau o altă metodă pentru a extrage topul orașelor.\n",
    "Afișarea Rezultatelor Ajustate:\n",
    "\n",
    "După aplicarea noilor agregări, afișează primele câteva rânduri din noul DataFrame rezultat."
   ]
  },
  {
   "cell_type": "markdown",
   "id": "9708783f-884b-47d0-bcec-1d71491d7a1c",
   "metadata": {},
   "source": [
    "#### Explore"
   ]
  },
  {
   "cell_type": "code",
   "execution_count": 378,
   "id": "4efb2f96-d993-4218-81fd-0653a820f31c",
   "metadata": {
    "tags": []
   },
   "outputs": [
    {
     "name": "stdout",
     "output_type": "stream",
     "text": [
      "localitatea cu cele mai multe scoli din Romania, exceptand Bucurestiul este: \n",
      "                  locality  School.Count\n",
      "2312  BUCURESTI SECTORUL 1           657\n"
     ]
    }
   ],
   "source": [
    "#max schools\n",
    "max_schools = details_UAT[details_UAT.idSchool == details_UAT.idSchool.max()][[\"locality\",\"idSchool\"]].rename(columns = {\"idSchool\":\"School.Count\"})\n",
    "print(f'localitatea cu cele mai multe scoli din Romania, exceptand Bucurestiul este: \\n{max_schools}')\n",
    "\n"
   ]
  },
  {
   "cell_type": "code",
   "execution_count": 379,
   "id": "f3365e6c-3d70-4934-98d7-17a609dcd1b9",
   "metadata": {},
   "outputs": [
    {
     "name": "stdout",
     "output_type": "stream",
     "text": [
      "Top 5 localities with the most schools in Romania (excluding Bucharest):\n",
      "                  locality  School.Count\n",
      "2312  BUCURESTI SECTORUL 1           657\n",
      "4543           CLUJ-NAPOCA           160\n",
      "5255                  IAŞI           155\n",
      "4623             CONSTANŢA           151\n",
      "3441             TIMIŞOARA           132\n"
     ]
    }
   ],
   "source": [
    "# Find the top 5 localities with the maximum number of schools\n",
    "top_5_localities = details_UAT.nlargest(5, 'idSchool')[['locality','idSchool']].rename(columns = {\"idSchool\":\"School.Count\"})\n",
    "\n",
    "print(f'Top 5 localities with the most schools in Romania (excluding Bucharest):\\n{top_5_localities}')"
   ]
  },
  {
   "cell_type": "markdown",
   "id": "f662e82d-d1a5-4a77-935c-ae84b6d6810f",
   "metadata": {},
   "source": [
    "### JOIN SCHOOL_DETAILS WITH POPULATION DATA"
   ]
  },
  {
   "cell_type": "code",
   "execution_count": 380,
   "id": "6cb2df96-0ed9-4a84-a8a8-42667917d42a",
   "metadata": {},
   "outputs": [
    {
     "data": {
      "text/html": [
       "<div>\n",
       "<style scoped>\n",
       "    .dataframe tbody tr th:only-of-type {\n",
       "        vertical-align: middle;\n",
       "    }\n",
       "\n",
       "    .dataframe tbody tr th {\n",
       "        vertical-align: top;\n",
       "    }\n",
       "\n",
       "    .dataframe thead th {\n",
       "        text-align: right;\n",
       "    }\n",
       "</style>\n",
       "<table border=\"1\" class=\"dataframe\">\n",
       "  <thead>\n",
       "    <tr style=\"text-align: right;\">\n",
       "      <th></th>\n",
       "      <th>Judet</th>\n",
       "      <th>Anul</th>\n",
       "      <th>Populatie</th>\n",
       "      <th>SIRUTA</th>\n",
       "      <th>Localitate</th>\n",
       "      <th>Loc_Jud</th>\n",
       "    </tr>\n",
       "  </thead>\n",
       "  <tbody>\n",
       "    <tr>\n",
       "      <th>0</th>\n",
       "      <td>ARAD</td>\n",
       "      <td>1992</td>\n",
       "      <td>192606</td>\n",
       "      <td>9262</td>\n",
       "      <td>ARAD</td>\n",
       "      <td>ARAD_ARAD</td>\n",
       "    </tr>\n",
       "    <tr>\n",
       "      <th>1</th>\n",
       "      <td>ARAD</td>\n",
       "      <td>1993</td>\n",
       "      <td>192776</td>\n",
       "      <td>9262</td>\n",
       "      <td>ARAD</td>\n",
       "      <td>ARAD_ARAD</td>\n",
       "    </tr>\n",
       "    <tr>\n",
       "      <th>2</th>\n",
       "      <td>ARAD</td>\n",
       "      <td>1994</td>\n",
       "      <td>193307</td>\n",
       "      <td>9262</td>\n",
       "      <td>ARAD</td>\n",
       "      <td>ARAD_ARAD</td>\n",
       "    </tr>\n",
       "  </tbody>\n",
       "</table>\n",
       "</div>"
      ],
      "text/plain": [
       "  Judet  Anul  Populatie SIRUTA Localitate    Loc_Jud\n",
       "0  ARAD  1992     192606   9262       ARAD  ARAD_ARAD\n",
       "1  ARAD  1993     192776   9262       ARAD  ARAD_ARAD\n",
       "2  ARAD  1994     193307   9262       ARAD  ARAD_ARAD"
      ]
     },
     "execution_count": 380,
     "metadata": {},
     "output_type": "execute_result"
    }
   ],
   "source": [
    "population_data.head(3)"
   ]
  },
  {
   "cell_type": "code",
   "execution_count": 382,
   "id": "0b894875-1e86-435f-bde1-828ff307d5c5",
   "metadata": {},
   "outputs": [
    {
     "data": {
      "text/html": [
       "<div>\n",
       "<style scoped>\n",
       "    .dataframe tbody tr th:only-of-type {\n",
       "        vertical-align: middle;\n",
       "    }\n",
       "\n",
       "    .dataframe tbody tr th {\n",
       "        vertical-align: top;\n",
       "    }\n",
       "\n",
       "    .dataframe thead th {\n",
       "        text-align: right;\n",
       "    }\n",
       "</style>\n",
       "<table border=\"1\" class=\"dataframe\">\n",
       "  <thead>\n",
       "    <tr style=\"text-align: right;\">\n",
       "      <th></th>\n",
       "      <th>SIRUTA</th>\n",
       "      <th>studyFormationsCount</th>\n",
       "      <th>studentsCount</th>\n",
       "      <th>personnelCount</th>\n",
       "      <th>idSchool</th>\n",
       "      <th>Loc_Jud_x</th>\n",
       "      <th>county</th>\n",
       "      <th>locality</th>\n",
       "      <th>propertyForm</th>\n",
       "      <th>fundingForm</th>\n",
       "      <th>schoolType</th>\n",
       "      <th>Judet</th>\n",
       "      <th>Anul</th>\n",
       "      <th>Populatie</th>\n",
       "      <th>Localitate</th>\n",
       "      <th>Loc_Jud_y</th>\n",
       "    </tr>\n",
       "  </thead>\n",
       "  <tbody>\n",
       "    <tr>\n",
       "      <th>0</th>\n",
       "      <td>1017</td>\n",
       "      <td>29</td>\n",
       "      <td>0</td>\n",
       "      <td>0</td>\n",
       "      <td>9</td>\n",
       "      <td>4</td>\n",
       "      <td>ALBA</td>\n",
       "      <td>BARABANŢ</td>\n",
       "      <td>1</td>\n",
       "      <td>1</td>\n",
       "      <td>1</td>\n",
       "      <td>NaN</td>\n",
       "      <td>NaN</td>\n",
       "      <td>NaN</td>\n",
       "      <td>NaN</td>\n",
       "      <td>NaN</td>\n",
       "    </tr>\n",
       "    <tr>\n",
       "      <th>1</th>\n",
       "      <td>1071</td>\n",
       "      <td>12</td>\n",
       "      <td>0</td>\n",
       "      <td>0</td>\n",
       "      <td>5</td>\n",
       "      <td>3</td>\n",
       "      <td>ALBA</td>\n",
       "      <td>DRIMBAR</td>\n",
       "      <td>1</td>\n",
       "      <td>1</td>\n",
       "      <td>1</td>\n",
       "      <td>NaN</td>\n",
       "      <td>NaN</td>\n",
       "      <td>NaN</td>\n",
       "      <td>NaN</td>\n",
       "      <td>NaN</td>\n",
       "    </tr>\n",
       "    <tr>\n",
       "      <th>2</th>\n",
       "      <td>1213</td>\n",
       "      <td>38</td>\n",
       "      <td>284</td>\n",
       "      <td>45</td>\n",
       "      <td>5</td>\n",
       "      <td>2</td>\n",
       "      <td>ALBA</td>\n",
       "      <td>CIUMBRUD</td>\n",
       "      <td>1</td>\n",
       "      <td>1</td>\n",
       "      <td>2</td>\n",
       "      <td>NaN</td>\n",
       "      <td>NaN</td>\n",
       "      <td>NaN</td>\n",
       "      <td>NaN</td>\n",
       "      <td>NaN</td>\n",
       "    </tr>\n",
       "    <tr>\n",
       "      <th>3</th>\n",
       "      <td>1348</td>\n",
       "      <td>29</td>\n",
       "      <td>570</td>\n",
       "      <td>82</td>\n",
       "      <td>5</td>\n",
       "      <td>3</td>\n",
       "      <td>ALBA</td>\n",
       "      <td>MANARADE</td>\n",
       "      <td>1</td>\n",
       "      <td>1</td>\n",
       "      <td>1</td>\n",
       "      <td>NaN</td>\n",
       "      <td>NaN</td>\n",
       "      <td>NaN</td>\n",
       "      <td>NaN</td>\n",
       "      <td>NaN</td>\n",
       "    </tr>\n",
       "    <tr>\n",
       "      <th>4</th>\n",
       "      <td>1455</td>\n",
       "      <td>20</td>\n",
       "      <td>0</td>\n",
       "      <td>0</td>\n",
       "      <td>8</td>\n",
       "      <td>4</td>\n",
       "      <td>ALBA</td>\n",
       "      <td>CERTEGE</td>\n",
       "      <td>1</td>\n",
       "      <td>1</td>\n",
       "      <td>1</td>\n",
       "      <td>NaN</td>\n",
       "      <td>NaN</td>\n",
       "      <td>NaN</td>\n",
       "      <td>NaN</td>\n",
       "      <td>NaN</td>\n",
       "    </tr>\n",
       "  </tbody>\n",
       "</table>\n",
       "</div>"
      ],
      "text/plain": [
       "  SIRUTA  studyFormationsCount  studentsCount  personnelCount  idSchool  \\\n",
       "0   1017                    29              0               0         9   \n",
       "1   1071                    12              0               0         5   \n",
       "2   1213                    38            284              45         5   \n",
       "3   1348                    29            570              82         5   \n",
       "4   1455                    20              0               0         8   \n",
       "\n",
       "   Loc_Jud_x county  locality  propertyForm  fundingForm  schoolType Judet  \\\n",
       "0          4   ALBA  BARABANŢ             1            1           1   NaN   \n",
       "1          3   ALBA   DRIMBAR             1            1           1   NaN   \n",
       "2          2   ALBA  CIUMBRUD             1            1           2   NaN   \n",
       "3          3   ALBA  MANARADE             1            1           1   NaN   \n",
       "4          4   ALBA   CERTEGE             1            1           1   NaN   \n",
       "\n",
       "   Anul  Populatie Localitate Loc_Jud_y  \n",
       "0   NaN        NaN        NaN       NaN  \n",
       "1   NaN        NaN        NaN       NaN  \n",
       "2   NaN        NaN        NaN       NaN  \n",
       "3   NaN        NaN        NaN       NaN  \n",
       "4   NaN        NaN        NaN       NaN  "
      ]
     },
     "execution_count": 382,
     "metadata": {},
     "output_type": "execute_result"
    }
   ],
   "source": [
    "# Merge 'df' with 'siruta_dict' based on 'Loc_Jud'\n",
    "all_details_UAT = pd.merge(details_UAT, population_data_2019, on='SIRUTA', how='left')\n",
    "all_details_UAT.head()"
   ]
  },
  {
   "cell_type": "code",
   "execution_count": 383,
   "id": "7c017b01-e9a4-4a42-a814-3268c8dcb3eb",
   "metadata": {},
   "outputs": [
    {
     "data": {
      "text/plain": [
       "Index(['SIRUTA', 'studyFormationsCount', 'studentsCount', 'personnelCount',\n",
       "       'idSchool', 'Loc_Jud_x', 'county', 'locality', 'propertyForm',\n",
       "       'fundingForm', 'schoolType', 'Judet', 'Anul', 'Populatie', 'Localitate',\n",
       "       'Loc_Jud_y'],\n",
       "      dtype='object')"
      ]
     },
     "execution_count": 383,
     "metadata": {},
     "output_type": "execute_result"
    }
   ],
   "source": [
    "all_details_UAT.columns"
   ]
  },
  {
   "cell_type": "code",
   "execution_count": 384,
   "id": "c2c1ec94-ce82-4a0f-b51e-d933429ab4e4",
   "metadata": {},
   "outputs": [],
   "source": [
    "all_details_UAT.drop(columns = ['Loc_Jud_y','Loc_Jud_x','Anul','Judet','Localitate'], inplace = True)"
   ]
  },
  {
   "cell_type": "code",
   "execution_count": 361,
   "id": "c8984646-3895-43fb-9893-6da25824cba0",
   "metadata": {},
   "outputs": [
    {
     "data": {
      "text/html": [
       "<div>\n",
       "<style scoped>\n",
       "    .dataframe tbody tr th:only-of-type {\n",
       "        vertical-align: middle;\n",
       "    }\n",
       "\n",
       "    .dataframe tbody tr th {\n",
       "        vertical-align: top;\n",
       "    }\n",
       "\n",
       "    .dataframe thead th {\n",
       "        text-align: right;\n",
       "    }\n",
       "</style>\n",
       "<table border=\"1\" class=\"dataframe\">\n",
       "  <thead>\n",
       "    <tr style=\"text-align: right;\">\n",
       "      <th></th>\n",
       "      <th>SIRUTA</th>\n",
       "      <th>studyFormationsCount</th>\n",
       "      <th>studentsCount</th>\n",
       "      <th>personnelCount</th>\n",
       "      <th>idSchool</th>\n",
       "      <th>county</th>\n",
       "      <th>locality</th>\n",
       "      <th>propertyForm</th>\n",
       "      <th>fundingForm</th>\n",
       "      <th>schoolType</th>\n",
       "      <th>Populatie</th>\n",
       "    </tr>\n",
       "  </thead>\n",
       "  <tbody>\n",
       "    <tr>\n",
       "      <th>0</th>\n",
       "      <td>100004</td>\n",
       "      <td>19</td>\n",
       "      <td>635</td>\n",
       "      <td>61</td>\n",
       "      <td>2</td>\n",
       "      <td>IAŞI</td>\n",
       "      <td>VICTORIA</td>\n",
       "      <td>1</td>\n",
       "      <td>1</td>\n",
       "      <td>1</td>\n",
       "      <td>4458</td>\n",
       "    </tr>\n",
       "    <tr>\n",
       "      <th>1</th>\n",
       "      <td>10006</td>\n",
       "      <td>12</td>\n",
       "      <td>120</td>\n",
       "      <td>35</td>\n",
       "      <td>2</td>\n",
       "      <td>ARAD</td>\n",
       "      <td>BIRCHIŞ</td>\n",
       "      <td>1</td>\n",
       "      <td>1</td>\n",
       "      <td>1</td>\n",
       "      <td>1805</td>\n",
       "    </tr>\n",
       "    <tr>\n",
       "      <th>2</th>\n",
       "      <td>100086</td>\n",
       "      <td>27</td>\n",
       "      <td>789</td>\n",
       "      <td>81</td>\n",
       "      <td>3</td>\n",
       "      <td>IAŞI</td>\n",
       "      <td>VÂNĂTORI</td>\n",
       "      <td>1</td>\n",
       "      <td>1</td>\n",
       "      <td>1</td>\n",
       "      <td>4631</td>\n",
       "    </tr>\n",
       "  </tbody>\n",
       "</table>\n",
       "</div>"
      ],
      "text/plain": [
       "   SIRUTA  studyFormationsCount  studentsCount  personnelCount  idSchool  \\\n",
       "0  100004                    19            635              61         2   \n",
       "1   10006                    12            120              35         2   \n",
       "2  100086                    27            789              81         3   \n",
       "\n",
       "  county  locality  propertyForm  fundingForm  schoolType  Populatie  \n",
       "0   IAŞI  VICTORIA             1            1           1       4458  \n",
       "1   ARAD   BIRCHIŞ             1            1           1       1805  \n",
       "2   IAŞI  VÂNĂTORI             1            1           1       4631  "
      ]
     },
     "execution_count": 361,
     "metadata": {},
     "output_type": "execute_result"
    }
   ],
   "source": [
    "all_details_UAT.head(3)"
   ]
  },
  {
   "cell_type": "code",
   "execution_count": null,
   "id": "aae3374b-724d-4219-949d-85b1acf5e447",
   "metadata": {},
   "outputs": [],
   "source": []
  }
 ],
 "metadata": {
  "kernelspec": {
   "display_name": "Python 3",
   "language": "python",
   "name": "python3"
  },
  "language_info": {
   "codemirror_mode": {
    "name": "ipython",
    "version": 3
   },
   "file_extension": ".py",
   "mimetype": "text/x-python",
   "name": "python",
   "nbconvert_exporter": "python",
   "pygments_lexer": "ipython3",
   "version": "3.9.16"
  }
 },
 "nbformat": 4,
 "nbformat_minor": 5
}
