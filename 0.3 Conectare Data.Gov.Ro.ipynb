{
 "cells": [
  {
   "cell_type": "markdown",
   "id": "6e008d58-dfdb-4015-8ea8-be65284e8636",
   "metadata": {},
   "source": [
    "## CONNECT AND DOWNLOAD DATA FROM DATA.GOV API\n",
    "https://data.gov.ro/\n",
    "\n",
    "https://docs.ckan.org/en/2.8/api/"
   ]
  },
  {
   "cell_type": "code",
   "execution_count": 45,
   "id": "0d3d6f8a-960c-429c-8ffd-9a50d64923d2",
   "metadata": {},
   "outputs": [
    {
     "name": "stdout",
     "output_type": "stream",
     "text": [
      "Collecting chardet\n",
      "  Downloading chardet-5.2.0-py3-none-any.whl (199 kB)\n",
      "     -------------------------------------- 199.4/199.4 kB 3.0 MB/s eta 0:00:00\n",
      "Installing collected packages: chardet\n",
      "Successfully installed chardet-5.2.0\n"
     ]
    }
   ],
   "source": [
    "#  python module that is mainly used to detect the character encoding in a text file\n",
    "! pip install chardet "
   ]
  },
  {
   "cell_type": "code",
   "execution_count": 9,
   "id": "e1dcd844-711a-4964-928d-51354ccd79d1",
   "metadata": {},
   "outputs": [],
   "source": [
    "#imports\n",
    "import json\n",
    "import pandas as pd\n",
    "import chardet\n",
    "import requests"
   ]
  },
  {
   "cell_type": "code",
   "execution_count": 4,
   "id": "c86dd949-ebb5-4668-a868-0011f68c595a",
   "metadata": {},
   "outputs": [],
   "source": [
    "# Define the API endpoint URL\n",
    "url = \"https://data.gov.ro/api/3/action/package_search\"\n",
    "\n",
    "# Define the search query\n",
    "query = \"Rezultate Evaluare Națională 2022\"\n",
    "csv_name = \"rezultate_EN_2022.csv\""
   ]
  },
  {
   "cell_type": "code",
   "execution_count": 16,
   "id": "19fecfa7-8953-4757-8ebf-ec0f7ed36a25",
   "metadata": {},
   "outputs": [
    {
     "name": "stdout",
     "output_type": "stream",
     "text": [
      "Dataset Title: Rezultate Evaluare Națională 2022\n",
      "Download URL: https://data.gov.ro/dataset/44eabf07-7cb5-42fe-af79-c25c679176e0/resource/66128aa8-f353-4eae-8f07-8995ed509478/download/2022.07.06_evaluarenat_export-2022.xlsx\n",
      "Dataset downloaded successfully.\n"
     ]
    }
   ],
   "source": [
    "\n",
    "# Set up the parameters for the GET request\n",
    "params = {\n",
    "    \"q\": query,\n",
    "}\n",
    "\n",
    "# Make the GET request\n",
    "response = requests.get(url, params=params)\n",
    "\n",
    "# Check if the request was successful\n",
    "if response.status_code == 200:\n",
    "    data = response.json()\n",
    "    \n",
    "    # Find the dataset you're interested in from the response\n",
    "    # The response should contain a list of datasets, and you can extract the one you need.\n",
    "\n",
    "    # For example, you can print the dataset title:\n",
    "    dataset_title = data[\"result\"][\"results\"][0][\"title\"]\n",
    "    print(f\"Dataset Title: {dataset_title}\")\n",
    "\n",
    "   # primary resource of that dataset\n",
    "    download_url = data[\"result\"][\"results\"][0][\"resources\"][0][\"url\"] #extract the url for the resource wanted\n",
    "    print(f\"Download URL: {download_url}\")\n",
    "\n",
    "    # Now, you can use the download URL to download the dataset - e.g: using the 'requests' library:\n",
    "    response = requests.get(download_url)  # The data is stored in the response object.\n",
    "    \n",
    "    # Check if the download was successful\n",
    "    if response.status_code == 200:\n",
    "        # Save the dataset to a file , and then \n",
    "        with open(csv_name, \"wb\") as f:  ## opens the file  in binary write mode (\"wb\")\n",
    "            f.write(response.content) #writes the content of the response object to the file.\n",
    "        print(\"Dataset downloaded successfully.\")\n",
    "    else:\n",
    "        print(\"Failed to download the dataset.\")\n",
    "else:\n",
    "    print(\"Failed to retrieve data from the CKAN API.\")\n"
   ]
  },
  {
   "cell_type": "code",
   "execution_count": null,
   "id": "372fd13f-af44-4962-8cef-e7d8a435fdf4",
   "metadata": {},
   "outputs": [],
   "source": []
  },
  {
   "cell_type": "code",
   "execution_count": null,
   "id": "d034cd32-4a0f-4c2a-bab5-8e5bf3181a98",
   "metadata": {},
   "outputs": [],
   "source": []
  }
 ],
 "metadata": {
  "kernelspec": {
   "display_name": "Python 3",
   "language": "python",
   "name": "python3"
  },
  "language_info": {
   "codemirror_mode": {
    "name": "ipython",
    "version": 3
   },
   "file_extension": ".py",
   "mimetype": "text/x-python",
   "name": "python",
   "nbconvert_exporter": "python",
   "pygments_lexer": "ipython3",
   "version": "3.9.16"
  }
 },
 "nbformat": 4,
 "nbformat_minor": 5
}
