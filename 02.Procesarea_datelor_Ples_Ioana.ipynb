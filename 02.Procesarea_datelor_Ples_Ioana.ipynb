{
 "cells": [
  {
   "cell_type": "markdown",
   "id": "a3674b03-8464-440c-8f84-a6f1ed8541f2",
   "metadata": {},
   "source": [
    "# 02. Procesarea Datelor"
   ]
  },
  {
   "cell_type": "code",
   "execution_count": 15,
   "id": "38ddf604-5141-42b5-96ef-2fb8829b5fc0",
   "metadata": {
    "tags": []
   },
   "outputs": [
    {
     "name": "stdout",
     "output_type": "stream",
     "text": [
      "Requirement already satisfied: pyodbc in c:\\users\\lenovo\\anaconda3\\envs\\new_env\\lib\\site-packages (5.0.1)\n",
      "Requirement already satisfied: sqlalchemy in c:\\users\\lenovo\\anaconda3\\envs\\new_env\\lib\\site-packages (2.0.23)\n",
      "Requirement already satisfied: typing-extensions>=4.2.0 in c:\\users\\lenovo\\anaconda3\\envs\\new_env\\lib\\site-packages (from sqlalchemy) (4.7.1)\n",
      "Requirement already satisfied: greenlet!=0.4.17 in c:\\users\\lenovo\\anaconda3\\envs\\new_env\\lib\\site-packages (from sqlalchemy) (3.0.1)\n"
     ]
    }
   ],
   "source": [
    "! pip install pyodbc\n",
    "! pip install sqlalchemy"
   ]
  },
  {
   "cell_type": "code",
   "execution_count": 16,
   "id": "2f953acb-c1db-4b2b-bce0-7bb3ffe5e589",
   "metadata": {
    "tags": []
   },
   "outputs": [],
   "source": [
    "import pandas as pd\n",
    "import json\n",
    "import pyodbc\n",
    "import sqlalchemy as db\n",
    "import urllib\n",
    "\n",
    "exec(open('azure_credentials.py').read())"
   ]
  },
  {
   "cell_type": "code",
   "execution_count": 17,
   "id": "46a8b5d3-616e-486d-af5f-54a661fbe334",
   "metadata": {
    "tags": []
   },
   "outputs": [
    {
     "data": {
      "text/plain": [
       "'aid2023adminlog'"
      ]
     },
     "execution_count": 17,
     "metadata": {},
     "output_type": "execute_result"
    }
   ],
   "source": [
    "username"
   ]
  },
  {
   "cell_type": "markdown",
   "id": "6b1f4833-9b6b-4ff7-a575-33c37839f680",
   "metadata": {},
   "source": [
    "### Load tabele"
   ]
  },
  {
   "cell_type": "code",
   "execution_count": 18,
   "id": "9271fb78-0a43-4cae-befc-4ecd7131e2cf",
   "metadata": {
    "tags": []
   },
   "outputs": [
    {
     "data": {
      "text/html": [
       "<div>\n",
       "<style scoped>\n",
       "    .dataframe tbody tr th:only-of-type {\n",
       "        vertical-align: middle;\n",
       "    }\n",
       "\n",
       "    .dataframe tbody tr th {\n",
       "        vertical-align: top;\n",
       "    }\n",
       "\n",
       "    .dataframe thead th {\n",
       "        text-align: right;\n",
       "    }\n",
       "</style>\n",
       "<table border=\"1\" class=\"dataframe\">\n",
       "  <thead>\n",
       "    <tr style=\"text-align: right;\">\n",
       "      <th></th>\n",
       "      <th>idSchool</th>\n",
       "      <th>internalIdSchool</th>\n",
       "      <th>idParentSchool</th>\n",
       "      <th>schoolYearDescription</th>\n",
       "      <th>code</th>\n",
       "      <th>siruesCode</th>\n",
       "      <th>longName</th>\n",
       "      <th>shortName</th>\n",
       "      <th>schoolType</th>\n",
       "      <th>statut</th>\n",
       "      <th>...</th>\n",
       "      <th>streetNumber</th>\n",
       "      <th>postalCode</th>\n",
       "      <th>phoneNumber</th>\n",
       "      <th>faxNumber</th>\n",
       "      <th>email</th>\n",
       "      <th>idSchoolYear.code</th>\n",
       "      <th>schoolNumbers.idSchool</th>\n",
       "      <th>schoolNumbers.studyFormationsCount</th>\n",
       "      <th>schoolNumbers.studentsCount</th>\n",
       "      <th>schoolNumbers.personnelCount</th>\n",
       "    </tr>\n",
       "  </thead>\n",
       "  <tbody>\n",
       "    <tr>\n",
       "      <th>0</th>\n",
       "      <td>11269910</td>\n",
       "      <td>10131270</td>\n",
       "      <td>NaN</td>\n",
       "      <td>Anul şcolar 2018-2019</td>\n",
       "      <td>261200154</td>\n",
       "      <td>23054595</td>\n",
       "      <td>ASOCIAŢIA CREŞTINĂ DE CARITATE \"GOSEN\" ARAD/ G...</td>\n",
       "      <td>GRĂDINIŢA \"GOSEN\" ARAD</td>\n",
       "      <td>Unitate de învățământ</td>\n",
       "      <td>Cu personalitate juridică</td>\n",
       "      <td>...</td>\n",
       "      <td>121-125</td>\n",
       "      <td>310365.0</td>\n",
       "      <td>257272477.0</td>\n",
       "      <td>257272477.0</td>\n",
       "      <td>gradinitagosen@yahoo.com</td>\n",
       "      <td>2018-2019</td>\n",
       "      <td>11269910</td>\n",
       "      <td>4</td>\n",
       "      <td>131</td>\n",
       "      <td>7</td>\n",
       "    </tr>\n",
       "    <tr>\n",
       "      <th>1</th>\n",
       "      <td>11256876</td>\n",
       "      <td>11192270</td>\n",
       "      <td>NaN</td>\n",
       "      <td>Anul şcolar 2018-2019</td>\n",
       "      <td>1061206943</td>\n",
       "      <td>NaN</td>\n",
       "      <td>ASOCIAȚIA PENTRU PROMOVAREA VALORILOR AUTENTIC...</td>\n",
       "      <td>ASOCIAȚIA VALORILOR BZ</td>\n",
       "      <td>Unitate de învățământ</td>\n",
       "      <td>Cu personalitate juridică</td>\n",
       "      <td>...</td>\n",
       "      <td>4</td>\n",
       "      <td>125300.0</td>\n",
       "      <td>762724000.0</td>\n",
       "      <td>238563970.0</td>\n",
       "      <td>secretariat@cnpaulescu.ro</td>\n",
       "      <td>2018-2019</td>\n",
       "      <td>11256876</td>\n",
       "      <td>0</td>\n",
       "      <td>0</td>\n",
       "      <td>0</td>\n",
       "    </tr>\n",
       "    <tr>\n",
       "      <th>2</th>\n",
       "      <td>11256865</td>\n",
       "      <td>11192168</td>\n",
       "      <td>NaN</td>\n",
       "      <td>Anul şcolar 2018-2019</td>\n",
       "      <td>1061206875</td>\n",
       "      <td>NaN</td>\n",
       "      <td>ASOCIAȚIA UMANITARĂ EDUSTAR BUZĂU</td>\n",
       "      <td>ASOCIATIA EDUSTAR</td>\n",
       "      <td>Unitate de învățământ</td>\n",
       "      <td>Cu personalitate juridică</td>\n",
       "      <td>...</td>\n",
       "      <td>14</td>\n",
       "      <td>120010.0</td>\n",
       "      <td>773826330.0</td>\n",
       "      <td>238725913.0</td>\n",
       "      <td>luminitamusat2006@yahoo.com</td>\n",
       "      <td>2018-2019</td>\n",
       "      <td>11256865</td>\n",
       "      <td>0</td>\n",
       "      <td>0</td>\n",
       "      <td>0</td>\n",
       "    </tr>\n",
       "  </tbody>\n",
       "</table>\n",
       "<p>3 rows × 28 columns</p>\n",
       "</div>"
      ],
      "text/plain": [
       "   idSchool  internalIdSchool  idParentSchool  schoolYearDescription  \\\n",
       "0  11269910          10131270             NaN  Anul şcolar 2018-2019   \n",
       "1  11256876          11192270             NaN  Anul şcolar 2018-2019   \n",
       "2  11256865          11192168             NaN  Anul şcolar 2018-2019   \n",
       "\n",
       "         code siruesCode                                           longName  \\\n",
       "0   261200154   23054595  ASOCIAŢIA CREŞTINĂ DE CARITATE \"GOSEN\" ARAD/ G...   \n",
       "1  1061206943        NaN  ASOCIAȚIA PENTRU PROMOVAREA VALORILOR AUTENTIC...   \n",
       "2  1061206875        NaN                  ASOCIAȚIA UMANITARĂ EDUSTAR BUZĂU   \n",
       "\n",
       "                shortName             schoolType                     statut  \\\n",
       "0  GRĂDINIŢA \"GOSEN\" ARAD  Unitate de învățământ  Cu personalitate juridică   \n",
       "1  ASOCIAȚIA VALORILOR BZ  Unitate de învățământ  Cu personalitate juridică   \n",
       "2       ASOCIATIA EDUSTAR  Unitate de învățământ  Cu personalitate juridică   \n",
       "\n",
       "   ...  streetNumber postalCode  phoneNumber    faxNumber  \\\n",
       "0  ...       121-125   310365.0  257272477.0  257272477.0   \n",
       "1  ...             4   125300.0  762724000.0  238563970.0   \n",
       "2  ...            14   120010.0  773826330.0  238725913.0   \n",
       "\n",
       "                         email idSchoolYear.code schoolNumbers.idSchool  \\\n",
       "0     gradinitagosen@yahoo.com         2018-2019               11269910   \n",
       "1    secretariat@cnpaulescu.ro         2018-2019               11256876   \n",
       "2  luminitamusat2006@yahoo.com         2018-2019               11256865   \n",
       "\n",
       "  schoolNumbers.studyFormationsCount schoolNumbers.studentsCount  \\\n",
       "0                                  4                         131   \n",
       "1                                  0                           0   \n",
       "2                                  0                           0   \n",
       "\n",
       "   schoolNumbers.personnelCount  \n",
       "0                             7  \n",
       "1                             0  \n",
       "2                             0  \n",
       "\n",
       "[3 rows x 28 columns]"
      ]
     },
     "execution_count": 18,
     "metadata": {},
     "output_type": "execute_result"
    }
   ],
   "source": [
    "# Load csv school_details\n",
    "details_Team4 = pd.read_csv('school_details.csv')\n",
    "details_Team4.head(3)"
   ]
  },
  {
   "cell_type": "code",
   "execution_count": 19,
   "id": "efa4ecdf-b930-46a6-aa59-edfd9a8b0d98",
   "metadata": {
    "tags": []
   },
   "outputs": [
    {
     "data": {
      "text/html": [
       "<div>\n",
       "<style scoped>\n",
       "    .dataframe tbody tr th:only-of-type {\n",
       "        vertical-align: middle;\n",
       "    }\n",
       "\n",
       "    .dataframe tbody tr th {\n",
       "        vertical-align: top;\n",
       "    }\n",
       "\n",
       "    .dataframe thead th {\n",
       "        text-align: right;\n",
       "    }\n",
       "</style>\n",
       "<table border=\"1\" class=\"dataframe\">\n",
       "  <thead>\n",
       "    <tr style=\"text-align: right;\">\n",
       "      <th></th>\n",
       "      <th>id</th>\n",
       "      <th>idSchool</th>\n",
       "      <th>sfName</th>\n",
       "      <th>sfLevel</th>\n",
       "      <th>studyFormationType</th>\n",
       "      <th>educationType</th>\n",
       "      <th>fundingForm</th>\n",
       "      <th>educationForm</th>\n",
       "      <th>teachingMode</th>\n",
       "      <th>teachingLanguage</th>\n",
       "      <th>techingType</th>\n",
       "      <th>studentsNo</th>\n",
       "    </tr>\n",
       "  </thead>\n",
       "  <tbody>\n",
       "    <tr>\n",
       "      <th>0</th>\n",
       "      <td>930621</td>\n",
       "      <td>11269910</td>\n",
       "      <td>B Îngerașii</td>\n",
       "      <td>Preșcolar</td>\n",
       "      <td>Grupa mică</td>\n",
       "      <td>Masă</td>\n",
       "      <td>Sponsorizare</td>\n",
       "      <td>Normal</td>\n",
       "      <td>Tradițional</td>\n",
       "      <td>Limba română</td>\n",
       "      <td>Normal</td>\n",
       "      <td>0</td>\n",
       "    </tr>\n",
       "    <tr>\n",
       "      <th>1</th>\n",
       "      <td>930620</td>\n",
       "      <td>11269910</td>\n",
       "      <td>A Ursuletii</td>\n",
       "      <td>Preșcolar</td>\n",
       "      <td>Grupa mică</td>\n",
       "      <td>Masă</td>\n",
       "      <td>Sponsorizare</td>\n",
       "      <td>Normal</td>\n",
       "      <td>Tradițional</td>\n",
       "      <td>Limba română</td>\n",
       "      <td>Normal</td>\n",
       "      <td>0</td>\n",
       "    </tr>\n",
       "    <tr>\n",
       "      <th>2</th>\n",
       "      <td>930623</td>\n",
       "      <td>11269910</td>\n",
       "      <td>A</td>\n",
       "      <td>Preșcolar</td>\n",
       "      <td>Grupa mare</td>\n",
       "      <td>Masă</td>\n",
       "      <td>Sponsorizare</td>\n",
       "      <td>Normal</td>\n",
       "      <td>Tradițional</td>\n",
       "      <td>Limba română</td>\n",
       "      <td>Normal</td>\n",
       "      <td>0</td>\n",
       "    </tr>\n",
       "  </tbody>\n",
       "</table>\n",
       "</div>"
      ],
      "text/plain": [
       "       id  idSchool       sfName    sfLevel studyFormationType educationType  \\\n",
       "0  930621  11269910  B Îngerașii  Preșcolar         Grupa mică          Masă   \n",
       "1  930620  11269910  A Ursuletii  Preșcolar         Grupa mică          Masă   \n",
       "2  930623  11269910            A  Preșcolar         Grupa mare          Masă   \n",
       "\n",
       "    fundingForm educationForm teachingMode teachingLanguage techingType  \\\n",
       "0  Sponsorizare        Normal  Tradițional     Limba română      Normal   \n",
       "1  Sponsorizare        Normal  Tradițional     Limba română      Normal   \n",
       "2  Sponsorizare        Normal  Tradițional     Limba română      Normal   \n",
       "\n",
       "   studentsNo  \n",
       "0           0  \n",
       "1           0  \n",
       "2           0  "
      ]
     },
     "execution_count": 19,
     "metadata": {},
     "output_type": "execute_result"
    }
   ],
   "source": [
    "# Load csv school_levels_formations\n",
    "levels_formations_Team4= pd.read_csv('school_levels_formations.csv')\n",
    "levels_formations_Team4.head(3)"
   ]
  },
  {
   "cell_type": "markdown",
   "id": "dc8536fd-3904-4988-8f09-7e1d6444b30a",
   "metadata": {},
   "source": [
    "### Load data Tempo"
   ]
  },
  {
   "cell_type": "code",
   "execution_count": 29,
   "id": "62d629ca-e1fd-4cf2-9906-24710b7c7817",
   "metadata": {
    "tags": []
   },
   "outputs": [],
   "source": [
    "csv_files = ['Elevi_cu_BAC.csv', 'Ateliere_scolare.csv', 'Laboratoare.csv', 'Echipamente_IT.csv', \n",
    "              'Terenuri_de_sport.csv', 'Imigranti.csv']"
   ]
  },
  {
   "cell_type": "code",
   "execution_count": 30,
   "id": "b1495a12-3957-493a-ba1c-5fe97b84a24f",
   "metadata": {
    "tags": []
   },
   "outputs": [
    {
     "name": "stdout",
     "output_type": "stream",
     "text": [
      "Index(['Judet', 'Numar elevi'], dtype='object')\n",
      "Index(['Judet', 'Atelire scolare'], dtype='object')\n",
      "Index(['Judet', ' Valoare'], dtype='object')\n",
      "Index(['Judet', 'Echipamente'], dtype='object')\n",
      "Index(['Judet', 'Terenuri de sport'], dtype='object')\n",
      "Index(['Judet', 'Imigranti'], dtype='object')\n"
     ]
    }
   ],
   "source": [
    "Tempo_all_Team4 = pd.DataFrame()\n",
    "Tempo_all_Team4['Judet'] = ''\n",
    "for csv_file in csv_files:\n",
    "    df = pd.read_csv(csv_file)\n",
    "    print(df.columns)\n",
    "    if 'Judet' in df.columns:\n",
    "        Tempo_all_Team4 = pd.merge(Tempo_all_Team4, df, on='Judet', how='outer')"
   ]
  },
  {
   "cell_type": "code",
   "execution_count": 31,
   "id": "d1b225a3-a62a-4d2f-937a-70fbd08aa05d",
   "metadata": {
    "tags": []
   },
   "outputs": [
    {
     "data": {
      "text/html": [
       "<div>\n",
       "<style scoped>\n",
       "    .dataframe tbody tr th:only-of-type {\n",
       "        vertical-align: middle;\n",
       "    }\n",
       "\n",
       "    .dataframe tbody tr th {\n",
       "        vertical-align: top;\n",
       "    }\n",
       "\n",
       "    .dataframe thead th {\n",
       "        text-align: right;\n",
       "    }\n",
       "</style>\n",
       "<table border=\"1\" class=\"dataframe\">\n",
       "  <thead>\n",
       "    <tr style=\"text-align: right;\">\n",
       "      <th></th>\n",
       "      <th>Judet</th>\n",
       "      <th>Elevi_cu_BAC</th>\n",
       "      <th>Ateliere_scolare</th>\n",
       "      <th>Laboratoare</th>\n",
       "      <th>Echipamente</th>\n",
       "      <th>Terenuri_sport</th>\n",
       "      <th>Imigranti</th>\n",
       "    </tr>\n",
       "  </thead>\n",
       "  <tbody>\n",
       "    <tr>\n",
       "      <th>0</th>\n",
       "      <td>Bihor</td>\n",
       "      <td>2915</td>\n",
       "      <td>108</td>\n",
       "      <td>253</td>\n",
       "      <td>6137</td>\n",
       "      <td>73</td>\n",
       "      <td>300</td>\n",
       "    </tr>\n",
       "    <tr>\n",
       "      <th>1</th>\n",
       "      <td>Bistrita-Nasaud</td>\n",
       "      <td>1553</td>\n",
       "      <td>47</td>\n",
       "      <td>104</td>\n",
       "      <td>3814</td>\n",
       "      <td>21</td>\n",
       "      <td>177</td>\n",
       "    </tr>\n",
       "    <tr>\n",
       "      <th>2</th>\n",
       "      <td>Cluj</td>\n",
       "      <td>3653</td>\n",
       "      <td>112</td>\n",
       "      <td>368</td>\n",
       "      <td>14700</td>\n",
       "      <td>75</td>\n",
       "      <td>692</td>\n",
       "    </tr>\n",
       "    <tr>\n",
       "      <th>3</th>\n",
       "      <td>Maramures</td>\n",
       "      <td>2449</td>\n",
       "      <td>67</td>\n",
       "      <td>135</td>\n",
       "      <td>6815</td>\n",
       "      <td>37</td>\n",
       "      <td>326</td>\n",
       "    </tr>\n",
       "    <tr>\n",
       "      <th>4</th>\n",
       "      <td>Satu Mare</td>\n",
       "      <td>1460</td>\n",
       "      <td>74</td>\n",
       "      <td>139</td>\n",
       "      <td>3722</td>\n",
       "      <td>39</td>\n",
       "      <td>205</td>\n",
       "    </tr>\n",
       "  </tbody>\n",
       "</table>\n",
       "</div>"
      ],
      "text/plain": [
       "              Judet  Elevi_cu_BAC  Ateliere_scolare  Laboratoare  Echipamente  \\\n",
       "0             Bihor          2915               108          253         6137   \n",
       "1   Bistrita-Nasaud          1553                47          104         3814   \n",
       "2              Cluj          3653               112          368        14700   \n",
       "3         Maramures          2449                67          135         6815   \n",
       "4         Satu Mare          1460                74          139         3722   \n",
       "\n",
       "   Terenuri_sport  Imigranti  \n",
       "0              73        300  \n",
       "1              21        177  \n",
       "2              75        692  \n",
       "3              37        326  \n",
       "4              39        205  "
      ]
     },
     "execution_count": 31,
     "metadata": {},
     "output_type": "execute_result"
    }
   ],
   "source": [
    "Tempo_all_Team4.rename(columns= {'Numar elevi': 'Elevi_cu_BAC', 'Atelire scolare':'Ateliere_scolare', ' Valoare':'Laboratoare',\n",
    "                           'Terenuri de sport': 'Terenuri_sport' }, inplace=True)\n",
    "Tempo_all_Team4.head()"
   ]
  },
  {
   "cell_type": "code",
   "execution_count": 32,
   "id": "f05c607f-dbf4-410b-8fa7-56e5f69a8e40",
   "metadata": {
    "tags": []
   },
   "outputs": [],
   "source": [
    "Tempo_all_Team4.to_csv('Tempo_all_Team4.csv', index=False)"
   ]
  },
  {
   "cell_type": "markdown",
   "id": "c767dd5b-56f7-4af1-9e80-1545ff801092",
   "metadata": {
    "tags": []
   },
   "source": [
    "### Connection details"
   ]
  },
  {
   "cell_type": "code",
   "execution_count": 33,
   "id": "f556f4b4-80a0-4119-9262-1e7bfa010fd1",
   "metadata": {
    "tags": []
   },
   "outputs": [],
   "source": [
    "database_name = \"AID2023\"\n",
    "driver = '{ODBC Driver 18 for SQL Server}'\n",
    "server_name = \"aid-2023-srv.database.windows.net\""
   ]
  },
  {
   "cell_type": "code",
   "execution_count": 34,
   "id": "3260a4e8-c803-403f-b054-8bad9e6d2f6e",
   "metadata": {
    "tags": []
   },
   "outputs": [
    {
     "name": "stdout",
     "output_type": "stream",
     "text": [
      "Connection is open\n"
     ]
    }
   ],
   "source": [
    "# Create the server url\n",
    "server = 'tcp:{server_name},1433'.format(server_name = server_name)\n",
    "\n",
    "#create the full connection string <- make sure to write it as it is bellow - check your credentials to be the right ones\n",
    "\n",
    "connection_string = 'DRIVER={driver};SERVER={server};DATABASE={database};UID={username};PWD={password};charset=utf8'.format(\n",
    "    driver = driver,\n",
    "    server=server,\n",
    "    database=database_name,\n",
    "    username=username,\n",
    "    password=password\n",
    ")                              \n",
    "\n",
    "cnxn: pyodbc.Connection = pyodbc.connect(connection_string)\n",
    "cursor: pyodbc.Cursor = cnxn.cursor() \n",
    "\n",
    "#execute a query with the cursor to check if the connection is maade\n",
    "print(\"Connection is open\") if cursor.execute(\"SELECT 1\") else print(f\"Connection is closed: {e}\")"
   ]
  },
  {
   "cell_type": "code",
   "execution_count": 35,
   "id": "14a5e713-3894-4ae5-a619-fc1a5d310c6c",
   "metadata": {
    "tags": []
   },
   "outputs": [],
   "source": [
    "#obtain the parameters from the pyodbc connection string\n",
    "params = urllib.parse.quote_plus(connection_string)\n",
    "#create the engine\n",
    "sqlalchemy_engine = db.create_engine(\"mssql+pyodbc:///?odbc_connect=%s\" % params)"
   ]
  },
  {
   "cell_type": "code",
   "execution_count": 36,
   "id": "cc0fc0c4-eabf-4072-87c3-ff73cf244b81",
   "metadata": {
    "tags": []
   },
   "outputs": [
    {
     "data": {
      "text/plain": [
       "42"
      ]
     },
     "execution_count": 36,
     "metadata": {},
     "output_type": "execute_result"
    }
   ],
   "source": [
    "# inserarea datelor intr-un tabel sql\n",
    "details_Team4.to_sql(\"School_Details_Team4\", sqlalchemy_engine, if_exists='replace', index=False) \n",
    "levels_formations_Team4.to_sql(\"Levels_Formations_Team4\", sqlalchemy_engine, if_exists='replace', index=False) \n",
    "Tempo_all_Team4.to_sql(\"Tempo_all_Team4\", sqlalchemy_engine, if_exists='replace', index=False) "
   ]
  },
  {
   "cell_type": "code",
   "execution_count": null,
   "id": "d024a67a-3416-4ddf-a28e-7db8b3524224",
   "metadata": {},
   "outputs": [],
   "source": []
  }
 ],
 "metadata": {
  "kernelspec": {
   "display_name": "Python 3 (ipykernel)",
   "language": "python",
   "name": "python3"
  },
  "language_info": {
   "codemirror_mode": {
    "name": "ipython",
    "version": 3
   },
   "file_extension": ".py",
   "mimetype": "text/x-python",
   "name": "python",
   "nbconvert_exporter": "python",
   "pygments_lexer": "ipython3",
   "version": "3.10.13"
  }
 },
 "nbformat": 4,
 "nbformat_minor": 5
}
