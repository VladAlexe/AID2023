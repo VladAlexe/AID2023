{
 "cells": [
  {
   "cell_type": "code",
   "execution_count": 1,
   "id": "66b2c596-23e3-4f2e-b1eb-73258799f603",
   "metadata": {
    "tags": []
   },
   "outputs": [],
   "source": [
    "import json\n",
    "from tqdm import tqdm\n",
    "from datetime import datetime\n",
    "import numpy as np\n",
    "import pandas as pd\n",
    "import csv\n"
   ]
  },
  {
   "cell_type": "code",
   "execution_count": 2,
   "id": "bfde7191-eecd-4681-b0fb-d4fa165d9ce7",
   "metadata": {
    "tags": []
   },
   "outputs": [],
   "source": [
    "#Table merge"
   ]
  },
  {
   "cell_type": "code",
   "execution_count": null,
   "id": "6ce4a07f-ff8a-4e16-89e2-c4d16c0af34f",
   "metadata": {},
   "outputs": [],
   "source": [
    "result = pd.merge(var, detalii_complete , how = 'left', left_on = 'Unitate (SIRUES)', right_on= 'siruesCode')"
   ]
  },
  {
   "cell_type": "code",
   "execution_count": 3,
   "id": "646f6f06-fe69-4f9a-b437-bd6d3117a40f",
   "metadata": {
    "tags": []
   },
   "outputs": [],
   "source": [
    "# Import the CSV resulted from merging the 2 tables"
   ]
  },
  {
   "cell_type": "code",
   "execution_count": 4,
   "id": "57594b46-89fc-4e4f-a319-5e5fea366ebb",
   "metadata": {
    "tags": []
   },
   "outputs": [
    {
     "name": "stderr",
     "output_type": "stream",
     "text": [
      "C:\\Users\\tciontescu\\AppData\\Local\\Temp\\ipykernel_23928\\2279668199.py:1: DtypeWarning: Columns (63) have mixed types. Specify dtype option on import or set low_memory=False.\n",
      "  dataframe = pd.read_csv(\"DateAgregate.csv\", encoding=\"latin1\")\n"
     ]
    }
   ],
   "source": [
    "dataframe = pd.read_csv(\"DateAgregate.csv\", encoding=\"latin1\")"
   ]
  },
  {
   "cell_type": "code",
   "execution_count": 5,
   "id": "00068a1a-230c-4672-89c9-b19429202358",
   "metadata": {
    "tags": []
   },
   "outputs": [
    {
     "data": {
      "text/plain": [
       "Index(['Unnamed: 0', 'Cod unic candidat', 'Sex', 'Specializare', 'Profil',\n",
       "       'Fileira', 'Forma de invatamant', 'Mediu candidat', 'Unitate (SIIIR)',\n",
       "       'Unitate (SIRUES)', 'Clasa', 'Subiect ea', 'Subiect eb',\n",
       "       'Limba moderna', 'Subiect ec', 'Subiect ed', 'Promotie', 'NOTE_RECUN_A',\n",
       "       'NOTE_RECUN_B', 'NOTE_RECUN_C', 'NOTE_RECUN_D', 'NOTE_RECUN_EA',\n",
       "       'NOTE_RECUN_EB', 'NOTE_RECUN_EC', 'NOTE_RECUN_ED', 'STATUS_A',\n",
       "       'STATUS_B', 'STATUS_C', 'STATUS_D', 'STATUS_EA', 'STATUS_EB',\n",
       "       'STATUS_EC', 'STATUS_ED', 'ITA', 'SCRIS_ITC', 'SCRIS_PMS', 'ORAL_PMO',\n",
       "       'ORAL_IO', 'NOTA_EA', 'NOTA_EB', 'NOTA_EC', 'NOTA_ED', 'CONTESTATIE_EA',\n",
       "       'NOTA_CONTESTATIE_EA', 'CONTESTATIE_EB', 'NOTA_CONTESTATIE_EB',\n",
       "       'CONTESTATIE_EC', 'NOTA_CONTESTATIE_EC', 'CONTESTATIE_ED',\n",
       "       'NOTA_CONTESTATIE_ED', 'PUNCTAJ DIGITALE', 'STATUS', 'Medie',\n",
       "       'internalIdSchool', 'idParentSchool', 'schoolSocialLinks',\n",
       "       'schoolYearDescription', 'code', 'siruesCode', 'longName', 'shortName',\n",
       "       'schoolType', 'statut', 'isPj', 'fiscalCode', 'operatingMode',\n",
       "       'propertyForm', 'fundingForm', 'county', 'locality', 'street',\n",
       "       'streetNumber', 'postalCode', 'phoneNumber', 'faxNumber', 'email', 'id',\n",
       "       'buildingDescription', 'runningWater', 'canalization', 'gas',\n",
       "       'electricity', 'heating', 'salubrity', 'centralHeating', 'toilet',\n",
       "       'pot'],\n",
       "      dtype='object')"
      ]
     },
     "execution_count": 5,
     "metadata": {},
     "output_type": "execute_result"
    }
   ],
   "source": [
    "dataframe.keys()"
   ]
  },
  {
   "cell_type": "code",
   "execution_count": 6,
   "id": "697b4a5c-e5f1-417d-bd62-2ebe7a1397d1",
   "metadata": {
    "tags": []
   },
   "outputs": [],
   "source": [
    "# Drop the unecessary colums"
   ]
  },
  {
   "cell_type": "code",
   "execution_count": 7,
   "id": "daa5bd4d-261e-4a6c-94e0-2dbf19c1b66c",
   "metadata": {
    "tags": []
   },
   "outputs": [],
   "source": [
    "columns_to_drop =  ['Clasa', 'Subiect eb', 'Subiect ea', 'Limba moderna', 'Subiect ec', 'Subiect ed', 'Promotie', 'NOTE_RECUN_A',\n",
    "                   'NOTE_RECUN_B', 'NOTE_RECUN_C', 'NOTE_RECUN_D', 'NOTE_RECUN_EA', 'NOTE_RECUN_EB', 'NOTE_RECUN_EC', 'NOTE_RECUN_ED',\n",
    "                   'STATUS_A', 'STATUS_B', 'STATUS_C', 'STATUS_D', 'STATUS_EA', 'STATUS_EB', 'STATUS_EC', 'STATUS_ED', 'ITA',\n",
    "                   'SCRIS_ITC', 'SCRIS_PMS', 'ORAL_PMO', 'ORAL_IO', 'NOTA_EA', 'NOTA_EB', 'NOTA_EC', 'NOTA_ED', 'CONTESTATIE_EA',\n",
    "                   'NOTA_CONTESTATIE_EA', 'CONTESTATIE_EB', 'NOTA_CONTESTATIE_EB', 'CONTESTATIE_EC', 'NOTA_CONTESTATIE_EC',\n",
    "                   'CONTESTATIE_ED', 'NOTA_CONTESTATIE_ED', 'PUNCTAJ DIGITALE', 'schoolSocialLinks', 'schoolYearDescription',\n",
    "                   'code', 'siruesCode', 'shortName', 'isPj', 'fiscalCode', 'street', 'streetNumber', 'postalCode',\n",
    "                   'phoneNumber', 'faxNumber', 'email', 'id', 'buildingDescription']"
   ]
  },
  {
   "cell_type": "code",
   "execution_count": 17,
   "id": "bf84e501-0627-4e4c-9a9c-21298af30cb9",
   "metadata": {
    "tags": []
   },
   "outputs": [],
   "source": [
    "dataframe = dataframe.drop(columns=columns_to_drop)"
   ]
  },
  {
   "cell_type": "code",
   "execution_count": null,
   "id": "e04d7889-8bdd-40e1-80a2-badf40a1f2eb",
   "metadata": {
    "tags": []
   },
   "outputs": [],
   "source": [
    "# Diacritics/special characters removal"
   ]
  },
  {
   "cell_type": "code",
   "execution_count": 11,
   "id": "1aa429b3-ecb2-4b16-800b-532d2d40e705",
   "metadata": {
    "tags": []
   },
   "outputs": [
    {
     "name": "stdout",
     "output_type": "stream",
     "text": [
      "Requirement already satisfied: unidecode in c:\\users\\tciontescu\\appdata\\local\\anaconda3\\envs\\newiv\\lib\\site-packages (1.3.7)\n",
      "Note: you may need to restart the kernel to use updated packages.\n"
     ]
    }
   ],
   "source": [
    "pip install unidecode"
   ]
  },
  {
   "cell_type": "code",
   "execution_count": 12,
   "id": "dc9faf03-74aa-4798-ba44-d6f9d2e31148",
   "metadata": {
    "tags": []
   },
   "outputs": [],
   "source": [
    "from unidecode import unidecode"
   ]
  },
  {
   "cell_type": "code",
   "execution_count": 13,
   "id": "95d140c9-b23c-40a0-aebf-128d3ff85545",
   "metadata": {
    "tags": []
   },
   "outputs": [],
   "source": [
    "def remove_diacritics(text):\n",
    "    return unidecode(str(text))"
   ]
  },
  {
   "cell_type": "code",
   "execution_count": 16,
   "id": "f8ba10de-b352-44c2-8704-c1f14f186778",
   "metadata": {
    "tags": []
   },
   "outputs": [],
   "source": [
    "dataframed_transformed = dataframe.map(remove_diacritics)"
   ]
  },
  {
   "cell_type": "code",
   "execution_count": 18,
   "id": "b7fb19c1-3c3e-401b-9356-112287d7632b",
   "metadata": {
    "tags": []
   },
   "outputs": [],
   "source": [
    "#Managing missing values from the 'Medie' column to include Non promoted as 0 value (Media 0)"
   ]
  },
  {
   "cell_type": "code",
   "execution_count": 19,
   "id": "370613fd-fa89-4a0a-a815-c415566cbf6d",
   "metadata": {
    "tags": []
   },
   "outputs": [],
   "source": [
    "dataframe['Medie'].fillna( 0, inplace=True)"
   ]
  },
  {
   "cell_type": "code",
   "execution_count": 20,
   "id": "0f133019-dfd7-43bc-8ebf-668d8b64fd96",
   "metadata": {
    "tags": []
   },
   "outputs": [],
   "source": [
    "nan_values = dataframe['Medie'].isna().sum()"
   ]
  },
  {
   "cell_type": "code",
   "execution_count": 21,
   "id": "ecbb33f4-7518-4bf5-87e6-ab9711f6b223",
   "metadata": {
    "tags": []
   },
   "outputs": [
    {
     "name": "stdout",
     "output_type": "stream",
     "text": [
      "Number of NaN values in 'Medie' column: 0\n"
     ]
    }
   ],
   "source": [
    "print(f\"Number of NaN values in 'Medie' column: {nan_values}\")"
   ]
  },
  {
   "cell_type": "code",
   "execution_count": 22,
   "id": "95b7a4e0-7f02-4e9c-b4ea-54a5c30c3310",
   "metadata": {
    "tags": []
   },
   "outputs": [],
   "source": [
    "# Upper/lower case formatting to match for the columns where I replaced special characters"
   ]
  },
  {
   "cell_type": "code",
   "execution_count": 23,
   "id": "589d6f77-1a75-4d9f-8912-369e7ea65dff",
   "metadata": {
    "tags": []
   },
   "outputs": [],
   "source": [
    "dataframe['Specializare'] = dataframe['Specializare'].str.capitalize()"
   ]
  },
  {
   "cell_type": "code",
   "execution_count": 29,
   "id": "7e14b82c-fb38-4b51-ad4e-88826e32438f",
   "metadata": {
    "tags": []
   },
   "outputs": [],
   "source": [
    "dataframe['toilet'] = dataframe['toilet'].str.capitalize()"
   ]
  },
  {
   "cell_type": "code",
   "execution_count": 31,
   "id": "624b64c9-9c6b-42eb-a93c-6141f929170c",
   "metadata": {
    "tags": []
   },
   "outputs": [],
   "source": [
    "dataframe['county'] = dataframe['county'].str.upper()"
   ]
  },
  {
   "cell_type": "code",
   "execution_count": 32,
   "id": "58b1c177-6c3e-493b-901b-8881deb813ac",
   "metadata": {
    "tags": []
   },
   "outputs": [],
   "source": [
    "dataframe['locality'] = dataframe['locality'].str.upper()"
   ]
  },
  {
   "cell_type": "code",
   "execution_count": null,
   "id": "f6f39d2d-49e7-4496-9bfc-2cd0c2d28e04",
   "metadata": {},
   "outputs": [],
   "source": [
    "# Note: my colleague will do a few more changes then he will upload the table in the SQL Server"
   ]
  },
  {
   "cell_type": "code",
   "execution_count": 25,
   "id": "6baae175-2857-4abf-9182-a465953fe4c0",
   "metadata": {
    "tags": []
   },
   "outputs": [],
   "source": [
    "# Saving the csv transformed "
   ]
  },
  {
   "cell_type": "code",
   "execution_count": 33,
   "id": "09866ca0-1028-4f1c-979f-9172719cc065",
   "metadata": {
    "tags": []
   },
   "outputs": [],
   "source": [
    "dataframe.to_csv('', index=False)"
   ]
  },
  {
   "cell_type": "code",
   "execution_count": null,
   "id": "25f68cb9-9f5e-400b-8f5e-faed4eadd8d5",
   "metadata": {},
   "outputs": [],
   "source": []
  }
 ],
 "metadata": {
  "kernelspec": {
   "display_name": "Python 3 (ipykernel)",
   "language": "python",
   "name": "python3"
  },
  "language_info": {
   "codemirror_mode": {
    "name": "ipython",
    "version": 3
   },
   "file_extension": ".py",
   "mimetype": "text/x-python",
   "name": "python",
   "nbconvert_exporter": "python",
   "pygments_lexer": "ipython3",
   "version": "3.11.5"
  }
 },
 "nbformat": 4,
 "nbformat_minor": 5
}
