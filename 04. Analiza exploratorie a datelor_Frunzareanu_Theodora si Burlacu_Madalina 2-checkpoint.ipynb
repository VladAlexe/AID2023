{
 "cells": [
  {
   "cell_type": "markdown",
   "id": "65ac2f5e-cd84-4383-a80c-7a9ad6a8e65b",
   "metadata": {
    "tags": []
   },
   "source": [
    "# 04. Analiza exploratorie a datelor_Frunzareanu Theodora si Burlacu Madalina"
   ]
  },
  {
   "cell_type": "code",
   "execution_count": 2,
   "id": "5578a61c-072c-40b5-8528-555365c524c6",
   "metadata": {
    "collapsed": true,
    "jupyter": {
     "outputs_hidden": true
    },
    "tags": []
   },
   "outputs": [
    {
     "name": "stdout",
     "output_type": "stream",
     "text": [
      "Collecting matplotlib\n",
      "  Downloading matplotlib-3.8.2-cp310-cp310-win_amd64.whl.metadata (5.9 kB)\n",
      "Collecting contourpy>=1.0.1 (from matplotlib)\n",
      "  Downloading contourpy-1.2.0-cp310-cp310-win_amd64.whl.metadata (5.8 kB)\n",
      "Collecting cycler>=0.10 (from matplotlib)\n",
      "  Downloading cycler-0.12.1-py3-none-any.whl.metadata (3.8 kB)\n",
      "Collecting fonttools>=4.22.0 (from matplotlib)\n",
      "  Downloading fonttools-4.45.0-cp310-cp310-win_amd64.whl.metadata (158 kB)\n",
      "     ---------------------------------------- 0.0/158.1 kB ? eta -:--:--\n",
      "     -- ------------------------------------- 10.2/158.1 kB ? eta -:--:--\n",
      "     ------- ----------------------------- 30.7/158.1 kB 325.1 kB/s eta 0:00:01\n",
      "     --------------------- --------------- 92.2/158.1 kB 744.7 kB/s eta 0:00:01\n",
      "     -------------------------------------- 158.1/158.1 kB 1.0 MB/s eta 0:00:00\n",
      "Collecting kiwisolver>=1.3.1 (from matplotlib)\n",
      "  Downloading kiwisolver-1.4.5-cp310-cp310-win_amd64.whl.metadata (6.5 kB)\n",
      "Requirement already satisfied: numpy<2,>=1.21 in c:\\users\\theo\\anaconda3\\envs\\curs_1\\lib\\site-packages (from matplotlib) (1.26.1)\n",
      "Requirement already satisfied: packaging>=20.0 in c:\\users\\theo\\anaconda3\\envs\\curs_1\\lib\\site-packages (from matplotlib) (23.1)\n",
      "Collecting pillow>=8 (from matplotlib)\n",
      "  Downloading Pillow-10.1.0-cp310-cp310-win_amd64.whl.metadata (9.6 kB)\n",
      "Collecting pyparsing>=2.3.1 (from matplotlib)\n",
      "  Downloading pyparsing-3.1.1-py3-none-any.whl.metadata (5.1 kB)\n",
      "Requirement already satisfied: python-dateutil>=2.7 in c:\\users\\theo\\anaconda3\\envs\\curs_1\\lib\\site-packages (from matplotlib) (2.8.2)\n",
      "Requirement already satisfied: six>=1.5 in c:\\users\\theo\\anaconda3\\envs\\curs_1\\lib\\site-packages (from python-dateutil>=2.7->matplotlib) (1.16.0)\n",
      "Downloading matplotlib-3.8.2-cp310-cp310-win_amd64.whl (7.6 MB)\n",
      "   ---------------------------------------- 0.0/7.6 MB ? eta -:--:--\n",
      "    --------------------------------------- 0.2/7.6 MB 5.0 MB/s eta 0:00:02\n",
      "   - -------------------------------------- 0.4/7.6 MB 4.6 MB/s eta 0:00:02\n",
      "   ---- ----------------------------------- 0.9/7.6 MB 6.5 MB/s eta 0:00:02\n",
      "   ------- -------------------------------- 1.4/7.6 MB 7.7 MB/s eta 0:00:01\n",
      "   -------- ------------------------------- 1.6/7.6 MB 7.5 MB/s eta 0:00:01\n",
      "   ---------- ----------------------------- 2.1/7.6 MB 7.3 MB/s eta 0:00:01\n",
      "   ------------ --------------------------- 2.3/7.6 MB 7.0 MB/s eta 0:00:01\n",
      "   ------------- -------------------------- 2.5/7.6 MB 7.0 MB/s eta 0:00:01\n",
      "   ----------------- ---------------------- 3.3/7.6 MB 7.6 MB/s eta 0:00:01\n",
      "   -------------------- ------------------- 3.9/7.6 MB 8.0 MB/s eta 0:00:01\n",
      "   ---------------------- ----------------- 4.3/7.6 MB 8.2 MB/s eta 0:00:01\n",
      "   ----------------------- ---------------- 4.4/7.6 MB 8.3 MB/s eta 0:00:01\n",
      "   ------------------------- -------------- 4.8/7.6 MB 7.7 MB/s eta 0:00:01\n",
      "   ---------------------------- ----------- 5.4/7.6 MB 8.0 MB/s eta 0:00:01\n",
      "   ----------------------------- ---------- 5.7/7.6 MB 8.0 MB/s eta 0:00:01\n",
      "   ------------------------------- -------- 6.0/7.6 MB 8.0 MB/s eta 0:00:01\n",
      "   ---------------------------------- ----- 6.6/7.6 MB 8.2 MB/s eta 0:00:01\n",
      "   ------------------------------------ --- 6.9/7.6 MB 8.2 MB/s eta 0:00:01\n",
      "   -------------------------------------- - 7.3/7.6 MB 8.1 MB/s eta 0:00:01\n",
      "   ---------------------------------------  7.6/7.6 MB 8.3 MB/s eta 0:00:01\n",
      "   ---------------------------------------- 7.6/7.6 MB 8.0 MB/s eta 0:00:00\n",
      "Downloading contourpy-1.2.0-cp310-cp310-win_amd64.whl (186 kB)\n",
      "   ---------------------------------------- 0.0/186.7 kB ? eta -:--:--\n",
      "   --------------------------------------- 186.7/186.7 kB 11.8 MB/s eta 0:00:00\n",
      "Downloading cycler-0.12.1-py3-none-any.whl (8.3 kB)\n",
      "Downloading fonttools-4.45.0-cp310-cp310-win_amd64.whl (2.2 MB)\n",
      "   ---------------------------------------- 0.0/2.2 MB ? eta -:--:--\n",
      "   -------- ------------------------------- 0.5/2.2 MB 14.9 MB/s eta 0:00:01\n",
      "   ----------- ---------------------------- 0.6/2.2 MB 9.4 MB/s eta 0:00:01\n",
      "   ------------------------- -------------- 1.4/2.2 MB 10.8 MB/s eta 0:00:01\n",
      "   --------------------------- ------------ 1.5/2.2 MB 9.4 MB/s eta 0:00:01\n",
      "   ----------------------------------- ---- 1.9/2.2 MB 10.2 MB/s eta 0:00:01\n",
      "   ---------------------------------------- 2.2/2.2 MB 8.6 MB/s eta 0:00:00\n",
      "Downloading kiwisolver-1.4.5-cp310-cp310-win_amd64.whl (56 kB)\n",
      "   ---------------------------------------- 0.0/56.1 kB ? eta -:--:--\n",
      "   ---------------------------------------- 56.1/56.1 kB 2.9 MB/s eta 0:00:00\n",
      "Downloading Pillow-10.1.0-cp310-cp310-win_amd64.whl (2.6 MB)\n",
      "   ---------------------------------------- 0.0/2.6 MB ? eta -:--:--\n",
      "   ---------- ----------------------------- 0.7/2.6 MB 22.5 MB/s eta 0:00:01\n",
      "   ---------------- ----------------------- 1.1/2.6 MB 11.5 MB/s eta 0:00:01\n",
      "   --------------------- ------------------ 1.4/2.6 MB 11.1 MB/s eta 0:00:01\n",
      "   -------------------------------- ------- 2.1/2.6 MB 11.3 MB/s eta 0:00:01\n",
      "   ------------------------------------ --- 2.4/2.6 MB 10.1 MB/s eta 0:00:01\n",
      "   ---------------------------------------- 2.6/2.6 MB 9.2 MB/s eta 0:00:00\n",
      "Downloading pyparsing-3.1.1-py3-none-any.whl (103 kB)\n",
      "   ---------------------------------------- 0.0/103.1 kB ? eta -:--:--\n",
      "   ---------------------------------------- 103.1/103.1 kB 5.8 MB/s eta 0:00:00\n",
      "Installing collected packages: pyparsing, pillow, kiwisolver, fonttools, cycler, contourpy, matplotlib\n",
      "Successfully installed contourpy-1.2.0 cycler-0.12.1 fonttools-4.45.0 kiwisolver-1.4.5 matplotlib-3.8.2 pillow-10.1.0 pyparsing-3.1.1\n",
      "Collecting seaborn\n",
      "  Downloading seaborn-0.13.0-py3-none-any.whl.metadata (5.3 kB)\n",
      "Requirement already satisfied: numpy!=1.24.0,>=1.20 in c:\\users\\theo\\anaconda3\\envs\\curs_1\\lib\\site-packages (from seaborn) (1.26.1)\n",
      "Requirement already satisfied: pandas>=1.2 in c:\\users\\theo\\anaconda3\\envs\\curs_1\\lib\\site-packages (from seaborn) (2.1.2)\n",
      "Requirement already satisfied: matplotlib!=3.6.1,>=3.3 in c:\\users\\theo\\anaconda3\\envs\\curs_1\\lib\\site-packages (from seaborn) (3.8.2)\n",
      "Requirement already satisfied: contourpy>=1.0.1 in c:\\users\\theo\\anaconda3\\envs\\curs_1\\lib\\site-packages (from matplotlib!=3.6.1,>=3.3->seaborn) (1.2.0)\n",
      "Requirement already satisfied: cycler>=0.10 in c:\\users\\theo\\anaconda3\\envs\\curs_1\\lib\\site-packages (from matplotlib!=3.6.1,>=3.3->seaborn) (0.12.1)\n",
      "Requirement already satisfied: fonttools>=4.22.0 in c:\\users\\theo\\anaconda3\\envs\\curs_1\\lib\\site-packages (from matplotlib!=3.6.1,>=3.3->seaborn) (4.45.0)\n",
      "Requirement already satisfied: kiwisolver>=1.3.1 in c:\\users\\theo\\anaconda3\\envs\\curs_1\\lib\\site-packages (from matplotlib!=3.6.1,>=3.3->seaborn) (1.4.5)\n",
      "Requirement already satisfied: packaging>=20.0 in c:\\users\\theo\\anaconda3\\envs\\curs_1\\lib\\site-packages (from matplotlib!=3.6.1,>=3.3->seaborn) (23.1)\n",
      "Requirement already satisfied: pillow>=8 in c:\\users\\theo\\anaconda3\\envs\\curs_1\\lib\\site-packages (from matplotlib!=3.6.1,>=3.3->seaborn) (10.1.0)\n",
      "Requirement already satisfied: pyparsing>=2.3.1 in c:\\users\\theo\\anaconda3\\envs\\curs_1\\lib\\site-packages (from matplotlib!=3.6.1,>=3.3->seaborn) (3.1.1)\n",
      "Requirement already satisfied: python-dateutil>=2.7 in c:\\users\\theo\\anaconda3\\envs\\curs_1\\lib\\site-packages (from matplotlib!=3.6.1,>=3.3->seaborn) (2.8.2)\n",
      "Requirement already satisfied: pytz>=2020.1 in c:\\users\\theo\\anaconda3\\envs\\curs_1\\lib\\site-packages (from pandas>=1.2->seaborn) (2023.3.post1)\n",
      "Requirement already satisfied: tzdata>=2022.1 in c:\\users\\theo\\anaconda3\\envs\\curs_1\\lib\\site-packages (from pandas>=1.2->seaborn) (2023.3)\n",
      "Requirement already satisfied: six>=1.5 in c:\\users\\theo\\anaconda3\\envs\\curs_1\\lib\\site-packages (from python-dateutil>=2.7->matplotlib!=3.6.1,>=3.3->seaborn) (1.16.0)\n",
      "Downloading seaborn-0.13.0-py3-none-any.whl (294 kB)\n",
      "   ---------------------------------------- 0.0/294.6 kB ? eta -:--:--\n",
      "   ---------------------------------------- 0.0/294.6 kB ? eta -:--:--\n",
      "   - -------------------------------------- 10.2/294.6 kB ? eta -:--:--\n",
      "   ----- --------------------------------- 41.0/294.6 kB 393.8 kB/s eta 0:00:01\n",
      "   -------------- ----------------------- 112.6/294.6 kB 819.2 kB/s eta 0:00:01\n",
      "   -------------------------------------- - 286.7/294.6 kB 1.8 MB/s eta 0:00:01\n",
      "   ---------------------------------------- 294.6/294.6 kB 1.5 MB/s eta 0:00:00\n",
      "Installing collected packages: seaborn\n",
      "Successfully installed seaborn-0.13.0\n",
      "Collecting scipy\n",
      "  Downloading scipy-1.11.4-cp310-cp310-win_amd64.whl.metadata (60 kB)\n",
      "     ---------------------------------------- 0.0/60.4 kB ? eta -:--:--\n",
      "     ------ --------------------------------- 10.2/60.4 kB ? eta -:--:--\n",
      "     ------ --------------------------------- 10.2/60.4 kB ? eta -:--:--\n",
      "     ------------ ------------------------- 20.5/60.4 kB 131.3 kB/s eta 0:00:01\n",
      "     ------------------- ------------------ 30.7/60.4 kB 163.8 kB/s eta 0:00:01\n",
      "     ------------------------- ------------ 41.0/60.4 kB 196.9 kB/s eta 0:00:01\n",
      "     -------------------------------------- 60.4/60.4 kB 229.0 kB/s eta 0:00:00\n",
      "Requirement already satisfied: numpy<1.28.0,>=1.21.6 in c:\\users\\theo\\anaconda3\\envs\\curs_1\\lib\\site-packages (from scipy) (1.26.1)\n",
      "Downloading scipy-1.11.4-cp310-cp310-win_amd64.whl (44.1 MB)\n",
      "   ---------------------------------------- 0.0/44.1 MB ? eta -:--:--\n",
      "   ---------------------------------------- 0.1/44.1 MB 1.1 MB/s eta 0:00:41\n",
      "   ---------------------------------------- 0.1/44.1 MB 1.3 MB/s eta 0:00:34\n",
      "   ---------------------------------------- 0.2/44.1 MB 2.0 MB/s eta 0:00:23\n",
      "   ---------------------------------------- 0.3/44.1 MB 2.3 MB/s eta 0:00:19\n",
      "   ---------------------------------------- 0.5/44.1 MB 2.4 MB/s eta 0:00:19\n",
      "    --------------------------------------- 0.7/44.1 MB 2.6 MB/s eta 0:00:17\n",
      "    --------------------------------------- 0.8/44.1 MB 2.5 MB/s eta 0:00:18\n",
      "    --------------------------------------- 0.9/44.1 MB 2.5 MB/s eta 0:00:18\n",
      "    --------------------------------------- 1.1/44.1 MB 2.6 MB/s eta 0:00:17\n",
      "   - -------------------------------------- 1.2/44.1 MB 2.8 MB/s eta 0:00:16\n",
      "   - -------------------------------------- 1.4/44.1 MB 2.9 MB/s eta 0:00:15\n",
      "   - -------------------------------------- 1.5/44.1 MB 2.8 MB/s eta 0:00:16\n",
      "   - -------------------------------------- 1.6/44.1 MB 2.9 MB/s eta 0:00:15\n",
      "   - -------------------------------------- 1.6/44.1 MB 2.9 MB/s eta 0:00:15\n",
      "   - -------------------------------------- 1.6/44.1 MB 2.6 MB/s eta 0:00:17\n",
      "   - -------------------------------------- 1.8/44.1 MB 2.6 MB/s eta 0:00:17\n",
      "   - -------------------------------------- 1.8/44.1 MB 2.6 MB/s eta 0:00:17\n",
      "   - -------------------------------------- 2.0/44.1 MB 2.5 MB/s eta 0:00:17\n",
      "   - -------------------------------------- 2.1/44.1 MB 2.7 MB/s eta 0:00:16\n",
      "   - -------------------------------------- 2.2/44.1 MB 2.5 MB/s eta 0:00:17\n",
      "   -- ------------------------------------- 2.4/44.1 MB 2.7 MB/s eta 0:00:16\n",
      "   -- ------------------------------------- 2.7/44.1 MB 2.8 MB/s eta 0:00:15\n",
      "   -- ------------------------------------- 2.9/44.1 MB 3.0 MB/s eta 0:00:14\n",
      "   -- ------------------------------------- 3.1/44.1 MB 3.0 MB/s eta 0:00:14\n",
      "   --- ------------------------------------ 3.4/44.1 MB 3.1 MB/s eta 0:00:14\n",
      "   --- ------------------------------------ 3.6/44.1 MB 3.1 MB/s eta 0:00:13\n",
      "   --- ------------------------------------ 3.8/44.1 MB 3.3 MB/s eta 0:00:13\n",
      "   --- ------------------------------------ 4.1/44.1 MB 3.4 MB/s eta 0:00:12\n",
      "   --- ------------------------------------ 4.3/44.1 MB 3.4 MB/s eta 0:00:12\n",
      "   ---- ----------------------------------- 4.6/44.1 MB 3.6 MB/s eta 0:00:12\n",
      "   ---- ----------------------------------- 4.9/44.1 MB 3.7 MB/s eta 0:00:11\n",
      "   ---- ----------------------------------- 5.3/44.1 MB 3.8 MB/s eta 0:00:11\n",
      "   ---- ----------------------------------- 5.4/44.1 MB 3.8 MB/s eta 0:00:11\n",
      "   ----- ---------------------------------- 5.7/44.1 MB 3.9 MB/s eta 0:00:10\n",
      "   ----- ---------------------------------- 6.1/44.1 MB 4.0 MB/s eta 0:00:10\n",
      "   ----- ---------------------------------- 6.5/44.1 MB 4.1 MB/s eta 0:00:10\n",
      "   ------ --------------------------------- 6.9/44.1 MB 4.2 MB/s eta 0:00:09\n",
      "   ------ --------------------------------- 7.3/44.1 MB 4.4 MB/s eta 0:00:09\n",
      "   ------ --------------------------------- 7.6/44.1 MB 4.4 MB/s eta 0:00:09\n",
      "   ------- -------------------------------- 8.0/44.1 MB 4.5 MB/s eta 0:00:08\n",
      "   ------- -------------------------------- 8.4/44.1 MB 4.6 MB/s eta 0:00:08\n",
      "   -------- ------------------------------- 8.9/44.1 MB 4.7 MB/s eta 0:00:08\n",
      "   -------- ------------------------------- 9.4/44.1 MB 4.9 MB/s eta 0:00:08\n",
      "   -------- ------------------------------- 9.8/44.1 MB 5.0 MB/s eta 0:00:07\n",
      "   --------- ------------------------------ 10.4/44.1 MB 5.3 MB/s eta 0:00:07\n",
      "   --------- ------------------------------ 10.7/44.1 MB 5.5 MB/s eta 0:00:07\n",
      "   ---------- ----------------------------- 11.1/44.1 MB 5.7 MB/s eta 0:00:06\n",
      "   ---------- ----------------------------- 11.4/44.1 MB 5.9 MB/s eta 0:00:06\n",
      "   ---------- ----------------------------- 12.0/44.1 MB 6.5 MB/s eta 0:00:05\n",
      "   ----------- ---------------------------- 12.4/44.1 MB 7.2 MB/s eta 0:00:05\n",
      "   ----------- ---------------------------- 12.8/44.1 MB 7.3 MB/s eta 0:00:05\n",
      "   ----------- ---------------------------- 13.0/44.1 MB 7.2 MB/s eta 0:00:05\n",
      "   ------------ --------------------------- 13.5/44.1 MB 7.5 MB/s eta 0:00:05\n",
      "   ------------ --------------------------- 13.7/44.1 MB 7.5 MB/s eta 0:00:05\n",
      "   ------------ --------------------------- 14.1/44.1 MB 7.6 MB/s eta 0:00:04\n",
      "   ------------- -------------------------- 14.6/44.1 MB 7.8 MB/s eta 0:00:04\n",
      "   ------------- -------------------------- 14.7/44.1 MB 7.7 MB/s eta 0:00:04\n",
      "   ------------- -------------------------- 15.3/44.1 MB 7.7 MB/s eta 0:00:04\n",
      "   -------------- ------------------------- 15.6/44.1 MB 7.8 MB/s eta 0:00:04\n",
      "   -------------- ------------------------- 15.9/44.1 MB 7.9 MB/s eta 0:00:04\n",
      "   -------------- ------------------------- 16.5/44.1 MB 8.2 MB/s eta 0:00:04\n",
      "   --------------- ------------------------ 17.0/44.1 MB 8.2 MB/s eta 0:00:04\n",
      "   --------------- ------------------------ 17.3/44.1 MB 8.2 MB/s eta 0:00:04\n",
      "   --------------- ------------------------ 17.3/44.1 MB 7.9 MB/s eta 0:00:04\n",
      "   ---------------- ----------------------- 17.9/44.1 MB 8.2 MB/s eta 0:00:04\n",
      "   ---------------- ----------------------- 18.3/44.1 MB 8.3 MB/s eta 0:00:04\n",
      "   ----------------- ---------------------- 18.8/44.1 MB 8.3 MB/s eta 0:00:04\n",
      "   ----------------- ---------------------- 18.9/44.1 MB 8.2 MB/s eta 0:00:04\n",
      "   ----------------- ---------------------- 19.5/44.1 MB 8.3 MB/s eta 0:00:03\n",
      "   ------------------ --------------------- 19.9/44.1 MB 8.2 MB/s eta 0:00:03\n",
      "   ------------------ --------------------- 20.3/44.1 MB 8.3 MB/s eta 0:00:03\n",
      "   ------------------ --------------------- 20.9/44.1 MB 8.3 MB/s eta 0:00:03\n",
      "   ------------------- -------------------- 21.1/44.1 MB 8.3 MB/s eta 0:00:03\n",
      "   ------------------- -------------------- 21.3/44.1 MB 8.0 MB/s eta 0:00:03\n",
      "   ------------------- -------------------- 21.8/44.1 MB 8.3 MB/s eta 0:00:03\n",
      "   -------------------- ------------------- 22.2/44.1 MB 8.3 MB/s eta 0:00:03\n",
      "   -------------------- ------------------- 22.6/44.1 MB 8.1 MB/s eta 0:00:03\n",
      "   -------------------- ------------------- 23.1/44.1 MB 8.5 MB/s eta 0:00:03\n",
      "   --------------------- ------------------ 23.7/44.1 MB 8.5 MB/s eta 0:00:03\n",
      "   --------------------- ------------------ 23.7/44.1 MB 8.5 MB/s eta 0:00:03\n",
      "   --------------------- ------------------ 23.9/44.1 MB 8.2 MB/s eta 0:00:03\n",
      "   ---------------------- ----------------- 24.6/44.1 MB 8.4 MB/s eta 0:00:03\n",
      "   ---------------------- ----------------- 25.1/44.1 MB 8.7 MB/s eta 0:00:03\n",
      "   ----------------------- ---------------- 25.4/44.1 MB 8.5 MB/s eta 0:00:03\n",
      "   ----------------------- ---------------- 25.8/44.1 MB 8.5 MB/s eta 0:00:03\n",
      "   ----------------------- ---------------- 26.2/44.1 MB 8.7 MB/s eta 0:00:03\n",
      "   ------------------------ --------------- 26.7/44.1 MB 8.7 MB/s eta 0:00:02\n",
      "   ------------------------ --------------- 26.8/44.1 MB 8.5 MB/s eta 0:00:03\n",
      "   ------------------------ --------------- 27.2/44.1 MB 8.5 MB/s eta 0:00:02\n",
      "   ------------------------- -------------- 27.8/44.1 MB 9.0 MB/s eta 0:00:02\n",
      "   ------------------------- -------------- 28.1/44.1 MB 8.7 MB/s eta 0:00:02\n",
      "   ------------------------- -------------- 28.4/44.1 MB 8.5 MB/s eta 0:00:02\n",
      "   -------------------------- ------------- 28.9/44.1 MB 8.4 MB/s eta 0:00:02\n",
      "   -------------------------- ------------- 29.7/44.1 MB 8.7 MB/s eta 0:00:02\n",
      "   --------------------------- ------------ 30.2/44.1 MB 9.0 MB/s eta 0:00:02\n",
      "   --------------------------- ------------ 30.5/44.1 MB 8.8 MB/s eta 0:00:02\n",
      "   --------------------------- ------------ 30.8/44.1 MB 8.4 MB/s eta 0:00:02\n",
      "   ---------------------------- ----------- 31.5/44.1 MB 9.1 MB/s eta 0:00:02\n",
      "   ---------------------------- ----------- 31.8/44.1 MB 8.7 MB/s eta 0:00:02\n",
      "   ----------------------------- ---------- 32.3/44.1 MB 8.8 MB/s eta 0:00:02\n",
      "   ----------------------------- ---------- 32.5/44.1 MB 9.0 MB/s eta 0:00:02\n",
      "   ----------------------------- ---------- 32.8/44.1 MB 8.7 MB/s eta 0:00:02\n",
      "   ------------------------------ --------- 33.4/44.1 MB 8.7 MB/s eta 0:00:02\n",
      "   ------------------------------ --------- 33.9/44.1 MB 9.2 MB/s eta 0:00:02\n",
      "   ------------------------------- -------- 34.3/44.1 MB 9.4 MB/s eta 0:00:02\n",
      "   ------------------------------- -------- 34.6/44.1 MB 9.1 MB/s eta 0:00:02\n",
      "   ------------------------------- -------- 35.1/44.1 MB 9.1 MB/s eta 0:00:01\n",
      "   -------------------------------- ------- 35.6/44.1 MB 9.2 MB/s eta 0:00:01\n",
      "   -------------------------------- ------- 36.2/44.1 MB 9.5 MB/s eta 0:00:01\n",
      "   --------------------------------- ------ 36.5/44.1 MB 9.4 MB/s eta 0:00:01\n",
      "   --------------------------------- ------ 36.6/44.1 MB 9.0 MB/s eta 0:00:01\n",
      "   --------------------------------- ------ 37.3/44.1 MB 9.4 MB/s eta 0:00:01\n",
      "   ---------------------------------- ----- 37.9/44.1 MB 9.2 MB/s eta 0:00:01\n",
      "   ---------------------------------- ----- 38.4/44.1 MB 9.5 MB/s eta 0:00:01\n",
      "   ---------------------------------- ----- 38.5/44.1 MB 9.2 MB/s eta 0:00:01\n",
      "   ----------------------------------- ---- 39.0/44.1 MB 9.4 MB/s eta 0:00:01\n",
      "   ----------------------------------- ---- 39.5/44.1 MB 9.5 MB/s eta 0:00:01\n",
      "   ------------------------------------ --- 40.1/44.1 MB 9.4 MB/s eta 0:00:01\n",
      "   ------------------------------------ --- 40.5/44.1 MB 9.2 MB/s eta 0:00:01\n",
      "   ------------------------------------ --- 40.8/44.1 MB 9.5 MB/s eta 0:00:01\n",
      "   ------------------------------------- -- 41.3/44.1 MB 9.5 MB/s eta 0:00:01\n",
      "   ------------------------------------- -- 41.9/44.1 MB 9.5 MB/s eta 0:00:01\n",
      "   -------------------------------------- - 42.5/44.1 MB 9.5 MB/s eta 0:00:01\n",
      "   -------------------------------------- - 42.6/44.1 MB 9.6 MB/s eta 0:00:01\n",
      "   -------------------------------------- - 43.0/44.1 MB 9.6 MB/s eta 0:00:01\n",
      "   ---------------------------------------  43.5/44.1 MB 9.4 MB/s eta 0:00:01\n",
      "   ---------------------------------------  44.1/44.1 MB 9.5 MB/s eta 0:00:01\n",
      "   ---------------------------------------  44.1/44.1 MB 9.4 MB/s eta 0:00:01\n",
      "   ---------------------------------------  44.1/44.1 MB 9.4 MB/s eta 0:00:01\n",
      "   ---------------------------------------  44.1/44.1 MB 9.4 MB/s eta 0:00:01\n",
      "   ---------------------------------------- 44.1/44.1 MB 8.2 MB/s eta 0:00:00\n",
      "Installing collected packages: scipy\n",
      "Successfully installed scipy-1.11.4\n",
      "Collecting statsmodels\n",
      "  Downloading statsmodels-0.14.0-cp310-cp310-win_amd64.whl (9.2 MB)\n",
      "     ---------------------------------------- 0.0/9.2 MB ? eta -:--:--\n",
      "     ---------------------------------------- 0.0/9.2 MB ? eta -:--:--\n",
      "     ---------------------------------------- 0.0/9.2 MB ? eta -:--:--\n",
      "     ---------------------------------------- 0.0/9.2 MB 262.6 kB/s eta 0:00:35\n",
      "     ---------------------------------------- 0.1/9.2 MB 326.1 kB/s eta 0:00:29\n",
      "      --------------------------------------- 0.1/9.2 MB 554.9 kB/s eta 0:00:17\n",
      "     - -------------------------------------- 0.3/9.2 MB 1.1 MB/s eta 0:00:08\n",
      "     - -------------------------------------- 0.4/9.2 MB 1.5 MB/s eta 0:00:06\n",
      "     -- ------------------------------------- 0.7/9.2 MB 2.1 MB/s eta 0:00:05\n",
      "     --- ------------------------------------ 0.9/9.2 MB 2.4 MB/s eta 0:00:04\n",
      "     ---- ----------------------------------- 1.1/9.2 MB 2.6 MB/s eta 0:00:04\n",
      "     ----- ---------------------------------- 1.3/9.2 MB 3.0 MB/s eta 0:00:03\n",
      "     ------ --------------------------------- 1.5/9.2 MB 3.0 MB/s eta 0:00:03\n",
      "     ------ --------------------------------- 1.6/9.2 MB 2.9 MB/s eta 0:00:03\n",
      "     -------- ------------------------------- 1.9/9.2 MB 3.1 MB/s eta 0:00:03\n",
      "     --------- ------------------------------ 2.1/9.2 MB 3.4 MB/s eta 0:00:03\n",
      "     ---------- ----------------------------- 2.4/9.2 MB 3.5 MB/s eta 0:00:02\n",
      "     ----------- ---------------------------- 2.6/9.2 MB 3.6 MB/s eta 0:00:02\n",
      "     ------------- -------------------------- 3.1/9.2 MB 4.0 MB/s eta 0:00:02\n",
      "     -------------- ------------------------- 3.2/9.2 MB 4.0 MB/s eta 0:00:02\n",
      "     --------------- ------------------------ 3.6/9.2 MB 4.2 MB/s eta 0:00:02\n",
      "     ----------------- ---------------------- 4.0/9.2 MB 4.3 MB/s eta 0:00:02\n",
      "     ------------------- -------------------- 4.4/9.2 MB 4.6 MB/s eta 0:00:02\n",
      "     -------------------- ------------------- 4.8/9.2 MB 4.7 MB/s eta 0:00:01\n",
      "     -------------------- ------------------- 4.8/9.2 MB 4.7 MB/s eta 0:00:01\n",
      "     ---------------------- ----------------- 5.2/9.2 MB 4.6 MB/s eta 0:00:01\n",
      "     ------------------------ --------------- 5.6/9.2 MB 4.8 MB/s eta 0:00:01\n",
      "     ------------------------- -------------- 5.8/9.2 MB 4.9 MB/s eta 0:00:01\n",
      "     -------------------------- ------------- 6.1/9.2 MB 5.1 MB/s eta 0:00:01\n",
      "     --------------------------- ------------ 6.3/9.2 MB 5.0 MB/s eta 0:00:01\n",
      "     ----------------------------- ---------- 6.7/9.2 MB 5.2 MB/s eta 0:00:01\n",
      "     ------------------------------ --------- 6.9/9.2 MB 5.1 MB/s eta 0:00:01\n",
      "     -------------------------------- ------- 7.4/9.2 MB 5.3 MB/s eta 0:00:01\n",
      "     --------------------------------- ------ 7.7/9.2 MB 5.3 MB/s eta 0:00:01\n",
      "     ---------------------------------- ----- 8.0/9.2 MB 5.5 MB/s eta 0:00:01\n",
      "     ------------------------------------ --- 8.4/9.2 MB 5.5 MB/s eta 0:00:01\n",
      "     -------------------------------------- - 8.8/9.2 MB 5.6 MB/s eta 0:00:01\n",
      "     ---------------------------------------  9.2/9.2 MB 5.8 MB/s eta 0:00:01\n",
      "     ---------------------------------------- 9.2/9.2 MB 5.6 MB/s eta 0:00:00\n",
      "Requirement already satisfied: numpy>=1.18 in c:\\users\\theo\\anaconda3\\envs\\curs_1\\lib\\site-packages (from statsmodels) (1.26.1)\n",
      "Requirement already satisfied: scipy!=1.9.2,>=1.4 in c:\\users\\theo\\anaconda3\\envs\\curs_1\\lib\\site-packages (from statsmodels) (1.11.4)\n",
      "Requirement already satisfied: pandas>=1.0 in c:\\users\\theo\\anaconda3\\envs\\curs_1\\lib\\site-packages (from statsmodels) (2.1.2)\n",
      "Collecting patsy>=0.5.2 (from statsmodels)\n",
      "  Downloading patsy-0.5.3-py2.py3-none-any.whl (233 kB)\n",
      "     ---------------------------------------- 0.0/233.8 kB ? eta -:--:--\n",
      "     -------------------------------------- 233.8/233.8 kB 7.2 MB/s eta 0:00:00\n",
      "Requirement already satisfied: packaging>=21.3 in c:\\users\\theo\\anaconda3\\envs\\curs_1\\lib\\site-packages (from statsmodels) (23.1)\n",
      "Requirement already satisfied: python-dateutil>=2.8.2 in c:\\users\\theo\\anaconda3\\envs\\curs_1\\lib\\site-packages (from pandas>=1.0->statsmodels) (2.8.2)\n",
      "Requirement already satisfied: pytz>=2020.1 in c:\\users\\theo\\anaconda3\\envs\\curs_1\\lib\\site-packages (from pandas>=1.0->statsmodels) (2023.3.post1)\n",
      "Requirement already satisfied: tzdata>=2022.1 in c:\\users\\theo\\anaconda3\\envs\\curs_1\\lib\\site-packages (from pandas>=1.0->statsmodels) (2023.3)\n",
      "Requirement already satisfied: six in c:\\users\\theo\\anaconda3\\envs\\curs_1\\lib\\site-packages (from patsy>=0.5.2->statsmodels) (1.16.0)\n",
      "Installing collected packages: patsy, statsmodels\n",
      "Successfully installed patsy-0.5.3 statsmodels-0.14.0\n"
     ]
    }
   ],
   "source": [
    "!pip install matplotlib\n",
    "!pip install seaborn\n",
    "!pip install scipy\n",
    "!pip install statsmodels"
   ]
  },
  {
   "cell_type": "code",
   "execution_count": 136,
   "id": "51605b96-cafa-4aa4-98ef-a87313d23073",
   "metadata": {
    "tags": []
   },
   "outputs": [],
   "source": [
    "import pandas as pd\n",
    "import numpy as np\n",
    "import matplotlib.pyplot as plt\n",
    "import seaborn as sns\n",
    "import scipy.stats as stats"
   ]
  },
  {
   "cell_type": "code",
   "execution_count": 137,
   "id": "0e3a0e6c-32c8-48a2-85b1-9838e8e39081",
   "metadata": {
    "tags": []
   },
   "outputs": [],
   "source": [
    "from scipy.stats import skew, kurtosis\n",
    "from statsmodels.graphics.gofplots import qqplot\n",
    "from scipy.stats import shapiro\n",
    "from scipy.stats import anderson"
   ]
  },
  {
   "cell_type": "markdown",
   "id": "cd022406-4a0f-40de-866a-e57545b1f7fd",
   "metadata": {
    "tags": []
   },
   "source": [
    "#### Import data"
   ]
  },
  {
   "cell_type": "code",
   "execution_count": 138,
   "id": "c986287a-20d7-482f-b65d-916491cb7940",
   "metadata": {
    "tags": []
   },
   "outputs": [
    {
     "data": {
      "text/html": [
       "<div>\n",
       "<style scoped>\n",
       "    .dataframe tbody tr th:only-of-type {\n",
       "        vertical-align: middle;\n",
       "    }\n",
       "\n",
       "    .dataframe tbody tr th {\n",
       "        vertical-align: top;\n",
       "    }\n",
       "\n",
       "    .dataframe thead th {\n",
       "        text-align: right;\n",
       "    }\n",
       "</style>\n",
       "<table border=\"1\" class=\"dataframe\">\n",
       "  <thead>\n",
       "    <tr style=\"text-align: right;\">\n",
       "      <th></th>\n",
       "      <th>idSchool</th>\n",
       "      <th>Judet</th>\n",
       "      <th>locality</th>\n",
       "      <th>Adresa</th>\n",
       "      <th>id</th>\n",
       "      <th>buildingCode</th>\n",
       "      <th>buildingDescription</th>\n",
       "      <th>builtSurface</th>\n",
       "      <th>heldSurface</th>\n",
       "      <th>constructionYear</th>\n",
       "      <th>propertyType</th>\n",
       "      <th>floorsNo</th>\n",
       "      <th>schoolInternalId</th>\n",
       "      <th>videoSurveillance</th>\n",
       "      <th>audioSurveillance</th>\n",
       "      <th>Numar_elevi_jud</th>\n",
       "    </tr>\n",
       "  </thead>\n",
       "  <tbody>\n",
       "    <tr>\n",
       "      <th>0</th>\n",
       "      <td>11269910</td>\n",
       "      <td>ARAD</td>\n",
       "      <td>ARAD</td>\n",
       "      <td>121-125 AUREL VLAICU, ARAD, judetul ARAD, 3103...</td>\n",
       "      <td>34136</td>\n",
       "      <td>C1</td>\n",
       "      <td>Gradinita Gosen Arad</td>\n",
       "      <td>1773.73</td>\n",
       "      <td>1469.00</td>\n",
       "      <td>1996</td>\n",
       "      <td>Folosință gratuită de la terți</td>\n",
       "      <td>2</td>\n",
       "      <td>10131270</td>\n",
       "      <td>False</td>\n",
       "      <td>False</td>\n",
       "      <td>211865</td>\n",
       "    </tr>\n",
       "    <tr>\n",
       "      <th>1</th>\n",
       "      <td>11256876</td>\n",
       "      <td>BUZAU</td>\n",
       "      <td>RÂMNICU SĂRAT</td>\n",
       "      <td>4 TOAMNEI, RÂMNICU SĂRAT, judetul BUZĂU, 12530...</td>\n",
       "      <td>38034</td>\n",
       "      <td>Corp1</td>\n",
       "      <td>Cladire scoala</td>\n",
       "      <td>483.00</td>\n",
       "      <td>164.00</td>\n",
       "      <td>1974</td>\n",
       "      <td>Închiriată</td>\n",
       "      <td>3</td>\n",
       "      <td>11192270</td>\n",
       "      <td>False</td>\n",
       "      <td>False</td>\n",
       "      <td>220068</td>\n",
       "    </tr>\n",
       "    <tr>\n",
       "      <th>2</th>\n",
       "      <td>11263103</td>\n",
       "      <td>MEHEDINTI</td>\n",
       "      <td>DROBETA-TURNU SEVERIN</td>\n",
       "      <td>94 Calomfirescu, DROBETA-TURNU SEVERIN, judetu...</td>\n",
       "      <td>17237</td>\n",
       "      <td>C1 - Cladire D+P</td>\n",
       "      <td>CASA CORPULUI DIDACTIC MEHEDINTI</td>\n",
       "      <td>269.00</td>\n",
       "      <td>538.00</td>\n",
       "      <td>1930</td>\n",
       "      <td>Folosință gratuită de la terți</td>\n",
       "      <td>1</td>\n",
       "      <td>10037858</td>\n",
       "      <td>True</td>\n",
       "      <td>False</td>\n",
       "      <td>119595</td>\n",
       "    </tr>\n",
       "    <tr>\n",
       "      <th>3</th>\n",
       "      <td>11263103</td>\n",
       "      <td>MEHEDINTI</td>\n",
       "      <td>DROBETA-TURNU SEVERIN</td>\n",
       "      <td>94 Calomfirescu, DROBETA-TURNU SEVERIN, judetu...</td>\n",
       "      <td>21973</td>\n",
       "      <td>C1 - ANEXA P+1</td>\n",
       "      <td>LABORATOR INFORMATICA</td>\n",
       "      <td>54.80</td>\n",
       "      <td>117.45</td>\n",
       "      <td>2010</td>\n",
       "      <td>Folosință gratuită de la terți</td>\n",
       "      <td>1</td>\n",
       "      <td>10037858</td>\n",
       "      <td>True</td>\n",
       "      <td>False</td>\n",
       "      <td>119595</td>\n",
       "    </tr>\n",
       "    <tr>\n",
       "      <th>4</th>\n",
       "      <td>11263103</td>\n",
       "      <td>MEHEDINTI</td>\n",
       "      <td>DROBETA-TURNU SEVERIN</td>\n",
       "      <td>94 Calomfirescu, DROBETA-TURNU SEVERIN, judetu...</td>\n",
       "      <td>22117</td>\n",
       "      <td>C1 - ANEXA P</td>\n",
       "      <td>SALI DE CURS</td>\n",
       "      <td>100.80</td>\n",
       "      <td>100.80</td>\n",
       "      <td>2006</td>\n",
       "      <td>Folosință gratuită de la terți</td>\n",
       "      <td>1</td>\n",
       "      <td>10037858</td>\n",
       "      <td>True</td>\n",
       "      <td>False</td>\n",
       "      <td>119595</td>\n",
       "    </tr>\n",
       "  </tbody>\n",
       "</table>\n",
       "</div>"
      ],
      "text/plain": [
       "   idSchool      Judet               locality  \\\n",
       "0  11269910       ARAD                   ARAD   \n",
       "1  11256876      BUZAU          RÂMNICU SĂRAT   \n",
       "2  11263103  MEHEDINTI  DROBETA-TURNU SEVERIN   \n",
       "3  11263103  MEHEDINTI  DROBETA-TURNU SEVERIN   \n",
       "4  11263103  MEHEDINTI  DROBETA-TURNU SEVERIN   \n",
       "\n",
       "                                              Adresa     id      buildingCode  \\\n",
       "0  121-125 AUREL VLAICU, ARAD, judetul ARAD, 3103...  34136                C1   \n",
       "1  4 TOAMNEI, RÂMNICU SĂRAT, judetul BUZĂU, 12530...  38034             Corp1   \n",
       "2  94 Calomfirescu, DROBETA-TURNU SEVERIN, judetu...  17237  C1 - Cladire D+P   \n",
       "3  94 Calomfirescu, DROBETA-TURNU SEVERIN, judetu...  21973    C1 - ANEXA P+1   \n",
       "4  94 Calomfirescu, DROBETA-TURNU SEVERIN, judetu...  22117      C1 - ANEXA P   \n",
       "\n",
       "                buildingDescription  builtSurface  heldSurface  \\\n",
       "0              Gradinita Gosen Arad       1773.73      1469.00   \n",
       "1                    Cladire scoala        483.00       164.00   \n",
       "2  CASA CORPULUI DIDACTIC MEHEDINTI        269.00       538.00   \n",
       "3             LABORATOR INFORMATICA         54.80       117.45   \n",
       "4                      SALI DE CURS        100.80       100.80   \n",
       "\n",
       "   constructionYear                    propertyType  floorsNo  \\\n",
       "0              1996  Folosință gratuită de la terți         2   \n",
       "1              1974                      Închiriată         3   \n",
       "2              1930  Folosință gratuită de la terți         1   \n",
       "3              2010  Folosință gratuită de la terți         1   \n",
       "4              2006  Folosință gratuită de la terți         1   \n",
       "\n",
       "   schoolInternalId  videoSurveillance  audioSurveillance  Numar_elevi_jud  \n",
       "0          10131270              False              False           211865  \n",
       "1          11192270              False              False           220068  \n",
       "2          10037858               True              False           119595  \n",
       "3          10037858               True              False           119595  \n",
       "4          10037858               True              False           119595  "
      ]
     },
     "execution_count": 138,
     "metadata": {},
     "output_type": "execute_result"
    }
   ],
   "source": [
    "df = pd.read_csv(\"schoolBuildings_Team1.csv\")\n",
    "df.head()"
   ]
  },
  {
   "cell_type": "code",
   "execution_count": 139,
   "id": "1053ef72-5686-4106-86d9-ba89ec17e764",
   "metadata": {
    "tags": []
   },
   "outputs": [],
   "source": [
    "df.rename(columns = {'idSchool':'school_no'}, inplace= True)"
   ]
  },
  {
   "cell_type": "code",
   "execution_count": 140,
   "id": "98f49f65-523f-4f04-965c-a568f315c95c",
   "metadata": {
    "tags": []
   },
   "outputs": [
    {
     "data": {
      "text/plain": [
       "Index(['school_no', 'Judet', 'locality', 'Adresa', 'id', 'buildingCode',\n",
       "       'buildingDescription', 'builtSurface', 'heldSurface',\n",
       "       'constructionYear', 'propertyType', 'floorsNo', 'schoolInternalId',\n",
       "       'videoSurveillance', 'audioSurveillance', 'Numar_elevi_jud'],\n",
       "      dtype='object')"
      ]
     },
     "execution_count": 140,
     "metadata": {},
     "output_type": "execute_result"
    }
   ],
   "source": [
    "df.columns"
   ]
  },
  {
   "cell_type": "markdown",
   "id": "74e317d6-1c09-4147-9b87-7ffa29ade560",
   "metadata": {},
   "source": [
    "#### Explorarea distributiilor"
   ]
  },
  {
   "cell_type": "code",
   "execution_count": 141,
   "id": "947d7e48-1625-4ab7-b633-8cfcf946e15b",
   "metadata": {
    "tags": []
   },
   "outputs": [
    {
     "data": {
      "text/html": [
       "<div>\n",
       "<style scoped>\n",
       "    .dataframe tbody tr th:only-of-type {\n",
       "        vertical-align: middle;\n",
       "    }\n",
       "\n",
       "    .dataframe tbody tr th {\n",
       "        vertical-align: top;\n",
       "    }\n",
       "\n",
       "    .dataframe thead th {\n",
       "        text-align: right;\n",
       "    }\n",
       "</style>\n",
       "<table border=\"1\" class=\"dataframe\">\n",
       "  <thead>\n",
       "    <tr style=\"text-align: right;\">\n",
       "      <th></th>\n",
       "      <th>school_no</th>\n",
       "      <th>id</th>\n",
       "      <th>builtSurface</th>\n",
       "      <th>heldSurface</th>\n",
       "      <th>constructionYear</th>\n",
       "      <th>floorsNo</th>\n",
       "      <th>schoolInternalId</th>\n",
       "      <th>Numar_elevi_jud</th>\n",
       "    </tr>\n",
       "  </thead>\n",
       "  <tbody>\n",
       "    <tr>\n",
       "      <th>count</th>\n",
       "      <td>3.165900e+04</td>\n",
       "      <td>31659.000000</td>\n",
       "      <td>31659.000000</td>\n",
       "      <td>31659.000000</td>\n",
       "      <td>31659.000000</td>\n",
       "      <td>31659.000000</td>\n",
       "      <td>3.165900e+04</td>\n",
       "      <td>31659.000000</td>\n",
       "    </tr>\n",
       "    <tr>\n",
       "      <th>mean</th>\n",
       "      <td>1.126597e+07</td>\n",
       "      <td>20666.385767</td>\n",
       "      <td>492.223054</td>\n",
       "      <td>910.346618</td>\n",
       "      <td>1965.384156</td>\n",
       "      <td>0.769986</td>\n",
       "      <td>1.019486e+07</td>\n",
       "      <td>283668.910610</td>\n",
       "    </tr>\n",
       "    <tr>\n",
       "      <th>std</th>\n",
       "      <td>5.636258e+03</td>\n",
       "      <td>11922.368341</td>\n",
       "      <td>546.640830</td>\n",
       "      <td>1425.396542</td>\n",
       "      <td>36.315395</td>\n",
       "      <td>0.944861</td>\n",
       "      <td>2.285792e+06</td>\n",
       "      <td>171095.919193</td>\n",
       "    </tr>\n",
       "    <tr>\n",
       "      <th>min</th>\n",
       "      <td>1.124825e+07</td>\n",
       "      <td>1.000000</td>\n",
       "      <td>0.000000</td>\n",
       "      <td>0.000000</td>\n",
       "      <td>1700.000000</td>\n",
       "      <td>0.000000</td>\n",
       "      <td>4.635520e+05</td>\n",
       "      <td>104040.000000</td>\n",
       "    </tr>\n",
       "    <tr>\n",
       "      <th>25%</th>\n",
       "      <td>1.126099e+07</td>\n",
       "      <td>10338.500000</td>\n",
       "      <td>175.750000</td>\n",
       "      <td>195.000000</td>\n",
       "      <td>1952.000000</td>\n",
       "      <td>0.000000</td>\n",
       "      <td>1.012690e+07</td>\n",
       "      <td>174551.000000</td>\n",
       "    </tr>\n",
       "    <tr>\n",
       "      <th>50%</th>\n",
       "      <td>1.126577e+07</td>\n",
       "      <td>19972.000000</td>\n",
       "      <td>364.000000</td>\n",
       "      <td>452.000000</td>\n",
       "      <td>1970.000000</td>\n",
       "      <td>1.000000</td>\n",
       "      <td>1.101919e+07</td>\n",
       "      <td>241132.000000</td>\n",
       "    </tr>\n",
       "    <tr>\n",
       "      <th>75%</th>\n",
       "      <td>1.127076e+07</td>\n",
       "      <td>29954.500000</td>\n",
       "      <td>630.000000</td>\n",
       "      <td>1080.000000</td>\n",
       "      <td>1985.000000</td>\n",
       "      <td>1.000000</td>\n",
       "      <td>1.106799e+07</td>\n",
       "      <td>327514.000000</td>\n",
       "    </tr>\n",
       "    <tr>\n",
       "      <th>max</th>\n",
       "      <td>1.130882e+07</td>\n",
       "      <td>45240.000000</td>\n",
       "      <td>11570.110000</td>\n",
       "      <td>61605.000000</td>\n",
       "      <td>2023.000000</td>\n",
       "      <td>11.000000</td>\n",
       "      <td>1.130687e+07</td>\n",
       "      <td>979261.000000</td>\n",
       "    </tr>\n",
       "  </tbody>\n",
       "</table>\n",
       "</div>"
      ],
      "text/plain": [
       "          school_no            id  builtSurface   heldSurface  \\\n",
       "count  3.165900e+04  31659.000000  31659.000000  31659.000000   \n",
       "mean   1.126597e+07  20666.385767    492.223054    910.346618   \n",
       "std    5.636258e+03  11922.368341    546.640830   1425.396542   \n",
       "min    1.124825e+07      1.000000      0.000000      0.000000   \n",
       "25%    1.126099e+07  10338.500000    175.750000    195.000000   \n",
       "50%    1.126577e+07  19972.000000    364.000000    452.000000   \n",
       "75%    1.127076e+07  29954.500000    630.000000   1080.000000   \n",
       "max    1.130882e+07  45240.000000  11570.110000  61605.000000   \n",
       "\n",
       "       constructionYear      floorsNo  schoolInternalId  Numar_elevi_jud  \n",
       "count      31659.000000  31659.000000      3.165900e+04     31659.000000  \n",
       "mean        1965.384156      0.769986      1.019486e+07    283668.910610  \n",
       "std           36.315395      0.944861      2.285792e+06    171095.919193  \n",
       "min         1700.000000      0.000000      4.635520e+05    104040.000000  \n",
       "25%         1952.000000      0.000000      1.012690e+07    174551.000000  \n",
       "50%         1970.000000      1.000000      1.101919e+07    241132.000000  \n",
       "75%         1985.000000      1.000000      1.106799e+07    327514.000000  \n",
       "max         2023.000000     11.000000      1.130687e+07    979261.000000  "
      ]
     },
     "execution_count": 141,
     "metadata": {},
     "output_type": "execute_result"
    }
   ],
   "source": [
    "df.describe()"
   ]
  },
  {
   "cell_type": "code",
   "execution_count": 142,
   "id": "1fe4e206-2d33-4002-b441-bb75a47db7f6",
   "metadata": {
    "tags": []
   },
   "outputs": [
    {
     "data": {
      "text/html": [
       "<div>\n",
       "<style scoped>\n",
       "    .dataframe tbody tr th:only-of-type {\n",
       "        vertical-align: middle;\n",
       "    }\n",
       "\n",
       "    .dataframe tbody tr th {\n",
       "        vertical-align: top;\n",
       "    }\n",
       "\n",
       "    .dataframe thead th {\n",
       "        text-align: right;\n",
       "    }\n",
       "</style>\n",
       "<table border=\"1\" class=\"dataframe\">\n",
       "  <thead>\n",
       "    <tr style=\"text-align: right;\">\n",
       "      <th></th>\n",
       "      <th>school_no</th>\n",
       "      <th>id</th>\n",
       "      <th>builtSurface</th>\n",
       "      <th>heldSurface</th>\n",
       "      <th>constructionYear</th>\n",
       "      <th>floorsNo</th>\n",
       "      <th>schoolInternalId</th>\n",
       "      <th>Numar_elevi_jud</th>\n",
       "    </tr>\n",
       "  </thead>\n",
       "  <tbody>\n",
       "    <tr>\n",
       "      <th>count</th>\n",
       "      <td>31659.00</td>\n",
       "      <td>31659.00</td>\n",
       "      <td>31659.00</td>\n",
       "      <td>31659.00</td>\n",
       "      <td>31659.00</td>\n",
       "      <td>31659.00</td>\n",
       "      <td>31659.00</td>\n",
       "      <td>31659.00</td>\n",
       "    </tr>\n",
       "    <tr>\n",
       "      <th>mean</th>\n",
       "      <td>11265965.03</td>\n",
       "      <td>20666.39</td>\n",
       "      <td>492.22</td>\n",
       "      <td>910.35</td>\n",
       "      <td>1965.38</td>\n",
       "      <td>0.77</td>\n",
       "      <td>10194857.05</td>\n",
       "      <td>283668.91</td>\n",
       "    </tr>\n",
       "    <tr>\n",
       "      <th>std</th>\n",
       "      <td>5636.26</td>\n",
       "      <td>11922.37</td>\n",
       "      <td>546.64</td>\n",
       "      <td>1425.40</td>\n",
       "      <td>36.32</td>\n",
       "      <td>0.94</td>\n",
       "      <td>2285792.21</td>\n",
       "      <td>171095.92</td>\n",
       "    </tr>\n",
       "    <tr>\n",
       "      <th>min</th>\n",
       "      <td>11248252.00</td>\n",
       "      <td>1.00</td>\n",
       "      <td>0.00</td>\n",
       "      <td>0.00</td>\n",
       "      <td>1700.00</td>\n",
       "      <td>0.00</td>\n",
       "      <td>463552.00</td>\n",
       "      <td>104040.00</td>\n",
       "    </tr>\n",
       "    <tr>\n",
       "      <th>25%</th>\n",
       "      <td>11260994.00</td>\n",
       "      <td>10338.50</td>\n",
       "      <td>175.75</td>\n",
       "      <td>195.00</td>\n",
       "      <td>1952.00</td>\n",
       "      <td>0.00</td>\n",
       "      <td>10126895.00</td>\n",
       "      <td>174551.00</td>\n",
       "    </tr>\n",
       "    <tr>\n",
       "      <th>50%</th>\n",
       "      <td>11265772.00</td>\n",
       "      <td>19972.00</td>\n",
       "      <td>364.00</td>\n",
       "      <td>452.00</td>\n",
       "      <td>1970.00</td>\n",
       "      <td>1.00</td>\n",
       "      <td>11019190.00</td>\n",
       "      <td>241132.00</td>\n",
       "    </tr>\n",
       "    <tr>\n",
       "      <th>75%</th>\n",
       "      <td>11270764.50</td>\n",
       "      <td>29954.50</td>\n",
       "      <td>630.00</td>\n",
       "      <td>1080.00</td>\n",
       "      <td>1985.00</td>\n",
       "      <td>1.00</td>\n",
       "      <td>11067989.00</td>\n",
       "      <td>327514.00</td>\n",
       "    </tr>\n",
       "    <tr>\n",
       "      <th>max</th>\n",
       "      <td>11308816.00</td>\n",
       "      <td>45240.00</td>\n",
       "      <td>11570.11</td>\n",
       "      <td>61605.00</td>\n",
       "      <td>2023.00</td>\n",
       "      <td>11.00</td>\n",
       "      <td>11306866.00</td>\n",
       "      <td>979261.00</td>\n",
       "    </tr>\n",
       "  </tbody>\n",
       "</table>\n",
       "</div>"
      ],
      "text/plain": [
       "         school_no        id  builtSurface  heldSurface  constructionYear  \\\n",
       "count     31659.00  31659.00      31659.00     31659.00          31659.00   \n",
       "mean   11265965.03  20666.39        492.22       910.35           1965.38   \n",
       "std        5636.26  11922.37        546.64      1425.40             36.32   \n",
       "min    11248252.00      1.00          0.00         0.00           1700.00   \n",
       "25%    11260994.00  10338.50        175.75       195.00           1952.00   \n",
       "50%    11265772.00  19972.00        364.00       452.00           1970.00   \n",
       "75%    11270764.50  29954.50        630.00      1080.00           1985.00   \n",
       "max    11308816.00  45240.00      11570.11     61605.00           2023.00   \n",
       "\n",
       "       floorsNo  schoolInternalId  Numar_elevi_jud  \n",
       "count  31659.00          31659.00         31659.00  \n",
       "mean       0.77       10194857.05        283668.91  \n",
       "std        0.94        2285792.21        171095.92  \n",
       "min        0.00         463552.00        104040.00  \n",
       "25%        0.00       10126895.00        174551.00  \n",
       "50%        1.00       11019190.00        241132.00  \n",
       "75%        1.00       11067989.00        327514.00  \n",
       "max       11.00       11306866.00        979261.00  "
      ]
     },
     "execution_count": 142,
     "metadata": {},
     "output_type": "execute_result"
    }
   ],
   "source": [
    "df.describe().round(2)"
   ]
  },
  {
   "cell_type": "markdown",
   "id": "fe2853d1-0664-475c-afc5-90214f6c26d3",
   "metadata": {
    "tags": []
   },
   "source": [
    "#### Pentru a vedea distributia datelor trebuie sa ne uitam la asimetrie si boltire\n",
    "#### Vom face asta prin intermediul graficelor"
   ]
  },
  {
   "cell_type": "code",
   "execution_count": 143,
   "id": "719df62b-131c-4fe8-9d35-06db589bdacb",
   "metadata": {
    "tags": []
   },
   "outputs": [],
   "source": [
    "df.dropna(subset=['Numar_elevi_jud'], inplace=True)"
   ]
  },
  {
   "cell_type": "code",
   "execution_count": 144,
   "id": "a4f1aedc-f406-4c46-bc4a-e6418f300d47",
   "metadata": {
    "tags": []
   },
   "outputs": [
    {
     "name": "stdout",
     "output_type": "stream",
     "text": [
      "asimetrie: 2.6951953499931975\n",
      "boltire: 8.517885305538652\n"
     ]
    }
   ],
   "source": [
    "asimetrie = skew(df['Numar_elevi_jud'])\n",
    "boltire = kurtosis(df['Numar_elevi_jud'])\n",
    "\n",
    "print(f'asimetrie: {asimetrie}')\n",
    "print(f'boltire: {boltire}')"
   ]
  },
  {
   "cell_type": "code",
   "execution_count": 145,
   "id": "d4928100-6c65-43f0-ac62-fc2dd81019dd",
   "metadata": {
    "tags": []
   },
   "outputs": [
    {
     "data": {
      "text/plain": [
       "2.6951953499931975"
      ]
     },
     "execution_count": 145,
     "metadata": {},
     "output_type": "execute_result"
    }
   ],
   "source": [
    "asimetrie"
   ]
  },
  {
   "cell_type": "code",
   "execution_count": 146,
   "id": "4282552f-90bb-47ab-8b97-df347f21dae9",
   "metadata": {
    "tags": []
   },
   "outputs": [
    {
     "data": {
      "text/plain": [
       "8.517885305538652"
      ]
     },
     "execution_count": 146,
     "metadata": {},
     "output_type": "execute_result"
    }
   ],
   "source": [
    "boltire"
   ]
  },
  {
   "cell_type": "markdown",
   "id": "d8097fd1-e8e7-4504-a29a-b066ae63d916",
   "metadata": {},
   "source": [
    "#### Testam normalitatea datelor printr-un test Shapiro si interpretarea datelor"
   ]
  },
  {
   "cell_type": "code",
   "execution_count": 147,
   "id": "c56d2b3c-f0dc-474b-b7f1-9a88a5700770",
   "metadata": {
    "tags": []
   },
   "outputs": [],
   "source": [
    "var = 'Numar_elevi_jud'"
   ]
  },
  {
   "cell_type": "code",
   "execution_count": 148,
   "id": "5b969823-6f30-4b8b-a9dc-cb47c472fd43",
   "metadata": {
    "tags": []
   },
   "outputs": [
    {
     "name": "stderr",
     "output_type": "stream",
     "text": [
      "C:\\Users\\Theo\\anaconda3\\envs\\Curs_1\\lib\\site-packages\\scipy\\stats\\_morestats.py:1882: UserWarning: p-value may not be accurate for N > 5000.\n",
      "  warnings.warn(\"p-value may not be accurate for N > 5000.\")\n"
     ]
    }
   ],
   "source": [
    "stat_shapiro, p_value_shapiro = shapiro(df[var])"
   ]
  },
  {
   "cell_type": "code",
   "execution_count": 149,
   "id": "68a487fc-45f7-4bff-ad60-1414d4bc0f02",
   "metadata": {
    "tags": []
   },
   "outputs": [
    {
     "name": "stdout",
     "output_type": "stream",
     "text": [
      "Statistic: 0.7016060948371887\n",
      "P-value: 0.0\n"
     ]
    }
   ],
   "source": [
    "print(f'Statistic: {stat_shapiro}')\n",
    "print(f'P-value: {p_value_shapiro}')"
   ]
  },
  {
   "cell_type": "code",
   "execution_count": 150,
   "id": "44b4f0b0-d302-4d6c-bec5-478217c1506c",
   "metadata": {
    "tags": []
   },
   "outputs": [
    {
     "name": "stdout",
     "output_type": "stream",
     "text": [
      "The data does not appear to be normally distributed (reject H0)\n"
     ]
    }
   ],
   "source": [
    "alpha = 0.05\n",
    "if p_value_shapiro > alpha:\n",
    "    print(f'The data appears to be normally distributed (fail to reject H0)')\n",
    "else:\n",
    "    print(f'The data does not appear to be normally distributed (reject H0)')"
   ]
  },
  {
   "cell_type": "markdown",
   "id": "92bb5ec4-89f5-456d-aaf3-32ba6d418f97",
   "metadata": {},
   "source": [
    "#### Vom face o analiza descritiva care le inglobeaza pe toate careia ii vom oferi o interpretare"
   ]
  },
  {
   "cell_type": "code",
   "execution_count": 151,
   "id": "332c38fe-14bb-427d-b12c-186bf15f81cf",
   "metadata": {
    "tags": []
   },
   "outputs": [],
   "source": [
    "def descriptive_statistics(df, var):  \n",
    "    median_val = df[var].median()   \n",
    "    mode_val = df[var].mode()[0]  \n",
    "    df_no_missing = df.dropna(subset=[var])        \n",
    "    asymmetry = skew(df_no_missing[var])   \n",
    "    kurt = kurtosis(df_no_missing[var])  \n",
    "    \n",
    "    result_anderson = anderson(df_no_missing[var])\n",
    "    anderson_stat = result_anderson.statistic\n",
    "    anderson_critical_values = result_anderson.critical_values\n",
    "    \n",
    "    print(f'Descriptive statistics for {var}:')      \n",
    "    return {'median': median_val, \n",
    "            'mode': mode_val,      \n",
    "            'skewness': asymmetry,      \n",
    "            'kurtosis': kurt,      \n",
    "            'anderson_stat': anderson_stat,      \n",
    "            'anderson_critical_values': anderson_critical_values   \n",
    "           }"
   ]
  },
  {
   "cell_type": "code",
   "execution_count": 152,
   "id": "a5e250bd-1606-4277-9ba3-6fd8727aed00",
   "metadata": {
    "tags": []
   },
   "outputs": [
    {
     "name": "stdout",
     "output_type": "stream",
     "text": [
      "Descriptive statistics for Numar_elevi_jud:\n"
     ]
    },
    {
     "data": {
      "text/plain": [
       "{'median': 241132.0,\n",
       " 'mode': 459614,\n",
       " 'skewness': 2.6951953499931975,\n",
       " 'kurtosis': 8.517885305538652,\n",
       " 'anderson_stat': 2140.086850360065,\n",
       " 'anderson_critical_values': array([0.576, 0.656, 0.787, 0.918, 1.092])}"
      ]
     },
     "execution_count": 152,
     "metadata": {},
     "output_type": "execute_result"
    }
   ],
   "source": [
    "descriptive_statistics(df, var)"
   ]
  },
  {
   "cell_type": "code",
   "execution_count": 153,
   "id": "7a6de6e8-f489-423d-9db3-0a360c90b2ed",
   "metadata": {
    "tags": []
   },
   "outputs": [],
   "source": [
    "def automatic_interpretation(results):\n",
    "    median = results['median']\n",
    "    mode = results['mode']\n",
    "    skewness = results['skewness']\n",
    "    kurtosis = results['kurtosis']\n",
    "    anderson_stat = results['anderson_stat']\n",
    "    anderson_critical_values = results['anderson_critical_values']\n",
    "\n",
    "    skewness_interpretation = \"rightward skew\" if skewness > 0 else \"leftward skew\" if skewness < 0 else \"symmetric\"\n",
    "    \n",
    "    interpretation = f\"\"\"\n",
    "    Descriptive Statistics Interpretation:\n",
    "    - The median and mode are both approximately {median}, indicating a central tendency around this value.\n",
    "    - The skewness of {skewness:.2f} suggests a {skewness_interpretation}.\n",
    "    - The kurtosis of {kurtosis:.2f} is close to the expected value for a normal distribution, indicating relatively normal tail behavior.\n",
    "    - The Anderson-Darling statistic is {anderson_stat:.2f}, suggesting evidence against the null hypothesis of normality.\n",
    "    - Anderson-Darling Critical Values: {anderson_critical_values}\n",
    "    \"\"\"\n",
    "    \n",
    "    return interpretation"
   ]
  },
  {
   "cell_type": "code",
   "execution_count": 154,
   "id": "6635ec35-9d82-464b-9839-ea542ff70b40",
   "metadata": {
    "tags": []
   },
   "outputs": [],
   "source": [
    "interpretation = automatic_interpretation(results)"
   ]
  },
  {
   "cell_type": "code",
   "execution_count": 155,
   "id": "b4e0bc4f-05de-4004-9f1b-2b3f1d4a82de",
   "metadata": {
    "tags": []
   },
   "outputs": [
    {
     "name": "stdout",
     "output_type": "stream",
     "text": [
      "\n",
      "    Descriptive Statistics Interpretation:\n",
      "    - The median and mode are both approximately 239760.38883925503, indicating a central tendency around this value.\n",
      "    - The skewness of 0.63 suggests a rightward skew.\n",
      "    - The kurtosis of 1.04 is close to the expected value for a normal distribution, indicating relatively normal tail behavior.\n",
      "    - The Anderson-Darling statistic is 2342.30, suggesting evidence against the null hypothesis of normality.\n",
      "    - Anderson-Darling Critical Values: [0.576 0.656 0.787 0.918 1.092]\n",
      "    \n"
     ]
    }
   ],
   "source": [
    "print(interpretation)"
   ]
  },
  {
   "cell_type": "markdown",
   "id": "790c02e2-6483-4bee-9b26-1e3488ade4af",
   "metadata": {},
   "source": [
    "#### Vom face si cateva grafice"
   ]
  },
  {
   "cell_type": "markdown",
   "id": "1a4a2eb4-bcd7-4e48-b718-55c5d7f343aa",
   "metadata": {},
   "source": [
    "##### Histograma numarului de elevi pe judete(suma)"
   ]
  },
  {
   "cell_type": "code",
   "execution_count": 156,
   "id": "64f1a22c-d2cb-4681-9725-5f69f8136e85",
   "metadata": {
    "tags": []
   },
   "outputs": [
    {
     "data": {
      "image/png": "[encoded data removed]",
      "text/plain": [
       "<Figure size 1000x600 with 1 Axes>"
      ]
     },
     "metadata": {},
     "output_type": "display_data"
    }
   ],
   "source": [
    "plt.figure(figsize=(10, 6))\n",
    "sns.histplot(df['Numar_elevi_jud'], bins=30, kde=True, color='red')\n",
    "plt.title('Distribuția numărului de elevi pe județe')\n",
    "plt.xlabel('Numărul de elevi')\n",
    "plt.ylabel('Frecvența')\n",
    "plt.show()"
   ]
  },
  {
   "cell_type": "code",
   "execution_count": 157,
   "id": "305a2361-290d-428b-9bd2-2e44516d2011",
   "metadata": {
    "tags": []
   },
   "outputs": [
    {
     "data": {
      "text/plain": [
       "Index(['school_no', 'Judet', 'locality', 'Adresa', 'id', 'buildingCode',\n",
       "       'buildingDescription', 'builtSurface', 'heldSurface',\n",
       "       'constructionYear', 'propertyType', 'floorsNo', 'schoolInternalId',\n",
       "       'videoSurveillance', 'audioSurveillance', 'Numar_elevi_jud'],\n",
       "      dtype='object')"
      ]
     },
     "execution_count": 157,
     "metadata": {},
     "output_type": "execute_result"
    }
   ],
   "source": [
    "df.columns"
   ]
  },
  {
   "cell_type": "code",
   "execution_count": 158,
   "id": "3171b975-71da-4ddd-b72d-c4488848159a",
   "metadata": {
    "tags": []
   },
   "outputs": [
    {
     "data": {
      "text/html": [
       "<div>\n",
       "<style scoped>\n",
       "    .dataframe tbody tr th:only-of-type {\n",
       "        vertical-align: middle;\n",
       "    }\n",
       "\n",
       "    .dataframe tbody tr th {\n",
       "        vertical-align: top;\n",
       "    }\n",
       "\n",
       "    .dataframe thead th {\n",
       "        text-align: right;\n",
       "    }\n",
       "</style>\n",
       "<table border=\"1\" class=\"dataframe\">\n",
       "  <thead>\n",
       "    <tr style=\"text-align: right;\">\n",
       "      <th></th>\n",
       "      <th>Judet</th>\n",
       "      <th>Numar_elevi_jud</th>\n",
       "      <th>school_no</th>\n",
       "      <th>id</th>\n",
       "    </tr>\n",
       "  </thead>\n",
       "  <tbody>\n",
       "    <tr>\n",
       "      <th>0</th>\n",
       "      <td>ALBA</td>\n",
       "      <td>122818234</td>\n",
       "      <td>8233575477</td>\n",
       "      <td>731</td>\n",
       "    </tr>\n",
       "    <tr>\n",
       "      <th>1</th>\n",
       "      <td>ARAD</td>\n",
       "      <td>144491930</td>\n",
       "      <td>7685893877</td>\n",
       "      <td>682</td>\n",
       "    </tr>\n",
       "    <tr>\n",
       "      <th>2</th>\n",
       "      <td>ARGES</td>\n",
       "      <td>291581640</td>\n",
       "      <td>10648784926</td>\n",
       "      <td>945</td>\n",
       "    </tr>\n",
       "    <tr>\n",
       "      <th>3</th>\n",
       "      <td>BACAU</td>\n",
       "      <td>313103384</td>\n",
       "      <td>10775701945</td>\n",
       "      <td>956</td>\n",
       "    </tr>\n",
       "    <tr>\n",
       "      <th>4</th>\n",
       "      <td>BIHOR</td>\n",
       "      <td>360675099</td>\n",
       "      <td>13087180021</td>\n",
       "      <td>1161</td>\n",
       "    </tr>\n",
       "  </tbody>\n",
       "</table>\n",
       "</div>"
      ],
      "text/plain": [
       "   Judet  Numar_elevi_jud    school_no    id\n",
       "0   ALBA        122818234   8233575477   731\n",
       "1   ARAD        144491930   7685893877   682\n",
       "2  ARGES        291581640  10648784926   945\n",
       "3  BACAU        313103384  10775701945   956\n",
       "4  BIHOR        360675099  13087180021  1161"
      ]
     },
     "execution_count": 158,
     "metadata": {},
     "output_type": "execute_result"
    }
   ],
   "source": [
    "aggregations = {\n",
    "               'Numar_elevi_jud':'sum',\n",
    "               'school_no':'sum',\n",
    "               'id':'count'\n",
    "               }\n",
    " \n",
    "df_jud = df.groupby(['Judet']).agg(aggregations).reset_index()\n",
    "df_jud.head()"
   ]
  },
  {
   "cell_type": "code",
   "execution_count": 159,
   "id": "5de4757a-58ae-4fde-9a9d-4f7897efc008",
   "metadata": {
    "tags": []
   },
   "outputs": [
    {
     "data": {
      "image/png": "[encoded data removed]",
      "text/plain": [
       "<Figure size 1000x600 with 1 Axes>"
      ]
     },
     "metadata": {},
     "output_type": "display_data"
    }
   ],
   "source": [
    "plt.figure(figsize=(10, 6))\n",
    "sns.histplot(df_jud['Numar_elevi_jud'], kde=True, color='red')\n",
    "plt.title(\"Distributia numarului de elevi pe judete\")\n",
    "plt.xlabel('Numarul de elevi')\n",
    "plt.ylabel('Frecventa')\n",
    "plt.show()"
   ]
  },
  {
   "cell_type": "code",
   "execution_count": 160,
   "id": "d3deb68b-4e87-40a9-84e7-2ece133136c9",
   "metadata": {
    "tags": []
   },
   "outputs": [
    {
     "data": {
      "text/html": [
       "<div>\n",
       "<style scoped>\n",
       "    .dataframe tbody tr th:only-of-type {\n",
       "        vertical-align: middle;\n",
       "    }\n",
       "\n",
       "    .dataframe tbody tr th {\n",
       "        vertical-align: top;\n",
       "    }\n",
       "\n",
       "    .dataframe thead th {\n",
       "        text-align: right;\n",
       "    }\n",
       "</style>\n",
       "<table border=\"1\" class=\"dataframe\">\n",
       "  <thead>\n",
       "    <tr style=\"text-align: right;\">\n",
       "      <th></th>\n",
       "      <th>school_no</th>\n",
       "      <th>Judet</th>\n",
       "      <th>locality</th>\n",
       "      <th>Adresa</th>\n",
       "      <th>id</th>\n",
       "      <th>buildingCode</th>\n",
       "      <th>buildingDescription</th>\n",
       "      <th>builtSurface</th>\n",
       "      <th>heldSurface</th>\n",
       "      <th>constructionYear</th>\n",
       "      <th>propertyType</th>\n",
       "      <th>floorsNo</th>\n",
       "      <th>schoolInternalId</th>\n",
       "      <th>videoSurveillance</th>\n",
       "      <th>audioSurveillance</th>\n",
       "      <th>Numar_elevi_jud</th>\n",
       "    </tr>\n",
       "  </thead>\n",
       "  <tbody>\n",
       "    <tr>\n",
       "      <th>0</th>\n",
       "      <td>11269910</td>\n",
       "      <td>ARAD</td>\n",
       "      <td>ARAD</td>\n",
       "      <td>121-125 AUREL VLAICU, ARAD, judetul ARAD, 3103...</td>\n",
       "      <td>34136</td>\n",
       "      <td>C1</td>\n",
       "      <td>Gradinita Gosen Arad</td>\n",
       "      <td>1773.73</td>\n",
       "      <td>1469.00</td>\n",
       "      <td>1996</td>\n",
       "      <td>Folosință gratuită de la terți</td>\n",
       "      <td>2</td>\n",
       "      <td>10131270</td>\n",
       "      <td>False</td>\n",
       "      <td>False</td>\n",
       "      <td>211865</td>\n",
       "    </tr>\n",
       "    <tr>\n",
       "      <th>1</th>\n",
       "      <td>11256876</td>\n",
       "      <td>BUZAU</td>\n",
       "      <td>RÂMNICU SĂRAT</td>\n",
       "      <td>4 TOAMNEI, RÂMNICU SĂRAT, judetul BUZĂU, 12530...</td>\n",
       "      <td>38034</td>\n",
       "      <td>Corp1</td>\n",
       "      <td>Cladire scoala</td>\n",
       "      <td>483.00</td>\n",
       "      <td>164.00</td>\n",
       "      <td>1974</td>\n",
       "      <td>Închiriată</td>\n",
       "      <td>3</td>\n",
       "      <td>11192270</td>\n",
       "      <td>False</td>\n",
       "      <td>False</td>\n",
       "      <td>220068</td>\n",
       "    </tr>\n",
       "    <tr>\n",
       "      <th>2</th>\n",
       "      <td>11263103</td>\n",
       "      <td>MEHEDINTI</td>\n",
       "      <td>DROBETA-TURNU SEVERIN</td>\n",
       "      <td>94 Calomfirescu, DROBETA-TURNU SEVERIN, judetu...</td>\n",
       "      <td>17237</td>\n",
       "      <td>C1 - Cladire D+P</td>\n",
       "      <td>CASA CORPULUI DIDACTIC MEHEDINTI</td>\n",
       "      <td>269.00</td>\n",
       "      <td>538.00</td>\n",
       "      <td>1930</td>\n",
       "      <td>Folosință gratuită de la terți</td>\n",
       "      <td>1</td>\n",
       "      <td>10037858</td>\n",
       "      <td>True</td>\n",
       "      <td>False</td>\n",
       "      <td>119595</td>\n",
       "    </tr>\n",
       "    <tr>\n",
       "      <th>3</th>\n",
       "      <td>11263103</td>\n",
       "      <td>MEHEDINTI</td>\n",
       "      <td>DROBETA-TURNU SEVERIN</td>\n",
       "      <td>94 Calomfirescu, DROBETA-TURNU SEVERIN, judetu...</td>\n",
       "      <td>21973</td>\n",
       "      <td>C1 - ANEXA P+1</td>\n",
       "      <td>LABORATOR INFORMATICA</td>\n",
       "      <td>54.80</td>\n",
       "      <td>117.45</td>\n",
       "      <td>2010</td>\n",
       "      <td>Folosință gratuită de la terți</td>\n",
       "      <td>1</td>\n",
       "      <td>10037858</td>\n",
       "      <td>True</td>\n",
       "      <td>False</td>\n",
       "      <td>119595</td>\n",
       "    </tr>\n",
       "    <tr>\n",
       "      <th>4</th>\n",
       "      <td>11263103</td>\n",
       "      <td>MEHEDINTI</td>\n",
       "      <td>DROBETA-TURNU SEVERIN</td>\n",
       "      <td>94 Calomfirescu, DROBETA-TURNU SEVERIN, judetu...</td>\n",
       "      <td>22117</td>\n",
       "      <td>C1 - ANEXA P</td>\n",
       "      <td>SALI DE CURS</td>\n",
       "      <td>100.80</td>\n",
       "      <td>100.80</td>\n",
       "      <td>2006</td>\n",
       "      <td>Folosință gratuită de la terți</td>\n",
       "      <td>1</td>\n",
       "      <td>10037858</td>\n",
       "      <td>True</td>\n",
       "      <td>False</td>\n",
       "      <td>119595</td>\n",
       "    </tr>\n",
       "  </tbody>\n",
       "</table>\n",
       "</div>"
      ],
      "text/plain": [
       "   school_no      Judet               locality  \\\n",
       "0   11269910       ARAD                   ARAD   \n",
       "1   11256876      BUZAU          RÂMNICU SĂRAT   \n",
       "2   11263103  MEHEDINTI  DROBETA-TURNU SEVERIN   \n",
       "3   11263103  MEHEDINTI  DROBETA-TURNU SEVERIN   \n",
       "4   11263103  MEHEDINTI  DROBETA-TURNU SEVERIN   \n",
       "\n",
       "                                              Adresa     id      buildingCode  \\\n",
       "0  121-125 AUREL VLAICU, ARAD, judetul ARAD, 3103...  34136                C1   \n",
       "1  4 TOAMNEI, RÂMNICU SĂRAT, judetul BUZĂU, 12530...  38034             Corp1   \n",
       "2  94 Calomfirescu, DROBETA-TURNU SEVERIN, judetu...  17237  C1 - Cladire D+P   \n",
       "3  94 Calomfirescu, DROBETA-TURNU SEVERIN, judetu...  21973    C1 - ANEXA P+1   \n",
       "4  94 Calomfirescu, DROBETA-TURNU SEVERIN, judetu...  22117      C1 - ANEXA P   \n",
       "\n",
       "                buildingDescription  builtSurface  heldSurface  \\\n",
       "0              Gradinita Gosen Arad       1773.73      1469.00   \n",
       "1                    Cladire scoala        483.00       164.00   \n",
       "2  CASA CORPULUI DIDACTIC MEHEDINTI        269.00       538.00   \n",
       "3             LABORATOR INFORMATICA         54.80       117.45   \n",
       "4                      SALI DE CURS        100.80       100.80   \n",
       "\n",
       "   constructionYear                    propertyType  floorsNo  \\\n",
       "0              1996  Folosință gratuită de la terți         2   \n",
       "1              1974                      Închiriată         3   \n",
       "2              1930  Folosință gratuită de la terți         1   \n",
       "3              2010  Folosință gratuită de la terți         1   \n",
       "4              2006  Folosință gratuită de la terți         1   \n",
       "\n",
       "   schoolInternalId  videoSurveillance  audioSurveillance  Numar_elevi_jud  \n",
       "0          10131270              False              False           211865  \n",
       "1          11192270              False              False           220068  \n",
       "2          10037858               True              False           119595  \n",
       "3          10037858               True              False           119595  \n",
       "4          10037858               True              False           119595  "
      ]
     },
     "execution_count": 160,
     "metadata": {},
     "output_type": "execute_result"
    }
   ],
   "source": [
    "df.head()"
   ]
  },
  {
   "cell_type": "markdown",
   "id": "bc4f97a1-b4e3-4ea1-94bb-0a499b5783f0",
   "metadata": {},
   "source": [
    "#### Box plot"
   ]
  },
  {
   "cell_type": "code",
   "execution_count": 167,
   "id": "09e8bae0-a198-4e4b-a389-fc76be69016f",
   "metadata": {
    "tags": []
   },
   "outputs": [],
   "source": [
    "df_jud['Numar_elevi_jud_mii'] = df_jud['Numar_elevi_jud'] / 1000"
   ]
  },
  {
   "cell_type": "code",
   "execution_count": 168,
   "id": "0eb11114-1862-4264-ab63-106e1a2f83f9",
   "metadata": {
    "tags": []
   },
   "outputs": [
    {
     "data": {
      "text/plain": [
       "<Axes: xlabel='Numar_elevi_jud'>"
      ]
     },
     "execution_count": 168,
     "metadata": {},
     "output_type": "execute_result"
    },
    {
     "data": {
      "image/png": "[encoded data removed]",
      "text/plain": [
       "<Figure size 640x480 with 1 Axes>"
      ]
     },
     "metadata": {},
     "output_type": "display_data"
    }
   ],
   "source": [
    "var = 'Numar_elevi_jud'\n",
    "sns.boxplot(x= var, data = df)"
   ]
  },
  {
   "cell_type": "markdown",
   "id": "01d0285c-3ca0-4422-b0c3-b1ed8401e3c1",
   "metadata": {},
   "source": [
    "#### Violin plot"
   ]
  },
  {
   "cell_type": "code",
   "execution_count": 169,
   "id": "d5a5779f-9d54-42b7-bc88-3c3366eb80a8",
   "metadata": {
    "tags": []
   },
   "outputs": [
    {
     "data": {
      "text/plain": [
       "<Axes: xlabel='Numar_elevi_jud'>"
      ]
     },
     "execution_count": 169,
     "metadata": {},
     "output_type": "execute_result"
    },
    {
     "data": {
      "image/png": "[encoded data removed]",
      "text/plain": [
       "<Figure size 640x480 with 1 Axes>"
      ]
     },
     "metadata": {},
     "output_type": "display_data"
    }
   ],
   "source": [
    "sns.violinplot(x=var, data = df)"
   ]
  },
  {
   "cell_type": "markdown",
   "id": "ec4e0400-fca6-4289-877b-fd4758f49479",
   "metadata": {},
   "source": [
    "#### Kernel density plot"
   ]
  },
  {
   "cell_type": "code",
   "execution_count": 170,
   "id": "fe430851-358d-49a2-8168-8fc31d363823",
   "metadata": {
    "tags": []
   },
   "outputs": [
    {
     "data": {
      "image/png": "[encoded data removed]",
      "text/plain": [
       "<Figure size 640x480 with 1 Axes>"
      ]
     },
     "metadata": {},
     "output_type": "display_data"
    }
   ],
   "source": [
    "sns.kdeplot(df['Numar_elevi_jud'], fill = True, label = 'Numar_elevi_jud')\n",
    "sns.kdeplot(df['id'],  fill = True, label = 'id')\n",
    " \n",
    "plt.title('Numarul de elevi pe judete')\n",
    "plt.ylabel('Density')\n",
    "plt.show()"
   ]
  },
  {
   "cell_type": "markdown",
   "id": "54c1919f-19be-4579-a507-37235b284cb9",
   "metadata": {},
   "source": [
    "#### Rug plot"
   ]
  },
  {
   "cell_type": "code",
   "execution_count": 171,
   "id": "59d37a25-06e5-4659-9c45-fd95933b18a5",
   "metadata": {
    "tags": []
   },
   "outputs": [
    {
     "data": {
      "image/png": "[encoded data removed]",
      "text/plain": [
       "<Figure size 1400x600 with 1 Axes>"
      ]
     },
     "metadata": {},
     "output_type": "display_data"
    }
   ],
   "source": [
    "plt.figure(figsize=(14, 6))\n",
    "sns.rugplot(x='Numar_elevi_jud_mii', data=df_jud, height=0.1, alpha=0.5)\n",
    "plt.title('Numarul total de elevi pe judete')\n",
    "plt.xlabel('Numarul total de elevi')\n",
    "plt.show()"
   ]
  },
  {
   "cell_type": "markdown",
   "id": "2d865a28-6e18-4841-bf6c-14fe0e6d42f2",
   "metadata": {},
   "source": [
    "#### Bar plot"
   ]
  },
  {
   "cell_type": "code",
   "execution_count": 172,
   "id": "eda6e8b5-b646-4b9a-865f-e48499acfa71",
   "metadata": {
    "tags": []
   },
   "outputs": [
    {
     "data": {
      "image/png": "[encoded data removed]",
      "text/plain": [
       "<Figure size 1400x800 with 1 Axes>"
      ]
     },
     "metadata": {},
     "output_type": "display_data"
    }
   ],
   "source": [
    "plt.figure(figsize=(14, 8))\n",
    "sns.barplot(x='Judet', y='Numar_elevi_jud_mii', data=df_jud)\n",
    "plt.title('Numarul total de elevi pe judet')\n",
    "plt.xlabel('Judet')\n",
    "plt.ylabel('Numarul total de elevi')\n",
    "plt.xticks(rotation=45, ha='right')\n",
    "plt.show()"
   ]
  }
 ],
 "metadata": {
  "kernelspec": {
   "display_name": "Python 3 (ipykernel)",
   "language": "python",
   "name": "python3"
  },
  "language_info": {
   "codemirror_mode": {
    "name": "ipython",
    "version": 3
   },
   "file_extension": ".py",
   "mimetype": "text/x-python",
   "name": "python",
   "nbconvert_exporter": "python",
   "pygments_lexer": "ipython3",
   "version": "3.10.13"
  }
 },
 "nbformat": 4,
 "nbformat_minor": 5
}
