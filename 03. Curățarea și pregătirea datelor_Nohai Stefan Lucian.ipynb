{
 "cells": [
  {
   "cell_type": "markdown",
   "id": "693d9937-063b-4af6-b2a2-28cb0bce17d3",
   "metadata": {},
   "source": [
    "### 03. Curatarea si pregatirea datelor_ Nohai Stefan Lucian"
   ]
  },
  {
   "cell_type": "code",
   "execution_count": 1,
   "id": "e92eeed1-3a99-48bb-97c3-2a2e6c925a3e",
   "metadata": {
    "tags": []
   },
   "outputs": [],
   "source": [
    "import pandas as pd\n",
    "import numpy as np\n",
    "import json"
   ]
  },
  {
   "cell_type": "code",
   "execution_count": 2,
   "id": "b7f8a84e-f53e-4d99-b817-f4a96106436d",
   "metadata": {
    "tags": []
   },
   "outputs": [],
   "source": [
    "Imobile = pd.read_csv('Imobile.csv')"
   ]
  },
  {
   "cell_type": "code",
   "execution_count": 15,
   "id": "a9480673-ca21-4b66-853c-0f144e81c1a3",
   "metadata": {
    "tags": []
   },
   "outputs": [
    {
     "data": {
      "text/html": [
       "<div>\n",
       "<style scoped>\n",
       "    .dataframe tbody tr th:only-of-type {\n",
       "        vertical-align: middle;\n",
       "    }\n",
       "\n",
       "    .dataframe tbody tr th {\n",
       "        vertical-align: top;\n",
       "    }\n",
       "\n",
       "    .dataframe thead th {\n",
       "        text-align: right;\n",
       "    }\n",
       "</style>\n",
       "<table border=\"1\" class=\"dataframe\">\n",
       "  <thead>\n",
       "    <tr style=\"text-align: right;\">\n",
       "      <th></th>\n",
       "      <th>id</th>\n",
       "      <th>idSchool</th>\n",
       "      <th>buildingCode</th>\n",
       "      <th>buildingDescription</th>\n",
       "      <th>builtSurface</th>\n",
       "      <th>heldSurface</th>\n",
       "      <th>constructionYear</th>\n",
       "      <th>propertyType</th>\n",
       "      <th>floorsNo</th>\n",
       "      <th>schoolInternalId</th>\n",
       "      <th>videoSurveillance</th>\n",
       "      <th>audioSurveillance</th>\n",
       "      <th>locality</th>\n",
       "      <th>street</th>\n",
       "      <th>streetNumber</th>\n",
       "      <th>postalCode</th>\n",
       "      <th>idPhoto</th>\n",
       "      <th>Adresa</th>\n",
       "    </tr>\n",
       "  </thead>\n",
       "  <tbody>\n",
       "    <tr>\n",
       "      <th>0</th>\n",
       "      <td>34136</td>\n",
       "      <td>11269910</td>\n",
       "      <td>C1</td>\n",
       "      <td>Gradinita Gosen Arad</td>\n",
       "      <td>1773.73</td>\n",
       "      <td>1469.0</td>\n",
       "      <td>1996</td>\n",
       "      <td>Folosință gratuită de la terți</td>\n",
       "      <td>2</td>\n",
       "      <td>10131270</td>\n",
       "      <td>False</td>\n",
       "      <td>False</td>\n",
       "      <td>ARAD</td>\n",
       "      <td>Calea Aurel Vlaicu</td>\n",
       "      <td>121-125</td>\n",
       "      <td>310365.0</td>\n",
       "      <td>11685.0</td>\n",
       "      <td>121-125 Calea Aurel Vlaicu, ARAD, 310365, Romania</td>\n",
       "    </tr>\n",
       "    <tr>\n",
       "      <th>1</th>\n",
       "      <td>38034</td>\n",
       "      <td>11256876</td>\n",
       "      <td>Corp1</td>\n",
       "      <td>Cladire scoala</td>\n",
       "      <td>483.00</td>\n",
       "      <td>164.0</td>\n",
       "      <td>1974</td>\n",
       "      <td>Închiriată</td>\n",
       "      <td>3</td>\n",
       "      <td>11192270</td>\n",
       "      <td>False</td>\n",
       "      <td>False</td>\n",
       "      <td>RÂMNICU SĂRAT</td>\n",
       "      <td>TOAMNEI</td>\n",
       "      <td>4</td>\n",
       "      <td>125300.0</td>\n",
       "      <td>0.0</td>\n",
       "      <td>4 TOAMNEI, RÂMNICU SĂRAT, 125300, Romania</td>\n",
       "    </tr>\n",
       "    <tr>\n",
       "      <th>2</th>\n",
       "      <td>17237</td>\n",
       "      <td>11263103</td>\n",
       "      <td>C1 - Cladire D+P</td>\n",
       "      <td>CASA CORPULUI DIDACTIC MEHEDINTI</td>\n",
       "      <td>269.00</td>\n",
       "      <td>538.0</td>\n",
       "      <td>1930</td>\n",
       "      <td>Folosință gratuită de la terți</td>\n",
       "      <td>1</td>\n",
       "      <td>10037858</td>\n",
       "      <td>True</td>\n",
       "      <td>False</td>\n",
       "      <td>DROBETA-TURNU SEVERIN</td>\n",
       "      <td>CALOMFIRESCU</td>\n",
       "      <td>94</td>\n",
       "      <td>220127.0</td>\n",
       "      <td>0.0</td>\n",
       "      <td>94 CALOMFIRESCU, DROBETA-TURNU SEVERIN, 220127...</td>\n",
       "    </tr>\n",
       "  </tbody>\n",
       "</table>\n",
       "</div>"
      ],
      "text/plain": [
       "      id  idSchool      buildingCode               buildingDescription  \\\n",
       "0  34136  11269910                C1              Gradinita Gosen Arad   \n",
       "1  38034  11256876             Corp1                    Cladire scoala   \n",
       "2  17237  11263103  C1 - Cladire D+P  CASA CORPULUI DIDACTIC MEHEDINTI   \n",
       "\n",
       "   builtSurface  heldSurface  constructionYear  \\\n",
       "0       1773.73       1469.0              1996   \n",
       "1        483.00        164.0              1974   \n",
       "2        269.00        538.0              1930   \n",
       "\n",
       "                     propertyType  floorsNo  schoolInternalId  \\\n",
       "0  Folosință gratuită de la terți         2          10131270   \n",
       "1                      Închiriată         3          11192270   \n",
       "2  Folosință gratuită de la terți         1          10037858   \n",
       "\n",
       "   videoSurveillance  audioSurveillance               locality  \\\n",
       "0              False              False                   ARAD   \n",
       "1              False              False          RÂMNICU SĂRAT   \n",
       "2               True              False  DROBETA-TURNU SEVERIN   \n",
       "\n",
       "               street streetNumber  postalCode  idPhoto  \\\n",
       "0  Calea Aurel Vlaicu      121-125    310365.0  11685.0   \n",
       "1             TOAMNEI            4    125300.0      0.0   \n",
       "2        CALOMFIRESCU           94    220127.0      0.0   \n",
       "\n",
       "                                              Adresa  \n",
       "0  121-125 Calea Aurel Vlaicu, ARAD, 310365, Romania  \n",
       "1          4 TOAMNEI, RÂMNICU SĂRAT, 125300, Romania  \n",
       "2  94 CALOMFIRESCU, DROBETA-TURNU SEVERIN, 220127...  "
      ]
     },
     "execution_count": 15,
     "metadata": {},
     "output_type": "execute_result"
    }
   ],
   "source": [
    "Imobile.head(3)"
   ]
  },
  {
   "cell_type": "code",
   "execution_count": 17,
   "id": "80fa21ec-d3f1-49b8-aae9-ad24a4f5e9d9",
   "metadata": {},
   "outputs": [
    {
     "data": {
      "text/plain": [
       "3384"
      ]
     },
     "execution_count": 17,
     "metadata": {},
     "output_type": "execute_result"
    }
   ],
   "source": [
    "Imobile.locality.isnull().sum()"
   ]
  },
  {
   "cell_type": "code",
   "execution_count": 226,
   "id": "c27bac3b-4122-46da-ad87-668dd2cc8a19",
   "metadata": {
    "tags": []
   },
   "outputs": [],
   "source": [
    "#Avem multe valori missing pe locality si implicit pe adresa.\n",
    "#Pentru a nu sterge toate aceste inregistrari, aducem prin merge locality si adresa din school_details"
   ]
  },
  {
   "cell_type": "code",
   "execution_count": 48,
   "id": "070cfd24-a64f-466e-a4f7-1770dbf06d63",
   "metadata": {
    "tags": []
   },
   "outputs": [],
   "source": [
    "details = pd.read_csv(\"details.csv\")"
   ]
  },
  {
   "cell_type": "code",
   "execution_count": 49,
   "id": "b09fd15a-1f7e-469f-8e51-8aeb788385df",
   "metadata": {
    "tags": []
   },
   "outputs": [
    {
     "data": {
      "text/html": [
       "<div>\n",
       "<style scoped>\n",
       "    .dataframe tbody tr th:only-of-type {\n",
       "        vertical-align: middle;\n",
       "    }\n",
       "\n",
       "    .dataframe tbody tr th {\n",
       "        vertical-align: top;\n",
       "    }\n",
       "\n",
       "    .dataframe thead th {\n",
       "        text-align: right;\n",
       "    }\n",
       "</style>\n",
       "<table border=\"1\" class=\"dataframe\">\n",
       "  <thead>\n",
       "    <tr style=\"text-align: right;\">\n",
       "      <th></th>\n",
       "      <th>idSchool</th>\n",
       "      <th>internalIdSchool</th>\n",
       "      <th>idParentSchool</th>\n",
       "      <th>schoolSocialLinks</th>\n",
       "      <th>schoolYearDescription</th>\n",
       "      <th>code</th>\n",
       "      <th>siruesCode</th>\n",
       "      <th>longName</th>\n",
       "      <th>shortName</th>\n",
       "      <th>schoolType</th>\n",
       "      <th>...</th>\n",
       "      <th>propertyForm</th>\n",
       "      <th>fundingForm</th>\n",
       "      <th>county</th>\n",
       "      <th>locality</th>\n",
       "      <th>phoneNumber</th>\n",
       "      <th>faxNumber</th>\n",
       "      <th>email</th>\n",
       "      <th>SchoolYear</th>\n",
       "      <th>Web_Link</th>\n",
       "      <th>Adress</th>\n",
       "    </tr>\n",
       "  </thead>\n",
       "  <tbody>\n",
       "    <tr>\n",
       "      <th>0</th>\n",
       "      <td>11269910</td>\n",
       "      <td>10131270</td>\n",
       "      <td>NaN</td>\n",
       "      <td>[]</td>\n",
       "      <td>Anul şcolar 2018-2019</td>\n",
       "      <td>261200154</td>\n",
       "      <td>23054595</td>\n",
       "      <td>ASOCIAŢIA CREŞTINĂ DE CARITATE \"GOSEN\" ARAD/ G...</td>\n",
       "      <td>GRĂDINIŢA \"GOSEN\" ARAD</td>\n",
       "      <td>Unitate de învățământ</td>\n",
       "      <td>...</td>\n",
       "      <td>Privată</td>\n",
       "      <td>Sponsorizare</td>\n",
       "      <td>ARAD</td>\n",
       "      <td>ARAD</td>\n",
       "      <td>257272477.0</td>\n",
       "      <td>257272477.0</td>\n",
       "      <td>gradinitagosen@yahoo.com</td>\n",
       "      <td>2018-2019</td>\n",
       "      <td>NaN</td>\n",
       "      <td>121-125 AUREL VLAICU, ARAD, judetul ARAD, 3103...</td>\n",
       "    </tr>\n",
       "    <tr>\n",
       "      <th>1</th>\n",
       "      <td>11256876</td>\n",
       "      <td>11192270</td>\n",
       "      <td>NaN</td>\n",
       "      <td>[]</td>\n",
       "      <td>Anul şcolar 2018-2019</td>\n",
       "      <td>1061206943</td>\n",
       "      <td>NaN</td>\n",
       "      <td>ASOCIAȚIA PENTRU PROMOVAREA VALORILOR AUTENTIC...</td>\n",
       "      <td>ASOCIAȚIA VALORILOR BZ</td>\n",
       "      <td>Unitate de învățământ</td>\n",
       "      <td>...</td>\n",
       "      <td>Privată</td>\n",
       "      <td>Taxă</td>\n",
       "      <td>BUZĂU</td>\n",
       "      <td>RÂMNICU SĂRAT</td>\n",
       "      <td>762724000.0</td>\n",
       "      <td>238563970.0</td>\n",
       "      <td>secretariat@cnpaulescu.ro</td>\n",
       "      <td>2018-2019</td>\n",
       "      <td>NaN</td>\n",
       "      <td>4 TOAMNEI, RÂMNICU SĂRAT, judetul BUZĂU, 12530...</td>\n",
       "    </tr>\n",
       "    <tr>\n",
       "      <th>2</th>\n",
       "      <td>11256865</td>\n",
       "      <td>11192168</td>\n",
       "      <td>NaN</td>\n",
       "      <td>[]</td>\n",
       "      <td>Anul şcolar 2018-2019</td>\n",
       "      <td>1061206875</td>\n",
       "      <td>NaN</td>\n",
       "      <td>ASOCIAȚIA UMANITARĂ EDUSTAR BUZĂU</td>\n",
       "      <td>ASOCIATIA EDUSTAR</td>\n",
       "      <td>Unitate de învățământ</td>\n",
       "      <td>...</td>\n",
       "      <td>Privată</td>\n",
       "      <td>Taxă</td>\n",
       "      <td>BUZĂU</td>\n",
       "      <td>BUZĂU</td>\n",
       "      <td>773826330.0</td>\n",
       "      <td>238725913.0</td>\n",
       "      <td>luminitamusat2006@yahoo.com</td>\n",
       "      <td>2018-2019</td>\n",
       "      <td>NaN</td>\n",
       "      <td>14 STR. MIORITEI, BUZĂU, judetul BUZĂU, 120010...</td>\n",
       "    </tr>\n",
       "  </tbody>\n",
       "</table>\n",
       "<p>3 rows × 24 columns</p>\n",
       "</div>"
      ],
      "text/plain": [
       "   idSchool  internalIdSchool  idParentSchool schoolSocialLinks  \\\n",
       "0  11269910          10131270             NaN                []   \n",
       "1  11256876          11192270             NaN                []   \n",
       "2  11256865          11192168             NaN                []   \n",
       "\n",
       "   schoolYearDescription        code siruesCode  \\\n",
       "0  Anul şcolar 2018-2019   261200154   23054595   \n",
       "1  Anul şcolar 2018-2019  1061206943        NaN   \n",
       "2  Anul şcolar 2018-2019  1061206875        NaN   \n",
       "\n",
       "                                            longName               shortName  \\\n",
       "0  ASOCIAŢIA CREŞTINĂ DE CARITATE \"GOSEN\" ARAD/ G...  GRĂDINIŢA \"GOSEN\" ARAD   \n",
       "1  ASOCIAȚIA PENTRU PROMOVAREA VALORILOR AUTENTIC...  ASOCIAȚIA VALORILOR BZ   \n",
       "2                  ASOCIAȚIA UMANITARĂ EDUSTAR BUZĂU       ASOCIATIA EDUSTAR   \n",
       "\n",
       "              schoolType  ... propertyForm   fundingForm county  \\\n",
       "0  Unitate de învățământ  ...      Privată  Sponsorizare   ARAD   \n",
       "1  Unitate de învățământ  ...      Privată          Taxă  BUZĂU   \n",
       "2  Unitate de învățământ  ...      Privată          Taxă  BUZĂU   \n",
       "\n",
       "        locality  phoneNumber    faxNumber                        email  \\\n",
       "0           ARAD  257272477.0  257272477.0     gradinitagosen@yahoo.com   \n",
       "1  RÂMNICU SĂRAT  762724000.0  238563970.0    secretariat@cnpaulescu.ro   \n",
       "2          BUZĂU  773826330.0  238725913.0  luminitamusat2006@yahoo.com   \n",
       "\n",
       "  SchoolYear  Web_Link                                             Adress  \n",
       "0  2018-2019       NaN  121-125 AUREL VLAICU, ARAD, judetul ARAD, 3103...  \n",
       "1  2018-2019       NaN  4 TOAMNEI, RÂMNICU SĂRAT, judetul BUZĂU, 12530...  \n",
       "2  2018-2019       NaN  14 STR. MIORITEI, BUZĂU, judetul BUZĂU, 120010...  \n",
       "\n",
       "[3 rows x 24 columns]"
      ]
     },
     "execution_count": 49,
     "metadata": {},
     "output_type": "execute_result"
    }
   ],
   "source": [
    "details.head(3)"
   ]
  },
  {
   "cell_type": "code",
   "execution_count": 50,
   "id": "29f487a1-4d53-4f46-8732-f7d58273cb47",
   "metadata": {
    "tags": []
   },
   "outputs": [],
   "source": [
    "details.rename(columns = {'locality':'locality_details', 'Adress':'Adresa_details'}, inplace = True)"
   ]
  },
  {
   "cell_type": "code",
   "execution_count": 51,
   "id": "894881bb-5e05-4423-ad45-ebbd25f5228f",
   "metadata": {
    "tags": []
   },
   "outputs": [
    {
     "data": {
      "text/plain": [
       "Index(['idSchool', 'internalIdSchool', 'idParentSchool', 'schoolSocialLinks',\n",
       "       'schoolYearDescription', 'code', 'siruesCode', 'longName', 'shortName',\n",
       "       'schoolType', 'statut', 'isPj', 'fiscalCode', 'operatingMode',\n",
       "       'propertyForm', 'fundingForm', 'county', 'locality_details',\n",
       "       'phoneNumber', 'faxNumber', 'email', 'SchoolYear', 'Web_Link',\n",
       "       'Adresa_details'],\n",
       "      dtype='object')"
      ]
     },
     "execution_count": 51,
     "metadata": {},
     "output_type": "execute_result"
    }
   ],
   "source": [
    "details.columns"
   ]
  },
  {
   "cell_type": "code",
   "execution_count": 52,
   "id": "2f8c8b90-bd3d-4fb7-9338-2cca7f32731e",
   "metadata": {
    "tags": []
   },
   "outputs": [],
   "source": [
    "details.drop(columns = ['internalIdSchool', 'idParentSchool', 'schoolSocialLinks',\n",
    "       'schoolYearDescription', 'code', 'siruesCode', 'longName', 'shortName',\n",
    "       'schoolType', 'statut', 'isPj', 'fiscalCode', 'operatingMode',\n",
    "       'propertyForm', 'fundingForm' , 'phoneNumber',\n",
    "       'faxNumber', 'email', 'SchoolYear', 'Web_Link'], inplace = True)"
   ]
  },
  {
   "cell_type": "code",
   "execution_count": 53,
   "id": "63ef22d8-eece-4cfe-a974-451e3f0f5160",
   "metadata": {
    "tags": []
   },
   "outputs": [
    {
     "data": {
      "text/html": [
       "<div>\n",
       "<style scoped>\n",
       "    .dataframe tbody tr th:only-of-type {\n",
       "        vertical-align: middle;\n",
       "    }\n",
       "\n",
       "    .dataframe tbody tr th {\n",
       "        vertical-align: top;\n",
       "    }\n",
       "\n",
       "    .dataframe thead th {\n",
       "        text-align: right;\n",
       "    }\n",
       "</style>\n",
       "<table border=\"1\" class=\"dataframe\">\n",
       "  <thead>\n",
       "    <tr style=\"text-align: right;\">\n",
       "      <th></th>\n",
       "      <th>idSchool</th>\n",
       "      <th>county</th>\n",
       "      <th>locality_details</th>\n",
       "      <th>Adresa_details</th>\n",
       "    </tr>\n",
       "  </thead>\n",
       "  <tbody>\n",
       "    <tr>\n",
       "      <th>0</th>\n",
       "      <td>11269910</td>\n",
       "      <td>ARAD</td>\n",
       "      <td>ARAD</td>\n",
       "      <td>121-125 AUREL VLAICU, ARAD, judetul ARAD, 3103...</td>\n",
       "    </tr>\n",
       "    <tr>\n",
       "      <th>1</th>\n",
       "      <td>11256876</td>\n",
       "      <td>BUZĂU</td>\n",
       "      <td>RÂMNICU SĂRAT</td>\n",
       "      <td>4 TOAMNEI, RÂMNICU SĂRAT, judetul BUZĂU, 12530...</td>\n",
       "    </tr>\n",
       "    <tr>\n",
       "      <th>2</th>\n",
       "      <td>11256865</td>\n",
       "      <td>BUZĂU</td>\n",
       "      <td>BUZĂU</td>\n",
       "      <td>14 STR. MIORITEI, BUZĂU, judetul BUZĂU, 120010...</td>\n",
       "    </tr>\n",
       "  </tbody>\n",
       "</table>\n",
       "</div>"
      ],
      "text/plain": [
       "   idSchool county locality_details  \\\n",
       "0  11269910   ARAD             ARAD   \n",
       "1  11256876  BUZĂU    RÂMNICU SĂRAT   \n",
       "2  11256865  BUZĂU            BUZĂU   \n",
       "\n",
       "                                      Adresa_details  \n",
       "0  121-125 AUREL VLAICU, ARAD, judetul ARAD, 3103...  \n",
       "1  4 TOAMNEI, RÂMNICU SĂRAT, judetul BUZĂU, 12530...  \n",
       "2  14 STR. MIORITEI, BUZĂU, judetul BUZĂU, 120010...  "
      ]
     },
     "execution_count": 53,
     "metadata": {},
     "output_type": "execute_result"
    }
   ],
   "source": [
    "details.head(3)"
   ]
  },
  {
   "cell_type": "code",
   "execution_count": 54,
   "id": "54ae30f4-e95f-4295-99dc-8252e0aaac12",
   "metadata": {
    "tags": []
   },
   "outputs": [],
   "source": [
    "imobile_df = pd.merge(details, Imobile, on =\"idSchool\", how = \"inner\")"
   ]
  },
  {
   "cell_type": "code",
   "execution_count": 57,
   "id": "e476ca86-719a-4eae-844d-6eaa33146f98",
   "metadata": {
    "tags": []
   },
   "outputs": [
    {
     "data": {
      "text/html": [
       "<div>\n",
       "<style scoped>\n",
       "    .dataframe tbody tr th:only-of-type {\n",
       "        vertical-align: middle;\n",
       "    }\n",
       "\n",
       "    .dataframe tbody tr th {\n",
       "        vertical-align: top;\n",
       "    }\n",
       "\n",
       "    .dataframe thead th {\n",
       "        text-align: right;\n",
       "    }\n",
       "</style>\n",
       "<table border=\"1\" class=\"dataframe\">\n",
       "  <thead>\n",
       "    <tr style=\"text-align: right;\">\n",
       "      <th></th>\n",
       "      <th>idSchool</th>\n",
       "      <th>county</th>\n",
       "      <th>locality_details</th>\n",
       "      <th>Adresa_details</th>\n",
       "      <th>id</th>\n",
       "      <th>buildingCode</th>\n",
       "      <th>buildingDescription</th>\n",
       "      <th>builtSurface</th>\n",
       "      <th>heldSurface</th>\n",
       "      <th>constructionYear</th>\n",
       "      <th>...</th>\n",
       "      <th>floorsNo</th>\n",
       "      <th>schoolInternalId</th>\n",
       "      <th>videoSurveillance</th>\n",
       "      <th>audioSurveillance</th>\n",
       "      <th>locality</th>\n",
       "      <th>street</th>\n",
       "      <th>streetNumber</th>\n",
       "      <th>postalCode</th>\n",
       "      <th>idPhoto</th>\n",
       "      <th>Adresa</th>\n",
       "    </tr>\n",
       "  </thead>\n",
       "  <tbody>\n",
       "    <tr>\n",
       "      <th>0</th>\n",
       "      <td>11269910</td>\n",
       "      <td>ARAD</td>\n",
       "      <td>ARAD</td>\n",
       "      <td>121-125 AUREL VLAICU, ARAD, judetul ARAD, 3103...</td>\n",
       "      <td>34136</td>\n",
       "      <td>C1</td>\n",
       "      <td>Gradinita Gosen Arad</td>\n",
       "      <td>1773.73</td>\n",
       "      <td>1469.00</td>\n",
       "      <td>1996</td>\n",
       "      <td>...</td>\n",
       "      <td>2</td>\n",
       "      <td>10131270</td>\n",
       "      <td>False</td>\n",
       "      <td>False</td>\n",
       "      <td>ARAD</td>\n",
       "      <td>Calea Aurel Vlaicu</td>\n",
       "      <td>121-125</td>\n",
       "      <td>310365.0</td>\n",
       "      <td>11685.0</td>\n",
       "      <td>121-125 Calea Aurel Vlaicu, ARAD, 310365, Romania</td>\n",
       "    </tr>\n",
       "    <tr>\n",
       "      <th>1</th>\n",
       "      <td>11256876</td>\n",
       "      <td>BUZĂU</td>\n",
       "      <td>RÂMNICU SĂRAT</td>\n",
       "      <td>4 TOAMNEI, RÂMNICU SĂRAT, judetul BUZĂU, 12530...</td>\n",
       "      <td>38034</td>\n",
       "      <td>Corp1</td>\n",
       "      <td>Cladire scoala</td>\n",
       "      <td>483.00</td>\n",
       "      <td>164.00</td>\n",
       "      <td>1974</td>\n",
       "      <td>...</td>\n",
       "      <td>3</td>\n",
       "      <td>11192270</td>\n",
       "      <td>False</td>\n",
       "      <td>False</td>\n",
       "      <td>RÂMNICU SĂRAT</td>\n",
       "      <td>TOAMNEI</td>\n",
       "      <td>4</td>\n",
       "      <td>125300.0</td>\n",
       "      <td>0.0</td>\n",
       "      <td>4 TOAMNEI, RÂMNICU SĂRAT, 125300, Romania</td>\n",
       "    </tr>\n",
       "    <tr>\n",
       "      <th>2</th>\n",
       "      <td>11263103</td>\n",
       "      <td>MEHEDINŢI</td>\n",
       "      <td>DROBETA-TURNU SEVERIN</td>\n",
       "      <td>94 Calomfirescu, DROBETA-TURNU SEVERIN, judetu...</td>\n",
       "      <td>17237</td>\n",
       "      <td>C1 - Cladire D+P</td>\n",
       "      <td>CASA CORPULUI DIDACTIC MEHEDINTI</td>\n",
       "      <td>269.00</td>\n",
       "      <td>538.00</td>\n",
       "      <td>1930</td>\n",
       "      <td>...</td>\n",
       "      <td>1</td>\n",
       "      <td>10037858</td>\n",
       "      <td>True</td>\n",
       "      <td>False</td>\n",
       "      <td>DROBETA-TURNU SEVERIN</td>\n",
       "      <td>CALOMFIRESCU</td>\n",
       "      <td>94</td>\n",
       "      <td>220127.0</td>\n",
       "      <td>0.0</td>\n",
       "      <td>94 CALOMFIRESCU, DROBETA-TURNU SEVERIN, 220127...</td>\n",
       "    </tr>\n",
       "    <tr>\n",
       "      <th>3</th>\n",
       "      <td>11263103</td>\n",
       "      <td>MEHEDINŢI</td>\n",
       "      <td>DROBETA-TURNU SEVERIN</td>\n",
       "      <td>94 Calomfirescu, DROBETA-TURNU SEVERIN, judetu...</td>\n",
       "      <td>21973</td>\n",
       "      <td>C1 - ANEXA P+1</td>\n",
       "      <td>LABORATOR INFORMATICA</td>\n",
       "      <td>54.80</td>\n",
       "      <td>117.45</td>\n",
       "      <td>2010</td>\n",
       "      <td>...</td>\n",
       "      <td>1</td>\n",
       "      <td>10037858</td>\n",
       "      <td>True</td>\n",
       "      <td>False</td>\n",
       "      <td>NaN</td>\n",
       "      <td>NaN</td>\n",
       "      <td>NaN</td>\n",
       "      <td>NaN</td>\n",
       "      <td>0.0</td>\n",
       "      <td>None None, None, None, Romania</td>\n",
       "    </tr>\n",
       "    <tr>\n",
       "      <th>4</th>\n",
       "      <td>11263103</td>\n",
       "      <td>MEHEDINŢI</td>\n",
       "      <td>DROBETA-TURNU SEVERIN</td>\n",
       "      <td>94 Calomfirescu, DROBETA-TURNU SEVERIN, judetu...</td>\n",
       "      <td>22117</td>\n",
       "      <td>C1 - ANEXA P</td>\n",
       "      <td>SALI DE CURS</td>\n",
       "      <td>100.80</td>\n",
       "      <td>100.80</td>\n",
       "      <td>2006</td>\n",
       "      <td>...</td>\n",
       "      <td>1</td>\n",
       "      <td>10037858</td>\n",
       "      <td>True</td>\n",
       "      <td>False</td>\n",
       "      <td>NaN</td>\n",
       "      <td>NaN</td>\n",
       "      <td>NaN</td>\n",
       "      <td>NaN</td>\n",
       "      <td>0.0</td>\n",
       "      <td>None None, None, None, Romania</td>\n",
       "    </tr>\n",
       "  </tbody>\n",
       "</table>\n",
       "<p>5 rows × 21 columns</p>\n",
       "</div>"
      ],
      "text/plain": [
       "   idSchool     county       locality_details  \\\n",
       "0  11269910       ARAD                   ARAD   \n",
       "1  11256876      BUZĂU          RÂMNICU SĂRAT   \n",
       "2  11263103  MEHEDINŢI  DROBETA-TURNU SEVERIN   \n",
       "3  11263103  MEHEDINŢI  DROBETA-TURNU SEVERIN   \n",
       "4  11263103  MEHEDINŢI  DROBETA-TURNU SEVERIN   \n",
       "\n",
       "                                      Adresa_details     id      buildingCode  \\\n",
       "0  121-125 AUREL VLAICU, ARAD, judetul ARAD, 3103...  34136                C1   \n",
       "1  4 TOAMNEI, RÂMNICU SĂRAT, judetul BUZĂU, 12530...  38034             Corp1   \n",
       "2  94 Calomfirescu, DROBETA-TURNU SEVERIN, judetu...  17237  C1 - Cladire D+P   \n",
       "3  94 Calomfirescu, DROBETA-TURNU SEVERIN, judetu...  21973    C1 - ANEXA P+1   \n",
       "4  94 Calomfirescu, DROBETA-TURNU SEVERIN, judetu...  22117      C1 - ANEXA P   \n",
       "\n",
       "                buildingDescription  builtSurface  heldSurface  \\\n",
       "0              Gradinita Gosen Arad       1773.73      1469.00   \n",
       "1                    Cladire scoala        483.00       164.00   \n",
       "2  CASA CORPULUI DIDACTIC MEHEDINTI        269.00       538.00   \n",
       "3             LABORATOR INFORMATICA         54.80       117.45   \n",
       "4                      SALI DE CURS        100.80       100.80   \n",
       "\n",
       "   constructionYear  ... floorsNo  schoolInternalId  videoSurveillance  \\\n",
       "0              1996  ...        2          10131270              False   \n",
       "1              1974  ...        3          11192270              False   \n",
       "2              1930  ...        1          10037858               True   \n",
       "3              2010  ...        1          10037858               True   \n",
       "4              2006  ...        1          10037858               True   \n",
       "\n",
       "   audioSurveillance               locality              street streetNumber  \\\n",
       "0              False                   ARAD  Calea Aurel Vlaicu      121-125   \n",
       "1              False          RÂMNICU SĂRAT             TOAMNEI            4   \n",
       "2              False  DROBETA-TURNU SEVERIN        CALOMFIRESCU           94   \n",
       "3              False                    NaN                 NaN          NaN   \n",
       "4              False                    NaN                 NaN          NaN   \n",
       "\n",
       "  postalCode  idPhoto                                             Adresa  \n",
       "0   310365.0  11685.0  121-125 Calea Aurel Vlaicu, ARAD, 310365, Romania  \n",
       "1   125300.0      0.0          4 TOAMNEI, RÂMNICU SĂRAT, 125300, Romania  \n",
       "2   220127.0      0.0  94 CALOMFIRESCU, DROBETA-TURNU SEVERIN, 220127...  \n",
       "3        NaN      0.0                     None None, None, None, Romania  \n",
       "4        NaN      0.0                     None None, None, None, Romania  \n",
       "\n",
       "[5 rows x 21 columns]"
      ]
     },
     "execution_count": 57,
     "metadata": {},
     "output_type": "execute_result"
    }
   ],
   "source": [
    "imobile_df.head(5)"
   ]
  },
  {
   "cell_type": "code",
   "execution_count": 56,
   "id": "1f64dd9a-98f6-41ed-9445-60ad4e3ff39f",
   "metadata": {
    "tags": []
   },
   "outputs": [
    {
     "data": {
      "text/plain": [
       "0"
      ]
     },
     "execution_count": 56,
     "metadata": {},
     "output_type": "execute_result"
    }
   ],
   "source": [
    "imobile_df.locality_details.isnull().sum()"
   ]
  },
  {
   "cell_type": "code",
   "execution_count": 58,
   "id": "c3fa6544-564a-4ff2-bf0a-31d52c0b3bc8",
   "metadata": {
    "tags": []
   },
   "outputs": [
    {
     "data": {
      "text/plain": [
       "Index(['idSchool', 'county', 'locality_details', 'Adresa_details', 'id',\n",
       "       'buildingCode', 'buildingDescription', 'builtSurface', 'heldSurface',\n",
       "       'constructionYear', 'propertyType', 'floorsNo', 'schoolInternalId',\n",
       "       'videoSurveillance', 'audioSurveillance', 'locality', 'street',\n",
       "       'streetNumber', 'postalCode', 'idPhoto', 'Adresa'],\n",
       "      dtype='object')"
      ]
     },
     "execution_count": 58,
     "metadata": {},
     "output_type": "execute_result"
    }
   ],
   "source": [
    "imobile_df.columns"
   ]
  },
  {
   "cell_type": "code",
   "execution_count": null,
   "id": "9551eb03-33df-457d-9a52-b623b8d76e58",
   "metadata": {},
   "outputs": [],
   "source": [
    "#Redenumim coloanele"
   ]
  },
  {
   "cell_type": "code",
   "execution_count": 59,
   "id": "5781f38a-5e87-4459-9deb-bd3ce9186090",
   "metadata": {
    "tags": []
   },
   "outputs": [],
   "source": [
    "imobile_df.drop(columns = ['locality', 'street',\n",
    "       'streetNumber', 'postalCode', 'idPhoto', 'Adresa'], inplace = True)"
   ]
  },
  {
   "cell_type": "code",
   "execution_count": 64,
   "id": "963b01b1-0d20-4c01-861a-e19ebc6eeb2f",
   "metadata": {
    "tags": []
   },
   "outputs": [],
   "source": [
    "imobile_df.rename(columns = {'locality_details':'locality', 'Adress_details':'Adresa', 'county':'Judet'}, inplace = True)"
   ]
  },
  {
   "cell_type": "markdown",
   "id": "90b43f38-8991-4e1c-b419-041c843ab265",
   "metadata": {},
   "source": [
    "### Built and Held Surface"
   ]
  },
  {
   "cell_type": "code",
   "execution_count": 81,
   "id": "e8014b13-0001-46f1-995d-946f6d58530c",
   "metadata": {
    "tags": []
   },
   "outputs": [
    {
     "data": {
      "text/plain": [
       "8521         0.00\n",
       "4474         0.00\n",
       "4683         0.00\n",
       "4841         0.00\n",
       "23227        0.00\n",
       "           ...   \n",
       "1967      9990.00\n",
       "2219      9990.00\n",
       "19843     9990.00\n",
       "15826     9990.00\n",
       "1198     11570.11\n",
       "Name: builtSurface, Length: 31785, dtype: float64"
      ]
     },
     "execution_count": 81,
     "metadata": {},
     "output_type": "execute_result"
    }
   ],
   "source": [
    "imobile_df.builtSurface.sort_values()"
   ]
  },
  {
   "cell_type": "code",
   "execution_count": 82,
   "id": "13d5f5b6-bcea-4255-bc9f-84a720994ffb",
   "metadata": {
    "tags": []
   },
   "outputs": [
    {
     "data": {
      "text/plain": [
       "20093        0.0\n",
       "6169         0.0\n",
       "5081         0.0\n",
       "4415         0.0\n",
       "5085         0.0\n",
       "          ...   \n",
       "23507    36000.0\n",
       "11684    37198.0\n",
       "6106     45195.0\n",
       "17691    52540.0\n",
       "10633    61605.0\n",
       "Name: heldSurface, Length: 31785, dtype: float64"
      ]
     },
     "execution_count": 82,
     "metadata": {},
     "output_type": "execute_result"
    }
   ],
   "source": [
    "imobile_df.heldSurface.sort_values()"
   ]
  },
  {
   "cell_type": "code",
   "execution_count": null,
   "id": "cee666d9-05ee-4820-85d7-419875ef17d4",
   "metadata": {},
   "outputs": [],
   "source": [
    "#Avem inregistrari cu suprafata 0 pe cel putin una din variabile ce masoara suprafata.\n",
    "#Aflam cate inregistrari sunt cu valoarea 0 pe ambele variabile ce masoara suprafata si le eliminam din baza de date"
   ]
  },
  {
   "cell_type": "code",
   "execution_count": 74,
   "id": "79da6c5a-adb3-41f2-a428-8716a15d506b",
   "metadata": {
    "tags": []
   },
   "outputs": [
    {
     "data": {
      "text/plain": [
       "idSchool               126\n",
       "Judet                  126\n",
       "locality               126\n",
       "Adresa_details         126\n",
       "id                     126\n",
       "buildingCode           126\n",
       "buildingDescription    126\n",
       "builtSurface           126\n",
       "heldSurface            126\n",
       "constructionYear       126\n",
       "propertyType           126\n",
       "floorsNo               126\n",
       "schoolInternalId       126\n",
       "videoSurveillance      126\n",
       "audioSurveillance      126\n",
       "dtype: int64"
      ]
     },
     "execution_count": 74,
     "metadata": {},
     "output_type": "execute_result"
    }
   ],
   "source": [
    "imobile_df[(imobile_df.builtSurface == 0) & (imobile_df.heldSurface == 0)].count()"
   ]
  },
  {
   "cell_type": "code",
   "execution_count": 85,
   "id": "e88c8789-df95-4343-a630-2fd51fa6446c",
   "metadata": {
    "tags": []
   },
   "outputs": [
    {
     "data": {
      "text/plain": [
       "126"
      ]
     },
     "execution_count": 85,
     "metadata": {},
     "output_type": "execute_result"
    }
   ],
   "source": [
    "surface0_index = imobile_df[(imobile_df['builtSurface'] == 0) & (imobile_df['heldSurface'] == 0)].index\n",
    "\n",
    "len(surface0_index)"
   ]
  },
  {
   "cell_type": "code",
   "execution_count": 86,
   "id": "c1eaafe7-105b-40d8-85b9-17aa9ae9f776",
   "metadata": {
    "tags": []
   },
   "outputs": [],
   "source": [
    "imobile_df.drop(surface0_index, inplace = True)"
   ]
  },
  {
   "cell_type": "code",
   "execution_count": 89,
   "id": "a599b80b-7be9-45b8-9949-eafc15257751",
   "metadata": {
    "collapsed": true,
    "jupyter": {
     "outputs_hidden": true
    },
    "tags": []
   },
   "outputs": [
    {
     "data": {
      "text/html": [
       "<div>\n",
       "<style scoped>\n",
       "    .dataframe tbody tr th:only-of-type {\n",
       "        vertical-align: middle;\n",
       "    }\n",
       "\n",
       "    .dataframe tbody tr th {\n",
       "        vertical-align: top;\n",
       "    }\n",
       "\n",
       "    .dataframe thead th {\n",
       "        text-align: right;\n",
       "    }\n",
       "</style>\n",
       "<table border=\"1\" class=\"dataframe\">\n",
       "  <thead>\n",
       "    <tr style=\"text-align: right;\">\n",
       "      <th></th>\n",
       "      <th>idSchool</th>\n",
       "      <th>Judet</th>\n",
       "      <th>locality</th>\n",
       "      <th>Adresa_details</th>\n",
       "      <th>id</th>\n",
       "      <th>buildingCode</th>\n",
       "      <th>buildingDescription</th>\n",
       "      <th>builtSurface</th>\n",
       "      <th>heldSurface</th>\n",
       "      <th>constructionYear</th>\n",
       "      <th>propertyType</th>\n",
       "      <th>floorsNo</th>\n",
       "      <th>schoolInternalId</th>\n",
       "      <th>videoSurveillance</th>\n",
       "      <th>audioSurveillance</th>\n",
       "    </tr>\n",
       "  </thead>\n",
       "  <tbody>\n",
       "    <tr>\n",
       "      <th>0</th>\n",
       "      <td>11269910</td>\n",
       "      <td>ARAD</td>\n",
       "      <td>ARAD</td>\n",
       "      <td>121-125 AUREL VLAICU, ARAD, judetul ARAD, 3103...</td>\n",
       "      <td>34136</td>\n",
       "      <td>C1</td>\n",
       "      <td>Gradinita Gosen Arad</td>\n",
       "      <td>1773.73</td>\n",
       "      <td>1469.00</td>\n",
       "      <td>1996</td>\n",
       "      <td>Folosință gratuită de la terți</td>\n",
       "      <td>2</td>\n",
       "      <td>10131270</td>\n",
       "      <td>False</td>\n",
       "      <td>False</td>\n",
       "    </tr>\n",
       "    <tr>\n",
       "      <th>1</th>\n",
       "      <td>11256876</td>\n",
       "      <td>BUZĂU</td>\n",
       "      <td>RÂMNICU SĂRAT</td>\n",
       "      <td>4 TOAMNEI, RÂMNICU SĂRAT, judetul BUZĂU, 12530...</td>\n",
       "      <td>38034</td>\n",
       "      <td>Corp1</td>\n",
       "      <td>Cladire scoala</td>\n",
       "      <td>483.00</td>\n",
       "      <td>164.00</td>\n",
       "      <td>1974</td>\n",
       "      <td>Închiriată</td>\n",
       "      <td>3</td>\n",
       "      <td>11192270</td>\n",
       "      <td>False</td>\n",
       "      <td>False</td>\n",
       "    </tr>\n",
       "    <tr>\n",
       "      <th>2</th>\n",
       "      <td>11263103</td>\n",
       "      <td>MEHEDINŢI</td>\n",
       "      <td>DROBETA-TURNU SEVERIN</td>\n",
       "      <td>94 Calomfirescu, DROBETA-TURNU SEVERIN, judetu...</td>\n",
       "      <td>17237</td>\n",
       "      <td>C1 - Cladire D+P</td>\n",
       "      <td>CASA CORPULUI DIDACTIC MEHEDINTI</td>\n",
       "      <td>269.00</td>\n",
       "      <td>538.00</td>\n",
       "      <td>1930</td>\n",
       "      <td>Folosință gratuită de la terți</td>\n",
       "      <td>1</td>\n",
       "      <td>10037858</td>\n",
       "      <td>True</td>\n",
       "      <td>False</td>\n",
       "    </tr>\n",
       "    <tr>\n",
       "      <th>3</th>\n",
       "      <td>11263103</td>\n",
       "      <td>MEHEDINŢI</td>\n",
       "      <td>DROBETA-TURNU SEVERIN</td>\n",
       "      <td>94 Calomfirescu, DROBETA-TURNU SEVERIN, judetu...</td>\n",
       "      <td>21973</td>\n",
       "      <td>C1 - ANEXA P+1</td>\n",
       "      <td>LABORATOR INFORMATICA</td>\n",
       "      <td>54.80</td>\n",
       "      <td>117.45</td>\n",
       "      <td>2010</td>\n",
       "      <td>Folosință gratuită de la terți</td>\n",
       "      <td>1</td>\n",
       "      <td>10037858</td>\n",
       "      <td>True</td>\n",
       "      <td>False</td>\n",
       "    </tr>\n",
       "    <tr>\n",
       "      <th>4</th>\n",
       "      <td>11263103</td>\n",
       "      <td>MEHEDINŢI</td>\n",
       "      <td>DROBETA-TURNU SEVERIN</td>\n",
       "      <td>94 Calomfirescu, DROBETA-TURNU SEVERIN, judetu...</td>\n",
       "      <td>22117</td>\n",
       "      <td>C1 - ANEXA P</td>\n",
       "      <td>SALI DE CURS</td>\n",
       "      <td>100.80</td>\n",
       "      <td>100.80</td>\n",
       "      <td>2006</td>\n",
       "      <td>Folosință gratuită de la terți</td>\n",
       "      <td>1</td>\n",
       "      <td>10037858</td>\n",
       "      <td>True</td>\n",
       "      <td>False</td>\n",
       "    </tr>\n",
       "  </tbody>\n",
       "</table>\n",
       "</div>"
      ],
      "text/plain": [
       "   idSchool      Judet               locality  \\\n",
       "0  11269910       ARAD                   ARAD   \n",
       "1  11256876      BUZĂU          RÂMNICU SĂRAT   \n",
       "2  11263103  MEHEDINŢI  DROBETA-TURNU SEVERIN   \n",
       "3  11263103  MEHEDINŢI  DROBETA-TURNU SEVERIN   \n",
       "4  11263103  MEHEDINŢI  DROBETA-TURNU SEVERIN   \n",
       "\n",
       "                                      Adresa_details     id      buildingCode  \\\n",
       "0  121-125 AUREL VLAICU, ARAD, judetul ARAD, 3103...  34136                C1   \n",
       "1  4 TOAMNEI, RÂMNICU SĂRAT, judetul BUZĂU, 12530...  38034             Corp1   \n",
       "2  94 Calomfirescu, DROBETA-TURNU SEVERIN, judetu...  17237  C1 - Cladire D+P   \n",
       "3  94 Calomfirescu, DROBETA-TURNU SEVERIN, judetu...  21973    C1 - ANEXA P+1   \n",
       "4  94 Calomfirescu, DROBETA-TURNU SEVERIN, judetu...  22117      C1 - ANEXA P   \n",
       "\n",
       "                buildingDescription  builtSurface  heldSurface  \\\n",
       "0              Gradinita Gosen Arad       1773.73      1469.00   \n",
       "1                    Cladire scoala        483.00       164.00   \n",
       "2  CASA CORPULUI DIDACTIC MEHEDINTI        269.00       538.00   \n",
       "3             LABORATOR INFORMATICA         54.80       117.45   \n",
       "4                      SALI DE CURS        100.80       100.80   \n",
       "\n",
       "   constructionYear                    propertyType  floorsNo  \\\n",
       "0              1996  Folosință gratuită de la terți         2   \n",
       "1              1974                      Închiriată         3   \n",
       "2              1930  Folosință gratuită de la terți         1   \n",
       "3              2010  Folosință gratuită de la terți         1   \n",
       "4              2006  Folosință gratuită de la terți         1   \n",
       "\n",
       "   schoolInternalId  videoSurveillance  audioSurveillance  \n",
       "0          10131270              False              False  \n",
       "1          11192270              False              False  \n",
       "2          10037858               True              False  \n",
       "3          10037858               True              False  \n",
       "4          10037858               True              False  "
      ]
     },
     "execution_count": 89,
     "metadata": {},
     "output_type": "execute_result"
    }
   ],
   "source": [
    "imobile_df.head(5)"
   ]
  },
  {
   "cell_type": "markdown",
   "id": "1d8a5a4b-e1ae-4592-8263-e26cf34f83b3",
   "metadata": {
    "tags": []
   },
   "source": [
    "### Pop_data\n",
    "#aducem baza de date pop_data"
   ]
  },
  {
   "cell_type": "code",
   "execution_count": 91,
   "id": "ec0cbda2-4774-46b3-882b-cc67d09a9a92",
   "metadata": {
    "tags": []
   },
   "outputs": [],
   "source": [
    "elevi_df = pd.read_csv('pop_data.csv')"
   ]
  },
  {
   "cell_type": "code",
   "execution_count": 92,
   "id": "02661f46-1e1d-469a-8cb3-f307d5482b0a",
   "metadata": {
    "tags": []
   },
   "outputs": [
    {
     "data": {
      "text/html": [
       "<div>\n",
       "<style scoped>\n",
       "    .dataframe tbody tr th:only-of-type {\n",
       "        vertical-align: middle;\n",
       "    }\n",
       "\n",
       "    .dataframe tbody tr th {\n",
       "        vertical-align: top;\n",
       "    }\n",
       "\n",
       "    .dataframe thead th {\n",
       "        text-align: right;\n",
       "    }\n",
       "</style>\n",
       "<table border=\"1\" class=\"dataframe\">\n",
       "  <thead>\n",
       "    <tr style=\"text-align: right;\">\n",
       "      <th></th>\n",
       "      <th>Niveluri de educatie</th>\n",
       "      <th>Judete</th>\n",
       "      <th>Ani</th>\n",
       "      <th>Populatie</th>\n",
       "    </tr>\n",
       "  </thead>\n",
       "  <tbody>\n",
       "    <tr>\n",
       "      <th>0</th>\n",
       "      <td>Copii inscrisi in gradinite</td>\n",
       "      <td>Alba</td>\n",
       "      <td>1992</td>\n",
       "      <td>17142</td>\n",
       "    </tr>\n",
       "    <tr>\n",
       "      <th>1</th>\n",
       "      <td>Copii inscrisi in gradinite</td>\n",
       "      <td>Alba</td>\n",
       "      <td>1993</td>\n",
       "      <td>16255</td>\n",
       "    </tr>\n",
       "    <tr>\n",
       "      <th>2</th>\n",
       "      <td>Copii inscrisi in gradinite</td>\n",
       "      <td>Alba</td>\n",
       "      <td>1994</td>\n",
       "      <td>15501</td>\n",
       "    </tr>\n",
       "  </tbody>\n",
       "</table>\n",
       "</div>"
      ],
      "text/plain": [
       "          Niveluri de educatie Judete   Ani  Populatie\n",
       "0  Copii inscrisi in gradinite   Alba  1992      17142\n",
       "1  Copii inscrisi in gradinite   Alba  1993      16255\n",
       "2  Copii inscrisi in gradinite   Alba  1994      15501"
      ]
     },
     "execution_count": 92,
     "metadata": {},
     "output_type": "execute_result"
    }
   ],
   "source": [
    "elevi_df.head(3)"
   ]
  },
  {
   "cell_type": "code",
   "execution_count": 95,
   "id": "60363f2d-8d7c-41b9-8d4e-4fe2348fab49",
   "metadata": {
    "tags": []
   },
   "outputs": [
    {
     "data": {
      "text/plain": [
       "0        1992\n",
       "3131     1992\n",
       "3100     1992\n",
       "3069     1992\n",
       "13459    1992\n",
       "         ... \n",
       "6967     2022\n",
       "6957     2022\n",
       "6947     2022\n",
       "6927     2022\n",
       "13771    2022\n",
       "Name: Ani, Length: 13772, dtype: int64"
      ]
     },
     "execution_count": 95,
     "metadata": {},
     "output_type": "execute_result"
    }
   ],
   "source": [
    "elevi_df.Ani.sort_values()"
   ]
  },
  {
   "cell_type": "code",
   "execution_count": 98,
   "id": "9af515d8-61f6-4ecc-b3dc-57fae1d53c63",
   "metadata": {
    "tags": []
   },
   "outputs": [
    {
     "data": {
      "text/plain": [
       "Niveluri de educatie    object\n",
       "Judete                  object\n",
       "Ani                      int64\n",
       "Populatie                int64\n",
       "dtype: object"
      ]
     },
     "execution_count": 98,
     "metadata": {},
     "output_type": "execute_result"
    }
   ],
   "source": [
    "elevi_df.dtypes"
   ]
  },
  {
   "cell_type": "code",
   "execution_count": 101,
   "id": "4f7e66f7-7eb1-40bd-940b-d45ed61022a1",
   "metadata": {
    "tags": []
   },
   "outputs": [],
   "source": [
    "elevi_df['Ani'] = pd.to_numeric(elevi_df['Ani'], errors = 'coerce')\n",
    "elevi_df['Populatie'] = pd.to_numeric(elevi_df['Populatie'], errors = 'coerce')"
   ]
  },
  {
   "cell_type": "code",
   "execution_count": 102,
   "id": "eb5b841c-1796-4ece-9bdc-80255aee2fee",
   "metadata": {
    "tags": []
   },
   "outputs": [
    {
     "data": {
      "text/plain": [
       "Niveluri de educatie    object\n",
       "Judete                  object\n",
       "Ani                      int64\n",
       "Populatie                int64\n",
       "dtype: object"
      ]
     },
     "execution_count": 102,
     "metadata": {},
     "output_type": "execute_result"
    }
   ],
   "source": [
    "elevi_df.dtypes"
   ]
  },
  {
   "cell_type": "code",
   "execution_count": 103,
   "id": "76fa7932-86e1-49e7-ae32-bc1b18a50c54",
   "metadata": {
    "tags": []
   },
   "outputs": [],
   "source": [
    "#pastram doar datele de la nivelul anului 2019"
   ]
  },
  {
   "cell_type": "code",
   "execution_count": 104,
   "id": "2b1a2a5e-34c1-4663-a641-b6e0c04c6f87",
   "metadata": {
    "tags": []
   },
   "outputs": [],
   "source": [
    "elevi_2019 = elevi_df[elevi_df['Ani'] == 2019]"
   ]
  },
  {
   "cell_type": "code",
   "execution_count": 106,
   "id": "55e535b8-0488-4a3a-8a09-78d638a9b7ab",
   "metadata": {
    "tags": []
   },
   "outputs": [
    {
     "data": {
      "text/html": [
       "<div>\n",
       "<style scoped>\n",
       "    .dataframe tbody tr th:only-of-type {\n",
       "        vertical-align: middle;\n",
       "    }\n",
       "\n",
       "    .dataframe tbody tr th {\n",
       "        vertical-align: top;\n",
       "    }\n",
       "\n",
       "    .dataframe thead th {\n",
       "        text-align: right;\n",
       "    }\n",
       "</style>\n",
       "<table border=\"1\" class=\"dataframe\">\n",
       "  <thead>\n",
       "    <tr style=\"text-align: right;\">\n",
       "      <th></th>\n",
       "      <th>Niveluri de educatie</th>\n",
       "      <th>Judete</th>\n",
       "      <th>Ani</th>\n",
       "      <th>Populatie</th>\n",
       "    </tr>\n",
       "  </thead>\n",
       "  <tbody>\n",
       "    <tr>\n",
       "      <th>13623</th>\n",
       "      <td>Elevi inscrisi in invatamantul  de maistri</td>\n",
       "      <td>Timis</td>\n",
       "      <td>2019</td>\n",
       "      <td>106</td>\n",
       "    </tr>\n",
       "    <tr>\n",
       "      <th>13653</th>\n",
       "      <td>Elevi inscrisi in invatamantul  de maistri</td>\n",
       "      <td>Tulcea</td>\n",
       "      <td>2019</td>\n",
       "      <td>31</td>\n",
       "    </tr>\n",
       "    <tr>\n",
       "      <th>13681</th>\n",
       "      <td>Elevi inscrisi in invatamantul  de maistri</td>\n",
       "      <td>Vaslui</td>\n",
       "      <td>2019</td>\n",
       "      <td>53</td>\n",
       "    </tr>\n",
       "    <tr>\n",
       "      <th>13712</th>\n",
       "      <td>Elevi inscrisi in invatamantul  de maistri</td>\n",
       "      <td>Valcea</td>\n",
       "      <td>2019</td>\n",
       "      <td>93</td>\n",
       "    </tr>\n",
       "    <tr>\n",
       "      <th>13768</th>\n",
       "      <td>Elevi inscrisi in invatamantul  de maistri</td>\n",
       "      <td>Municipiul Bucuresti</td>\n",
       "      <td>2019</td>\n",
       "      <td>272</td>\n",
       "    </tr>\n",
       "  </tbody>\n",
       "</table>\n",
       "</div>"
      ],
      "text/plain": [
       "                             Niveluri de educatie                 Judete  \\\n",
       "13623  Elevi inscrisi in invatamantul  de maistri                  Timis   \n",
       "13653  Elevi inscrisi in invatamantul  de maistri                 Tulcea   \n",
       "13681  Elevi inscrisi in invatamantul  de maistri                 Vaslui   \n",
       "13712  Elevi inscrisi in invatamantul  de maistri                 Valcea   \n",
       "13768  Elevi inscrisi in invatamantul  de maistri   Municipiul Bucuresti   \n",
       "\n",
       "        Ani  Populatie  \n",
       "13623  2019        106  \n",
       "13653  2019         31  \n",
       "13681  2019         53  \n",
       "13712  2019         93  \n",
       "13768  2019        272  "
      ]
     },
     "execution_count": 106,
     "metadata": {},
     "output_type": "execute_result"
    }
   ],
   "source": [
    "elevi_2019.tail(5)"
   ]
  },
  {
   "cell_type": "code",
   "execution_count": 108,
   "id": "2b64cb52-2f5a-487f-8e70-c6a71e118aa8",
   "metadata": {
    "tags": []
   },
   "outputs": [
    {
     "name": "stderr",
     "output_type": "stream",
     "text": [
      "C:\\Users\\lucno\\AppData\\Local\\Temp\\ipykernel_11996\\3566225874.py:1: SettingWithCopyWarning: \n",
      "A value is trying to be set on a copy of a slice from a DataFrame\n",
      "\n",
      "See the caveats in the documentation: https://pandas.pydata.org/pandas-docs/stable/user_guide/indexing.html#returning-a-view-versus-a-copy\n",
      "  elevi_2019.drop(columns = ['Ani'], inplace = True)\n",
      "C:\\Users\\lucno\\AppData\\Local\\Temp\\ipykernel_11996\\3566225874.py:2: SettingWithCopyWarning: \n",
      "A value is trying to be set on a copy of a slice from a DataFrame\n",
      "\n",
      "See the caveats in the documentation: https://pandas.pydata.org/pandas-docs/stable/user_guide/indexing.html#returning-a-view-versus-a-copy\n",
      "  elevi_2019.rename(columns = {'Niveluri de educatie':'Nivel_educatie', 'Judete':'Judet', 'Populatie':'Numar_elevi'}, inplace = True)\n"
     ]
    }
   ],
   "source": [
    "elevi_2019.drop(columns = ['Ani'], inplace = True)\n",
    "elevi_2019.rename(columns = {'Niveluri de educatie':'Nivel_educatie', 'Judete':'Judet', 'Populatie':'Numar_elevi'}, inplace = True)"
   ]
  },
  {
   "cell_type": "code",
   "execution_count": 111,
   "id": "69698546-9139-43ab-a31a-8f922736cb51",
   "metadata": {
    "tags": []
   },
   "outputs": [
    {
     "data": {
      "text/html": [
       "<div>\n",
       "<style scoped>\n",
       "    .dataframe tbody tr th:only-of-type {\n",
       "        vertical-align: middle;\n",
       "    }\n",
       "\n",
       "    .dataframe tbody tr th {\n",
       "        vertical-align: top;\n",
       "    }\n",
       "\n",
       "    .dataframe thead th {\n",
       "        text-align: right;\n",
       "    }\n",
       "</style>\n",
       "<table border=\"1\" class=\"dataframe\">\n",
       "  <thead>\n",
       "    <tr style=\"text-align: right;\">\n",
       "      <th></th>\n",
       "      <th>Nivel_educatie</th>\n",
       "      <th>Judet</th>\n",
       "      <th>Numar_elevi</th>\n",
       "    </tr>\n",
       "  </thead>\n",
       "  <tbody>\n",
       "    <tr>\n",
       "      <th>27</th>\n",
       "      <td>Copii inscrisi in gradinite</td>\n",
       "      <td>Alba</td>\n",
       "      <td>8366</td>\n",
       "    </tr>\n",
       "    <tr>\n",
       "      <th>58</th>\n",
       "      <td>Copii inscrisi in gradinite</td>\n",
       "      <td>Arad</td>\n",
       "      <td>11257</td>\n",
       "    </tr>\n",
       "    <tr>\n",
       "      <th>89</th>\n",
       "      <td>Copii inscrisi in gradinite</td>\n",
       "      <td>Arges</td>\n",
       "      <td>16163</td>\n",
       "    </tr>\n",
       "    <tr>\n",
       "      <th>120</th>\n",
       "      <td>Copii inscrisi in gradinite</td>\n",
       "      <td>Bacau</td>\n",
       "      <td>16305</td>\n",
       "    </tr>\n",
       "    <tr>\n",
       "      <th>151</th>\n",
       "      <td>Copii inscrisi in gradinite</td>\n",
       "      <td>Bihor</td>\n",
       "      <td>17073</td>\n",
       "    </tr>\n",
       "  </tbody>\n",
       "</table>\n",
       "</div>"
      ],
      "text/plain": [
       "                  Nivel_educatie   Judet  Numar_elevi\n",
       "27   Copii inscrisi in gradinite    Alba         8366\n",
       "58   Copii inscrisi in gradinite    Arad        11257\n",
       "89   Copii inscrisi in gradinite   Arges        16163\n",
       "120  Copii inscrisi in gradinite   Bacau        16305\n",
       "151  Copii inscrisi in gradinite   Bihor        17073"
      ]
     },
     "execution_count": 111,
     "metadata": {},
     "output_type": "execute_result"
    }
   ],
   "source": [
    "elevi_2019.head(5)"
   ]
  },
  {
   "cell_type": "markdown",
   "id": "a8cd9780-95a2-428f-ad38-533f69bc4a52",
   "metadata": {
    "tags": []
   },
   "source": [
    "### Unirea bazelor de date\n",
    "#pentru a putea uni cele doua baze de date, trebuie sa agregam datele pe judete pentru a avea o singura valoare pe fiecare judet"
   ]
  },
  {
   "cell_type": "code",
   "execution_count": 113,
   "id": "4409d094-9366-4cc7-ad77-c9ede5f03f4f",
   "metadata": {
    "tags": []
   },
   "outputs": [
    {
     "data": {
      "text/plain": [
       "<pandas.core.groupby.generic.DataFrameGroupBy object at 0x00000274CCC36650>"
      ]
     },
     "execution_count": 113,
     "metadata": {},
     "output_type": "execute_result"
    }
   ],
   "source": [
    "elevi_2019.groupby('Judet')"
   ]
  },
  {
   "cell_type": "code",
   "execution_count": 115,
   "id": "94f6b520-f04b-461f-8d5a-c916f18da4bf",
   "metadata": {
    "tags": []
   },
   "outputs": [],
   "source": [
    "aggregations = {'Nivel_educatie': 'nunique',\n",
    "                'Numar_elevi' : 'sum'}\n",
    "elevi_jud = elevi_2019.groupby(['Judet']).agg(aggregations).reset_index()"
   ]
  },
  {
   "cell_type": "code",
   "execution_count": 120,
   "id": "42c7138f-aab2-4bac-9760-ec4826cbd6d6",
   "metadata": {
    "tags": []
   },
   "outputs": [],
   "source": [
    "elevi_jud.drop(columns = ['Nivel_educatie'], inplace = True)"
   ]
  },
  {
   "cell_type": "code",
   "execution_count": 121,
   "id": "79890f5c-9258-4555-b54d-cd67c2b5b8f2",
   "metadata": {
    "tags": []
   },
   "outputs": [
    {
     "data": {
      "text/html": [
       "<div>\n",
       "<style scoped>\n",
       "    .dataframe tbody tr th:only-of-type {\n",
       "        vertical-align: middle;\n",
       "    }\n",
       "\n",
       "    .dataframe tbody tr th {\n",
       "        vertical-align: top;\n",
       "    }\n",
       "\n",
       "    .dataframe thead th {\n",
       "        text-align: right;\n",
       "    }\n",
       "</style>\n",
       "<table border=\"1\" class=\"dataframe\">\n",
       "  <thead>\n",
       "    <tr style=\"text-align: right;\">\n",
       "      <th></th>\n",
       "      <th>Judet</th>\n",
       "      <th>Numar_elevi</th>\n",
       "    </tr>\n",
       "  </thead>\n",
       "  <tbody>\n",
       "    <tr>\n",
       "      <th>0</th>\n",
       "      <td>Alba</td>\n",
       "      <td>168014</td>\n",
       "    </tr>\n",
       "    <tr>\n",
       "      <th>1</th>\n",
       "      <td>Arad</td>\n",
       "      <td>211865</td>\n",
       "    </tr>\n",
       "    <tr>\n",
       "      <th>2</th>\n",
       "      <td>Arges</td>\n",
       "      <td>308552</td>\n",
       "    </tr>\n",
       "    <tr>\n",
       "      <th>3</th>\n",
       "      <td>Bacau</td>\n",
       "      <td>327514</td>\n",
       "    </tr>\n",
       "    <tr>\n",
       "      <th>4</th>\n",
       "      <td>Bihor</td>\n",
       "      <td>310659</td>\n",
       "    </tr>\n",
       "    <tr>\n",
       "      <th>5</th>\n",
       "      <td>Bistrita-Nasaud</td>\n",
       "      <td>163103</td>\n",
       "    </tr>\n",
       "    <tr>\n",
       "      <th>6</th>\n",
       "      <td>Botosani</td>\n",
       "      <td>225158</td>\n",
       "    </tr>\n",
       "    <tr>\n",
       "      <th>7</th>\n",
       "      <td>Braila</td>\n",
       "      <td>148596</td>\n",
       "    </tr>\n",
       "    <tr>\n",
       "      <th>8</th>\n",
       "      <td>Brasov</td>\n",
       "      <td>303182</td>\n",
       "    </tr>\n",
       "    <tr>\n",
       "      <th>9</th>\n",
       "      <td>Buzau</td>\n",
       "      <td>220068</td>\n",
       "    </tr>\n",
       "  </tbody>\n",
       "</table>\n",
       "</div>"
      ],
      "text/plain": [
       "              Judet  Numar_elevi\n",
       "0              Alba       168014\n",
       "1              Arad       211865\n",
       "2             Arges       308552\n",
       "3             Bacau       327514\n",
       "4             Bihor       310659\n",
       "5   Bistrita-Nasaud       163103\n",
       "6          Botosani       225158\n",
       "7            Braila       148596\n",
       "8            Brasov       303182\n",
       "9             Buzau       220068"
      ]
     },
     "execution_count": 121,
     "metadata": {},
     "output_type": "execute_result"
    }
   ],
   "source": [
    "elevi_jud.head(10)"
   ]
  },
  {
   "cell_type": "code",
   "execution_count": 190,
   "id": "3ac0868c-183a-4f4d-b6c3-655951b62000",
   "metadata": {
    "collapsed": true,
    "jupyter": {
     "outputs_hidden": true
    },
    "tags": []
   },
   "outputs": [
    {
     "data": {
      "text/plain": [
       "Judet          string[python]\n",
       "Numar_elevi             int64\n",
       "dtype: object"
      ]
     },
     "execution_count": 190,
     "metadata": {},
     "output_type": "execute_result"
    }
   ],
   "source": [
    "elevi_jud.dtypes"
   ]
  },
  {
   "cell_type": "code",
   "execution_count": 185,
   "id": "0a6779db-7137-4dfb-aa39-6ed3f43df232",
   "metadata": {
    "tags": []
   },
   "outputs": [],
   "source": [
    "imobile_df['Judet'] = imobile_df['Judet'].astype(\"string\")"
   ]
  },
  {
   "cell_type": "code",
   "execution_count": 187,
   "id": "226b8af6-b4e6-4532-ab98-fbd52c043375",
   "metadata": {
    "tags": []
   },
   "outputs": [],
   "source": [
    "elevi_jud['Judet'] = elevi_jud['Judet'].astype(\"string\")"
   ]
  },
  {
   "cell_type": "code",
   "execution_count": 188,
   "id": "59d2a983-c0a8-439b-aa19-da37e0ee87a7",
   "metadata": {
    "tags": []
   },
   "outputs": [],
   "source": [
    "imobile_df['Judet'] = imobile_df['Judet'].str.strip()"
   ]
  },
  {
   "cell_type": "code",
   "execution_count": 189,
   "id": "eb32d3f3-e6c6-4133-a0a5-9f77bcfff1cd",
   "metadata": {
    "tags": []
   },
   "outputs": [],
   "source": [
    "elevi_jud['Judet'] = elevi_jud['Judet'].str.strip()"
   ]
  },
  {
   "cell_type": "code",
   "execution_count": 200,
   "id": "ed0adcd7-0a02-4612-94b4-b337e156cbef",
   "metadata": {
    "tags": []
   },
   "outputs": [],
   "source": [
    "elevi_jud['Judet'] = elevi_jud['Judet'].str.upper()"
   ]
  },
  {
   "cell_type": "code",
   "execution_count": 122,
   "id": "cb901cae-fa18-4f18-a558-bcef376370bc",
   "metadata": {
    "tags": []
   },
   "outputs": [],
   "source": [
    "#inlocuire diacritice\n",
    "diacr = {\"Ă\":\"A\", \"Ş\":\"S\",\"Ţ\":\"T\",\"Â\":\"A\",\"Î\":\"I\"}\n",
    "translation_table = str.maketrans(diacr)\n",
    "imobile_df[\"Judet\"] = imobile_df[\"Judet\"].str.translate(translation_table)"
   ]
  },
  {
   "cell_type": "code",
   "execution_count": 201,
   "id": "8e758eb2-041f-4a6f-a288-4b6a5d9f0d8b",
   "metadata": {
    "tags": []
   },
   "outputs": [],
   "source": [
    "Imobile_elevi_df = pd.merge(imobile_df,elevi_jud[['Judet','Numar_elevi']], on = 'Judet', how = 'left')"
   ]
  },
  {
   "cell_type": "code",
   "execution_count": 207,
   "id": "36f1bf3c-d740-4aa6-979f-c7eb69452b5d",
   "metadata": {
    "tags": []
   },
   "outputs": [
    {
     "data": {
      "text/html": [
       "<div>\n",
       "<style scoped>\n",
       "    .dataframe tbody tr th:only-of-type {\n",
       "        vertical-align: middle;\n",
       "    }\n",
       "\n",
       "    .dataframe tbody tr th {\n",
       "        vertical-align: top;\n",
       "    }\n",
       "\n",
       "    .dataframe thead th {\n",
       "        text-align: right;\n",
       "    }\n",
       "</style>\n",
       "<table border=\"1\" class=\"dataframe\">\n",
       "  <thead>\n",
       "    <tr style=\"text-align: right;\">\n",
       "      <th></th>\n",
       "      <th>idSchool</th>\n",
       "      <th>Judet</th>\n",
       "      <th>locality</th>\n",
       "      <th>Adresa_details</th>\n",
       "      <th>id</th>\n",
       "      <th>buildingCode</th>\n",
       "      <th>buildingDescription</th>\n",
       "      <th>builtSurface</th>\n",
       "      <th>heldSurface</th>\n",
       "      <th>constructionYear</th>\n",
       "      <th>propertyType</th>\n",
       "      <th>floorsNo</th>\n",
       "      <th>schoolInternalId</th>\n",
       "      <th>videoSurveillance</th>\n",
       "      <th>audioSurveillance</th>\n",
       "      <th>Numar_elevi</th>\n",
       "    </tr>\n",
       "  </thead>\n",
       "  <tbody>\n",
       "    <tr>\n",
       "      <th>0</th>\n",
       "      <td>11269910</td>\n",
       "      <td>ARAD</td>\n",
       "      <td>ARAD</td>\n",
       "      <td>121-125 AUREL VLAICU, ARAD, judetul ARAD, 3103...</td>\n",
       "      <td>34136</td>\n",
       "      <td>C1</td>\n",
       "      <td>Gradinita Gosen Arad</td>\n",
       "      <td>1773.73</td>\n",
       "      <td>1469.0</td>\n",
       "      <td>1996</td>\n",
       "      <td>Folosință gratuită de la terți</td>\n",
       "      <td>2</td>\n",
       "      <td>10131270</td>\n",
       "      <td>False</td>\n",
       "      <td>False</td>\n",
       "      <td>211865</td>\n",
       "    </tr>\n",
       "    <tr>\n",
       "      <th>1</th>\n",
       "      <td>11256876</td>\n",
       "      <td>BUZAU</td>\n",
       "      <td>RÂMNICU SĂRAT</td>\n",
       "      <td>4 TOAMNEI, RÂMNICU SĂRAT, judetul BUZĂU, 12530...</td>\n",
       "      <td>38034</td>\n",
       "      <td>Corp1</td>\n",
       "      <td>Cladire scoala</td>\n",
       "      <td>483.00</td>\n",
       "      <td>164.0</td>\n",
       "      <td>1974</td>\n",
       "      <td>Închiriată</td>\n",
       "      <td>3</td>\n",
       "      <td>11192270</td>\n",
       "      <td>False</td>\n",
       "      <td>False</td>\n",
       "      <td>220068</td>\n",
       "    </tr>\n",
       "    <tr>\n",
       "      <th>2</th>\n",
       "      <td>11263103</td>\n",
       "      <td>MEHEDINTI</td>\n",
       "      <td>DROBETA-TURNU SEVERIN</td>\n",
       "      <td>94 Calomfirescu, DROBETA-TURNU SEVERIN, judetu...</td>\n",
       "      <td>17237</td>\n",
       "      <td>C1 - Cladire D+P</td>\n",
       "      <td>CASA CORPULUI DIDACTIC MEHEDINTI</td>\n",
       "      <td>269.00</td>\n",
       "      <td>538.0</td>\n",
       "      <td>1930</td>\n",
       "      <td>Folosință gratuită de la terți</td>\n",
       "      <td>1</td>\n",
       "      <td>10037858</td>\n",
       "      <td>True</td>\n",
       "      <td>False</td>\n",
       "      <td>119595</td>\n",
       "    </tr>\n",
       "  </tbody>\n",
       "</table>\n",
       "</div>"
      ],
      "text/plain": [
       "   idSchool      Judet               locality  \\\n",
       "0  11269910       ARAD                   ARAD   \n",
       "1  11256876      BUZAU          RÂMNICU SĂRAT   \n",
       "2  11263103  MEHEDINTI  DROBETA-TURNU SEVERIN   \n",
       "\n",
       "                                      Adresa_details     id      buildingCode  \\\n",
       "0  121-125 AUREL VLAICU, ARAD, judetul ARAD, 3103...  34136                C1   \n",
       "1  4 TOAMNEI, RÂMNICU SĂRAT, judetul BUZĂU, 12530...  38034             Corp1   \n",
       "2  94 Calomfirescu, DROBETA-TURNU SEVERIN, judetu...  17237  C1 - Cladire D+P   \n",
       "\n",
       "                buildingDescription  builtSurface  heldSurface  \\\n",
       "0              Gradinita Gosen Arad       1773.73       1469.0   \n",
       "1                    Cladire scoala        483.00        164.0   \n",
       "2  CASA CORPULUI DIDACTIC MEHEDINTI        269.00        538.0   \n",
       "\n",
       "   constructionYear                    propertyType  floorsNo  \\\n",
       "0              1996  Folosință gratuită de la terți         2   \n",
       "1              1974                      Închiriată         3   \n",
       "2              1930  Folosință gratuită de la terți         1   \n",
       "\n",
       "   schoolInternalId  videoSurveillance  audioSurveillance  Numar_elevi  \n",
       "0          10131270              False              False       211865  \n",
       "1          11192270              False              False       220068  \n",
       "2          10037858               True              False       119595  "
      ]
     },
     "execution_count": 207,
     "metadata": {},
     "output_type": "execute_result"
    }
   ],
   "source": [
    "Imobile_elevi_df.head(3)"
   ]
  },
  {
   "cell_type": "code",
   "execution_count": 211,
   "id": "a49c5a81-c249-4f9e-bb04-c18ab35f329b",
   "metadata": {
    "tags": []
   },
   "outputs": [],
   "source": [
    "Imobile_elevi_df.rename(columns = {'Adresa_details':'Adresa', 'Numar_elevi':'Numar_elevi_jud'}, inplace = True)"
   ]
  },
  {
   "cell_type": "code",
   "execution_count": 213,
   "id": "23776ecb-2f9d-4574-a11e-eb0dd0b05363",
   "metadata": {
    "tags": []
   },
   "outputs": [],
   "source": [
    "Imobile_elevi_df.to_csv('schoolBuildings_Team1.csv', index = False)"
   ]
  },
  {
   "cell_type": "markdown",
   "id": "f948d655-5456-4d41-9c48-87cd2d207603",
   "metadata": {
    "tags": []
   },
   "source": [
    "### Incarcare in Azure"
   ]
  },
  {
   "cell_type": "code",
   "execution_count": 218,
   "id": "d9ccba6d-7306-4faf-aa4a-a1fa02e10e7b",
   "metadata": {
    "tags": []
   },
   "outputs": [],
   "source": [
    "import pyodbc\n",
    "import sqlalchemy as db\n",
    "import urllib"
   ]
  },
  {
   "cell_type": "code",
   "execution_count": 219,
   "id": "2d87bad3-b150-42e9-bc4b-3a2ba478e022",
   "metadata": {
    "tags": []
   },
   "outputs": [],
   "source": [
    "database_name = \"AID2023\"\n",
    "driver = '{ODBC Driver 18 for SQL Server}'\n",
    "server_name = \"aid-2023-srv.database.windows.net\""
   ]
  },
  {
   "cell_type": "code",
   "execution_count": 220,
   "id": "81482ea7-02bf-47e4-9203-8be78f65300d",
   "metadata": {
    "tags": []
   },
   "outputs": [
    {
     "name": "stdout",
     "output_type": "stream",
     "text": [
      "Connection is open\n"
     ]
    }
   ],
   "source": [
    "# Create the server url\n",
    "server = 'tcp:{server_name},1433'.format(server_name = server_name)\n",
    "\n",
    "#create the full connection string <- make sure to write it as it is bellow - check your credentials to be the right ones\n",
    "\n",
    "connection_string = 'DRIVER={driver};SERVER={server};DATABASE={database};UID={username};PWD={password};charset=utf8'.format(\n",
    "    driver = driver,\n",
    "    server=server,\n",
    "    database=database_name,\n",
    "    username='aid2023adminlog',\n",
    "    password='@Aidr2023sql'\n",
    ")                              \n",
    "\n",
    "cnxn: pyodbc.Connection = pyodbc.connect(connection_string)\n",
    "cursor: pyodbc.Cursor = cnxn.cursor() \n",
    "\n",
    "#execute a query with the cursor to check if the connection is maade\n",
    "print(\"Connection is open\") if cursor.execute(\"SELECT 1\") else print(f\"Connection is closed: {e}\")\n",
    "\n"
   ]
  },
  {
   "cell_type": "code",
   "execution_count": 221,
   "id": "48882e66-3610-44d3-a550-299685f0dbb0",
   "metadata": {
    "tags": []
   },
   "outputs": [],
   "source": [
    "params = urllib.parse.quote_plus(connection_string)\n",
    "#create the engine\n",
    "sqlalchemy_engine = db.create_engine(\"mssql+pyodbc:///?odbc_connect=%s\" % params)"
   ]
  },
  {
   "cell_type": "code",
   "execution_count": 222,
   "id": "1ee229cc-5120-41be-8b76-fcd241067921",
   "metadata": {
    "tags": []
   },
   "outputs": [
    {
     "data": {
      "text/plain": [
       "Engine(mssql+pyodbc:///?odbc_connect=DRIVER%3D%7BODBC+Driver+18+for+SQL+Server%7D%3BSERVER%3Dtcp%3Aaid-2023-srv.database.windows.net%2C1433%3BDATABASE%3DAID2023%3BUID%3Daid2023adminlog%3BPWD%3D%40Aidr2023sql%3Bcharset%3Dutf8)"
      ]
     },
     "execution_count": 222,
     "metadata": {},
     "output_type": "execute_result"
    }
   ],
   "source": [
    "sqlalchemy_engine"
   ]
  },
  {
   "cell_type": "code",
   "execution_count": 223,
   "id": "6c32a391-7cdc-4a35-a692-2a8f8de937f1",
   "metadata": {
    "tags": []
   },
   "outputs": [
    {
     "data": {
      "text/plain": [
       "88"
      ]
     },
     "execution_count": 223,
     "metadata": {},
     "output_type": "execute_result"
    }
   ],
   "source": [
    "Imobile_elevi_df.to_sql(\"schoolBuildings_Team1\", sqlalchemy_engine, if_exists='replace', index=False)"
   ]
  }
 ],
 "metadata": {
  "kernelspec": {
   "display_name": "Python 3 (ipykernel)",
   "language": "python",
   "name": "python3"
  },
  "language_info": {
   "codemirror_mode": {
    "name": "ipython",
    "version": 3
   },
   "file_extension": ".py",
   "mimetype": "text/x-python",
   "name": "python",
   "nbconvert_exporter": "python",
   "pygments_lexer": "ipython3",
   "version": "3.11.5"
  }
 },
 "nbformat": 4,
 "nbformat_minor": 5
}
