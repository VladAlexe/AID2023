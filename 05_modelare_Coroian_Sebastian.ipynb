{
 "cells": [
  {
   "cell_type": "code",
   "execution_count": 7,
   "source": [
    "import pandas as pd\r\n",
    "import numpy as np\r\n",
    "import matplotlib.pyplot as plt\r\n",
    "import seaborn as sns\r\n",
    "from statsmodels.stats.outliers_influence import variance_inflation_factor\r\n",
    "from sklearn.model_selection import train_test_split\r\n",
    "from sklearn.linear_model import LinearRegression\r\n",
    "from sklearn.metrics import mean_squared_error, r2_score"
   ],
   "outputs": [],
   "metadata": {}
  },
  {
   "cell_type": "code",
   "execution_count": 3,
   "source": [
    "students_data = pd.read_csv(\"Date_curatate_Calin.csv\")\r\n",
    "students_data.head(), students_data.info(), students_data.describe()"
   ],
   "outputs": [
    {
     "output_type": "stream",
     "name": "stdout",
     "text": [
      "<class 'pandas.core.frame.DataFrame'>\n",
      "RangeIndex: 131258 entries, 0 to 131257\n",
      "Data columns (total 27 columns):\n",
      " #   Column                                        Non-Null Count   Dtype  \n",
      "---  ------                                        --------------   -----  \n",
      " 0   Unnamed: 0                                    131258 non-null  int64  \n",
      " 1   Cod unic candidat                             131258 non-null  int64  \n",
      " 2   Sex                                           131258 non-null  object \n",
      " 3   Specializare                                  131258 non-null  object \n",
      " 4   Profil                                        131258 non-null  object \n",
      " 5   Fileira                                       131258 non-null  object \n",
      " 6   Forma de învățământ                           131258 non-null  object \n",
      " 7   Mediu candidat                                131258 non-null  object \n",
      " 8   Unitate (SIIIR)                               131258 non-null  int64  \n",
      " 9   STATUS                                        131258 non-null  object \n",
      " 10  Medie                                         131258 non-null  float64\n",
      " 11  longName                                      131258 non-null  object \n",
      " 12  schoolType                                    131258 non-null  object \n",
      " 13  statut                                        131258 non-null  object \n",
      " 14  propertyForm                                  131258 non-null  object \n",
      " 15  fundingForm                                   131258 non-null  object \n",
      " 16  county                                        131258 non-null  object \n",
      " 17  locality                                      131258 non-null  object \n",
      " 18  runningWater                                  131258 non-null  int64  \n",
      " 19  canalization                                  131258 non-null  int64  \n",
      " 20  gas                                           131258 non-null  int64  \n",
      " 21  electricity                                   131258 non-null  int64  \n",
      " 22  heating                                       131258 non-null  int64  \n",
      " 23  salubrity                                     131258 non-null  int64  \n",
      " 24  centralHeating                                131258 non-null  int64  \n",
      " 25  amplasare_toaleta_0ext_1int_0nan              131258 non-null  int64  \n",
      " 26  stare_toaleta_1coresp_0necoresp_1reabil_0nan  131258 non-null  int64  \n",
      "dtypes: float64(1), int64(12), object(14)\n",
      "memory usage: 27.0+ MB\n"
     ]
    },
    {
     "output_type": "execute_result",
     "data": {
      "text/plain": [
       "(   Unnamed: 0  Cod unic candidat Sex               Specializare    Profil  \\\n",
       " 0           0              10005   M  TEHNICIAN_IN_AUTOMATIZARI    TEHNIC   \n",
       " 1           1              12037   M            STIINTE_SOCIALE      UMAN   \n",
       " 2           2              12284   M        TEHNICIAN_IN_TURISM  SERVICII   \n",
       " 3           3              12865   F                  FILOLOGIE      UMAN   \n",
       " 4           4              12923   F     ORGANIZATOR_BANQUETING  SERVICII   \n",
       " \n",
       "        Fileira Forma de învățământ Mediu candidat  Unitate (SIIIR)  \\\n",
       " 0  TEHNOLOGICA                  ZI          URBAN       3261101959   \n",
       " 1    TEORETICA    FRECVENTA_REDUSA          URBAN       3661100016   \n",
       " 2  TEHNOLOGICA                  ZI          URBAN       1161104376   \n",
       " 3    TEORETICA                  ZI          URBAN        961100082   \n",
       " 4  TEHNOLOGICA                  ZI          RURAL       2461103282   \n",
       " \n",
       "        STATUS  ...           locality runningWater canalization gas  \\\n",
       " 0  NEPROMOVAT  ...              SIBIU            1            1   1   \n",
       " 1    PROMOVAT  ...             TULCEA            0            0   0   \n",
       " 2    PROMOVAT  ...    BAILE_HERCULANE            0            0   0   \n",
       " 3  NEPROMOVAT  ...             FAUREI            1            1   1   \n",
       " 4    PROMOVAT  ...  SIGHETU_MARMATIEI            0            0   0   \n",
       " \n",
       "   electricity heating salubrity centralHeating  \\\n",
       " 0           1       1         1              1   \n",
       " 1           0       0         0              0   \n",
       " 2           0       0         0              0   \n",
       " 3           1       0         1              1   \n",
       " 4           0       0         0              0   \n",
       " \n",
       "    amplasare_toaleta_0ext_1int_0nan  \\\n",
       " 0                                 1   \n",
       " 1                                 0   \n",
       " 2                                 0   \n",
       " 3                                 1   \n",
       " 4                                 0   \n",
       " \n",
       "    stare_toaleta_1coresp_0necoresp_1reabil_0nan  \n",
       " 0                                             1  \n",
       " 1                                             0  \n",
       " 2                                             0  \n",
       " 3                                             1  \n",
       " 4                                             0  \n",
       " \n",
       " [5 rows x 27 columns],\n",
       " None,\n",
       "           Unnamed: 0  Cod unic candidat  Unitate (SIIIR)          Medie  \\\n",
       " count  131258.000000       1.312580e+05     1.312580e+05  131258.000000   \n",
       " mean    65628.500000       1.328542e+06     2.335972e+09       6.070560   \n",
       " std     37891.065154       1.679732e+05     1.297523e+09       3.413018   \n",
       " min         0.000000       1.000500e+04     1.611000e+08       0.000000   \n",
       " 25%     32814.250000       1.328924e+06     1.261103e+09       5.660000   \n",
       " 50%     65628.500000       1.362250e+06     2.261107e+09       7.330000   \n",
       " 75%     98442.750000       1.395587e+06     3.461101e+09       8.580000   \n",
       " max    131257.000000       1.429010e+06     5.261102e+09      10.000000   \n",
       " \n",
       "         runningWater   canalization            gas    electricity  \\\n",
       " count  131258.000000  131258.000000  131258.000000  131258.000000   \n",
       " mean        0.736549       0.714486       0.462425       0.758308   \n",
       " std         0.440506       0.451661       0.498588       0.428110   \n",
       " min         0.000000       0.000000       0.000000       0.000000   \n",
       " 25%         0.000000       0.000000       0.000000       1.000000   \n",
       " 50%         1.000000       1.000000       0.000000       1.000000   \n",
       " 75%         1.000000       1.000000       1.000000       1.000000   \n",
       " max         1.000000       1.000000       1.000000       1.000000   \n",
       " \n",
       "              heating      salubrity  centralHeating  \\\n",
       " count  131258.000000  131258.000000   131258.000000   \n",
       " mean        0.393599       0.728024        0.518071   \n",
       " std         0.488550       0.444979        0.499675   \n",
       " min         0.000000       0.000000        0.000000   \n",
       " 25%         0.000000       0.000000        0.000000   \n",
       " 50%         0.000000       1.000000        1.000000   \n",
       " 75%         1.000000       1.000000        1.000000   \n",
       " max         1.000000       1.000000        1.000000   \n",
       " \n",
       "        amplasare_toaleta_0ext_1int_0nan  \\\n",
       " count                     131258.000000   \n",
       " mean                           0.705153   \n",
       " std                            0.455976   \n",
       " min                            0.000000   \n",
       " 25%                            0.000000   \n",
       " 50%                            1.000000   \n",
       " 75%                            1.000000   \n",
       " max                            1.000000   \n",
       " \n",
       "        stare_toaleta_1coresp_0necoresp_1reabil_0nan  \n",
       " count                                 131258.000000  \n",
       " mean                                       0.764906  \n",
       " std                                        0.424059  \n",
       " min                                        0.000000  \n",
       " 25%                                        1.000000  \n",
       " 50%                                        1.000000  \n",
       " 75%                                        1.000000  \n",
       " max                                        1.000000  )"
      ]
     },
     "metadata": {},
     "execution_count": 3
    }
   ],
   "metadata": {}
  },
  {
   "cell_type": "markdown",
   "source": [
    "# Variables selection\r\n",
    "\r\n",
    "### As we want to model the **(student's average score Medie)** based on the data we have available (school facilities, demographics and environmental factors, educational characteristics), my go-to is selecting some of the factors I consider relevant (as concluded from the exploratory analyses my colleagues previously conducted) and plotting them to visually analyse and select the more relevant factors"
   ],
   "metadata": {}
  },
  {
   "cell_type": "code",
   "execution_count": 6,
   "source": [
    "# Set the aesthetic style of the plots\r\n",
    "sns.set_style(\"whitegrid\")\r\n",
    "\r\n",
    "# List of facility-related columns\r\n",
    "facility_columns = ['runningWater', 'canalization', 'gas', 'electricity', 'heating', 'salubrity', 'centralHeating']\r\n",
    "\r\n",
    "# Plotting the relationship between facilities and average score\r\n",
    "fig, axes = plt.subplots(nrows=3, ncols=3, figsize=(15, 12))\r\n",
    "\r\n",
    "# Plot each facility's impact on average scores by iterating through the list on a 3x3 panel\r\n",
    "for i, column in enumerate(facility_columns + ['Mediu candidat', 'Sex']):\r\n",
    "    row = i // 3 #calculates the row number where the plot shoud be placed by integer division\r\n",
    "    col = i % 3 #calculates the column number where the plot shoud be placed by mod\r\n",
    "    sns.boxplot(x=column, y='Medie', data=students_data, ax=axes[row, col])\r\n",
    "\r\n",
    "plt.tight_layout()\r\n",
    "plt.show()"
   ],
   "outputs": [
    {
     "output_type": "display_data",
     "data": {
      "image/png": "[encoded data removed]",
      "text/plain": [
       "<Figure size 1500x1200 with 9 Axes>"
      ]
     },
     "metadata": {}
    }
   ],
   "metadata": {}
  },
  {
   "cell_type": "markdown",
   "source": [
    "### Facilities\r\n",
    "**Running Water, Canalization, Gas, Electricity, Heating, Salubrity, Central Heating:** \r\n",
    "There seems to be a variation in average scores based on the presence of certain facilities. For example, schools with central heating, canalization, and running water tend to have higher average scores. This suggests that these facilities might be contributing positively to the students' academic performance.\r\n",
    "\r\n",
    "### Environment\r\n",
    "**Mediu Candidat:** \r\n",
    "There's a noticeable difference in average scores between different environments, likely distinguishing between urban and rural settings. This indicates that the environmental setting of the school could be an important factor in student performance.\r\n",
    "\r\n",
    "### Gender\r\n",
    "**Sex:** \r\n",
    "The boxplots show some differences in performance between genders, which might be an important factor to consider."
   ],
   "metadata": {}
  },
  {
   "cell_type": "markdown",
   "source": [
    "Given these insights, a simple statistical model could be built to predict students' average scores based on these factors. We could use a linear regression model as it's well-suited for predicting a continuous outcome (like average scores) based on multiple independent variables.\r\n",
    "\r\n",
    "Before building the model, we will run a check for multicollinearity among the independent variables, as highly correlated predictors can distort the model's results."
   ],
   "metadata": {}
  },
  {
   "cell_type": "code",
   "execution_count": 11,
   "source": [
    "# We are using one-hot encoding for categorical variables 'Sex' and 'Mediu candidat' because linear models require numerical input\r\n",
    "students_data_encoded = pd.get_dummies(students_data, columns=['Sex', 'Mediu candidat'])\r\n",
    "model_features = facility_columns + ['Sex_M', 'Mediu candidat_URBAN']\r\n",
    "\r\n",
    "# Filtering the DataFrame for the features to be used in the model\r\n",
    "X = students_data_encoded[model_features]\r\n",
    "\r\n",
    "# Calculating VIF for each feature\r\n",
    "vif_data = pd.DataFrame()\r\n",
    "vif_data[\"feature\"] = X.columns\r\n",
    "vif_data[\"VIF\"] = [variance_inflation_factor(X.values, i) for i in range(len(X.columns))]\r\n",
    "\r\n",
    "vif_data.sort_values(by=\"VIF\", ascending=False)"
   ],
   "outputs": [
    {
     "output_type": "execute_result",
     "data": {
      "text/html": [
       "<div>\n",
       "<style scoped>\n",
       "    .dataframe tbody tr th:only-of-type {\n",
       "        vertical-align: middle;\n",
       "    }\n",
       "\n",
       "    .dataframe tbody tr th {\n",
       "        vertical-align: top;\n",
       "    }\n",
       "\n",
       "    .dataframe thead th {\n",
       "        text-align: right;\n",
       "    }\n",
       "</style>\n",
       "<table border=\"1\" class=\"dataframe\">\n",
       "  <thead>\n",
       "    <tr style=\"text-align: right;\">\n",
       "      <th></th>\n",
       "      <th>feature</th>\n",
       "      <th>VIF</th>\n",
       "    </tr>\n",
       "  </thead>\n",
       "  <tbody>\n",
       "    <tr>\n",
       "      <th>0</th>\n",
       "      <td>runningWater</td>\n",
       "      <td>55.899832</td>\n",
       "    </tr>\n",
       "    <tr>\n",
       "      <th>3</th>\n",
       "      <td>electricity</td>\n",
       "      <td>37.230504</td>\n",
       "    </tr>\n",
       "    <tr>\n",
       "      <th>1</th>\n",
       "      <td>canalization</td>\n",
       "      <td>33.303784</td>\n",
       "    </tr>\n",
       "    <tr>\n",
       "      <th>5</th>\n",
       "      <td>salubrity</td>\n",
       "      <td>21.813217</td>\n",
       "    </tr>\n",
       "    <tr>\n",
       "      <th>6</th>\n",
       "      <td>centralHeating</td>\n",
       "      <td>4.320058</td>\n",
       "    </tr>\n",
       "    <tr>\n",
       "      <th>2</th>\n",
       "      <td>gas</td>\n",
       "      <td>3.197866</td>\n",
       "    </tr>\n",
       "    <tr>\n",
       "      <th>4</th>\n",
       "      <td>heating</td>\n",
       "      <td>2.695522</td>\n",
       "    </tr>\n",
       "    <tr>\n",
       "      <th>8</th>\n",
       "      <td>Mediu candidat_URBAN</td>\n",
       "      <td>2.119753</td>\n",
       "    </tr>\n",
       "    <tr>\n",
       "      <th>7</th>\n",
       "      <td>Sex_M</td>\n",
       "      <td>1.666736</td>\n",
       "    </tr>\n",
       "  </tbody>\n",
       "</table>\n",
       "</div>"
      ],
      "text/plain": [
       "                feature        VIF\n",
       "0          runningWater  55.899832\n",
       "3           electricity  37.230504\n",
       "1          canalization  33.303784\n",
       "5             salubrity  21.813217\n",
       "6        centralHeating   4.320058\n",
       "2                   gas   3.197866\n",
       "4               heating   2.695522\n",
       "8  Mediu candidat_URBAN   2.119753\n",
       "7                 Sex_M   1.666736"
      ]
     },
     "metadata": {},
     "execution_count": 11
    }
   ],
   "metadata": {}
  },
  {
   "cell_type": "markdown",
   "source": [
    "### A VIF value greater than 10 suggests significant multicollinearity\r\n",
    "\r\n",
    " Facilities like running water, electricity, and canalization have high VIF values (above 10)\r\n",
    "\r\n",
    " Other variables like gas, heating, salubrity, central heating, urban environment (Mediu candidat_URBAN), and gender (Sex_M) have lower VIF values"
   ],
   "metadata": {}
  },
  {
   "cell_type": "code",
   "execution_count": 17,
   "source": [
    "# Selecting a subset of variables to reduce multicollinearity\r\n",
    "selected_features = ['centralHeating', 'Sex_M', 'Mediu candidat_URBAN']\r\n",
    "\r\n",
    "# We sum up all facility-related features to create a single composite score to reduce multicollinearity (as these features are correlated)\r\n",
    "# and still captures the overall facility level of a school\r\n",
    "students_data_encoded['combined_facilities'] = students_data_encoded[facility_columns].sum(axis=1)\r\n",
    "selected_features.append('combined_facilities')\r\n",
    "\r\n",
    "# X_model holds independent variables and y_model is the dependent variable\r\n",
    "X_model = students_data_encoded[selected_features]\r\n",
    "y_model = students_data_encoded['Medie']\r\n",
    "\r\n",
    "# Splitting the dataset into training and testing sets (70/30)\r\n",
    "X_train, X_test, y_train, y_test = train_test_split(X_model, y_model, test_size=0.3, random_state=42)\r\n",
    "\r\n",
    "# Creating and fitting the linear regression model\r\n",
    "lr_model = LinearRegression()\r\n",
    "lr_model.fit(X_train, y_train)\r\n",
    "\r\n",
    "# Predicting and evaluating the model\r\n",
    "y_pred = lr_model.predict(X_test)\r\n",
    "rmse = mean_squared_error(y_test, y_pred, squared=False)\r\n",
    "r2 = r2_score(y_test, y_pred)\r\n",
    "\r\n",
    "rmse, r2"
   ],
   "outputs": [
    {
     "output_type": "execute_result",
     "data": {
      "text/plain": [
       "(3.335576233388615, 0.04879047136328729)"
      ]
     },
     "metadata": {},
     "execution_count": 17
    }
   ],
   "metadata": {}
  },
  {
   "cell_type": "markdown",
   "source": [
    "# Results Interpretation\r\n",
    "\r\n",
    "### The low R² value suggests that the factors we included in the model do not have a strong linear relationship with the average scores, as only about 4.9% of the variation in students' average scores can be explained by the variables included in this model\r\n",
    "\r\n",
    "### As a perspective of improving this model, I think we should add external factors that are not included in our dataset (such as individual student's characteristics, quality of teaching, etc)\r\n",
    "\r\n",
    "### A RMSE value of ~3.34 is signifiant for a scale of refference from 1 to 10, which indicated high inaccuracy"
   ],
   "metadata": {}
  },
  {
   "cell_type": "markdown",
   "source": [],
   "metadata": {}
  }
 ],
 "metadata": {
  "orig_nbformat": 4,
  "language_info": {
   "name": "python",
   "version": "3.10.4",
   "mimetype": "text/x-python",
   "codemirror_mode": {
    "name": "ipython",
    "version": 3
   },
   "pygments_lexer": "ipython3",
   "nbconvert_exporter": "python",
   "file_extension": ".py"
  },
  "kernelspec": {
   "name": "python3",
   "display_name": "Python 3.10.4 64-bit"
  },
  "interpreter": {
   "hash": "d31de2a59bb2a55b6ca1edccf429c0f75a4aedffc2643de9f12b4a382860797f"
  }
 },
 "nbformat": 4,
 "nbformat_minor": 2
}